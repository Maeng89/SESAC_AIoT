{
 "cells": [
  {
   "cell_type": "code",
   "execution_count": 4,
   "id": "9049d8f8",
   "metadata": {},
   "outputs": [],
   "source": [
    "import cv2\n",
    "import numpy as np\n",
    "\n",
    "# 이미지 읽어오기\n",
    "img = cv2.imread('./christmas.jpg')\n",
    "\n",
    "# 이미지 출력\n",
    "cv2.imshow('origin', img)\n",
    "\n",
    "cv2.waitKey(0)\n",
    "cv2.destroyAllWindows()"
   ]
  },
  {
   "cell_type": "code",
   "execution_count": 5,
   "id": "cae374dd",
   "metadata": {},
   "outputs": [
    {
     "data": {
      "text/plain": [
       "True"
      ]
     },
     "execution_count": 5,
     "metadata": {},
     "output_type": "execute_result"
    }
   ],
   "source": [
    "# 이미지 저장\n",
    "cv2.imwrite('./test.jpg', img)"
   ]
  },
  {
   "cell_type": "code",
   "execution_count": null,
   "id": "1fc70d40",
   "metadata": {},
   "outputs": [],
   "source": [
    "# rgb => gray\n",
    "gray = cv2.cvtColor(img, cv2.COLOR_BGR2GRAY)\n",
    "print(gray.shape)\n",
    "cv2.imshow('gray', gray)\n",
    "cv2.waitKey(0)\n",
    "cv2.destroyAllWindows()"
   ]
  },
  {
   "cell_type": "code",
   "execution_count": null,
   "id": "be0c1b01",
   "metadata": {},
   "outputs": [],
   "source": [
    "# gray => color\n",
    "im_color = cv2.applyColorMap(gray, cv2.COLORMAP_SUMMER)\n",
    "print(im_color.shape)\n",
    "cv2.imshow('im_color', im_color)\n",
    "cv2.waitKey(0)\n",
    "cv2.destroyAllWindows()"
   ]
  },
  {
   "cell_type": "code",
   "execution_count": null,
   "id": "a6df3236",
   "metadata": {},
   "outputs": [],
   "source": [
    "# rgb => hsv\n",
    "hsv = cv2.cvtColor(img, cv2.COLOR_BGR2HSV)\n",
    "cv2.imshow('hsv', hsv)\n",
    "cv2.waitKey(0)\n",
    "cv2.destroyAllWindows()"
   ]
  },
  {
   "cell_type": "code",
   "execution_count": null,
   "id": "da9fbd74",
   "metadata": {},
   "outputs": [],
   "source": [
    "# 그린 색상 마스킹\n",
    "lower_green = np.array([30, 100, 50])\n",
    "upper_green = np.array([70, 255, 255])\n",
    "\n",
    "mask_green = cv2.inRange(hsv, lower_green, upper_green)\n",
    "cv2.imshow('mask_green', mask_green)\n",
    "cv2.waitKey(0)\n",
    "cv2.destroyAllWindows()\n"
   ]
  },
  {
   "cell_type": "code",
   "execution_count": null,
   "id": "f385b791",
   "metadata": {},
   "outputs": [],
   "source": [
    "# 레드 색상 마스킹\n",
    "lower_green = np.array([0, 100, 50])\n",
    "upper_green = np.array([10, 255, 255])\n",
    "\n",
    "mask_green = cv2.inRange(hsv, lower_green, upper_green)\n",
    "cv2.imshow('mask_green', mask_green)\n",
    "cv2.waitKey(0)\n",
    "cv2.destroyAllWindows()"
   ]
  },
  {
   "cell_type": "code",
   "execution_count": null,
   "id": "f60e5574",
   "metadata": {},
   "outputs": [],
   "source": [
    "# 사이즈 변환\n",
    "rsimg = cv2.resize(img, (320,128))\n",
    "print(rsimg.shape)\n",
    "cv2.imshow('rsimg', rsimg)\n",
    "cv2.waitKey(0)\n",
    "cv2.destroyAllWindows()"
   ]
  },
  {
   "cell_type": "code",
   "execution_count": null,
   "id": "3be938d4",
   "metadata": {},
   "outputs": [],
   "source": [
    "# 이미지 자르기\n",
    "print(img.shape)\n",
    "crimg = img[200: 300,:420] # Y,X \n",
    "print(crimg.shape)\n",
    "cv2.imshow('crimg', crimg)\n",
    "cv2.waitKey(0)\n",
    "cv2.destroyAllWindows()"
   ]
  },
  {
   "cell_type": "code",
   "execution_count": null,
   "id": "8fb1df69",
   "metadata": {},
   "outputs": [],
   "source": [
    "# 이미지 이동\n",
    "\n",
    "rows, cols, channels = img.shape\n",
    "\n",
    "M = np.float32([[1,0,100],[0,1,50]])\n",
    "dst = cv2.warpAffine(img,M,(cols,rows))\n",
    "cv2.imshow('dst', dst)\n",
    "cv2.waitKey(0)\n",
    "cv2.destroyAllWindows()"
   ]
  },
  {
   "cell_type": "code",
   "execution_count": null,
   "id": "231766a3",
   "metadata": {},
   "outputs": [],
   "source": [
    "# 이미지 회전\n",
    "\n",
    "M = cv2.getRotationMatrix2D((cols/2,rows/2),-30,1)\n",
    "rotate_30 = cv2.warpAffine(img,M,(cols,rows))\n",
    "cv2.imshow('rotate_30', rotate_30)\n",
    "cv2.waitKey(0)\n",
    "cv2.destroyAllWindows()"
   ]
  },
  {
   "cell_type": "code",
   "execution_count": null,
   "id": "27b7311e",
   "metadata": {},
   "outputs": [],
   "source": [
    "# 랜덤 이미지 변환\n",
    "\n",
    "import random\n",
    "rotate = random.randint(0,360)\n",
    "x_shift = random.randint(-50,50)\n",
    "y_shift = random.randint(-50,50)\n",
    "print(rotate, x_shift, y_shift)\n",
    "rm = cv2.getRotationMatrix2D((cols/2,rows/2),rotate,1)\n",
    "sm = np.float32([[1,0,x_shift],[0,1,y_shift]])\n",
    "dst = cv2.warpAffine(img,rm,(cols,rows))\n",
    "dst = cv2.warpAffine(dst,sm,(cols,rows))\n",
    "cv2.imshow('rdst', dst)\n",
    "cv2.waitKey(0)\n",
    "cv2.destroyAllWindows()"
   ]
  },
  {
   "cell_type": "code",
   "execution_count": 3,
   "id": "23b560d2",
   "metadata": {},
   "outputs": [
    {
     "name": "stderr",
     "output_type": "stream",
     "text": [
      "Downloading data from 'https://github.com/danielgatis/rembg/releases/download/v0.0.0/u2net.onnx' to file 'C:\\Users\\SBAUser\\.u2net\\u2net.onnx'.\n",
      "100%|########################################| 176M/176M [00:00<00:00, 176GB/s]\n"
     ]
    }
   ],
   "source": [
    "# 배경 제거 라이브러리(인공지능 기반)\n",
    "from rembg import remove\n",
    "rbimg = remove(img)\n",
    "cv2.imshow('rbimg', rbimg)\n",
    "cv2.waitKey(0)\n",
    "cv2.destroyAllWindows()"
   ]
  },
  {
   "cell_type": "code",
   "execution_count": 5,
   "id": "8160c59b",
   "metadata": {},
   "outputs": [
    {
     "name": "stdout",
     "output_type": "stream",
     "text": [
      "C:\\Users\\SBAUser\\PycharmProjects\\SESAC_AIoT\\example\\12_data_preprocessing\\image\n",
      "['.ipynb_checkpoints', 'christmas.jpg', 'imagepro.ipynb', 'images', 'test.jpg']\n",
      "['0', '1', '2', '3']\n"
     ]
    }
   ],
   "source": [
    "import os\n",
    "# print(os.path.realpath(__file__))\n",
    "# print(os.path.abspath(__file__))\n",
    "# print(os.path.dirname(os.path.realpath(__file__)) )\n",
    "\n",
    "print(os.getcwd())\n",
    "print(os.listdir())\n",
    "print()\n",
    "img_folder_list = os.listdir('./images')\n",
    "\n"
   ]
  },
  {
   "cell_type": "code",
   "execution_count": 5,
   "id": "e6316d8a",
   "metadata": {},
   "outputs": [
    {
     "data": {
      "text/plain": [
       "['./images\\\\0\\\\img1.jpg',\n",
       " './images\\\\0\\\\img1310.jpg',\n",
       " './images\\\\0\\\\img1495.jpg',\n",
       " './images\\\\0\\\\img2040.jpg',\n",
       " './images\\\\0\\\\img2993.jpg',\n",
       " './images\\\\0\\\\img3957.jpg',\n",
       " './images\\\\1\\\\img19730.jpg',\n",
       " './images\\\\1\\\\img21014.jpg',\n",
       " './images\\\\1\\\\img4168.jpg',\n",
       " './images\\\\1\\\\img4449.jpg',\n",
       " './images\\\\1\\\\img4842.jpg',\n",
       " './images\\\\1\\\\img5164.jpg',\n",
       " './images\\\\1\\\\img5710.jpg',\n",
       " './images\\\\2\\\\img13478.jpg',\n",
       " './images\\\\2\\\\img22878.jpg',\n",
       " './images\\\\2\\\\img23241.jpg',\n",
       " './images\\\\2\\\\img23788.jpg',\n",
       " './images\\\\2\\\\img24894.jpg',\n",
       " './images\\\\3\\\\img15303.jpg',\n",
       " './images\\\\3\\\\img15594.jpg',\n",
       " './images\\\\3\\\\img16633.jpg',\n",
       " './images\\\\3\\\\img16895.jpg',\n",
       " './images\\\\3\\\\img17341.jpg',\n",
       " './images\\\\3\\\\img17709.jpg',\n",
       " './images\\\\3\\\\img33449.jpg']"
      ]
     },
     "execution_count": 5,
     "metadata": {},
     "output_type": "execute_result"
    }
   ],
   "source": [
    "# images 안에 있는 모든 이미지에 다음 전처리 적용\n",
    "# 1. X축은 0~420 Y축은 60~420 에 해당하는 픽셀만 잘라내기\n",
    "# 2. 자른 이미지에 배경제거\n",
    "# 3. 배경제거 이미지에 랜던 이미지 변환 적용 \n",
    "# 1,2,3 진행후 이미지 result 폴더에 저장\n",
    "\n",
    "import glob # 경로 가져오는 모듈\n",
    "\n",
    "img_path = glob.glob('./images/*/*.jpg') # AK폴더내의 모든 png파일 하위경로\n",
    "# path_AK = glob.glob('./grape_img/*') # GLimage 폴더내의 모든 하위경로\n",
    "# path_AK = glob.glob('./grape_img/*/*') # GLimage 하위 폴더의 전체 데이터\n",
    "img_path\n"
   ]
  },
  {
   "cell_type": "code",
   "execution_count": 16,
   "id": "cecba151",
   "metadata": {},
   "outputs": [],
   "source": [
    "# 1. X축은 0~420 Y축은 60~420 에 해당하는 픽셀만 잘라내기\n",
    "def cut (img) :\n",
    "    crimg = img[60:420, :420] # Y,X \n",
    "#     print(crimg.shape)\n",
    "#     result = cv2.imshow('crimg', crimg)\n",
    "    return crimg\n"
   ]
  },
  {
   "cell_type": "code",
   "execution_count": 17,
   "id": "6ed556a6",
   "metadata": {},
   "outputs": [],
   "source": [
    "# 2. 자른 이미지에 배경제거\n",
    "from rembg import remove\n",
    "def bg_rm (img) :\n",
    "    rbimg = remove(img)\n",
    "#     result =  cv2.imshow('rbimg', rbimg)\n",
    "    return rbimg"
   ]
  },
  {
   "cell_type": "code",
   "execution_count": 20,
   "id": "05db7faa",
   "metadata": {},
   "outputs": [],
   "source": [
    "# 3. 배경제거 이미지에 랜던 이미지 변환 적용 \n",
    "import random\n",
    "def rd_change(img):\n",
    "    rows, cols, channels = img.shape\n",
    "    rotate = random.randint(0,360)\n",
    "    x_shift = random.randint(-50,50)\n",
    "    y_shift = random.randint(-50,50)\n",
    "#     print(rotate, x_shift, y_shift)\n",
    "    rm = cv2.getRotationMatrix2D((cols/2,rows/2),rotate,1)\n",
    "    sm = np.float32([[1,0,x_shift],[0,1,y_shift]])\n",
    "    dst = cv2.warpAffine(img,rm,(cols,rows))\n",
    "    dst = cv2.warpAffine(dst,sm,(cols,rows))\n",
    "    result = dst\n",
    "    return result"
   ]
  },
  {
   "cell_type": "code",
   "execution_count": 24,
   "id": "1c063c5f",
   "metadata": {},
   "outputs": [],
   "source": [
    "# 파일명 잘라오기\n",
    "def file_name(path):\n",
    "    name = path.split('\\\\')[2]\n",
    "    return name\n",
    "    "
   ]
  },
  {
   "cell_type": "code",
   "execution_count": 25,
   "id": "cfdbf964",
   "metadata": {},
   "outputs": [
    {
     "name": "stdout",
     "output_type": "stream",
     "text": [
      "1 ./images\\0\\img1.jpg 변환 저장 완료\n",
      "2 ./images\\0\\img1310.jpg 변환 저장 완료\n",
      "3 ./images\\0\\img1495.jpg 변환 저장 완료\n",
      "4 ./images\\0\\img2040.jpg 변환 저장 완료\n",
      "5 ./images\\0\\img2993.jpg 변환 저장 완료\n",
      "6 ./images\\0\\img3957.jpg 변환 저장 완료\n",
      "7 ./images\\1\\img19730.jpg 변환 저장 완료\n",
      "8 ./images\\1\\img21014.jpg 변환 저장 완료\n",
      "9 ./images\\1\\img4168.jpg 변환 저장 완료\n",
      "10 ./images\\1\\img4449.jpg 변환 저장 완료\n",
      "11 ./images\\1\\img4842.jpg 변환 저장 완료\n",
      "12 ./images\\1\\img5164.jpg 변환 저장 완료\n",
      "13 ./images\\1\\img5710.jpg 변환 저장 완료\n",
      "14 ./images\\2\\img13478.jpg 변환 저장 완료\n",
      "15 ./images\\2\\img22878.jpg 변환 저장 완료\n",
      "16 ./images\\2\\img23241.jpg 변환 저장 완료\n",
      "17 ./images\\2\\img23788.jpg 변환 저장 완료\n",
      "18 ./images\\2\\img24894.jpg 변환 저장 완료\n",
      "19 ./images\\3\\img15303.jpg 변환 저장 완료\n",
      "20 ./images\\3\\img15594.jpg 변환 저장 완료\n",
      "21 ./images\\3\\img16633.jpg 변환 저장 완료\n",
      "22 ./images\\3\\img16895.jpg 변환 저장 완료\n",
      "23 ./images\\3\\img17341.jpg 변환 저장 완료\n",
      "24 ./images\\3\\img17709.jpg 변환 저장 완료\n",
      "25 ./images\\3\\img33449.jpg 변환 저장 완료\n",
      "전체 이미지 변환 저장이 완료됐습니다.\n"
     ]
    }
   ],
   "source": [
    "# 실행 및 이미지 저장\n",
    "import cv2\n",
    "import numpy as np\n",
    "\n",
    "num = 0\n",
    "for path in img_path:\n",
    "    img = cv2.imread(path)\n",
    "    cutted = cut(img)\n",
    "    bg_removed = bg_rm(cutted)\n",
    "    rd_changed = rd_change(bg_removed)\n",
    "    \n",
    "    name = file_name(path)\n",
    "    cv2.imwrite('./'+name, rd_changed)\n",
    "    num += 1\n",
    "    print(num, path, '변환 저장 완료')\n",
    "print('전체 이미지 변환 저장이 완료됐습니다.')\n"
   ]
  },
  {
   "cell_type": "code",
   "execution_count": null,
   "id": "c7048051",
   "metadata": {},
   "outputs": [],
   "source": []
  }
 ],
 "metadata": {
  "kernelspec": {
   "display_name": "Python 3 (ipykernel)",
   "language": "python",
   "name": "python3"
  },
  "language_info": {
   "codemirror_mode": {
    "name": "ipython",
    "version": 3
   },
   "file_extension": ".py",
   "mimetype": "text/x-python",
   "name": "python",
   "nbconvert_exporter": "python",
   "pygments_lexer": "ipython3",
   "version": "3.10.8"
  },
  "toc": {
   "base_numbering": 1,
   "nav_menu": {},
   "number_sections": true,
   "sideBar": true,
   "skip_h1_title": false,
   "title_cell": "Table of Contents",
   "title_sidebar": "Contents",
   "toc_cell": false,
   "toc_position": {},
   "toc_section_display": true,
   "toc_window_display": false
  }
 },
 "nbformat": 4,
 "nbformat_minor": 5
}
