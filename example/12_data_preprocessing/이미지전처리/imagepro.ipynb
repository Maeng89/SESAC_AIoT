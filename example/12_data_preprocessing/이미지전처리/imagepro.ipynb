{
 "cells": [
  {
   "cell_type": "code",
   "execution_count": 31,
   "id": "9049d8f8",
   "metadata": {},
   "outputs": [
    {
     "data": {
      "text/plain": [
       "True"
      ]
     },
     "execution_count": 31,
     "metadata": {},
     "output_type": "execute_result"
    }
   ],
   "source": [
    "import cv2\n",
    "import numpy as np\n",
    "\n",
    "# 이미지 읽어오기\n",
    "img = cv2.imread('./christmas.jpg')\n",
    "\n",
    "# 이미지 출력\n",
    "cv2.imshow('origin', img)\n",
    "cv2.waitKey(0)\n",
    "cv2.destroyAllWindows()\n",
    "\n",
    "# 이미지 저장\n",
    "cv2.imwrite('./test.jpg', img)"
   ]
  },
  {
   "cell_type": "code",
   "execution_count": 26,
   "id": "1fc70d40",
   "metadata": {},
   "outputs": [
    {
     "name": "stdout",
     "output_type": "stream",
     "text": [
      "(480, 693)\n"
     ]
    }
   ],
   "source": [
    "# rgb => gray\n",
    "gray = cv2.cvtColor(img, cv2.COLOR_BGR2GRAY)\n",
    "print(gray.shape)\n",
    "cv2.imshow('gray', gray)\n",
    "cv2.waitKey(0)\n",
    "cv2.destroyAllWindows()"
   ]
  },
  {
   "cell_type": "code",
   "execution_count": 25,
   "id": "be0c1b01",
   "metadata": {},
   "outputs": [
    {
     "name": "stdout",
     "output_type": "stream",
     "text": [
      "(480, 693, 3)\n"
     ]
    }
   ],
   "source": [
    "# gray => color\n",
    "im_color = cv2.applyColorMap(gray, cv2.COLORMAP_SUMMER)\n",
    "print(im_color.shape)\n",
    "cv2.imshow('im_color', im_color)\n",
    "cv2.waitKey(0)\n",
    "cv2.destroyAllWindows()"
   ]
  },
  {
   "cell_type": "code",
   "execution_count": 6,
   "id": "a6df3236",
   "metadata": {},
   "outputs": [],
   "source": [
    "# rgb => hsv\n",
    "hsv = cv2.cvtColor(img, cv2.COLOR_BGR2HSV)\n",
    "cv2.imshow('hsv', hsv)\n",
    "cv2.waitKey(0)\n",
    "cv2.destroyAllWindows()"
   ]
  },
  {
   "cell_type": "code",
   "execution_count": 14,
   "id": "da9fbd74",
   "metadata": {},
   "outputs": [],
   "source": [
    "# 그린 색상 마스킹\n",
    "lower_green = np.array([30, 100, 50])\n",
    "upper_green = np.array([70, 255, 255])\n",
    "\n",
    "mask_green = cv2.inRange(hsv, lower_green, upper_green)\n",
    "cv2.imshow('mask_green', mask_green)\n",
    "cv2.waitKey(0)\n",
    "cv2.destroyAllWindows()\n"
   ]
  },
  {
   "cell_type": "code",
   "execution_count": 29,
   "id": "f385b791",
   "metadata": {},
   "outputs": [],
   "source": [
    "# 레드 색상 마스킹\n",
    "lower_green = np.array([0, 100, 50])\n",
    "upper_green = np.array([10, 255, 255])\n",
    "\n",
    "mask_green = cv2.inRange(hsv, lower_green, upper_green)\n",
    "cv2.imshow('mask_green', mask_green)\n",
    "cv2.waitKey(0)\n",
    "cv2.destroyAllWindows()"
   ]
  },
  {
   "cell_type": "code",
   "execution_count": 18,
   "id": "f60e5574",
   "metadata": {},
   "outputs": [
    {
     "name": "stdout",
     "output_type": "stream",
     "text": [
      "(128, 320, 3)\n"
     ]
    }
   ],
   "source": [
    "# 사이즈 변환\n",
    "rsimg = cv2.resize(img, (320,128))\n",
    "print(rsimg.shape)\n",
    "cv2.imshow('rsimg', rsimg)\n",
    "cv2.waitKey(0)\n",
    "cv2.destroyAllWindows()"
   ]
  },
  {
   "cell_type": "code",
   "execution_count": 19,
   "id": "3be938d4",
   "metadata": {},
   "outputs": [
    {
     "name": "stdout",
     "output_type": "stream",
     "text": [
      "(480, 693, 3)\n",
      "(100, 420, 3)\n"
     ]
    }
   ],
   "source": [
    "# 이미지 자르기\n",
    "print(img.shape)\n",
    "crimg = img[200: 300,:420] # Y,X \n",
    "print(crimg.shape)\n",
    "cv2.imshow('crimg', crimg)\n",
    "cv2.waitKey(0)\n",
    "cv2.destroyAllWindows()"
   ]
  },
  {
   "cell_type": "code",
   "execution_count": 32,
   "id": "8fb1df69",
   "metadata": {},
   "outputs": [],
   "source": [
    "# 이미지 이동\n",
    "\n",
    "rows, cols, channels = img.shape\n",
    "\n",
    "M = np.float32([[1,0,100],[0,1,50]])\n",
    "dst = cv2.warpAffine(img,M,(cols,rows))\n",
    "cv2.imshow('dst', dst)\n",
    "cv2.waitKey(0)\n",
    "cv2.destroyAllWindows()"
   ]
  },
  {
   "cell_type": "code",
   "execution_count": 33,
   "id": "231766a3",
   "metadata": {},
   "outputs": [],
   "source": [
    "# 이미지 회전\n",
    "\n",
    "M = cv2.getRotationMatrix2D((cols/2,rows/2),-30,1)\n",
    "rotate_30 = cv2.warpAffine(img,M,(cols,rows))\n",
    "cv2.imshow('rotate_30', rotate_30)\n",
    "cv2.waitKey(0)\n",
    "cv2.destroyAllWindows()"
   ]
  },
  {
   "cell_type": "code",
   "execution_count": 24,
   "id": "27b7311e",
   "metadata": {},
   "outputs": [
    {
     "name": "stdout",
     "output_type": "stream",
     "text": [
      "232 15 -7\n"
     ]
    }
   ],
   "source": [
    "# 랜덤 이미지 변환\n",
    "\n",
    "import random\n",
    "rotate = random.randint(0,360)\n",
    "x_shift = random.randint(-50,50)\n",
    "y_shift = random.randint(-50,50)\n",
    "print(rotate, x_shift, y_shift)\n",
    "rm = cv2.getRotationMatrix2D((cols/2,rows/2),rotate,1)\n",
    "sm = np.float32([[1,0,x_shift],[0,1,y_shift]])\n",
    "dst = cv2.warpAffine(img,rm,(cols,rows))\n",
    "dst = cv2.warpAffine(dst,sm,(cols,rows))\n",
    "cv2.imshow('rdst', dst)\n",
    "cv2.waitKey(0)\n",
    "cv2.destroyAllWindows()"
   ]
  },
  {
   "cell_type": "code",
   "execution_count": 27,
   "id": "23b560d2",
   "metadata": {},
   "outputs": [],
   "source": [
    "# 배경 제거 라이브러리(인공지능 기반)\n",
    "from rembg import remove\n",
    "rbimg = remove(img)\n",
    "cv2.imshow('rbimg', rbimg)\n",
    "cv2.waitKey(0)\n",
    "cv2.destroyAllWindows()"
   ]
  },
  {
   "cell_type": "code",
   "execution_count": null,
   "id": "d93ad16c",
   "metadata": {},
   "outputs": [],
   "source": [
    "# images 안에 있는 모든 이미지에 다음 전처리 적용\n",
    "# 1. X축은 0~420 Y축은 60~420 에 해당하는 픽셀만 잘라내기\n",
    "# 2. 자른 이미지에 배경제거\n",
    "# 3. 배경제거 이미지에 랜던 이미지 변환 적용 \n",
    "# 1,2,3 진행후 이미지 result 폴더에 저장\n"
   ]
  }
 ],
 "metadata": {
  "kernelspec": {
   "display_name": "Python 3 (ipykernel)",
   "language": "python",
   "name": "python3"
  },
  "language_info": {
   "codemirror_mode": {
    "name": "ipython",
    "version": 3
   },
   "file_extension": ".py",
   "mimetype": "text/x-python",
   "name": "python",
   "nbconvert_exporter": "python",
   "pygments_lexer": "ipython3",
   "version": "3.10.8"
  }
 },
 "nbformat": 4,
 "nbformat_minor": 5
}
