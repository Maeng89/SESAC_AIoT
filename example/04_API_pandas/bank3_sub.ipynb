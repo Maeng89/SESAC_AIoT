{
 "cells": [
  {
   "cell_type": "code",
   "execution_count": 43,
   "id": "ad4e6f01",
   "metadata": {},
   "outputs": [],
   "source": [
    "# 주피터 노트북 테마 설정\n",
    "# !pip install jupyterthemes\n",
    "# !jt -t onedork -fs 115 -nfs 125 -tfs 115 -dfs 115 -ofs 115 -cursc r -cellw 80% -lineh 115 -altmd  -kl -T -N"
   ]
  },
  {
   "cell_type": "code",
   "execution_count": 44,
   "id": "75490cee",
   "metadata": {},
   "outputs": [],
   "source": [
    "# 주피터 노트북 익스텐션 설정\n",
    "# ! jupyter contrib nbextension install --user"
   ]
  },
  {
   "cell_type": "code",
   "execution_count": 45,
   "id": "84f5001c",
   "metadata": {},
   "outputs": [],
   "source": [
    "import pandas as pd"
   ]
  },
  {
   "cell_type": "markdown",
   "id": "f999261d",
   "metadata": {},
   "source": [
    "# 실행 프로세스"
   ]
  },
  {
   "cell_type": "code",
   "execution_count": 46,
   "id": "5861bda3",
   "metadata": {
    "scrolled": false
   },
   "outputs": [
    {
     "name": "stdout",
     "output_type": "stream",
     "text": [
      "고객 데이터 임포트 성공\n"
     ]
    },
    {
     "data": {
      "text/html": [
       "<div>\n",
       "<style scoped>\n",
       "    .dataframe tbody tr th:only-of-type {\n",
       "        vertical-align: middle;\n",
       "    }\n",
       "\n",
       "    .dataframe tbody tr th {\n",
       "        vertical-align: top;\n",
       "    }\n",
       "\n",
       "    .dataframe thead th {\n",
       "        text-align: right;\n",
       "    }\n",
       "</style>\n",
       "<table border=\"1\" class=\"dataframe\">\n",
       "  <thead>\n",
       "    <tr style=\"text-align: right;\">\n",
       "      <th></th>\n",
       "      <th>c_id</th>\n",
       "      <th>name</th>\n",
       "      <th>account_num</th>\n",
       "      <th>total_amount</th>\n",
       "      <th>rat</th>\n",
       "    </tr>\n",
       "    <tr>\n",
       "      <th>c_id</th>\n",
       "      <th></th>\n",
       "      <th></th>\n",
       "      <th></th>\n",
       "      <th></th>\n",
       "      <th></th>\n",
       "    </tr>\n",
       "  </thead>\n",
       "  <tbody>\n",
       "    <tr>\n",
       "      <th>1c</th>\n",
       "      <td>1c</td>\n",
       "      <td>최원칠</td>\n",
       "      <td>2</td>\n",
       "      <td>500</td>\n",
       "      <td>silver</td>\n",
       "    </tr>\n",
       "    <tr>\n",
       "      <th>2c</th>\n",
       "      <td>2c</td>\n",
       "      <td>이서혁</td>\n",
       "      <td>1</td>\n",
       "      <td>2000</td>\n",
       "      <td>gold</td>\n",
       "    </tr>\n",
       "    <tr>\n",
       "      <th>3c</th>\n",
       "      <td>3c</td>\n",
       "      <td>aiot</td>\n",
       "      <td>3</td>\n",
       "      <td>50000</td>\n",
       "      <td>vip</td>\n",
       "    </tr>\n",
       "    <tr>\n",
       "      <th>4c</th>\n",
       "      <td>4c</td>\n",
       "      <td>새싹</td>\n",
       "      <td>4</td>\n",
       "      <td>200000</td>\n",
       "      <td>vvip</td>\n",
       "    </tr>\n",
       "  </tbody>\n",
       "</table>\n",
       "</div>"
      ],
      "text/plain": [
       "     c_id  name  account_num  total_amount     rat\n",
       "c_id                                              \n",
       "1c     1c   최원칠            2           500  silver\n",
       "2c     2c   이서혁            1          2000    gold\n",
       "3c     3c  aiot            3         50000     vip\n",
       "4c     4c    새싹            4        200000    vvip"
      ]
     },
     "execution_count": 46,
     "metadata": {},
     "output_type": "execute_result"
    }
   ],
   "source": [
    "c_df = pd.read_csv('bank3_customers.csv') # index_col은 인덱스로 활용된 칼럼이 삭제됨\n",
    "c_df.set_index('c_id', drop = False, inplace=True) # drop=false는 인덱스로 활용된 칼럼 유지\n",
    "print('고객 데이터 임포트 성공')\n",
    "c_df"
   ]
  },
  {
   "cell_type": "code",
   "execution_count": 47,
   "id": "5b9b4f1a",
   "metadata": {},
   "outputs": [
    {
     "name": "stdout",
     "output_type": "stream",
     "text": [
      "계좌 데이터 임포트 성공\n"
     ]
    },
    {
     "data": {
      "text/html": [
       "<div>\n",
       "<style scoped>\n",
       "    .dataframe tbody tr th:only-of-type {\n",
       "        vertical-align: middle;\n",
       "    }\n",
       "\n",
       "    .dataframe tbody tr th {\n",
       "        vertical-align: top;\n",
       "    }\n",
       "\n",
       "    .dataframe thead th {\n",
       "        text-align: right;\n",
       "    }\n",
       "</style>\n",
       "<table border=\"1\" class=\"dataframe\">\n",
       "  <thead>\n",
       "    <tr style=\"text-align: right;\">\n",
       "      <th></th>\n",
       "      <th>a_id</th>\n",
       "      <th>password</th>\n",
       "      <th>c_id</th>\n",
       "      <th>amount</th>\n",
       "    </tr>\n",
       "    <tr>\n",
       "      <th>a_id</th>\n",
       "      <th></th>\n",
       "      <th></th>\n",
       "      <th></th>\n",
       "      <th></th>\n",
       "    </tr>\n",
       "  </thead>\n",
       "  <tbody>\n",
       "    <tr>\n",
       "      <th>11a</th>\n",
       "      <td>11a</td>\n",
       "      <td>11p</td>\n",
       "      <td>1c</td>\n",
       "      <td>100</td>\n",
       "    </tr>\n",
       "    <tr>\n",
       "      <th>12a</th>\n",
       "      <td>12a</td>\n",
       "      <td>12p</td>\n",
       "      <td>1c</td>\n",
       "      <td>400</td>\n",
       "    </tr>\n",
       "    <tr>\n",
       "      <th>21a</th>\n",
       "      <td>21a</td>\n",
       "      <td>21p</td>\n",
       "      <td>2c</td>\n",
       "      <td>2000</td>\n",
       "    </tr>\n",
       "    <tr>\n",
       "      <th>31a</th>\n",
       "      <td>31a</td>\n",
       "      <td>31p</td>\n",
       "      <td>3c</td>\n",
       "      <td>10000</td>\n",
       "    </tr>\n",
       "    <tr>\n",
       "      <th>32a</th>\n",
       "      <td>32a</td>\n",
       "      <td>32p</td>\n",
       "      <td>3c</td>\n",
       "      <td>20000</td>\n",
       "    </tr>\n",
       "    <tr>\n",
       "      <th>33a</th>\n",
       "      <td>33a</td>\n",
       "      <td>33p</td>\n",
       "      <td>3c</td>\n",
       "      <td>20000</td>\n",
       "    </tr>\n",
       "    <tr>\n",
       "      <th>41a</th>\n",
       "      <td>41a</td>\n",
       "      <td>41p</td>\n",
       "      <td>4c</td>\n",
       "      <td>100000</td>\n",
       "    </tr>\n",
       "    <tr>\n",
       "      <th>42a</th>\n",
       "      <td>42a</td>\n",
       "      <td>42p</td>\n",
       "      <td>4c</td>\n",
       "      <td>50000</td>\n",
       "    </tr>\n",
       "    <tr>\n",
       "      <th>43a</th>\n",
       "      <td>43a</td>\n",
       "      <td>43p</td>\n",
       "      <td>4c</td>\n",
       "      <td>20000</td>\n",
       "    </tr>\n",
       "    <tr>\n",
       "      <th>44a</th>\n",
       "      <td>44a</td>\n",
       "      <td>44p</td>\n",
       "      <td>4c</td>\n",
       "      <td>30000</td>\n",
       "    </tr>\n",
       "  </tbody>\n",
       "</table>\n",
       "</div>"
      ],
      "text/plain": [
       "     a_id password c_id  amount\n",
       "a_id                           \n",
       "11a   11a      11p   1c     100\n",
       "12a   12a      12p   1c     400\n",
       "21a   21a      21p   2c    2000\n",
       "31a   31a      31p   3c   10000\n",
       "32a   32a      32p   3c   20000\n",
       "33a   33a      33p   3c   20000\n",
       "41a   41a      41p   4c  100000\n",
       "42a   42a      42p   4c   50000\n",
       "43a   43a      43p   4c   20000\n",
       "44a   44a      44p   4c   30000"
      ]
     },
     "execution_count": 47,
     "metadata": {},
     "output_type": "execute_result"
    }
   ],
   "source": [
    "a_df = pd.read_csv('bank3_accounts.csv')\n",
    "a_df.set_index('a_id', drop = False, inplace=True)\n",
    "print('계좌 데이터 임포트 성공')\n",
    "a_df"
   ]
  },
  {
   "cell_type": "markdown",
   "id": "dcec849b",
   "metadata": {},
   "source": [
    "# 클래스 프로세스"
   ]
  },
  {
   "cell_type": "markdown",
   "id": "46a62b21",
   "metadata": {},
   "source": [
    "## add_account 함수 수정"
   ]
  },
  {
   "cell_type": "code",
   "execution_count": 48,
   "id": "61f8fc7f",
   "metadata": {},
   "outputs": [
    {
     "name": "stdout",
     "output_type": "stream",
     "text": [
      "<class 'pandas.core.series.Series'>\n",
      "c_id                1c\n",
      "name               최원칠\n",
      "account_num          2\n",
      "total_amount       500\n",
      "rat             silver\n",
      "Name: 1c, dtype: object\n",
      "==================================================\n",
      "     a_id password c_id  amount\n",
      "a_id                           \n",
      "11a   11a      11p   1c     100\n",
      "12a   12a      12p   1c     400\n",
      "21a   21a      21p   2c    2000\n",
      "31a   31a      31p   3c   10000\n",
      "32a   32a      32p   3c   20000\n",
      "33a   33a      33p   3c   20000\n",
      "41a   41a      41p   4c  100000\n",
      "42a   42a      42p   4c   50000\n",
      "43a   43a      43p   4c   20000\n",
      "44a   44a      44p   4c   30000\n"
     ]
    }
   ],
   "source": [
    "# 더미 인풋 데이터\n",
    "# self.customer , 시리즈\n",
    "print(type(c_df.iloc[0]))\n",
    "c_self = c_df.iloc[0] \n",
    "print(c_self)\n",
    "\n",
    "print('='*50)\n",
    "# self.accounts, 데이터 프레임\n",
    "a_id = 'aa'\n",
    "a_self = a_df.copy()\n",
    "print(a_self)"
   ]
  },
  {
   "cell_type": "code",
   "execution_count": 49,
   "id": "95cbacd7",
   "metadata": {},
   "outputs": [
    {
     "data": {
      "text/html": [
       "<div>\n",
       "<style scoped>\n",
       "    .dataframe tbody tr th:only-of-type {\n",
       "        vertical-align: middle;\n",
       "    }\n",
       "\n",
       "    .dataframe tbody tr th {\n",
       "        vertical-align: top;\n",
       "    }\n",
       "\n",
       "    .dataframe thead th {\n",
       "        text-align: right;\n",
       "    }\n",
       "</style>\n",
       "<table border=\"1\" class=\"dataframe\">\n",
       "  <thead>\n",
       "    <tr style=\"text-align: right;\">\n",
       "      <th></th>\n",
       "      <th>a_id</th>\n",
       "      <th>password</th>\n",
       "      <th>c_id</th>\n",
       "      <th>amount</th>\n",
       "    </tr>\n",
       "    <tr>\n",
       "      <th>a_id</th>\n",
       "      <th></th>\n",
       "      <th></th>\n",
       "      <th></th>\n",
       "      <th></th>\n",
       "    </tr>\n",
       "  </thead>\n",
       "  <tbody>\n",
       "    <tr>\n",
       "      <th>11a</th>\n",
       "      <td>11a</td>\n",
       "      <td>11p</td>\n",
       "      <td>1c</td>\n",
       "      <td>100</td>\n",
       "    </tr>\n",
       "    <tr>\n",
       "      <th>12a</th>\n",
       "      <td>12a</td>\n",
       "      <td>12p</td>\n",
       "      <td>1c</td>\n",
       "      <td>400</td>\n",
       "    </tr>\n",
       "    <tr>\n",
       "      <th>21a</th>\n",
       "      <td>21a</td>\n",
       "      <td>21p</td>\n",
       "      <td>2c</td>\n",
       "      <td>2000</td>\n",
       "    </tr>\n",
       "    <tr>\n",
       "      <th>31a</th>\n",
       "      <td>31a</td>\n",
       "      <td>31p</td>\n",
       "      <td>3c</td>\n",
       "      <td>10000</td>\n",
       "    </tr>\n",
       "    <tr>\n",
       "      <th>32a</th>\n",
       "      <td>32a</td>\n",
       "      <td>32p</td>\n",
       "      <td>3c</td>\n",
       "      <td>20000</td>\n",
       "    </tr>\n",
       "    <tr>\n",
       "      <th>33a</th>\n",
       "      <td>33a</td>\n",
       "      <td>33p</td>\n",
       "      <td>3c</td>\n",
       "      <td>20000</td>\n",
       "    </tr>\n",
       "    <tr>\n",
       "      <th>41a</th>\n",
       "      <td>41a</td>\n",
       "      <td>41p</td>\n",
       "      <td>4c</td>\n",
       "      <td>100000</td>\n",
       "    </tr>\n",
       "    <tr>\n",
       "      <th>42a</th>\n",
       "      <td>42a</td>\n",
       "      <td>42p</td>\n",
       "      <td>4c</td>\n",
       "      <td>50000</td>\n",
       "    </tr>\n",
       "    <tr>\n",
       "      <th>43a</th>\n",
       "      <td>43a</td>\n",
       "      <td>43p</td>\n",
       "      <td>4c</td>\n",
       "      <td>20000</td>\n",
       "    </tr>\n",
       "    <tr>\n",
       "      <th>44a</th>\n",
       "      <td>44a</td>\n",
       "      <td>44p</td>\n",
       "      <td>4c</td>\n",
       "      <td>30000</td>\n",
       "    </tr>\n",
       "    <tr>\n",
       "      <th>aa</th>\n",
       "      <td>aa</td>\n",
       "      <td>NaN</td>\n",
       "      <td>1c</td>\n",
       "      <td>0</td>\n",
       "    </tr>\n",
       "  </tbody>\n",
       "</table>\n",
       "</div>"
      ],
      "text/plain": [
       "     a_id password c_id  amount\n",
       "a_id                           \n",
       "11a   11a      11p   1c     100\n",
       "12a   12a      12p   1c     400\n",
       "21a   21a      21p   2c    2000\n",
       "31a   31a      31p   3c   10000\n",
       "32a   32a      32p   3c   20000\n",
       "33a   33a      33p   3c   20000\n",
       "41a   41a      41p   4c  100000\n",
       "42a   42a      42p   4c   50000\n",
       "43a   43a      43p   4c   20000\n",
       "44a   44a      44p   4c   30000\n",
       "aa     aa      NaN   1c       0"
      ]
     },
     "execution_count": 49,
     "metadata": {},
     "output_type": "execute_result"
    }
   ],
   "source": [
    "# self.accounts 에 a_df 형태에 맞게 새로운 계좌 데이터를 할당\n",
    "a_self.loc[a_id] = {'a_id': a_id,\n",
    "                  'amount': 0,\n",
    "                 'c_id': c_self['c_id']}\n",
    "a_self"
   ]
  },
  {
   "cell_type": "code",
   "execution_count": 50,
   "id": "9305041c",
   "metadata": {
    "scrolled": true
   },
   "outputs": [
    {
     "name": "stderr",
     "output_type": "stream",
     "text": [
      "C:\\Users\\YUNA\\AppData\\Local\\Temp\\ipykernel_7228\\2393851844.py:3: SettingWithCopyWarning: \n",
      "A value is trying to be set on a copy of a slice from a DataFrame\n",
      "\n",
      "See the caveats in the documentation: https://pandas.pydata.org/pandas-docs/stable/user_guide/indexing.html#returning-a-view-versus-a-copy\n",
      "  c_self['account_num'] += 1\n"
     ]
    },
    {
     "data": {
      "text/plain": [
       "c_id                1c\n",
       "name               최원칠\n",
       "account_num          3\n",
       "total_amount       500\n",
       "rat             silver\n",
       "Name: 1c, dtype: object"
      ]
     },
     "execution_count": 50,
     "metadata": {},
     "output_type": "execute_result"
    }
   ],
   "source": [
    "# add_account 함수 수정\n",
    "# self.customer 의 계좌개수를 +1\n",
    "c_self['account_num'] += 1\n",
    "c_self"
   ]
  },
  {
   "cell_type": "markdown",
   "id": "03910055",
   "metadata": {},
   "source": [
    "## add_amount 함수 수정"
   ]
  },
  {
   "cell_type": "code",
   "execution_count": 153,
   "id": "c64ba4f5",
   "metadata": {},
   "outputs": [
    {
     "data": {
      "text/plain": [
       "9999"
      ]
     },
     "execution_count": 153,
     "metadata": {},
     "output_type": "execute_result"
    }
   ],
   "source": [
    "# 더미 입금 금액\n",
    "amount_input = 9999\n",
    "amount_input"
   ]
  },
  {
   "cell_type": "code",
   "execution_count": 156,
   "id": "a518e203",
   "metadata": {},
   "outputs": [
    {
     "data": {
      "text/plain": [
       "'aa'"
      ]
     },
     "execution_count": 156,
     "metadata": {},
     "output_type": "execute_result"
    }
   ],
   "source": [
    "a_id"
   ]
  },
  {
   "cell_type": "code",
   "execution_count": 155,
   "id": "43c529d6",
   "metadata": {},
   "outputs": [
    {
     "data": {
      "text/plain": [
       "8888"
      ]
     },
     "execution_count": 155,
     "metadata": {},
     "output_type": "execute_result"
    }
   ],
   "source": [
    "a_self.loc[a_id, 'amount']"
   ]
  },
  {
   "cell_type": "code",
   "execution_count": 52,
   "id": "fbe90eb1",
   "metadata": {},
   "outputs": [
    {
     "data": {
      "text/html": [
       "<div>\n",
       "<style scoped>\n",
       "    .dataframe tbody tr th:only-of-type {\n",
       "        vertical-align: middle;\n",
       "    }\n",
       "\n",
       "    .dataframe tbody tr th {\n",
       "        vertical-align: top;\n",
       "    }\n",
       "\n",
       "    .dataframe thead th {\n",
       "        text-align: right;\n",
       "    }\n",
       "</style>\n",
       "<table border=\"1\" class=\"dataframe\">\n",
       "  <thead>\n",
       "    <tr style=\"text-align: right;\">\n",
       "      <th></th>\n",
       "      <th>a_id</th>\n",
       "      <th>password</th>\n",
       "      <th>c_id</th>\n",
       "      <th>amount</th>\n",
       "    </tr>\n",
       "    <tr>\n",
       "      <th>a_id</th>\n",
       "      <th></th>\n",
       "      <th></th>\n",
       "      <th></th>\n",
       "      <th></th>\n",
       "    </tr>\n",
       "  </thead>\n",
       "  <tbody>\n",
       "    <tr>\n",
       "      <th>11a</th>\n",
       "      <td>11a</td>\n",
       "      <td>11p</td>\n",
       "      <td>1c</td>\n",
       "      <td>100</td>\n",
       "    </tr>\n",
       "    <tr>\n",
       "      <th>12a</th>\n",
       "      <td>12a</td>\n",
       "      <td>12p</td>\n",
       "      <td>1c</td>\n",
       "      <td>400</td>\n",
       "    </tr>\n",
       "    <tr>\n",
       "      <th>21a</th>\n",
       "      <td>21a</td>\n",
       "      <td>21p</td>\n",
       "      <td>2c</td>\n",
       "      <td>2000</td>\n",
       "    </tr>\n",
       "    <tr>\n",
       "      <th>31a</th>\n",
       "      <td>31a</td>\n",
       "      <td>31p</td>\n",
       "      <td>3c</td>\n",
       "      <td>10000</td>\n",
       "    </tr>\n",
       "    <tr>\n",
       "      <th>32a</th>\n",
       "      <td>32a</td>\n",
       "      <td>32p</td>\n",
       "      <td>3c</td>\n",
       "      <td>20000</td>\n",
       "    </tr>\n",
       "    <tr>\n",
       "      <th>33a</th>\n",
       "      <td>33a</td>\n",
       "      <td>33p</td>\n",
       "      <td>3c</td>\n",
       "      <td>20000</td>\n",
       "    </tr>\n",
       "    <tr>\n",
       "      <th>41a</th>\n",
       "      <td>41a</td>\n",
       "      <td>41p</td>\n",
       "      <td>4c</td>\n",
       "      <td>100000</td>\n",
       "    </tr>\n",
       "    <tr>\n",
       "      <th>42a</th>\n",
       "      <td>42a</td>\n",
       "      <td>42p</td>\n",
       "      <td>4c</td>\n",
       "      <td>50000</td>\n",
       "    </tr>\n",
       "    <tr>\n",
       "      <th>43a</th>\n",
       "      <td>43a</td>\n",
       "      <td>43p</td>\n",
       "      <td>4c</td>\n",
       "      <td>20000</td>\n",
       "    </tr>\n",
       "    <tr>\n",
       "      <th>44a</th>\n",
       "      <td>44a</td>\n",
       "      <td>44p</td>\n",
       "      <td>4c</td>\n",
       "      <td>30000</td>\n",
       "    </tr>\n",
       "    <tr>\n",
       "      <th>aa</th>\n",
       "      <td>aa</td>\n",
       "      <td>NaN</td>\n",
       "      <td>1c</td>\n",
       "      <td>9999</td>\n",
       "    </tr>\n",
       "  </tbody>\n",
       "</table>\n",
       "</div>"
      ],
      "text/plain": [
       "     a_id password c_id  amount\n",
       "a_id                           \n",
       "11a   11a      11p   1c     100\n",
       "12a   12a      12p   1c     400\n",
       "21a   21a      21p   2c    2000\n",
       "31a   31a      31p   3c   10000\n",
       "32a   32a      32p   3c   20000\n",
       "33a   33a      33p   3c   20000\n",
       "41a   41a      41p   4c  100000\n",
       "42a   42a      42p   4c   50000\n",
       "43a   43a      43p   4c   20000\n",
       "44a   44a      44p   4c   30000\n",
       "aa     aa      NaN   1c    9999"
      ]
     },
     "execution_count": 52,
     "metadata": {},
     "output_type": "execute_result"
    }
   ],
   "source": [
    "# self.accounts 에서 해당 계좌번호의 계좌금액에서 입금금액 추가\n",
    "a_self.loc[a_id, 'amount'] += amount_input\n",
    "a_self"
   ]
  },
  {
   "cell_type": "code",
   "execution_count": 53,
   "id": "da694356",
   "metadata": {},
   "outputs": [],
   "source": [
    "# 더미 총합금액 및 등급\n",
    "get_total_amount = 999999999\n",
    "get_rat = 'vvvvip'"
   ]
  },
  {
   "cell_type": "code",
   "execution_count": 54,
   "id": "1bf7d08c",
   "metadata": {},
   "outputs": [
    {
     "name": "stdout",
     "output_type": "stream",
     "text": [
      "c_id                1c\n",
      "name               최원칠\n",
      "account_num          3\n",
      "total_amount       500\n",
      "rat             silver\n",
      "Name: 1c, dtype: object\n",
      "==================================================\n",
      "c_id                   1c\n",
      "name                  최원칠\n",
      "account_num             3\n",
      "total_amount    999999999\n",
      "rat                vvvvip\n",
      "Name: 1c, dtype: object\n"
     ]
    },
    {
     "name": "stderr",
     "output_type": "stream",
     "text": [
      "C:\\Users\\YUNA\\AppData\\Local\\Temp\\ipykernel_7228\\1069454643.py:4: SettingWithCopyWarning: \n",
      "A value is trying to be set on a copy of a slice from a DataFrame\n",
      "\n",
      "See the caveats in the documentation: https://pandas.pydata.org/pandas-docs/stable/user_guide/indexing.html#returning-a-view-versus-a-copy\n",
      "  c_self['total_amount'] =  get_total_amount\n",
      "C:\\Users\\YUNA\\AppData\\Local\\Temp\\ipykernel_7228\\1069454643.py:5: SettingWithCopyWarning: \n",
      "A value is trying to be set on a copy of a slice from a DataFrame\n",
      "\n",
      "See the caveats in the documentation: https://pandas.pydata.org/pandas-docs/stable/user_guide/indexing.html#returning-a-view-versus-a-copy\n",
      "  c_self['rat'] = get_rat\n"
     ]
    }
   ],
   "source": [
    "# self.customer 의 총합금액과 등급 업데이트\n",
    "print(c_self)\n",
    "print('=' * 50)\n",
    "c_self['total_amount'] =  get_total_amount\n",
    "c_self['rat'] = get_rat\n",
    "print(c_self)"
   ]
  },
  {
   "cell_type": "markdown",
   "id": "476feff4",
   "metadata": {},
   "source": [
    "## sub_amount 함수 수정"
   ]
  },
  {
   "cell_type": "code",
   "execution_count": 55,
   "id": "d4829630",
   "metadata": {},
   "outputs": [
    {
     "data": {
      "text/plain": [
       "1111"
      ]
     },
     "execution_count": 55,
     "metadata": {},
     "output_type": "execute_result"
    }
   ],
   "source": [
    "# 더미 출금 금액\n",
    "amount_withdraw = 1111\n",
    "amount_withdraw"
   ]
  },
  {
   "cell_type": "code",
   "execution_count": 56,
   "id": "974a7ff3",
   "metadata": {},
   "outputs": [
    {
     "data": {
      "text/html": [
       "<div>\n",
       "<style scoped>\n",
       "    .dataframe tbody tr th:only-of-type {\n",
       "        vertical-align: middle;\n",
       "    }\n",
       "\n",
       "    .dataframe tbody tr th {\n",
       "        vertical-align: top;\n",
       "    }\n",
       "\n",
       "    .dataframe thead th {\n",
       "        text-align: right;\n",
       "    }\n",
       "</style>\n",
       "<table border=\"1\" class=\"dataframe\">\n",
       "  <thead>\n",
       "    <tr style=\"text-align: right;\">\n",
       "      <th></th>\n",
       "      <th>a_id</th>\n",
       "      <th>password</th>\n",
       "      <th>c_id</th>\n",
       "      <th>amount</th>\n",
       "    </tr>\n",
       "    <tr>\n",
       "      <th>a_id</th>\n",
       "      <th></th>\n",
       "      <th></th>\n",
       "      <th></th>\n",
       "      <th></th>\n",
       "    </tr>\n",
       "  </thead>\n",
       "  <tbody>\n",
       "    <tr>\n",
       "      <th>11a</th>\n",
       "      <td>11a</td>\n",
       "      <td>11p</td>\n",
       "      <td>1c</td>\n",
       "      <td>100</td>\n",
       "    </tr>\n",
       "    <tr>\n",
       "      <th>12a</th>\n",
       "      <td>12a</td>\n",
       "      <td>12p</td>\n",
       "      <td>1c</td>\n",
       "      <td>400</td>\n",
       "    </tr>\n",
       "    <tr>\n",
       "      <th>21a</th>\n",
       "      <td>21a</td>\n",
       "      <td>21p</td>\n",
       "      <td>2c</td>\n",
       "      <td>2000</td>\n",
       "    </tr>\n",
       "    <tr>\n",
       "      <th>31a</th>\n",
       "      <td>31a</td>\n",
       "      <td>31p</td>\n",
       "      <td>3c</td>\n",
       "      <td>10000</td>\n",
       "    </tr>\n",
       "    <tr>\n",
       "      <th>32a</th>\n",
       "      <td>32a</td>\n",
       "      <td>32p</td>\n",
       "      <td>3c</td>\n",
       "      <td>20000</td>\n",
       "    </tr>\n",
       "    <tr>\n",
       "      <th>33a</th>\n",
       "      <td>33a</td>\n",
       "      <td>33p</td>\n",
       "      <td>3c</td>\n",
       "      <td>20000</td>\n",
       "    </tr>\n",
       "    <tr>\n",
       "      <th>41a</th>\n",
       "      <td>41a</td>\n",
       "      <td>41p</td>\n",
       "      <td>4c</td>\n",
       "      <td>100000</td>\n",
       "    </tr>\n",
       "    <tr>\n",
       "      <th>42a</th>\n",
       "      <td>42a</td>\n",
       "      <td>42p</td>\n",
       "      <td>4c</td>\n",
       "      <td>50000</td>\n",
       "    </tr>\n",
       "    <tr>\n",
       "      <th>43a</th>\n",
       "      <td>43a</td>\n",
       "      <td>43p</td>\n",
       "      <td>4c</td>\n",
       "      <td>20000</td>\n",
       "    </tr>\n",
       "    <tr>\n",
       "      <th>44a</th>\n",
       "      <td>44a</td>\n",
       "      <td>44p</td>\n",
       "      <td>4c</td>\n",
       "      <td>30000</td>\n",
       "    </tr>\n",
       "    <tr>\n",
       "      <th>aa</th>\n",
       "      <td>aa</td>\n",
       "      <td>NaN</td>\n",
       "      <td>1c</td>\n",
       "      <td>8888</td>\n",
       "    </tr>\n",
       "  </tbody>\n",
       "</table>\n",
       "</div>"
      ],
      "text/plain": [
       "     a_id password c_id  amount\n",
       "a_id                           \n",
       "11a   11a      11p   1c     100\n",
       "12a   12a      12p   1c     400\n",
       "21a   21a      21p   2c    2000\n",
       "31a   31a      31p   3c   10000\n",
       "32a   32a      32p   3c   20000\n",
       "33a   33a      33p   3c   20000\n",
       "41a   41a      41p   4c  100000\n",
       "42a   42a      42p   4c   50000\n",
       "43a   43a      43p   4c   20000\n",
       "44a   44a      44p   4c   30000\n",
       "aa     aa      NaN   1c    8888"
      ]
     },
     "execution_count": 56,
     "metadata": {},
     "output_type": "execute_result"
    }
   ],
   "source": [
    "# self.accounts 에서 해당 계좌번호의 계좌금액에서 출금금액 차감\n",
    "a_self.loc[a_id, 'amount'] -= amount_withdraw\n",
    "a_self"
   ]
  },
  {
   "cell_type": "code",
   "execution_count": 57,
   "id": "b81578cc",
   "metadata": {},
   "outputs": [],
   "source": [
    "# 더미 총합금액 및 등급\n",
    "get_total_amount = 555555\n",
    "get_rat = 'svip'"
   ]
  },
  {
   "cell_type": "code",
   "execution_count": 58,
   "id": "d40765c9",
   "metadata": {},
   "outputs": [
    {
     "name": "stdout",
     "output_type": "stream",
     "text": [
      "c_id                   1c\n",
      "name                  최원칠\n",
      "account_num             3\n",
      "total_amount    999999999\n",
      "rat                vvvvip\n",
      "Name: 1c, dtype: object\n",
      "==================================================\n",
      "c_id                1c\n",
      "name               최원칠\n",
      "account_num          3\n",
      "total_amount    555555\n",
      "rat               svip\n",
      "Name: 1c, dtype: object\n"
     ]
    },
    {
     "name": "stderr",
     "output_type": "stream",
     "text": [
      "C:\\Users\\YUNA\\AppData\\Local\\Temp\\ipykernel_7228\\1069454643.py:4: SettingWithCopyWarning: \n",
      "A value is trying to be set on a copy of a slice from a DataFrame\n",
      "\n",
      "See the caveats in the documentation: https://pandas.pydata.org/pandas-docs/stable/user_guide/indexing.html#returning-a-view-versus-a-copy\n",
      "  c_self['total_amount'] =  get_total_amount\n",
      "C:\\Users\\YUNA\\AppData\\Local\\Temp\\ipykernel_7228\\1069454643.py:5: SettingWithCopyWarning: \n",
      "A value is trying to be set on a copy of a slice from a DataFrame\n",
      "\n",
      "See the caveats in the documentation: https://pandas.pydata.org/pandas-docs/stable/user_guide/indexing.html#returning-a-view-versus-a-copy\n",
      "  c_self['rat'] = get_rat\n"
     ]
    }
   ],
   "source": [
    "# self.customer 의 총합금액과 등급 업데이트\n",
    "print(c_self)\n",
    "print('=' * 50)\n",
    "c_self['total_amount'] =  get_total_amount\n",
    "c_self['rat'] = get_rat\n",
    "print(c_self)"
   ]
  },
  {
   "cell_type": "markdown",
   "id": "db360bb7",
   "metadata": {},
   "source": [
    "## get_total_amount 함수 생성"
   ]
  },
  {
   "cell_type": "code",
   "execution_count": 59,
   "id": "5affd664",
   "metadata": {},
   "outputs": [],
   "source": [
    "# 더미 고객 아이디\n",
    "c_id = '1c'"
   ]
  },
  {
   "cell_type": "code",
   "execution_count": 60,
   "id": "64275f90",
   "metadata": {},
   "outputs": [
    {
     "data": {
      "text/plain": [
       "9388"
      ]
     },
     "execution_count": 60,
     "metadata": {},
     "output_type": "execute_result"
    }
   ],
   "source": [
    "# 고객이 가지고 있는 모든 계좌의 총합을 반환\n",
    "a_self[a_self['c_id'] == c_self['c_id']]['amount'].sum()"
   ]
  },
  {
   "cell_type": "markdown",
   "id": "3e2ae2d8",
   "metadata": {},
   "source": [
    "## update 함수 생성"
   ]
  },
  {
   "cell_type": "code",
   "execution_count": 61,
   "id": "d36f09b8",
   "metadata": {},
   "outputs": [
    {
     "name": "stdout",
     "output_type": "stream",
     "text": [
      "c_id                1c\n",
      "name               최원칠\n",
      "account_num          3\n",
      "total_amount    555555\n",
      "rat               svip\n",
      "Name: 1c, dtype: object\n",
      "==================================================\n"
     ]
    },
    {
     "data": {
      "text/html": [
       "<div>\n",
       "<style scoped>\n",
       "    .dataframe tbody tr th:only-of-type {\n",
       "        vertical-align: middle;\n",
       "    }\n",
       "\n",
       "    .dataframe tbody tr th {\n",
       "        vertical-align: top;\n",
       "    }\n",
       "\n",
       "    .dataframe thead th {\n",
       "        text-align: right;\n",
       "    }\n",
       "</style>\n",
       "<table border=\"1\" class=\"dataframe\">\n",
       "  <thead>\n",
       "    <tr style=\"text-align: right;\">\n",
       "      <th></th>\n",
       "      <th>c_id</th>\n",
       "      <th>name</th>\n",
       "      <th>account_num</th>\n",
       "      <th>total_amount</th>\n",
       "      <th>rat</th>\n",
       "    </tr>\n",
       "    <tr>\n",
       "      <th>c_id</th>\n",
       "      <th></th>\n",
       "      <th></th>\n",
       "      <th></th>\n",
       "      <th></th>\n",
       "      <th></th>\n",
       "    </tr>\n",
       "  </thead>\n",
       "  <tbody>\n",
       "    <tr>\n",
       "      <th>1c</th>\n",
       "      <td>1c</td>\n",
       "      <td>최원칠</td>\n",
       "      <td>2</td>\n",
       "      <td>500</td>\n",
       "      <td>silver</td>\n",
       "    </tr>\n",
       "    <tr>\n",
       "      <th>2c</th>\n",
       "      <td>2c</td>\n",
       "      <td>이서혁</td>\n",
       "      <td>1</td>\n",
       "      <td>2000</td>\n",
       "      <td>gold</td>\n",
       "    </tr>\n",
       "    <tr>\n",
       "      <th>3c</th>\n",
       "      <td>3c</td>\n",
       "      <td>aiot</td>\n",
       "      <td>3</td>\n",
       "      <td>50000</td>\n",
       "      <td>vip</td>\n",
       "    </tr>\n",
       "    <tr>\n",
       "      <th>4c</th>\n",
       "      <td>4c</td>\n",
       "      <td>새싹</td>\n",
       "      <td>4</td>\n",
       "      <td>200000</td>\n",
       "      <td>vvip</td>\n",
       "    </tr>\n",
       "  </tbody>\n",
       "</table>\n",
       "</div>"
      ],
      "text/plain": [
       "     c_id  name  account_num  total_amount     rat\n",
       "c_id                                              \n",
       "1c     1c   최원칠            2           500  silver\n",
       "2c     2c   이서혁            1          2000    gold\n",
       "3c     3c  aiot            3         50000     vip\n",
       "4c     4c    새싹            4        200000    vvip"
      ]
     },
     "execution_count": 61,
     "metadata": {},
     "output_type": "execute_result"
    }
   ],
   "source": [
    "print(c_self)\n",
    "print('='*50)\n",
    "c_df"
   ]
  },
  {
   "cell_type": "code",
   "execution_count": 62,
   "id": "78570c0f",
   "metadata": {},
   "outputs": [
    {
     "name": "stderr",
     "output_type": "stream",
     "text": [
      "C:\\Users\\YUNA\\AppData\\Local\\Temp\\ipykernel_7228\\2380203065.py:2: FutureWarning: In a future version, `df.iloc[:, i] = newvals` will attempt to set the values inplace instead of always setting a new array. To retain the old behavior, use either `df[df.columns[i]] = newvals` or, if columns are non-unique, `df.isetitem(i, newvals)`\n",
      "  c_df.update([c_self])\n"
     ]
    },
    {
     "data": {
      "text/html": [
       "<div>\n",
       "<style scoped>\n",
       "    .dataframe tbody tr th:only-of-type {\n",
       "        vertical-align: middle;\n",
       "    }\n",
       "\n",
       "    .dataframe tbody tr th {\n",
       "        vertical-align: top;\n",
       "    }\n",
       "\n",
       "    .dataframe thead th {\n",
       "        text-align: right;\n",
       "    }\n",
       "</style>\n",
       "<table border=\"1\" class=\"dataframe\">\n",
       "  <thead>\n",
       "    <tr style=\"text-align: right;\">\n",
       "      <th></th>\n",
       "      <th>c_id</th>\n",
       "      <th>name</th>\n",
       "      <th>account_num</th>\n",
       "      <th>total_amount</th>\n",
       "      <th>rat</th>\n",
       "    </tr>\n",
       "    <tr>\n",
       "      <th>c_id</th>\n",
       "      <th></th>\n",
       "      <th></th>\n",
       "      <th></th>\n",
       "      <th></th>\n",
       "      <th></th>\n",
       "    </tr>\n",
       "  </thead>\n",
       "  <tbody>\n",
       "    <tr>\n",
       "      <th>1c</th>\n",
       "      <td>1c</td>\n",
       "      <td>최원칠</td>\n",
       "      <td>3.0</td>\n",
       "      <td>555555.0</td>\n",
       "      <td>svip</td>\n",
       "    </tr>\n",
       "    <tr>\n",
       "      <th>2c</th>\n",
       "      <td>2c</td>\n",
       "      <td>이서혁</td>\n",
       "      <td>1.0</td>\n",
       "      <td>2000.0</td>\n",
       "      <td>gold</td>\n",
       "    </tr>\n",
       "    <tr>\n",
       "      <th>3c</th>\n",
       "      <td>3c</td>\n",
       "      <td>aiot</td>\n",
       "      <td>3.0</td>\n",
       "      <td>50000.0</td>\n",
       "      <td>vip</td>\n",
       "    </tr>\n",
       "    <tr>\n",
       "      <th>4c</th>\n",
       "      <td>4c</td>\n",
       "      <td>새싹</td>\n",
       "      <td>4.0</td>\n",
       "      <td>200000.0</td>\n",
       "      <td>vvip</td>\n",
       "    </tr>\n",
       "  </tbody>\n",
       "</table>\n",
       "</div>"
      ],
      "text/plain": [
       "     c_id  name  account_num  total_amount   rat\n",
       "c_id                                            \n",
       "1c     1c   최원칠          3.0      555555.0  svip\n",
       "2c     2c   이서혁          1.0        2000.0  gold\n",
       "3c     3c  aiot          3.0       50000.0   vip\n",
       "4c     4c    새싹          4.0      200000.0  vvip"
      ]
     },
     "execution_count": 62,
     "metadata": {},
     "output_type": "execute_result"
    }
   ],
   "source": [
    "# 클래스내의 수정된 고객시리즈 데이터를 고객데이터프레임에 업데이트\n",
    "c_df.update([c_self])\n",
    "c_df"
   ]
  },
  {
   "cell_type": "code",
   "execution_count": 63,
   "id": "2b4e64c2",
   "metadata": {},
   "outputs": [
    {
     "name": "stdout",
     "output_type": "stream",
     "text": [
      "     a_id password c_id  amount\n",
      "a_id                           \n",
      "11a   11a      11p   1c     100\n",
      "12a   12a      12p   1c     400\n",
      "21a   21a      21p   2c    2000\n",
      "31a   31a      31p   3c   10000\n",
      "32a   32a      32p   3c   20000\n",
      "33a   33a      33p   3c   20000\n",
      "41a   41a      41p   4c  100000\n",
      "42a   42a      42p   4c   50000\n",
      "43a   43a      43p   4c   20000\n",
      "44a   44a      44p   4c   30000\n",
      "aa     aa      NaN   1c    8888\n",
      "==================================================\n"
     ]
    },
    {
     "data": {
      "text/html": [
       "<div>\n",
       "<style scoped>\n",
       "    .dataframe tbody tr th:only-of-type {\n",
       "        vertical-align: middle;\n",
       "    }\n",
       "\n",
       "    .dataframe tbody tr th {\n",
       "        vertical-align: top;\n",
       "    }\n",
       "\n",
       "    .dataframe thead th {\n",
       "        text-align: right;\n",
       "    }\n",
       "</style>\n",
       "<table border=\"1\" class=\"dataframe\">\n",
       "  <thead>\n",
       "    <tr style=\"text-align: right;\">\n",
       "      <th></th>\n",
       "      <th>a_id</th>\n",
       "      <th>password</th>\n",
       "      <th>c_id</th>\n",
       "      <th>amount</th>\n",
       "    </tr>\n",
       "    <tr>\n",
       "      <th>a_id</th>\n",
       "      <th></th>\n",
       "      <th></th>\n",
       "      <th></th>\n",
       "      <th></th>\n",
       "    </tr>\n",
       "  </thead>\n",
       "  <tbody>\n",
       "    <tr>\n",
       "      <th>11a</th>\n",
       "      <td>11a</td>\n",
       "      <td>11p</td>\n",
       "      <td>1c</td>\n",
       "      <td>100</td>\n",
       "    </tr>\n",
       "    <tr>\n",
       "      <th>12a</th>\n",
       "      <td>12a</td>\n",
       "      <td>12p</td>\n",
       "      <td>1c</td>\n",
       "      <td>400</td>\n",
       "    </tr>\n",
       "    <tr>\n",
       "      <th>21a</th>\n",
       "      <td>21a</td>\n",
       "      <td>21p</td>\n",
       "      <td>2c</td>\n",
       "      <td>2000</td>\n",
       "    </tr>\n",
       "    <tr>\n",
       "      <th>31a</th>\n",
       "      <td>31a</td>\n",
       "      <td>31p</td>\n",
       "      <td>3c</td>\n",
       "      <td>10000</td>\n",
       "    </tr>\n",
       "    <tr>\n",
       "      <th>32a</th>\n",
       "      <td>32a</td>\n",
       "      <td>32p</td>\n",
       "      <td>3c</td>\n",
       "      <td>20000</td>\n",
       "    </tr>\n",
       "    <tr>\n",
       "      <th>33a</th>\n",
       "      <td>33a</td>\n",
       "      <td>33p</td>\n",
       "      <td>3c</td>\n",
       "      <td>20000</td>\n",
       "    </tr>\n",
       "    <tr>\n",
       "      <th>41a</th>\n",
       "      <td>41a</td>\n",
       "      <td>41p</td>\n",
       "      <td>4c</td>\n",
       "      <td>100000</td>\n",
       "    </tr>\n",
       "    <tr>\n",
       "      <th>42a</th>\n",
       "      <td>42a</td>\n",
       "      <td>42p</td>\n",
       "      <td>4c</td>\n",
       "      <td>50000</td>\n",
       "    </tr>\n",
       "    <tr>\n",
       "      <th>43a</th>\n",
       "      <td>43a</td>\n",
       "      <td>43p</td>\n",
       "      <td>4c</td>\n",
       "      <td>20000</td>\n",
       "    </tr>\n",
       "    <tr>\n",
       "      <th>44a</th>\n",
       "      <td>44a</td>\n",
       "      <td>44p</td>\n",
       "      <td>4c</td>\n",
       "      <td>30000</td>\n",
       "    </tr>\n",
       "  </tbody>\n",
       "</table>\n",
       "</div>"
      ],
      "text/plain": [
       "     a_id password c_id  amount\n",
       "a_id                           \n",
       "11a   11a      11p   1c     100\n",
       "12a   12a      12p   1c     400\n",
       "21a   21a      21p   2c    2000\n",
       "31a   31a      31p   3c   10000\n",
       "32a   32a      32p   3c   20000\n",
       "33a   33a      33p   3c   20000\n",
       "41a   41a      41p   4c  100000\n",
       "42a   42a      42p   4c   50000\n",
       "43a   43a      43p   4c   20000\n",
       "44a   44a      44p   4c   30000"
      ]
     },
     "execution_count": 63,
     "metadata": {},
     "output_type": "execute_result"
    }
   ],
   "source": [
    "print(a_self)\n",
    "print('='*50)\n",
    "a_df"
   ]
  },
  {
   "cell_type": "code",
   "execution_count": 89,
   "id": "04e277f2",
   "metadata": {},
   "outputs": [
    {
     "data": {
      "text/html": [
       "<div>\n",
       "<style scoped>\n",
       "    .dataframe tbody tr th:only-of-type {\n",
       "        vertical-align: middle;\n",
       "    }\n",
       "\n",
       "    .dataframe tbody tr th {\n",
       "        vertical-align: top;\n",
       "    }\n",
       "\n",
       "    .dataframe thead th {\n",
       "        text-align: right;\n",
       "    }\n",
       "</style>\n",
       "<table border=\"1\" class=\"dataframe\">\n",
       "  <thead>\n",
       "    <tr style=\"text-align: right;\">\n",
       "      <th></th>\n",
       "      <th>a_id</th>\n",
       "      <th>password</th>\n",
       "      <th>c_id</th>\n",
       "      <th>amount</th>\n",
       "    </tr>\n",
       "    <tr>\n",
       "      <th>a_id</th>\n",
       "      <th></th>\n",
       "      <th></th>\n",
       "      <th></th>\n",
       "      <th></th>\n",
       "    </tr>\n",
       "  </thead>\n",
       "  <tbody>\n",
       "    <tr>\n",
       "      <th>11a</th>\n",
       "      <td>11a</td>\n",
       "      <td>11p</td>\n",
       "      <td>1c</td>\n",
       "      <td>100.0</td>\n",
       "    </tr>\n",
       "    <tr>\n",
       "      <th>12a</th>\n",
       "      <td>12a</td>\n",
       "      <td>12p</td>\n",
       "      <td>1c</td>\n",
       "      <td>400.0</td>\n",
       "    </tr>\n",
       "    <tr>\n",
       "      <th>21a</th>\n",
       "      <td>21a</td>\n",
       "      <td>21p</td>\n",
       "      <td>2c</td>\n",
       "      <td>2000.0</td>\n",
       "    </tr>\n",
       "    <tr>\n",
       "      <th>31a</th>\n",
       "      <td>31a</td>\n",
       "      <td>31p</td>\n",
       "      <td>3c</td>\n",
       "      <td>10000.0</td>\n",
       "    </tr>\n",
       "    <tr>\n",
       "      <th>32a</th>\n",
       "      <td>32a</td>\n",
       "      <td>32p</td>\n",
       "      <td>3c</td>\n",
       "      <td>20000.0</td>\n",
       "    </tr>\n",
       "    <tr>\n",
       "      <th>33a</th>\n",
       "      <td>33a</td>\n",
       "      <td>33p</td>\n",
       "      <td>3c</td>\n",
       "      <td>20000.0</td>\n",
       "    </tr>\n",
       "    <tr>\n",
       "      <th>41a</th>\n",
       "      <td>41a</td>\n",
       "      <td>41p</td>\n",
       "      <td>4c</td>\n",
       "      <td>100000.0</td>\n",
       "    </tr>\n",
       "    <tr>\n",
       "      <th>42a</th>\n",
       "      <td>42a</td>\n",
       "      <td>42p</td>\n",
       "      <td>4c</td>\n",
       "      <td>50000.0</td>\n",
       "    </tr>\n",
       "    <tr>\n",
       "      <th>43a</th>\n",
       "      <td>43a</td>\n",
       "      <td>43p</td>\n",
       "      <td>4c</td>\n",
       "      <td>20000.0</td>\n",
       "    </tr>\n",
       "    <tr>\n",
       "      <th>44a</th>\n",
       "      <td>44a</td>\n",
       "      <td>44p</td>\n",
       "      <td>4c</td>\n",
       "      <td>30000.0</td>\n",
       "    </tr>\n",
       "    <tr>\n",
       "      <th>aa</th>\n",
       "      <td>aa</td>\n",
       "      <td>NaN</td>\n",
       "      <td>1c</td>\n",
       "      <td>8888.0</td>\n",
       "    </tr>\n",
       "  </tbody>\n",
       "</table>\n",
       "</div>"
      ],
      "text/plain": [
       "     a_id password c_id    amount\n",
       "a_id                             \n",
       "11a   11a      11p   1c     100.0\n",
       "12a   12a      12p   1c     400.0\n",
       "21a   21a      21p   2c    2000.0\n",
       "31a   31a      31p   3c   10000.0\n",
       "32a   32a      32p   3c   20000.0\n",
       "33a   33a      33p   3c   20000.0\n",
       "41a   41a      41p   4c  100000.0\n",
       "42a   42a      42p   4c   50000.0\n",
       "43a   43a      43p   4c   20000.0\n",
       "44a   44a      44p   4c   30000.0\n",
       "aa     aa      NaN   1c    8888.0"
      ]
     },
     "execution_count": 89,
     "metadata": {},
     "output_type": "execute_result"
    }
   ],
   "source": [
    "# 클래스내의 수정된  데이터를 고객데이터프레임에 업데이트\n",
    "# a_df.loc[a_id] = a_self.loc[a_id] # a_id 값을 모르므로 불가\n",
    "# a_df = a_self # 덮어씌우기\n",
    "for a_id in a_self.index: #  인덱스 하나씩 삽입\n",
    "    a_df.loc[a_id] = a_self.loc[a_id]\n",
    "a_df"
   ]
  },
  {
   "cell_type": "markdown",
   "id": "575b2b8b",
   "metadata": {},
   "source": [
    "# 뱅킹 모듈 프로세스"
   ]
  },
  {
   "cell_type": "markdown",
   "id": "ae871d59",
   "metadata": {},
   "source": [
    "## create_customer함수 수정"
   ]
  },
  {
   "cell_type": "code",
   "execution_count": 90,
   "id": "30a9e112",
   "metadata": {},
   "outputs": [],
   "source": [
    "c_name = 'ㅂㅈㄷ'\n",
    "c_id = '99c'"
   ]
  },
  {
   "cell_type": "code",
   "execution_count": 91,
   "id": "ad947d87",
   "metadata": {},
   "outputs": [],
   "source": [
    "# 고객 데이터프레임에 입력받은 고객아이디를 인덱스로 고객데이터 추가\n",
    "# 고객데이터는 고객데이터프레임의 컬럼에 맞게 구성(딕셔너리추천) \n",
    "customer = {'c_id': c_id,\n",
    "         'name': c_name,\n",
    "         'account_num': 0,\n",
    "         'total_amount': 0,\n",
    "         'rat': 'normal'}\n",
    "c_df.loc[c_id] = customer"
   ]
  },
  {
   "cell_type": "markdown",
   "id": "4f295fd9",
   "metadata": {},
   "source": [
    "## show_list 함수 수정"
   ]
  },
  {
   "cell_type": "code",
   "execution_count": 92,
   "id": "1a69aaf0",
   "metadata": {},
   "outputs": [
    {
     "name": "stdout",
     "output_type": "stream",
     "text": [
      "고객이름 : 최원칠, 고객번호 : 1c\n",
      "고객이름 : 이서혁, 고객번호 : 2c\n",
      "고객이름 : aiot, 고객번호 : 3c\n",
      "고객이름 : 새싹, 고객번호 : 4c\n",
      "고객이름 : ㅂㅈㄷ, 고객번호 : 99c\n"
     ]
    }
   ],
   "source": [
    "# 모든 고객의 고객 이름과 고객 아이디를 다음과 같이 출력\n",
    "# '고객이름:{} 고객번호:{}' {}안은 실제 데이터가 입력\n",
    "for c in c_df.iloc:\n",
    "    print(f'고객이름 : {c[\"name\"]}, 고객번호 : {c[\"c_id\"]}')"
   ]
  },
  {
   "cell_type": "markdown",
   "id": "f3a5e8dc",
   "metadata": {},
   "source": [
    "## search_customer 함수 수정"
   ]
  },
  {
   "cell_type": "code",
   "execution_count": 95,
   "id": "fcc9f87b",
   "metadata": {},
   "outputs": [],
   "source": [
    "# 파라미터\n",
    "c_id = '1c'"
   ]
  },
  {
   "cell_type": "code",
   "execution_count": 96,
   "id": "560d94e3",
   "metadata": {},
   "outputs": [
    {
     "data": {
      "text/html": [
       "<div>\n",
       "<style scoped>\n",
       "    .dataframe tbody tr th:only-of-type {\n",
       "        vertical-align: middle;\n",
       "    }\n",
       "\n",
       "    .dataframe tbody tr th {\n",
       "        vertical-align: top;\n",
       "    }\n",
       "\n",
       "    .dataframe thead th {\n",
       "        text-align: right;\n",
       "    }\n",
       "</style>\n",
       "<table border=\"1\" class=\"dataframe\">\n",
       "  <thead>\n",
       "    <tr style=\"text-align: right;\">\n",
       "      <th></th>\n",
       "      <th>a_id</th>\n",
       "      <th>password</th>\n",
       "      <th>c_id</th>\n",
       "      <th>amount</th>\n",
       "    </tr>\n",
       "    <tr>\n",
       "      <th>a_id</th>\n",
       "      <th></th>\n",
       "      <th></th>\n",
       "      <th></th>\n",
       "      <th></th>\n",
       "    </tr>\n",
       "  </thead>\n",
       "  <tbody>\n",
       "    <tr>\n",
       "      <th>11a</th>\n",
       "      <td>11a</td>\n",
       "      <td>11p</td>\n",
       "      <td>1c</td>\n",
       "      <td>100.0</td>\n",
       "    </tr>\n",
       "    <tr>\n",
       "      <th>12a</th>\n",
       "      <td>12a</td>\n",
       "      <td>12p</td>\n",
       "      <td>1c</td>\n",
       "      <td>400.0</td>\n",
       "    </tr>\n",
       "    <tr>\n",
       "      <th>aa</th>\n",
       "      <td>aa</td>\n",
       "      <td>NaN</td>\n",
       "      <td>1c</td>\n",
       "      <td>8888.0</td>\n",
       "    </tr>\n",
       "  </tbody>\n",
       "</table>\n",
       "</div>"
      ],
      "text/plain": [
       "     a_id password c_id  amount\n",
       "a_id                           \n",
       "11a   11a      11p   1c   100.0\n",
       "12a   12a      12p   1c   400.0\n",
       "aa     aa      NaN   1c  8888.0"
      ]
     },
     "execution_count": 96,
     "metadata": {},
     "output_type": "execute_result"
    }
   ],
   "source": [
    "a_df[a_df['c_id']==c_id]"
   ]
  },
  {
   "cell_type": "code",
   "execution_count": 97,
   "id": "e861cb3e",
   "metadata": {},
   "outputs": [],
   "source": [
    "# 고객이 있다면 고객데이터프레임에서 해당 고객아이디에 해당하는 시리즈 customer 변수에 할당\n",
    "def search_customer(c_id) :\n",
    "    if c_id in c_df.index :\n",
    "        customer = c_df.loc[c_id]\n",
    "        # 고객이 있다면 계좌데이터프레임 에서 해당 고객아이디에 해당하는 데이터프레임 account 변수에 할당\n",
    "        account = a_df[a_df['c_id']==c_id]\n",
    "        # 데이터프레임은 기본적으로 복사본을 반환(리턴)\n",
    "        # 해당 데이터로 고객 인스턴스 생성하여 반환\n",
    "    #     c = Customer(customer, account)\n",
    "    #     return c\n",
    "        return customer, account\n",
    "    # 고객이 없다면 None 반환   \n",
    "    return None"
   ]
  },
  {
   "cell_type": "code",
   "execution_count": 101,
   "id": "d78e919f",
   "metadata": {},
   "outputs": [
    {
     "data": {
      "text/plain": [
       "(c_id                  1c\n",
       " name                 최원칠\n",
       " account_num          3.0\n",
       " total_amount    555555.0\n",
       " rat                 svip\n",
       " Name: 1c, dtype: object,\n",
       "      a_id password c_id  amount\n",
       " a_id                           \n",
       " 11a   11a      11p   1c   100.0\n",
       " 12a   12a      12p   1c   400.0\n",
       " aa     aa      NaN   1c  8888.0)"
      ]
     },
     "execution_count": 101,
     "metadata": {},
     "output_type": "execute_result"
    }
   ],
   "source": [
    "search_customer(c_id)"
   ]
  },
  {
   "cell_type": "markdown",
   "id": "67108495",
   "metadata": {},
   "source": [
    "## create_acount 함수 수정"
   ]
  },
  {
   "cell_type": "code",
   "execution_count": 105,
   "id": "4371cbec",
   "metadata": {
    "collapsed": true
   },
   "outputs": [
    {
     "name": "stdout",
     "output_type": "stream",
     "text": [
      "고객 번호 입력: \n",
      "1c\n",
      "계좌번호 입력: \n",
      "123\n"
     ]
    },
    {
     "ename": "AttributeError",
     "evalue": "'Series' object has no attribute 'get_name'",
     "output_type": "error",
     "traceback": [
      "\u001b[1;31m---------------------------------------------------------------------------\u001b[0m",
      "\u001b[1;31mAttributeError\u001b[0m                            Traceback (most recent call last)",
      "Cell \u001b[1;32mIn [105], line 13\u001b[0m\n\u001b[0;32m      7\u001b[0m account_num \u001b[38;5;241m=\u001b[39m \u001b[38;5;28minput\u001b[39m(\u001b[38;5;124m'\u001b[39m\u001b[38;5;124m계좌번호 입력: \u001b[39m\u001b[38;5;130;01m\\n\u001b[39;00m\u001b[38;5;124m'\u001b[39m)\n\u001b[0;32m      8\u001b[0m \u001b[38;5;66;03m# 계좌, 고객 데이터프레임 업데이트(고객 클래스에 update활용)\u001b[39;00m\n\u001b[0;32m      9\u001b[0m \u001b[38;5;66;03m# update(c_df, a_df)\u001b[39;00m\n\u001b[0;32m     10\u001b[0m \n\u001b[0;32m     11\u001b[0m \u001b[38;5;66;03m# '{} 고객의 {} 계좌가 등록되었습니다' 출력\u001b[39;00m\n\u001b[0;32m     12\u001b[0m \u001b[38;5;28mprint\u001b[39m(\u001b[38;5;124m'\u001b[39m\u001b[38;5;132;01m{}\u001b[39;00m\u001b[38;5;124m 고객의 \u001b[39m\u001b[38;5;132;01m{}\u001b[39;00m\u001b[38;5;124m 계좌가 등록되었습니다\u001b[39m\u001b[38;5;124m'\u001b[39m\n\u001b[1;32m---> 13\u001b[0m       \u001b[38;5;241m.\u001b[39mformat(\u001b[43mc\u001b[49m\u001b[38;5;241;43m.\u001b[39;49m\u001b[43mget_name\u001b[49m(),\n\u001b[0;32m     14\u001b[0m               account_num,\n\u001b[0;32m     15\u001b[0m               ))\n",
      "File \u001b[1;32m~\\AppData\\Local\\Programs\\Python\\Python310\\lib\\site-packages\\pandas\\core\\generic.py:5902\u001b[0m, in \u001b[0;36mNDFrame.__getattr__\u001b[1;34m(self, name)\u001b[0m\n\u001b[0;32m   5895\u001b[0m \u001b[38;5;28;01mif\u001b[39;00m (\n\u001b[0;32m   5896\u001b[0m     name \u001b[38;5;129;01mnot\u001b[39;00m \u001b[38;5;129;01min\u001b[39;00m \u001b[38;5;28mself\u001b[39m\u001b[38;5;241m.\u001b[39m_internal_names_set\n\u001b[0;32m   5897\u001b[0m     \u001b[38;5;129;01mand\u001b[39;00m name \u001b[38;5;129;01mnot\u001b[39;00m \u001b[38;5;129;01min\u001b[39;00m \u001b[38;5;28mself\u001b[39m\u001b[38;5;241m.\u001b[39m_metadata\n\u001b[0;32m   5898\u001b[0m     \u001b[38;5;129;01mand\u001b[39;00m name \u001b[38;5;129;01mnot\u001b[39;00m \u001b[38;5;129;01min\u001b[39;00m \u001b[38;5;28mself\u001b[39m\u001b[38;5;241m.\u001b[39m_accessors\n\u001b[0;32m   5899\u001b[0m     \u001b[38;5;129;01mand\u001b[39;00m \u001b[38;5;28mself\u001b[39m\u001b[38;5;241m.\u001b[39m_info_axis\u001b[38;5;241m.\u001b[39m_can_hold_identifiers_and_holds_name(name)\n\u001b[0;32m   5900\u001b[0m ):\n\u001b[0;32m   5901\u001b[0m     \u001b[38;5;28;01mreturn\u001b[39;00m \u001b[38;5;28mself\u001b[39m[name]\n\u001b[1;32m-> 5902\u001b[0m \u001b[38;5;28;01mreturn\u001b[39;00m \u001b[38;5;28;43mobject\u001b[39;49m\u001b[38;5;241;43m.\u001b[39;49m\u001b[38;5;21;43m__getattribute__\u001b[39;49m\u001b[43m(\u001b[49m\u001b[38;5;28;43mself\u001b[39;49m\u001b[43m,\u001b[49m\u001b[43m \u001b[49m\u001b[43mname\u001b[49m\u001b[43m)\u001b[49m\n",
      "\u001b[1;31mAttributeError\u001b[0m: 'Series' object has no attribute 'get_name'"
     ]
    }
   ],
   "source": [
    "# search_customer 를 통해 고객을 찾고 새 계좌 생성\n",
    "c_id = input('고객 번호 입력: \\n')\n",
    "c, a = search_customer(c_id)\n",
    "# if c is None:\n",
    "#     return c\n",
    "\n",
    "account_num = input('계좌번호 입력: \\n')\n",
    "# 계좌, 고객 데이터프레임 업데이트(고객 클래스에 update활용)\n",
    "# c.update(c_df, a_df)\n",
    "\n",
    "# '{} 고객의 {} 계좌가 등록되었습니다' 출력\n",
    "# print('{} 고객의 {} 계좌가 등록되었습니다'\n",
    "#       .format(c.get_name(),\n",
    "#               account_num,\n",
    "#               ))"
   ]
  },
  {
   "cell_type": "markdown",
   "id": "47ddf14d",
   "metadata": {},
   "source": [
    "## deposit 함수 생성"
   ]
  },
  {
   "cell_type": "code",
   "execution_count": 149,
   "id": "b438667c",
   "metadata": {},
   "outputs": [
    {
     "data": {
      "text/plain": [
       "100.0"
      ]
     },
     "execution_count": 149,
     "metadata": {},
     "output_type": "execute_result"
    }
   ],
   "source": [
    "a.loc['11a','amount']"
   ]
  },
  {
   "cell_type": "code",
   "execution_count": 151,
   "id": "18a2f569",
   "metadata": {},
   "outputs": [
    {
     "name": "stdout",
     "output_type": "stream",
     "text": [
      "고객 번호 입력: \n",
      "1c\n",
      "계좌번호 입력: \n",
      "11a\n",
      "입금할 금액 입력: \n",
      "9999\n",
      "c_id                  1c\n",
      "name                 최원칠\n",
      "account_num          3.0\n",
      "total_amount    555555.0\n",
      "rat                 svip\n",
      "Name: 1c, dtype: object\n"
     ]
    }
   ],
   "source": [
    "# search_customer 를 통해 고객을 찾음\n",
    "# 입력받은 계좌에 입력받은 금액 추가\n",
    "# 데이터프레임 업데이트(고객 클래스에 update활용)\n",
    "c_id = input('고객 번호 입력: \\n')\n",
    "c, a = search_customer(c_id)\n",
    "c\n",
    "account_num = input('계좌번호 입력: \\n')\n",
    "amount = input('입금할 금액 입력: \\n')\n",
    "print(c)\n",
    "a.loc[account_num,'amount'] += int(amount)"
   ]
  },
  {
   "cell_type": "code",
   "execution_count": 152,
   "id": "44ef9a70",
   "metadata": {},
   "outputs": [
    {
     "data": {
      "text/html": [
       "<div>\n",
       "<style scoped>\n",
       "    .dataframe tbody tr th:only-of-type {\n",
       "        vertical-align: middle;\n",
       "    }\n",
       "\n",
       "    .dataframe tbody tr th {\n",
       "        vertical-align: top;\n",
       "    }\n",
       "\n",
       "    .dataframe thead th {\n",
       "        text-align: right;\n",
       "    }\n",
       "</style>\n",
       "<table border=\"1\" class=\"dataframe\">\n",
       "  <thead>\n",
       "    <tr style=\"text-align: right;\">\n",
       "      <th></th>\n",
       "      <th>a_id</th>\n",
       "      <th>password</th>\n",
       "      <th>c_id</th>\n",
       "      <th>amount</th>\n",
       "    </tr>\n",
       "    <tr>\n",
       "      <th>a_id</th>\n",
       "      <th></th>\n",
       "      <th></th>\n",
       "      <th></th>\n",
       "      <th></th>\n",
       "    </tr>\n",
       "  </thead>\n",
       "  <tbody>\n",
       "    <tr>\n",
       "      <th>11a</th>\n",
       "      <td>11a</td>\n",
       "      <td>11p</td>\n",
       "      <td>1c</td>\n",
       "      <td>10099.0</td>\n",
       "    </tr>\n",
       "    <tr>\n",
       "      <th>12a</th>\n",
       "      <td>12a</td>\n",
       "      <td>12p</td>\n",
       "      <td>1c</td>\n",
       "      <td>400.0</td>\n",
       "    </tr>\n",
       "    <tr>\n",
       "      <th>aa</th>\n",
       "      <td>aa</td>\n",
       "      <td>NaN</td>\n",
       "      <td>1c</td>\n",
       "      <td>8888.0</td>\n",
       "    </tr>\n",
       "  </tbody>\n",
       "</table>\n",
       "</div>"
      ],
      "text/plain": [
       "     a_id password c_id   amount\n",
       "a_id                            \n",
       "11a   11a      11p   1c  10099.0\n",
       "12a   12a      12p   1c    400.0\n",
       "aa     aa      NaN   1c   8888.0"
      ]
     },
     "execution_count": 152,
     "metadata": {},
     "output_type": "execute_result"
    }
   ],
   "source": [
    "a"
   ]
  },
  {
   "cell_type": "markdown",
   "id": "68d09e0f",
   "metadata": {},
   "source": [
    "## withdraw 함수 수정"
   ]
  },
  {
   "cell_type": "code",
   "execution_count": null,
   "id": "19fdf029",
   "metadata": {},
   "outputs": [],
   "source": [
    "# 위와 상동"
   ]
  },
  {
   "cell_type": "markdown",
   "id": "c0a66441",
   "metadata": {},
   "source": [
    "## ca_merge 함수 생성"
   ]
  },
  {
   "cell_type": "code",
   "execution_count": 123,
   "id": "092c4673",
   "metadata": {},
   "outputs": [],
   "source": [
    "# 고객데이터프레임에 계좌데이터프레임을 결합(merge)하여 ca_merge.csv’ 파일로 저장\n",
    "# 결합시 고객아이디(’c_id’) 를 기준으로 결합\n",
    "merge_df = c_df.join(a_df.set_index('c_id'))\n",
    "merge_df.to_csv('ca_merge.csv', index=False)"
   ]
  },
  {
   "cell_type": "markdown",
   "id": "6ee06849",
   "metadata": {},
   "source": [
    "## group_rat_count 함수 생성"
   ]
  },
  {
   "cell_type": "code",
   "execution_count": 136,
   "id": "a1c09492",
   "metadata": {},
   "outputs": [
    {
     "data": {
      "text/html": [
       "<div>\n",
       "<style scoped>\n",
       "    .dataframe tbody tr th:only-of-type {\n",
       "        vertical-align: middle;\n",
       "    }\n",
       "\n",
       "    .dataframe tbody tr th {\n",
       "        vertical-align: top;\n",
       "    }\n",
       "\n",
       "    .dataframe thead th {\n",
       "        text-align: right;\n",
       "    }\n",
       "</style>\n",
       "<table border=\"1\" class=\"dataframe\">\n",
       "  <thead>\n",
       "    <tr style=\"text-align: right;\">\n",
       "      <th></th>\n",
       "      <th>count</th>\n",
       "    </tr>\n",
       "    <tr>\n",
       "      <th>rat</th>\n",
       "      <th></th>\n",
       "    </tr>\n",
       "  </thead>\n",
       "  <tbody>\n",
       "    <tr>\n",
       "      <th>gold</th>\n",
       "      <td>1</td>\n",
       "    </tr>\n",
       "    <tr>\n",
       "      <th>normal</th>\n",
       "      <td>1</td>\n",
       "    </tr>\n",
       "    <tr>\n",
       "      <th>svip</th>\n",
       "      <td>3</td>\n",
       "    </tr>\n",
       "    <tr>\n",
       "      <th>vip</th>\n",
       "      <td>3</td>\n",
       "    </tr>\n",
       "    <tr>\n",
       "      <th>vvip</th>\n",
       "      <td>4</td>\n",
       "    </tr>\n",
       "  </tbody>\n",
       "</table>\n",
       "</div>"
      ],
      "text/plain": [
       "        count\n",
       "rat          \n",
       "gold        1\n",
       "normal      1\n",
       "svip        3\n",
       "vip         3\n",
       "vvip        4"
      ]
     },
     "execution_count": 136,
     "metadata": {},
     "output_type": "execute_result"
    }
   ],
   "source": [
    "# 고객등급별 고객 명수 출력\n",
    "# groupby함수 사용할것\n",
    "# 다음과 같은 데이터프레임으로 출력\n",
    "#    - 인덱스: 고객등급\n",
    "#    - 컬럼: 고객명수(’count’)\n",
    "result = merge_df[['c_id', 'rat']].groupby('rat').count()\n",
    "result.rename(columns={'c_id':'count'}, inplace=True)\n",
    "result"
   ]
  }
 ],
 "metadata": {
  "kernelspec": {
   "display_name": "Python 3 (ipykernel)",
   "language": "python",
   "name": "python3"
  },
  "language_info": {
   "codemirror_mode": {
    "name": "ipython",
    "version": 3
   },
   "file_extension": ".py",
   "mimetype": "text/x-python",
   "name": "python",
   "nbconvert_exporter": "python",
   "pygments_lexer": "ipython3",
   "version": "3.10.8"
  },
  "toc": {
   "base_numbering": 1,
   "nav_menu": {},
   "number_sections": true,
   "sideBar": true,
   "skip_h1_title": false,
   "title_cell": "Table of Contents",
   "title_sidebar": "Contents",
   "toc_cell": false,
   "toc_position": {
    "height": "calc(100% - 180px)",
    "left": "10px",
    "top": "150px",
    "width": "307.2px"
   },
   "toc_section_display": true,
   "toc_window_display": false
  }
 },
 "nbformat": 4,
 "nbformat_minor": 5
}
