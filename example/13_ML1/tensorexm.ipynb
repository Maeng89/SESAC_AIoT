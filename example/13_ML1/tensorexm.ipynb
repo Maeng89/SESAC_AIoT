{
 "cells": [
  {
   "cell_type": "markdown",
   "id": "6ee5e268",
   "metadata": {},
   "source": [
    "# 튜토리얼\n",
    "## gpu 동작 체크"
   ]
  },
  {
   "cell_type": "code",
   "execution_count": 2,
   "id": "8d2df5af",
   "metadata": {},
   "outputs": [],
   "source": [
    "import tensorflow as tf\n",
    "from tensorflow.keras import datasets, layers, models"
   ]
  },
  {
   "cell_type": "code",
   "execution_count": 3,
   "id": "fd9d5a0d",
   "metadata": {},
   "outputs": [
    {
     "name": "stdout",
     "output_type": "stream",
     "text": [
      "Downloading data from https://storage.googleapis.com/tensorflow/tf-keras-datasets/mnist.npz\n",
      "11490434/11490434 [==============================] - 4s 0us/step\n"
     ]
    }
   ],
   "source": [
    "(train_images, train_labels), (test_images, test_labels) = datasets.mnist.load_data()\n",
    "\n",
    "train_images = train_images.reshape((60000, 28, 28, 1))\n",
    "test_images = test_images.reshape((10000, 28, 28, 1))\n",
    "\n",
    "# 픽셀 값을 0~1 사이로 정규화합니다.\n",
    "train_images, test_images = train_images / 255.0, test_images / 255.0"
   ]
  },
  {
   "cell_type": "code",
   "execution_count": 4,
   "id": "e4c17a0e",
   "metadata": {},
   "outputs": [],
   "source": [
    "model = models.Sequential()\n",
    "model.add(layers.Conv2D(32, (3, 3), activation='relu', input_shape=(28, 28, 1)))\n",
    "model.add(layers.MaxPooling2D((2, 2)))\n",
    "model.add(layers.Conv2D(64, (3, 3), activation='relu'))\n",
    "model.add(layers.MaxPooling2D((2, 2)))\n",
    "model.add(layers.Conv2D(64, (3, 3), activation='relu'))"
   ]
  },
  {
   "cell_type": "code",
   "execution_count": 5,
   "id": "b482a184",
   "metadata": {},
   "outputs": [
    {
     "name": "stdout",
     "output_type": "stream",
     "text": [
      "Model: \"sequential\"\n",
      "_________________________________________________________________\n",
      " Layer (type)                Output Shape              Param #   \n",
      "=================================================================\n",
      " conv2d (Conv2D)             (None, 26, 26, 32)        320       \n",
      "                                                                 \n",
      " max_pooling2d (MaxPooling2D  (None, 13, 13, 32)       0         \n",
      " )                                                               \n",
      "                                                                 \n",
      " conv2d_1 (Conv2D)           (None, 11, 11, 64)        18496     \n",
      "                                                                 \n",
      " max_pooling2d_1 (MaxPooling  (None, 5, 5, 64)         0         \n",
      " 2D)                                                             \n",
      "                                                                 \n",
      " conv2d_2 (Conv2D)           (None, 3, 3, 64)          36928     \n",
      "                                                                 \n",
      "=================================================================\n",
      "Total params: 55,744\n",
      "Trainable params: 55,744\n",
      "Non-trainable params: 0\n",
      "_________________________________________________________________\n"
     ]
    }
   ],
   "source": [
    "model.summary()"
   ]
  },
  {
   "cell_type": "code",
   "execution_count": 6,
   "id": "6cc652b2",
   "metadata": {},
   "outputs": [],
   "source": [
    "model.add(layers.Flatten())\n",
    "model.add(layers.Dense(64, activation='relu'))\n",
    "model.add(layers.Dense(10, activation='softmax'))"
   ]
  },
  {
   "cell_type": "code",
   "execution_count": 7,
   "id": "e77c5e2c",
   "metadata": {},
   "outputs": [
    {
     "name": "stdout",
     "output_type": "stream",
     "text": [
      "Model: \"sequential\"\n",
      "_________________________________________________________________\n",
      " Layer (type)                Output Shape              Param #   \n",
      "=================================================================\n",
      " conv2d (Conv2D)             (None, 26, 26, 32)        320       \n",
      "                                                                 \n",
      " max_pooling2d (MaxPooling2D  (None, 13, 13, 32)       0         \n",
      " )                                                               \n",
      "                                                                 \n",
      " conv2d_1 (Conv2D)           (None, 11, 11, 64)        18496     \n",
      "                                                                 \n",
      " max_pooling2d_1 (MaxPooling  (None, 5, 5, 64)         0         \n",
      " 2D)                                                             \n",
      "                                                                 \n",
      " conv2d_2 (Conv2D)           (None, 3, 3, 64)          36928     \n",
      "                                                                 \n",
      " flatten (Flatten)           (None, 576)               0         \n",
      "                                                                 \n",
      " dense (Dense)               (None, 64)                36928     \n",
      "                                                                 \n",
      " dense_1 (Dense)             (None, 10)                650       \n",
      "                                                                 \n",
      "=================================================================\n",
      "Total params: 93,322\n",
      "Trainable params: 93,322\n",
      "Non-trainable params: 0\n",
      "_________________________________________________________________\n"
     ]
    }
   ],
   "source": [
    "model.summary()"
   ]
  },
  {
   "cell_type": "code",
   "execution_count": 11,
   "id": "ecb0d17e",
   "metadata": {},
   "outputs": [
    {
     "name": "stdout",
     "output_type": "stream",
     "text": [
      "Epoch 1/5\n",
      "1875/1875 [==============================] - 4s 2ms/step - loss: 0.0152 - accuracy: 0.9952\n",
      "Epoch 2/5\n",
      "1875/1875 [==============================] - 3s 2ms/step - loss: 0.0122 - accuracy: 0.9958\n",
      "Epoch 3/5\n",
      "1875/1875 [==============================] - 3s 2ms/step - loss: 0.0113 - accuracy: 0.9963\n",
      "Epoch 4/5\n",
      "1875/1875 [==============================] - 3s 2ms/step - loss: 0.0090 - accuracy: 0.9971\n",
      "Epoch 5/5\n",
      "1875/1875 [==============================] - 3s 2ms/step - loss: 0.0078 - accuracy: 0.9975\n"
     ]
    },
    {
     "data": {
      "text/plain": [
       "<keras.callbacks.History at 0x22d220d11e0>"
      ]
     },
     "execution_count": 11,
     "metadata": {},
     "output_type": "execute_result"
    }
   ],
   "source": [
    "model.compile(optimizer='adam',\n",
    "              loss='sparse_categorical_crossentropy',\n",
    "              metrics=['accuracy'])\n",
    "\n",
    "\n",
    "model.fit(train_images, train_labels, epochs=5)"
   ]
  },
  {
   "cell_type": "code",
   "execution_count": 9,
   "id": "f9c33803",
   "metadata": {},
   "outputs": [
    {
     "name": "stdout",
     "output_type": "stream",
     "text": [
      "313/313 - 0s - loss: 0.0337 - accuracy: 0.9897 - 466ms/epoch - 1ms/step\n"
     ]
    }
   ],
   "source": [
    "test_loss, test_acc = model.evaluate(test_images,  test_labels, verbose=2)"
   ]
  },
  {
   "cell_type": "code",
   "execution_count": 10,
   "id": "ec34ba36",
   "metadata": {},
   "outputs": [
    {
     "name": "stdout",
     "output_type": "stream",
     "text": [
      "0.9897000193595886\n"
     ]
    }
   ],
   "source": [
    "print(test_acc)"
   ]
  },
  {
   "cell_type": "markdown",
   "id": "1114aa49",
   "metadata": {},
   "source": [
    "# tensor"
   ]
  },
  {
   "cell_type": "code",
   "execution_count": 12,
   "id": "cb3b0970",
   "metadata": {},
   "outputs": [],
   "source": [
    "import tensorflow as tf\n",
    "from tensorflow import keras\n",
    "from tensorflow.keras import layers"
   ]
  },
  {
   "cell_type": "code",
   "execution_count": 13,
   "id": "e77bbf85",
   "metadata": {},
   "outputs": [
    {
     "data": {
      "text/plain": [
       "<tf.Tensor: shape=(3,), dtype=int32, numpy=array([2, 3, 4])>"
      ]
     },
     "execution_count": 13,
     "metadata": {},
     "output_type": "execute_result"
    }
   ],
   "source": [
    "# 텐서 생성\n",
    "\n",
    "tensor = tf.constant([2, 3, 4])\n",
    "tensor"
   ]
  },
  {
   "cell_type": "code",
   "execution_count": 15,
   "id": "ba2285e5",
   "metadata": {},
   "outputs": [
    {
     "data": {
      "text/plain": [
       "array([2, 3, 4])"
      ]
     },
     "execution_count": 15,
     "metadata": {},
     "output_type": "execute_result"
    }
   ],
   "source": [
    "# 배열 변환\n",
    "import numpy as np\n",
    "\n",
    "np.array(tensor)"
   ]
  },
  {
   "cell_type": "code",
   "execution_count": 16,
   "id": "56ef64d4",
   "metadata": {},
   "outputs": [
    {
     "data": {
      "text/plain": [
       "<tf.Tensor: shape=(10, 5), dtype=float32, numpy=\n",
       "array([[0.43502498, 0.1251514 , 0.6267148 , 0.10038018, 0.05056894],\n",
       "       [0.9316791 , 0.02473855, 0.6179588 , 0.30601776, 0.24428213],\n",
       "       [0.36967957, 0.18102264, 0.26774192, 0.9197304 , 0.1385094 ],\n",
       "       [0.8170675 , 0.8229486 , 0.9865459 , 0.40998328, 0.56939614],\n",
       "       [0.97122574, 0.7162316 , 0.963446  , 0.14590347, 0.09903049],\n",
       "       [0.49283552, 0.5931488 , 0.9818475 , 0.4107616 , 0.00400972],\n",
       "       [0.59481704, 0.9991362 , 0.56084263, 0.41057003, 0.9470899 ],\n",
       "       [0.8896364 , 0.4957626 , 0.95691836, 0.7559941 , 0.8756497 ],\n",
       "       [0.4328612 , 0.15511549, 0.4319589 , 0.5991019 , 0.2025404 ],\n",
       "       [0.31873703, 0.68574333, 0.8196186 , 0.02972102, 0.18222833]],\n",
       "      dtype=float32)>"
      ]
     },
     "execution_count": 16,
     "metadata": {},
     "output_type": "execute_result"
    }
   ],
   "source": [
    "# 랜덤 텐서 생성\n",
    "rtensor = tf.random.uniform(shape=(10,5))\n",
    "rtensor"
   ]
  },
  {
   "cell_type": "markdown",
   "id": "0980c67b",
   "metadata": {},
   "source": [
    "# Dens Layer"
   ]
  },
  {
   "cell_type": "code",
   "execution_count": 18,
   "id": "4af61f94",
   "metadata": {},
   "outputs": [
    {
     "name": "stdout",
     "output_type": "stream",
     "text": [
      "(10, 16)\n",
      "[array([[ 0.3298766 ,  0.10799211,  0.16912317,  0.18900102,  0.17177981,\n",
      "        -0.3058213 , -0.22250262, -0.52544045, -0.3829404 , -0.14740407,\n",
      "         0.2980407 , -0.36852157, -0.06753013, -0.17327276,  0.01633167,\n",
      "         0.01040268],\n",
      "       [ 0.18374187,  0.35272866,  0.4000277 , -0.34876174,  0.534141  ,\n",
      "         0.01438749, -0.34469256, -0.4172288 , -0.5018538 , -0.44319686,\n",
      "        -0.03477597, -0.15939504, -0.5157253 ,  0.14140254,  0.11851662,\n",
      "        -0.32980132],\n",
      "       [-0.29320496,  0.3634863 ,  0.4659962 ,  0.16487473, -0.43329477,\n",
      "         0.49750322,  0.04120111,  0.4167046 ,  0.23231447, -0.14344963,\n",
      "         0.3118431 ,  0.30764562,  0.42671084,  0.23241186, -0.00931233,\n",
      "        -0.37542766],\n",
      "       [ 0.49887568, -0.11831385, -0.17298171,  0.25841725,  0.01987171,\n",
      "         0.15908498,  0.22309703, -0.1910494 ,  0.38315678,  0.0165714 ,\n",
      "         0.234613  , -0.28522608,  0.04332858, -0.0770207 , -0.04250878,\n",
      "        -0.11308536],\n",
      "       [ 0.48337942,  0.48349053, -0.00915593,  0.26017886,  0.20158893,\n",
      "        -0.52970946, -0.50082046,  0.26075846, -0.25347248, -0.31483692,\n",
      "        -0.50279754,  0.51079637,  0.4418488 ,  0.104298  , -0.3094044 ,\n",
      "        -0.18394995]], dtype=float32), array([0., 0., 0., 0., 0., 0., 0., 0., 0., 0., 0., 0., 0., 0., 0., 0.],\n",
      "      dtype=float32)]\n",
      "(5, 16)\n"
     ]
    }
   ],
   "source": [
    "# 선형 레이어\n",
    "dense = layers.Dense(16)\n",
    "\n",
    "x = dense(rtensor)\n",
    "# 결과값\n",
    "print(x.shape)\n",
    "\n",
    "# 가중치\n",
    "wb = dense.get_weights()\n",
    "print(wb)\n",
    "print(wb[0].shape)"
   ]
  },
  {
   "cell_type": "markdown",
   "id": "572a3a3a",
   "metadata": {},
   "source": [
    "## 실습 문제\n",
    "```\n",
    "## (32, 10) 의 모양을 가지는 랜덤한 텐서를 생성\n",
    "## 선형레이어 통과시 결과 모양이 (32, 5) 가 되게 Dense레이어 구성하여 결과값 모양 출력\n",
    "```"
   ]
  },
  {
   "cell_type": "code",
   "execution_count": 20,
   "id": "89eee1f5",
   "metadata": {},
   "outputs": [
    {
     "data": {
      "text/plain": [
       "TensorShape([32, 10])"
      ]
     },
     "execution_count": 20,
     "metadata": {},
     "output_type": "execute_result"
    }
   ],
   "source": [
    "# 랜덤 텐서 생성\n",
    "rtensor = tf.random.uniform(shape=(32,10))\n",
    "rtensor.shape"
   ]
  },
  {
   "cell_type": "code",
   "execution_count": 21,
   "id": "5463162f",
   "metadata": {},
   "outputs": [
    {
     "name": "stdout",
     "output_type": "stream",
     "text": [
      "(32, 5)\n"
     ]
    }
   ],
   "source": [
    "# 선형 레이어\n",
    "dense = layers.Dense(5)\n",
    "\n",
    "x = dense(rtensor)\n",
    "# 결과값\n",
    "print(x.shape)"
   ]
  },
  {
   "cell_type": "markdown",
   "id": "cc34f25d",
   "metadata": {},
   "source": [
    "# DNN"
   ]
  },
  {
   "cell_type": "code",
   "execution_count": 22,
   "id": "b8756baa",
   "metadata": {},
   "outputs": [
    {
     "name": "stdout",
     "output_type": "stream",
     "text": [
      "(10, 16)\n",
      "(10, 32)\n",
      "(10, 16)\n"
     ]
    },
    {
     "data": {
      "text/plain": [
       "<tf.Tensor: shape=(10, 1), dtype=float32, numpy=\n",
       "array([[-0.24337545],\n",
       "       [-0.12422206],\n",
       "       [-1.0402021 ],\n",
       "       [-0.4100626 ],\n",
       "       [-1.1311109 ],\n",
       "       [-1.0277725 ],\n",
       "       [-0.33844194],\n",
       "       [-0.28106406],\n",
       "       [-0.30696493],\n",
       "       [-0.38333434]], dtype=float32)>"
      ]
     },
     "execution_count": 22,
     "metadata": {},
     "output_type": "execute_result"
    }
   ],
   "source": [
    "# DNN\n",
    "\n",
    "d_layer1 = layers.Dense(16)\n",
    "d_layer2 = layers.Dense(32)\n",
    "d_layer3 = layers.Dense(16)\n",
    "d_layer4 = layers.Dense(1)\n",
    "\n",
    "inp = tf.random.uniform(shape=(10,5))\n",
    "x = d_layer1(inp)\n",
    "print(x.shape)\n",
    "x = d_layer2(x)\n",
    "print(x.shape)\n",
    "x = d_layer3(x)\n",
    "print(x.shape)\n",
    "out = d_layer4(x)\n",
    "\n",
    "out"
   ]
  },
  {
   "cell_type": "code",
   "execution_count": 30,
   "id": "5682ebd1",
   "metadata": {},
   "outputs": [
    {
     "name": "stdout",
     "output_type": "stream",
     "text": [
      "Model: \"model_1\"\n",
      "_________________________________________________________________\n",
      " Layer (type)                Output Shape              Param #   \n",
      "=================================================================\n",
      " input_2 (InputLayer)        [(None, 5)]               0         \n",
      "                                                                 \n",
      " dense_21 (Dense)            (None, 16)                96        \n",
      "                                                                 \n",
      " dense_22 (Dense)            (None, 32)                544       \n",
      "                                                                 \n",
      " dense_23 (Dense)            (None, 16)                528       \n",
      "                                                                 \n",
      " dense_24 (Dense)            (None, 1)                 17        \n",
      "                                                                 \n",
      "=================================================================\n",
      "Total params: 1,185\n",
      "Trainable params: 1,185\n",
      "Non-trainable params: 0\n",
      "_________________________________________________________________\n"
     ]
    }
   ],
   "source": [
    "# 모델링\n",
    "\n",
    "d_layer1 = layers.Dense(16)\n",
    "d_layer2 = layers.Dense(32)\n",
    "d_layer3 = layers.Dense(16)\n",
    "d_layer4 = layers.Dense(1)\n",
    "\n",
    "inp = keras.Input((5,)) # (batch size, data size)\n",
    "x = d_layer1(inp)\n",
    "x = d_layer2(x)\n",
    "x = d_layer3(x)\n",
    "out = d_layer4(x)\n",
    "\n",
    "model = keras.Model(inp, out)\n",
    "model.summary()"
   ]
  },
  {
   "cell_type": "markdown",
   "id": "5429ebe1",
   "metadata": {},
   "source": [
    "# Activation Function"
   ]
  },
  {
   "cell_type": "code",
   "execution_count": 23,
   "id": "d044b1ad",
   "metadata": {},
   "outputs": [
    {
     "data": {
      "text/plain": [
       "<tf.Tensor: shape=(10, 5), dtype=float32, numpy=\n",
       "array([[0.41544506, 0.        , 0.11183709, 0.        , 0.        ],\n",
       "       [0.65014565, 0.        , 0.20044506, 0.        , 0.        ],\n",
       "       [0.53855306, 0.        , 0.11883861, 0.2034648 , 0.        ],\n",
       "       [0.56647927, 0.        , 0.14487904, 0.49177843, 0.        ],\n",
       "       [0.9943846 , 0.12685692, 0.10044399, 0.09211752, 0.        ],\n",
       "       [1.0037186 , 0.        , 0.58965486, 0.34901118, 0.        ],\n",
       "       [0.4143224 , 0.        , 0.35938713, 0.38844022, 0.        ],\n",
       "       [0.35652527, 0.        , 0.21733496, 0.00879884, 0.        ],\n",
       "       [1.0898137 , 0.        , 0.44541457, 0.        , 0.        ],\n",
       "       [0.5697756 , 0.        , 0.3466894 , 0.80007535, 0.07455312]],\n",
       "      dtype=float32)>"
      ]
     },
     "execution_count": 23,
     "metadata": {},
     "output_type": "execute_result"
    }
   ],
   "source": [
    "# 활성화 함수 레이어\n",
    "# relu 활성화 : 음수를 0으로\n",
    "dense = layers.Dense(5)\n",
    "relu = layers.ReLU()\n",
    "\n",
    "inp = tf.random.uniform(shape=(10,10))\n",
    "x = dense(inp)\n",
    "x = relu(x)\n",
    "x"
   ]
  },
  {
   "cell_type": "code",
   "execution_count": 24,
   "id": "55b9d9c1",
   "metadata": {},
   "outputs": [
    {
     "data": {
      "text/plain": [
       "<tf.Tensor: shape=(10, 5), dtype=float32, numpy=\n",
       "array([[0.        , 0.20800412, 0.41380563, 0.240946  , 0.        ],\n",
       "       [0.        , 0.6375983 , 0.32689098, 0.        , 0.        ],\n",
       "       [0.        , 0.        , 0.19985804, 0.21180809, 0.        ],\n",
       "       [0.        , 0.17744084, 0.2401489 , 0.        , 0.        ],\n",
       "       [0.        , 0.7401287 , 0.5154611 , 0.        , 0.        ],\n",
       "       [0.        , 0.55558395, 0.        , 0.        , 0.        ],\n",
       "       [0.        , 1.0653319 , 0.27249917, 0.        , 0.        ],\n",
       "       [0.        , 1.0944846 , 0.30326208, 0.        , 0.        ],\n",
       "       [0.        , 0.5744695 , 0.        , 0.        , 0.        ],\n",
       "       [0.        , 0.659779  , 0.71958935, 0.        , 0.        ]],\n",
       "      dtype=float32)>"
      ]
     },
     "execution_count": 24,
     "metadata": {},
     "output_type": "execute_result"
    }
   ],
   "source": [
    "dense = layers.Dense(5, activation = 'relu')\n",
    "\n",
    "inp = tf.random.uniform(shape=(10,10))\n",
    "x = dense(inp)\n",
    "x"
   ]
  },
  {
   "cell_type": "code",
   "execution_count": 25,
   "id": "098c5c49",
   "metadata": {},
   "outputs": [
    {
     "data": {
      "text/plain": [
       "<tf.Tensor: shape=(10, 5), dtype=float32, numpy=\n",
       "array([[0.1600563 , 0.1765538 , 0.4311515 , 0.07939272, 0.15284567],\n",
       "       [0.16034   , 0.13833505, 0.50359374, 0.10525294, 0.09247828],\n",
       "       [0.1136341 , 0.31351054, 0.335819  , 0.11744015, 0.11959623],\n",
       "       [0.18168901, 0.22792582, 0.2678378 , 0.15512845, 0.16741891],\n",
       "       [0.14296603, 0.2533483 , 0.33689135, 0.14552552, 0.12126892],\n",
       "       [0.14001286, 0.25263503, 0.3784629 , 0.1100572 , 0.11883196],\n",
       "       [0.11819687, 0.26623413, 0.37106457, 0.16872492, 0.07577954],\n",
       "       [0.20943734, 0.19454229, 0.30323032, 0.13456881, 0.15822126],\n",
       "       [0.21919549, 0.16310741, 0.25306433, 0.19966719, 0.16496563],\n",
       "       [0.12003978, 0.22080427, 0.4428352 , 0.07249688, 0.14382388]],\n",
       "      dtype=float32)>"
      ]
     },
     "execution_count": 25,
     "metadata": {},
     "output_type": "execute_result"
    }
   ],
   "source": [
    "# 소프트 맥스 활성화\n",
    "# 하나의 출력 텐서로 부터 확률값 산출 (전부더하면 1)\n",
    "dense = layers.Dense(5)\n",
    "smax = layers.Softmax()\n",
    "\n",
    "inp = tf.random.uniform(shape=(10,10))\n",
    "x = dense(inp)\n",
    "x = smax(x)\n",
    "x"
   ]
  },
  {
   "cell_type": "markdown",
   "id": "af55271f",
   "metadata": {},
   "source": [
    "## 실습 문제\n",
    "```\n",
    "# 다음 모델을 구성\n",
    "# input 모양은 (2)\n",
    "# 1번레이어: 5개의 유닛을 가지는 선형레이어\n",
    "# 2번레이어: 10개의 유닛을 가지고 relu 활성화 함수를 가지는 선형레이어\n",
    "# 3번레이어: 5개의 유닛을 가지는 선형레이어\n",
    "# 4번레이어: sotfmax 활성화 함수 레이어\n",
    "# keras Model 화 진행후 summary 출력\n",
    "```"
   ]
  },
  {
   "cell_type": "code",
   "execution_count": 28,
   "id": "3bbc2b82",
   "metadata": {},
   "outputs": [
    {
     "name": "stdout",
     "output_type": "stream",
     "text": [
      "Model: \"model_2\"\n",
      "_________________________________________________________________\n",
      " Layer (type)                Output Shape              Param #   \n",
      "=================================================================\n",
      " input_3 (InputLayer)        [(None, 2)]               0         \n",
      "                                                                 \n",
      " dense_18 (Dense)            (None, 5)                 15        \n",
      "                                                                 \n",
      " dense_19 (Dense)            (None, 10)                60        \n",
      "                                                                 \n",
      " dense_20 (Dense)            (None, 5)                 55        \n",
      "                                                                 \n",
      " softmax_3 (Softmax)         (None, 5)                 0         \n",
      "                                                                 \n",
      "=================================================================\n",
      "Total params: 130\n",
      "Trainable params: 130\n",
      "Non-trainable params: 0\n",
      "_________________________________________________________________\n"
     ]
    }
   ],
   "source": [
    "d_layer1 = layers.Dense(5)\n",
    "d_layer2 = layers.Dense(10, activation = 'relu')\n",
    "d_layer3 = layers.Dense(5)\n",
    "d_layer4 = layers.Softmax()\n",
    "\n",
    "inp = keras.Input((2,)) # (batch size, data size)\n",
    "x = d_layer1(inp)\n",
    "x = d_layer2(x)\n",
    "x = d_layer3(x)\n",
    "out = d_layer4(x)\n",
    "\n",
    "model = keras.Model(inp, out)\n",
    "model.summary()"
   ]
  },
  {
   "cell_type": "markdown",
   "id": "dc244b0e",
   "metadata": {},
   "source": [
    "# Convolution Layer"
   ]
  },
  {
   "cell_type": "code",
   "execution_count": 29,
   "id": "65db74b2",
   "metadata": {},
   "outputs": [
    {
     "name": "stdout",
     "output_type": "stream",
     "text": [
      "(1, 16, 16, 8)\n",
      "(3, 3, 3, 8)\n"
     ]
    }
   ],
   "source": [
    "# 컨볼루션 레이어\n",
    "\n",
    "inp = tf.random.uniform(shape=(1,16,16,3)) # 1개의 가상 이미지 데이터 생성 \n",
    "\n",
    "# 커널개수, 커널사이즈, 스트라이드, 패딩\n",
    "conv_layer = layers.Conv2D(8, 3, 1, padding = 'same') \n",
    "# padding same은 좌우 또는 상하에 균일하게 0으로 패딩\n",
    "# padding same 또는 strides 1의 경우, 결국 출력은 입력과 동일한 크기\n",
    "x = conv_layer(inp)\n",
    "print(x.shape)\n",
    "\n",
    "wb = conv_layer.get_weights()\n",
    "print(wb[0].shape)"
   ]
  },
  {
   "cell_type": "code",
   "execution_count": 30,
   "id": "4664800c",
   "metadata": {},
   "outputs": [
    {
     "name": "stdout",
     "output_type": "stream",
     "text": [
      "(1, 7, 7, 16)\n"
     ]
    }
   ],
   "source": [
    "conv_layer2 = layers.Conv2D(16, 3, 2)\n",
    "x = conv_layer2(inp)\n",
    "print(x.shape)\n"
   ]
  },
  {
   "cell_type": "markdown",
   "id": "6efdc025",
   "metadata": {},
   "source": [
    "## 실습 문제"
   ]
  },
  {
   "cell_type": "code",
   "execution_count": 33,
   "id": "66adfe58",
   "metadata": {},
   "outputs": [
    {
     "name": "stdout",
     "output_type": "stream",
     "text": [
      "(1, 2, 2, 10)\n",
      "(5, 5, 2, 10)\n"
     ]
    }
   ],
   "source": [
    "# 커널개수가 10, 커널사이즈가 5, 스트라이드가 2인 컨볼루션 레이어를 통과시킨 inp의 결과값 모양 출력\n",
    "inp = tf.random.uniform(shape=(1,8,8,2))\n",
    "conv_layer = layers.Conv2D(10, 5, 2) \n",
    "x = conv_layer(inp)\n",
    "print(x.shape)\n",
    "\n",
    "wb = conv_layer.get_weights()\n",
    "print(wb[0].shape)"
   ]
  },
  {
   "cell_type": "markdown",
   "id": "bfaabdbc",
   "metadata": {},
   "source": [
    "# CNN"
   ]
  },
  {
   "cell_type": "code",
   "execution_count": 34,
   "id": "a8b9bc60",
   "metadata": {},
   "outputs": [
    {
     "name": "stdout",
     "output_type": "stream",
     "text": [
      "(1, 16, 16, 8)\n",
      "(1, 7, 7, 16)\n",
      "(1, 5, 5, 32)\n",
      "(1, 800)\n",
      "(1, 32)\n"
     ]
    },
    {
     "data": {
      "text/plain": [
       "<tf.Tensor: shape=(1, 1), dtype=float32, numpy=array([[1.2773787]], dtype=float32)>"
      ]
     },
     "execution_count": 34,
     "metadata": {},
     "output_type": "execute_result"
    }
   ],
   "source": [
    "# CNN \n",
    "# 커널개수를 작은 수에서 점차 늘리는 이유는, 처음부터 데이터 수를 확 늘려버리면 오히려 (특징)데이터 손실을 야기할 수 있기 때문\n",
    "conv_layer1 = layers.Conv2D(8, 3, 1, padding = 'same')\n",
    "conv_layer2 = layers.Conv2D(16, 3, 2)\n",
    "conv_layer3 = layers.Conv2D(32, 3, 1)\n",
    "\n",
    "flatten = layers.Flatten() #  FC Layer\n",
    "\n",
    "d_layer1 = layers.Dense(32) \n",
    "d_layer2 = layers.Dense(1)\n",
    "\n",
    "inp = tf.random.uniform(shape=(1,16,16,3))\n",
    "x = conv_layer1(inp)\n",
    "print(x.shape)\n",
    "x = conv_layer2(x)\n",
    "print(x.shape)\n",
    "x = conv_layer3(x)\n",
    "print(x.shape)\n",
    "x = flatten(x)\n",
    "print(x.shape)\n",
    "x = d_layer1(x)\n",
    "print(x.shape)\n",
    "out = d_layer2(x)\n",
    "out"
   ]
  },
  {
   "cell_type": "code",
   "execution_count": 39,
   "id": "f41f54c5",
   "metadata": {
    "scrolled": true
   },
   "outputs": [
    {
     "name": "stdout",
     "output_type": "stream",
     "text": [
      "Model: \"model_4\"\n",
      "_________________________________________________________________\n",
      " Layer (type)                Output Shape              Param #   \n",
      "=================================================================\n",
      " input_6 (InputLayer)        [(None, 16, 16, 3)]       0         \n",
      "                                                                 \n",
      " conv2d_13 (Conv2D)          (None, 16, 16, 8)         224       \n",
      "                                                                 \n",
      " conv2d_14 (Conv2D)          (None, 7, 7, 16)          1168      \n",
      "                                                                 \n",
      " conv2d_15 (Conv2D)          (None, 5, 5, 32)          4640      \n",
      "                                                                 \n",
      " flatten_3 (Flatten)         (None, 800)               0         \n",
      "                                                                 \n",
      " dense_25 (Dense)            (None, 32)                25632     \n",
      "                                                                 \n",
      " dense_26 (Dense)            (None, 1)                 33        \n",
      "                                                                 \n",
      "=================================================================\n",
      "Total params: 31,697\n",
      "Trainable params: 31,697\n",
      "Non-trainable params: 0\n",
      "_________________________________________________________________\n"
     ]
    }
   ],
   "source": [
    "# 모델링\n",
    "\n",
    "conv_layer1 = layers.Conv2D(8, 3, 1, padding = 'same')\n",
    "conv_layer2 = layers.Conv2D(16, 3, 2)\n",
    "conv_layer3 = layers.Conv2D(32, 3, 1)\n",
    "\n",
    "flatten = layers.Flatten()\n",
    "\n",
    "d_layer1 = layers.Dense(32)\n",
    "d_layer2 = layers.Dense(1)\n",
    "\n",
    "inp = keras.Input((16,16,3))\n",
    "x = conv_layer1(inp)\n",
    "x = conv_layer2(x)\n",
    "x = conv_layer3(x)\n",
    "x = flatten(x)\n",
    "x = d_layer1(x)\n",
    "out = d_layer2(x)\n",
    "\n",
    "model = keras.Model(inp, out)\n",
    "model.summary()"
   ]
  },
  {
   "cell_type": "code",
   "execution_count": 33,
   "id": "843f0095",
   "metadata": {},
   "outputs": [
    {
     "data": {
      "text/plain": [
       "<tf.Tensor: shape=(10, 5), dtype=float32, numpy=\n",
       "array([[0.4942127 , 0.26164243, 0.046472  , 0.7654542 , 0.        ],\n",
       "       [0.770815  , 0.34618673, 0.        , 0.13107927, 0.        ],\n",
       "       [0.45719987, 0.        , 0.        , 0.5406862 , 0.        ],\n",
       "       [1.1433494 , 0.        , 0.        , 0.34604597, 0.        ],\n",
       "       [0.62140197, 0.4175714 , 0.        , 0.        , 0.        ],\n",
       "       [0.85103077, 0.2547932 , 0.        , 0.25941783, 0.        ],\n",
       "       [0.7361645 , 0.        , 0.        , 0.        , 0.        ],\n",
       "       [1.2917184 , 0.25360128, 0.        , 0.84500253, 0.        ],\n",
       "       [1.0582116 , 0.30154526, 0.        , 0.        , 0.        ],\n",
       "       [0.9180781 , 0.        , 0.        , 0.4594703 , 0.        ]],\n",
       "      dtype=float32)>"
      ]
     },
     "execution_count": 33,
     "metadata": {},
     "output_type": "execute_result"
    }
   ],
   "source": [
    "# 활성화 함수 레이어\n",
    "# relu 활성화 : 음수를 0으로\n",
    "dense = layers.Dense(5)\n",
    "relu = layers.ReLU()\n",
    "\n",
    "inp = tf.random.uniform(shape=(10,10))\n",
    "x = dense(inp)\n",
    "x = relu(x)\n",
    "x"
   ]
  },
  {
   "cell_type": "code",
   "execution_count": 34,
   "id": "2769ffd6",
   "metadata": {},
   "outputs": [
    {
     "data": {
      "text/plain": [
       "<tf.Tensor: shape=(10, 5), dtype=float32, numpy=\n",
       "array([[0.        , 0.        , 0.32145786, 0.        , 0.1247461 ],\n",
       "       [0.        , 0.        , 0.5386183 , 0.        , 0.00729177],\n",
       "       [0.        , 0.        , 0.5743971 , 0.        , 0.32320166],\n",
       "       [0.        , 0.        , 0.04828465, 0.        , 0.21370819],\n",
       "       [0.        , 0.        , 0.00435197, 0.        , 0.3775684 ],\n",
       "       [0.        , 0.        , 0.16364774, 0.        , 0.55140436],\n",
       "       [0.        , 0.        , 0.67150384, 0.        , 0.        ],\n",
       "       [0.        , 0.        , 0.        , 0.        , 0.        ],\n",
       "       [0.        , 0.        , 0.00176896, 0.        , 0.        ],\n",
       "       [0.        , 0.        , 0.71260166, 0.        , 0.3479255 ]],\n",
       "      dtype=float32)>"
      ]
     },
     "execution_count": 34,
     "metadata": {},
     "output_type": "execute_result"
    }
   ],
   "source": [
    "dense = layers.Dense(5, activation = 'relu')\n",
    "\n",
    "inp = tf.random.uniform(shape=(10,10))\n",
    "x = dense(inp)\n",
    "x"
   ]
  },
  {
   "cell_type": "code",
   "execution_count": 35,
   "id": "2b109c79",
   "metadata": {},
   "outputs": [
    {
     "data": {
      "text/plain": [
       "<tf.Tensor: shape=(10, 5), dtype=float32, numpy=\n",
       "array([[0.1484716 , 0.30648792, 0.19968241, 0.27898318, 0.06637487],\n",
       "       [0.09295511, 0.46970114, 0.08034788, 0.3177434 , 0.03925246],\n",
       "       [0.21100253, 0.27778092, 0.14134459, 0.25171635, 0.11815562],\n",
       "       [0.09882341, 0.42677504, 0.09338861, 0.32649806, 0.0545149 ],\n",
       "       [0.12183032, 0.4999922 , 0.11927192, 0.2194304 , 0.03947509],\n",
       "       [0.12288448, 0.22859643, 0.09234601, 0.44808733, 0.10808574],\n",
       "       [0.13685594, 0.51479965, 0.10803685, 0.18187158, 0.05843596],\n",
       "       [0.13076557, 0.40906745, 0.08633816, 0.27748284, 0.09634596],\n",
       "       [0.11412358, 0.33287847, 0.10277636, 0.34275147, 0.10747001],\n",
       "       [0.08694641, 0.28096098, 0.10420871, 0.475875  , 0.05200892]],\n",
       "      dtype=float32)>"
      ]
     },
     "execution_count": 35,
     "metadata": {},
     "output_type": "execute_result"
    }
   ],
   "source": [
    "# 소프트 맥스 활성화\n",
    "# 하나의 출력 텐서로 부터 확률값 산출 (전부더하면 1)\n",
    "dense = layers.Dense(5)\n",
    "smax = layers.Softmax()\n",
    "\n",
    "inp = tf.random.uniform(shape=(10,10))\n",
    "x = dense(inp)\n",
    "x = smax(x)\n",
    "x"
   ]
  },
  {
   "cell_type": "markdown",
   "id": "356a5371",
   "metadata": {},
   "source": [
    "# Normalization Layer"
   ]
  },
  {
   "cell_type": "code",
   "execution_count": 35,
   "id": "46ae848f",
   "metadata": {},
   "outputs": [
    {
     "data": {
      "text/plain": [
       "<tf.Tensor: shape=(10, 10), dtype=float32, numpy=\n",
       "array([[6.7817831e-01, 5.4054999e-01, 1.3320940e-04, 9.8234659e-01,\n",
       "        6.7201948e-01, 6.6717470e-01, 3.3896118e-01, 4.9804074e-01,\n",
       "        9.5145953e-01, 1.7278616e-01],\n",
       "       [6.5309250e-01, 2.0577669e-01, 3.3807459e-01, 9.9889767e-01,\n",
       "        7.0851660e-01, 4.8687187e-01, 9.9747455e-01, 4.1385931e-01,\n",
       "        4.4292015e-01, 2.9327750e-01],\n",
       "       [1.5595269e-02, 1.9039173e-01, 5.2097547e-01, 6.4895874e-01,\n",
       "        2.7698058e-01, 7.2290462e-01, 9.6807021e-01, 4.8705667e-01,\n",
       "        9.0187170e-02, 2.0927279e-01],\n",
       "       [2.5505036e-01, 8.8248193e-01, 5.9810030e-01, 2.2831553e-01,\n",
       "        7.8051887e-02, 7.7441698e-01, 2.8558484e-01, 9.6999790e-04,\n",
       "        6.6151071e-01, 6.4652666e-02],\n",
       "       [2.9120418e-01, 5.6296003e-01, 3.7384382e-01, 5.5622703e-01,\n",
       "        4.5356333e-01, 5.6340724e-01, 8.2197607e-01, 7.3001844e-01,\n",
       "        3.5837865e-01, 2.9246694e-01],\n",
       "       [8.2593340e-01, 8.2550550e-01, 5.8024067e-01, 6.6330887e-02,\n",
       "        5.6628108e-01, 2.0523493e-01, 2.0595221e-01, 9.1914254e-01,\n",
       "        7.2288984e-01, 8.7895834e-01],\n",
       "       [1.8914138e-01, 8.6155331e-01, 5.6291658e-01, 2.4195914e-01,\n",
       "        6.2424326e-01, 5.9866697e-01, 5.9014010e-01, 8.3213753e-01,\n",
       "        4.9772605e-01, 5.2278703e-01],\n",
       "       [4.6409234e-01, 1.0244064e-01, 2.1479943e-01, 8.6609602e-01,\n",
       "        3.5221910e-01, 5.7587206e-01, 7.4366766e-01, 6.4493293e-01,\n",
       "        5.2942491e-01, 6.9902521e-01],\n",
       "       [8.2680136e-02, 5.5182409e-02, 1.1102014e-02, 2.2095721e-02,\n",
       "        6.7189878e-01, 4.6214497e-01, 7.6699668e-01, 8.2727581e-01,\n",
       "        9.2167115e-01, 6.6559905e-01],\n",
       "       [2.4850236e-01, 5.1853114e-01, 9.1584200e-01, 2.1861818e-01,\n",
       "        3.4263980e-01, 8.5381430e-01, 4.5543432e-01, 1.0536827e-01,\n",
       "        5.4227543e-01, 8.5695341e-02]], dtype=float32)>"
      ]
     },
     "execution_count": 35,
     "metadata": {},
     "output_type": "execute_result"
    }
   ],
   "source": [
    "# 정규화 레이어\n",
    "# 이상치와 같은 값을 정리해주면 학습 퍼포먼스가 더 좋아짐\n",
    "bn = layers.BatchNormalization()\n",
    "inp = tf.random.uniform(shape=(10,10))\n",
    "x = bn(inp)\n",
    "x"
   ]
  },
  {
   "cell_type": "code",
   "execution_count": 36,
   "id": "03e8d145",
   "metadata": {},
   "outputs": [],
   "source": [
    "# 드롭아웃 레이어: 학습시 확률 초기화\n",
    "\n",
    "drop = layers.Dropout(0.5) # 50%확률로 0으로 설정: 과적합 방지\n",
    "inp = tf.random.uniform(shape=(5,3))\n",
    "x = drop(inp)"
   ]
  },
  {
   "cell_type": "markdown",
   "id": "4d4afd85",
   "metadata": {},
   "source": [
    "## 실습 문제\n",
    "```\n",
    "# 다음 모델을 구성\n",
    "# input 모양은 (28,28,1)\n",
    "# 1번레이어: 커널사이즈 5, 커널개수 10, 스트라이드 1 을가지는 컨볼루션 레이어\n",
    "# 2번레이어: 커널사이즈 3, 커널개수 20, 스트라이드 2, relu 활성화 함수 를가지는 컨볼루션 레이어\n",
    "# 3번레이어: 커널사이즈 1, 커널개수 20, 스트라이드 2, 패딩 'same' 을가지는 컨볼루션 레이어\n",
    "# 4번레이어: flatten 레이어\n",
    "# 5번레이어: 배치 정규화 레이어\n",
    "# 6번레이어: 20퍼센트 확률로 초기화하는 dropout 레이어\n",
    "# 7번레이어: 유닛개수가 64개인 레이어\n",
    "# 8번레이어: 유닛개수가 10개인 레이어\n",
    "# 9번레이어: 소프트맥스 활성화 함수 레이어\n",
    "# keras Model 화 진행후 summary 출력\n",
    "```"
   ]
  },
  {
   "cell_type": "code",
   "execution_count": 45,
   "id": "efbb5462",
   "metadata": {},
   "outputs": [
    {
     "name": "stdout",
     "output_type": "stream",
     "text": [
      "Model: \"model_10\"\n",
      "_________________________________________________________________\n",
      " Layer (type)                Output Shape              Param #   \n",
      "=================================================================\n",
      " input_12 (InputLayer)       [(None, 28, 28, 1)]       0         \n",
      "                                                                 \n",
      " conv2d_31 (Conv2D)          (None, 24, 24, 10)        260       \n",
      "                                                                 \n",
      " conv2d_32 (Conv2D)          (None, 11, 11, 20)        1820      \n",
      "                                                                 \n",
      " conv2d_33 (Conv2D)          (None, 6, 6, 20)          420       \n",
      "                                                                 \n",
      " flatten_9 (Flatten)         (None, 720)               0         \n",
      "                                                                 \n",
      " batch_normalization_7 (Batc  (None, 720)              2880      \n",
      " hNormalization)                                                 \n",
      "                                                                 \n",
      " dropout_7 (Dropout)         (None, 720)               0         \n",
      "                                                                 \n",
      " dense_37 (Dense)            (None, 64)                46144     \n",
      "                                                                 \n",
      " dense_38 (Dense)            (None, 10)                650       \n",
      "                                                                 \n",
      " softmax_10 (Softmax)        (None, 10)                0         \n",
      "                                                                 \n",
      "=================================================================\n",
      "Total params: 52,174\n",
      "Trainable params: 50,734\n",
      "Non-trainable params: 1,440\n",
      "_________________________________________________________________\n"
     ]
    }
   ],
   "source": [
    "conv_layer1 = layers.Conv2D(10, 5, 1)\n",
    "conv_layer2 = layers.Conv2D(20, 3, 2, activation = 'relu')\n",
    "conv_layer3 = layers.Conv2D(20, 1, 2, padding='same') # 커널사이즈가 1이므로 사실 패딩 불필요\n",
    "flat_layer4 = layers.Flatten() \n",
    "bn_layer5 = layers.BatchNormalization()\n",
    "drop_layer6 = layers.Dropout(0.2)\n",
    "d_layer7 = layers.Dense(64)\n",
    "d_layer8 = layers.Dense(10)\n",
    "smax_layer9 = layers.Softmax()\n",
    "\n",
    "\n",
    "inp = keras.Input((28,28,1)) \n",
    "x = conv_layer1(inp)\n",
    "x = conv_layer2(x)\n",
    "x = conv_layer3(x)\n",
    "x = flat_layer4(x)\n",
    "x = bn_layer5(x)\n",
    "x = drop_layer6(x)\n",
    "x = d_layer7(x)\n",
    "x = d_layer8(x)\n",
    "out = smax_layer9(x)\n",
    "\n",
    "model = keras.Model(inp, out)\n",
    "model.summary()"
   ]
  },
  {
   "cell_type": "markdown",
   "id": "6a18f5df",
   "metadata": {},
   "source": [
    "# Loss Function, Optimizer, Model Train"
   ]
  },
  {
   "cell_type": "code",
   "execution_count": 46,
   "id": "f7a6d2ca",
   "metadata": {},
   "outputs": [],
   "source": [
    "# 손실함수, 최적화 알고리즘적용\n",
    "# compile 함수 사용\n",
    "\n",
    "model.compile(\n",
    "    loss=keras.losses.SparseCategoricalCrossentropy(from_logits=False), \n",
    "    # sparseCC, 다항 분류에서 출력으로 softmax를 사용할 때, 라벨이 범주 인덱스 일 때(원핫인코딩 불가)\n",
    "    #  logits 입력값이 확률값인데 선형값인지 입력\n",
    "    optimizer=keras.optimizers.Adam(learning_rate = 0.001),\n",
    "    metrics=[\"accuracy\"],\n",
    ")"
   ]
  },
  {
   "cell_type": "code",
   "execution_count": 50,
   "id": "bf56a4f6",
   "metadata": {},
   "outputs": [
    {
     "name": "stdout",
     "output_type": "stream",
     "text": [
      "Epoch 1/2\n",
      "3000/3000 [==============================] - 6s 2ms/step - loss: 0.1511 - accuracy: 0.9541 - val_loss: 0.1038 - val_accuracy: 0.9690\n",
      "Epoch 2/2\n",
      "3000/3000 [==============================] - 6s 2ms/step - loss: 0.1378 - accuracy: 0.9570 - val_loss: 0.0956 - val_accuracy: 0.9733\n"
     ]
    },
    {
     "data": {
      "text/plain": [
       "<keras.callbacks.History at 0x22f671fee30>"
      ]
     },
     "execution_count": 50,
     "metadata": {},
     "output_type": "execute_result"
    }
   ],
   "source": [
    "# 학습 하기\n",
    "# fit(x,y,batch_size, epochs, validation_split...)함수 사용 \n",
    "# x: 입력데이터세트, y: 라벨데이터세트\n",
    "# validation_split: 과적합 방지를 위한 테스트 세트\n",
    "\n",
    "from tensorflow.keras import datasets\n",
    "(train_images, train_labels), (test_images, test_labels) = datasets.mnist.load_data()\n",
    "\n",
    "train_images = train_images.reshape((60000, 28, 28, 1))\n",
    "test_images = test_images.reshape((10000, 28, 28, 1))\n",
    "\n",
    "# 픽셀 값을 0~1 사이로 정규화합니다.\n",
    "train_images, test_images = train_images / 255.0, test_images / 255.0\n",
    "\n",
    "model.fit(train_images, train_labels, batch_size=16, epochs=2, validation_split=0.2)\n"
   ]
  },
  {
   "cell_type": "code",
   "execution_count": 49,
   "id": "9e44f70f",
   "metadata": {},
   "outputs": [
    {
     "name": "stdout",
     "output_type": "stream",
     "text": [
      "313/313 - 0s - loss: 0.0839 - accuracy: 0.9714 - 396ms/epoch - 1ms/step\n"
     ]
    }
   ],
   "source": [
    "test_loss, test_acc = model.evaluate(test_images,  test_labels, verbose=2)"
   ]
  },
  {
   "cell_type": "code",
   "execution_count": null,
   "id": "b25be8d5",
   "metadata": {},
   "outputs": [],
   "source": []
  },
  {
   "cell_type": "code",
   "execution_count": null,
   "id": "3d52e66d",
   "metadata": {},
   "outputs": [],
   "source": []
  },
  {
   "cell_type": "code",
   "execution_count": null,
   "id": "d4368c8b",
   "metadata": {},
   "outputs": [],
   "source": []
  },
  {
   "cell_type": "code",
   "execution_count": null,
   "id": "e7cad0fd",
   "metadata": {},
   "outputs": [],
   "source": []
  }
 ],
 "metadata": {
  "kernelspec": {
   "display_name": "Python 3 (ipykernel)",
   "language": "python",
   "name": "python3"
  },
  "language_info": {
   "codemirror_mode": {
    "name": "ipython",
    "version": 3
   },
   "file_extension": ".py",
   "mimetype": "text/x-python",
   "name": "python",
   "nbconvert_exporter": "python",
   "pygments_lexer": "ipython3",
   "version": "3.10.8"
  },
  "toc": {
   "base_numbering": 1,
   "nav_menu": {},
   "number_sections": true,
   "sideBar": true,
   "skip_h1_title": false,
   "title_cell": "Table of Contents",
   "title_sidebar": "Contents",
   "toc_cell": false,
   "toc_position": {},
   "toc_section_display": true,
   "toc_window_display": false
  }
 },
 "nbformat": 4,
 "nbformat_minor": 5
}
