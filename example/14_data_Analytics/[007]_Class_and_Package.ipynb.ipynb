{
 "cells": [
  {
   "cell_type": "markdown",
   "metadata": {
    "id": "uSzQdUumh98h"
   },
   "source": [
    "# Class and Package"
   ]
  },
  {
   "cell_type": "code",
   "execution_count": 1,
   "metadata": {
    "id": "RbPgODpVzdHI"
   },
   "outputs": [],
   "source": [
    "import warnings\n",
    "warnings.filterwarnings('ignore')"
   ]
  },
  {
   "cell_type": "markdown",
   "metadata": {
    "id": "-ZOPq6LrpW6u"
   },
   "source": [
    "# I. Class\n",
    "\n",
    "* Class(Name Space): 개발자에 의해 지정된 독립 공간(구조)\n",
    " - 함수와 변수를 하나의 객체(Object)로 묶어서 관리\n",
    " - 선언된 Class 사용을 위해 Instance 생성 필요\n",
    "* Class <font color = 'red'>Method</font>: Class 내에 선언된 <font color = 'red'>함수</font>\n",
    "* Class <font color = 'blue'>Member</font>: Class 내에 선언된 <font color = 'blue'>변수</font>\n",
    " - Instance Member: Class 내 함수에 선언된 변수\n",
    "\n"
   ]
  },
  {
   "cell_type": "markdown",
   "metadata": {
    "id": "xLhFXHxExiZU"
   },
   "source": [
    "> ## 1) Class 선언"
   ]
  },
  {
   "cell_type": "markdown",
   "metadata": {
    "id": "NGX8ihTa9IFi"
   },
   "source": [
    "* <font color = 'blue'>self</font>: 첫 번째 매개변수 <font color = 'blue'>self</font>는 Class로 생성한 Instance 자체를 지정\n",
    " - Class로 생성된 Object(객체) 자신을 참조하는 매개변수\n",
    " - <font color = 'blue'>self</font>를 사용하여 Class Member에 접근"
   ]
  },
  {
   "cell_type": "code",
   "execution_count": 2,
   "metadata": {
    "id": "RmonJ-HVpePC"
   },
   "outputs": [],
   "source": [
    "class myClass:\n",
    "    var_1 = \"'Hello Class >>> Class Member'\"\n",
    "    \n",
    "    def func_1(self):\n",
    "        var_2 = \"'Method >>> Instance Member'\"\n",
    "        print(self.var_1, 'AND', var_2)"
   ]
  },
  {
   "cell_type": "markdown",
   "metadata": {
    "id": "Yn8pjKbyxkwb"
   },
   "source": [
    "> ## 2) Instance 생성\n",
    "\n",
    "* Instance: Class로 생성된 객체(Object)\n",
    " - 'obj'는 'myClass( )'의 Instance"
   ]
  },
  {
   "cell_type": "code",
   "execution_count": 3,
   "metadata": {
    "id": "GqchbzG9qUrI"
   },
   "outputs": [],
   "source": [
    "obj = myClass()"
   ]
  },
  {
   "cell_type": "markdown",
   "metadata": {
    "id": "27LCpqCexpgk"
   },
   "source": [
    "> ## 3) Class Member 호출"
   ]
  },
  {
   "cell_type": "code",
   "execution_count": 4,
   "metadata": {
    "colab": {
     "base_uri": "https://localhost:8080/",
     "height": 35
    },
    "executionInfo": {
     "elapsed": 35,
     "status": "ok",
     "timestamp": 1663286598481,
     "user": {
      "displayName": "이정구",
      "userId": "17400242557229223804"
     },
     "user_tz": -540
    },
    "id": "HWd3wB-grLz7",
    "outputId": "c827582e-86c1-4cb7-9e19-6629373791b8"
   },
   "outputs": [
    {
     "data": {
      "text/plain": [
       "\"'Hello Class >>> Class Member'\""
      ]
     },
     "execution_count": 4,
     "metadata": {},
     "output_type": "execute_result"
    }
   ],
   "source": [
    "obj.var_1"
   ]
  },
  {
   "cell_type": "markdown",
   "metadata": {
    "id": "LwfWmIjU-XW_"
   },
   "source": [
    "> ## 4) Instance Member 호출\n",
    "\n",
    "* <font color = 'red'>Error"
   ]
  },
  {
   "cell_type": "code",
   "execution_count": 5,
   "metadata": {
    "colab": {
     "base_uri": "https://localhost:8080/",
     "height": 172
    },
    "executionInfo": {
     "elapsed": 34,
     "status": "error",
     "timestamp": 1663286598483,
     "user": {
      "displayName": "이정구",
      "userId": "17400242557229223804"
     },
     "user_tz": -540
    },
    "id": "t-M-5_zW-Pkk",
    "outputId": "70984624-4c7f-4e3e-9374-744f7ad363fd"
   },
   "outputs": [
    {
     "ename": "AttributeError",
     "evalue": "'myClass' object has no attribute 'var_2'",
     "output_type": "error",
     "traceback": [
      "\u001b[1;31m---------------------------------------------------------------------------\u001b[0m",
      "\u001b[1;31mAttributeError\u001b[0m                            Traceback (most recent call last)",
      "Cell \u001b[1;32mIn [5], line 1\u001b[0m\n\u001b[1;32m----> 1\u001b[0m \u001b[43mobj\u001b[49m\u001b[38;5;241;43m.\u001b[39;49m\u001b[43mvar_2\u001b[49m \n",
      "\u001b[1;31mAttributeError\u001b[0m: 'myClass' object has no attribute 'var_2'"
     ]
    }
   ],
   "source": [
    "obj.var_2 "
   ]
  },
  {
   "cell_type": "markdown",
   "metadata": {
    "id": "JTMZwHgTxsVT"
   },
   "source": [
    "> ## 5) Method 호출\n",
    "\n",
    "* <font color = 'blue'>Class Member AND Instance Menber 호출 성공"
   ]
  },
  {
   "cell_type": "code",
   "execution_count": 6,
   "metadata": {
    "colab": {
     "base_uri": "https://localhost:8080/"
    },
    "executionInfo": {
     "elapsed": 9,
     "status": "ok",
     "timestamp": 1663286603238,
     "user": {
      "displayName": "이정구",
      "userId": "17400242557229223804"
     },
     "user_tz": -540
    },
    "id": "w-Cb8xIosE71",
    "outputId": "2a6cd357-bf22-491d-ceb7-557b67814217"
   },
   "outputs": [
    {
     "name": "stdout",
     "output_type": "stream",
     "text": [
      "'Hello Class >>> Class Member' AND 'Method >>> Instance Member'\n"
     ]
    }
   ],
   "source": [
    "obj.func_1()"
   ]
  },
  {
   "cell_type": "markdown",
   "metadata": {
    "id": "lf0grpwWzcLb"
   },
   "source": [
    "# II. Calculator Class"
   ]
  },
  {
   "cell_type": "markdown",
   "metadata": {
    "id": "wsA-YEcbLZXh"
   },
   "source": [
    "> ## 1) 'Calculator' Class 선언"
   ]
  },
  {
   "cell_type": "code",
   "execution_count": 7,
   "metadata": {
    "id": "X68PadfPzmos"
   },
   "outputs": [],
   "source": [
    "class Calculator:\n",
    "    def inputData(self, m, n):\n",
    "        self.m = m\n",
    "        self.n = n\n",
    "    def addtion(self):\n",
    "        result = self.m + self.n\n",
    "        return result"
   ]
  },
  {
   "cell_type": "markdown",
   "metadata": {
    "id": "r9BquMzBLpj-"
   },
   "source": [
    "> ## 2) Instance 생성"
   ]
  },
  {
   "cell_type": "code",
   "execution_count": 8,
   "metadata": {
    "id": "PG9zGnsv0ocm"
   },
   "outputs": [],
   "source": [
    "cal_1 = Calculator()"
   ]
  },
  {
   "cell_type": "code",
   "execution_count": 9,
   "metadata": {
    "id": "9uccqgylBAzc"
   },
   "outputs": [],
   "source": [
    "cal_2 = Calculator()"
   ]
  },
  {
   "cell_type": "markdown",
   "metadata": {
    "id": "pPMkA9ZHLvMG"
   },
   "source": [
    "> ## 3) inputData Method"
   ]
  },
  {
   "cell_type": "code",
   "execution_count": 10,
   "metadata": {
    "id": "rQO40TWz0s_3"
   },
   "outputs": [],
   "source": [
    "cal_1.inputData(3, 6)"
   ]
  },
  {
   "cell_type": "code",
   "execution_count": 11,
   "metadata": {
    "id": "_tNTWLF7KiVs"
   },
   "outputs": [],
   "source": [
    "cal_2.inputData(9, 5)"
   ]
  },
  {
   "cell_type": "markdown",
   "metadata": {
    "id": "50BcrBMMLzE5"
   },
   "source": [
    "> ## 4) addition Method"
   ]
  },
  {
   "cell_type": "code",
   "execution_count": 12,
   "metadata": {
    "colab": {
     "base_uri": "https://localhost:8080/"
    },
    "executionInfo": {
     "elapsed": 43,
     "status": "ok",
     "timestamp": 1663286604268,
     "user": {
      "displayName": "이정구",
      "userId": "17400242557229223804"
     },
     "user_tz": -540
    },
    "id": "K2yE4c79087v",
    "outputId": "b76518b4-3285-4bea-8b6f-1dfb3f5d1a48"
   },
   "outputs": [
    {
     "data": {
      "text/plain": [
       "9"
      ]
     },
     "execution_count": 12,
     "metadata": {},
     "output_type": "execute_result"
    }
   ],
   "source": [
    "cal_1.addtion()"
   ]
  },
  {
   "cell_type": "code",
   "execution_count": 13,
   "metadata": {
    "colab": {
     "base_uri": "https://localhost:8080/"
    },
    "executionInfo": {
     "elapsed": 39,
     "status": "ok",
     "timestamp": 1663286604269,
     "user": {
      "displayName": "이정구",
      "userId": "17400242557229223804"
     },
     "user_tz": -540
    },
    "id": "knAqMROPNG1z",
    "outputId": "2d124fe3-9632-4864-e17c-c22e22313dc1"
   },
   "outputs": [
    {
     "data": {
      "text/plain": [
       "14"
      ]
     },
     "execution_count": 13,
     "metadata": {},
     "output_type": "execute_result"
    }
   ],
   "source": [
    "cal_2.addtion()"
   ]
  },
  {
   "cell_type": "markdown",
   "metadata": {
    "id": "pToEQD_RBI6Y"
   },
   "source": [
    "# III. Class 생성자(Constructor)"
   ]
  },
  {
   "cell_type": "code",
   "execution_count": 14,
   "metadata": {
    "id": "FOzPMxWjNzXO"
   },
   "outputs": [],
   "source": [
    "cal_3 = Calculator()"
   ]
  },
  {
   "cell_type": "markdown",
   "metadata": {
    "id": "9-neHgjQQWj2"
   },
   "source": [
    "* <font color = 'red'>Error"
   ]
  },
  {
   "cell_type": "code",
   "execution_count": 15,
   "metadata": {
    "colab": {
     "base_uri": "https://localhost:8080/",
     "height": 281
    },
    "executionInfo": {
     "elapsed": 32,
     "status": "error",
     "timestamp": 1663286604270,
     "user": {
      "displayName": "이정구",
      "userId": "17400242557229223804"
     },
     "user_tz": -540
    },
    "id": "81IbyejeN3Tp",
    "outputId": "635fe753-b6a9-4936-d87a-f2b8a23f4cb4"
   },
   "outputs": [
    {
     "ename": "AttributeError",
     "evalue": "'Calculator' object has no attribute 'm'",
     "output_type": "error",
     "traceback": [
      "\u001b[1;31m---------------------------------------------------------------------------\u001b[0m",
      "\u001b[1;31mAttributeError\u001b[0m                            Traceback (most recent call last)",
      "Cell \u001b[1;32mIn [15], line 1\u001b[0m\n\u001b[1;32m----> 1\u001b[0m \u001b[43mcal_3\u001b[49m\u001b[38;5;241;43m.\u001b[39;49m\u001b[43maddtion\u001b[49m\u001b[43m(\u001b[49m\u001b[43m)\u001b[49m \n",
      "Cell \u001b[1;32mIn [7], line 6\u001b[0m, in \u001b[0;36mCalculator.addtion\u001b[1;34m(self)\u001b[0m\n\u001b[0;32m      5\u001b[0m \u001b[38;5;28;01mdef\u001b[39;00m \u001b[38;5;21maddtion\u001b[39m(\u001b[38;5;28mself\u001b[39m):\n\u001b[1;32m----> 6\u001b[0m     result \u001b[38;5;241m=\u001b[39m \u001b[38;5;28;43mself\u001b[39;49m\u001b[38;5;241;43m.\u001b[39;49m\u001b[43mm\u001b[49m \u001b[38;5;241m+\u001b[39m \u001b[38;5;28mself\u001b[39m\u001b[38;5;241m.\u001b[39mn\n\u001b[0;32m      7\u001b[0m     \u001b[38;5;28;01mreturn\u001b[39;00m result\n",
      "\u001b[1;31mAttributeError\u001b[0m: 'Calculator' object has no attribute 'm'"
     ]
    }
   ],
   "source": [
    "cal_3.addtion() "
   ]
  },
  {
   "cell_type": "markdown",
   "metadata": {
    "id": "i1T0tvfZMUb6"
   },
   "source": [
    "> ## 1) 'Calculator_2' Class 선언\n",
    "\n",
    "* <font color = 'blue'>\\_\\_init\\_\\_( ) 예약어"
   ]
  },
  {
   "cell_type": "code",
   "execution_count": 16,
   "metadata": {
    "id": "JxXydhskBUOO"
   },
   "outputs": [],
   "source": [
    "class Calculator_2:\n",
    "    def __init__(self, m, n):\n",
    "        self.m = m\n",
    "        self.n = n\n",
    "        print('메모리에 인스턴스가 %d, %d 값과 함께 생성되었습니다.' % (m, n))\n",
    "    def inputData_2(self, m, n):\n",
    "        self.m = m\n",
    "        self.n = n\n",
    "    def subtraction(self):\n",
    "        result = self.m - self.n\n",
    "        return result"
   ]
  },
  {
   "cell_type": "markdown",
   "metadata": {
    "id": "wzfDGv4DMfsO"
   },
   "source": [
    "> ## 2) 인스턴스 생성 메시지 출력\n",
    "\n",
    "* \\_\\_init\\_\\_( ) Method 실행"
   ]
  },
  {
   "cell_type": "code",
   "execution_count": 17,
   "metadata": {
    "colab": {
     "base_uri": "https://localhost:8080/"
    },
    "executionInfo": {
     "elapsed": 14,
     "status": "ok",
     "timestamp": 1663286610527,
     "user": {
      "displayName": "이정구",
      "userId": "17400242557229223804"
     },
     "user_tz": -540
    },
    "id": "9SO2cTQSOsPk",
    "outputId": "8d8503c4-d2fe-4e30-b6c8-f4df96f3de69"
   },
   "outputs": [
    {
     "name": "stdout",
     "output_type": "stream",
     "text": [
      "메모리에 인스턴스가 4, 8 값과 함께 생성되었습니다.\n"
     ]
    }
   ],
   "source": [
    "cal_4 = Calculator_2(4, 8)"
   ]
  },
  {
   "cell_type": "markdown",
   "metadata": {
    "id": "fIHUO-RHtGiy"
   },
   "source": [
    "> ## 3) 생성된 초기값 사용"
   ]
  },
  {
   "cell_type": "markdown",
   "metadata": {
    "id": "UNd9EezNL-SZ"
   },
   "source": [
    "* subtraction Method"
   ]
  },
  {
   "cell_type": "code",
   "execution_count": 18,
   "metadata": {
    "colab": {
     "base_uri": "https://localhost:8080/"
    },
    "executionInfo": {
     "elapsed": 13,
     "status": "ok",
     "timestamp": 1663286610529,
     "user": {
      "displayName": "이정구",
      "userId": "17400242557229223804"
     },
     "user_tz": -540
    },
    "id": "2coRkpGNpNBE",
    "outputId": "2218c1ca-df80-4477-ef5d-79a2366eeab2"
   },
   "outputs": [
    {
     "data": {
      "text/plain": [
       "-4"
      ]
     },
     "execution_count": 18,
     "metadata": {},
     "output_type": "execute_result"
    }
   ],
   "source": [
    "cal_4.subtraction()"
   ]
  },
  {
   "cell_type": "markdown",
   "metadata": {
    "id": "bX_Fdkr5tMUP"
   },
   "source": [
    "> ## 4) 변수값 재지정"
   ]
  },
  {
   "cell_type": "code",
   "execution_count": 19,
   "metadata": {
    "id": "rcp8MS9SPQyG"
   },
   "outputs": [],
   "source": [
    "cal_4.inputData_2(4, 2)"
   ]
  },
  {
   "cell_type": "code",
   "execution_count": 20,
   "metadata": {
    "colab": {
     "base_uri": "https://localhost:8080/"
    },
    "executionInfo": {
     "elapsed": 63,
     "status": "ok",
     "timestamp": 1663286611126,
     "user": {
      "displayName": "이정구",
      "userId": "17400242557229223804"
     },
     "user_tz": -540
    },
    "id": "6avzxO2KpQ_O",
    "outputId": "dd84a39c-e71c-44b4-d195-82881d49df05"
   },
   "outputs": [
    {
     "data": {
      "text/plain": [
       "2"
      ]
     },
     "execution_count": 20,
     "metadata": {},
     "output_type": "execute_result"
    }
   ],
   "source": [
    "cal_4.subtraction()"
   ]
  },
  {
   "cell_type": "markdown",
   "metadata": {
    "id": "CjcOvt4hFtvF"
   },
   "source": [
    "# IV. Class 상속(Inheritance)"
   ]
  },
  {
   "cell_type": "markdown",
   "metadata": {
    "id": "osG2ASmaM-ux"
   },
   "source": [
    "> ## 1) 'myComputer' Class 선언\n",
    "\n",
    "* <font color = 'red'>Class Calculator, Calculator_2에 선언된 Method를 상속받아 사용 가능</font>\n",
    "* <font color = 'blue'>Class myComputer 내에 추가 Method를 선언하여 사용</font>"
   ]
  },
  {
   "cell_type": "code",
   "execution_count": 21,
   "metadata": {
    "id": "M_FnvFAWFy1P"
   },
   "outputs": [],
   "source": [
    "class myComputer(Calculator, Calculator_2):\n",
    "    def multiplication(self):\n",
    "        result = self.m * self.n\n",
    "        return result\n",
    "    def division(self):\n",
    "        result = self.m / self.n\n",
    "        return result"
   ]
  },
  {
   "cell_type": "markdown",
   "metadata": {
    "id": "-fqwmdv8NgaU"
   },
   "source": [
    "> ## 2) Instance 생성"
   ]
  },
  {
   "cell_type": "code",
   "execution_count": 23,
   "metadata": {
    "colab": {
     "base_uri": "https://localhost:8080/"
    },
    "executionInfo": {
     "elapsed": 60,
     "status": "ok",
     "timestamp": 1663286611127,
     "user": {
      "displayName": "이정구",
      "userId": "17400242557229223804"
     },
     "user_tz": -540
    },
    "id": "Xaca9Gr6GRh7",
    "outputId": "ff9b7699-5860-4084-931b-aaa1525955a9"
   },
   "outputs": [
    {
     "name": "stdout",
     "output_type": "stream",
     "text": [
      "메모리에 인스턴스가 8, 2 값과 함께 생성되었습니다.\n"
     ]
    }
   ],
   "source": [
    "com_1 = myComputer(8, 2)\n"
   ]
  },
  {
   "cell_type": "markdown",
   "metadata": {
    "id": "MhMJXYC8Nlz7"
   },
   "source": [
    "> ## 3) Method 사용"
   ]
  },
  {
   "cell_type": "markdown",
   "metadata": {
    "id": "q49dSZkzr4QK"
   },
   "source": [
    "* Calculator Class로 부터 <font color = 'red'>상속된</font> addition( ) Method"
   ]
  },
  {
   "cell_type": "code",
   "execution_count": 24,
   "metadata": {
    "colab": {
     "base_uri": "https://localhost:8080/"
    },
    "executionInfo": {
     "elapsed": 52,
     "status": "ok",
     "timestamp": 1663286611127,
     "user": {
      "displayName": "이정구",
      "userId": "17400242557229223804"
     },
     "user_tz": -540
    },
    "id": "z0ZqQJFjGjGT",
    "outputId": "cee79f98-4cf9-4eea-f52c-a17077c1838f"
   },
   "outputs": [
    {
     "data": {
      "text/plain": [
       "10"
      ]
     },
     "execution_count": 24,
     "metadata": {},
     "output_type": "execute_result"
    }
   ],
   "source": [
    "com_1.addtion()"
   ]
  },
  {
   "cell_type": "markdown",
   "metadata": {
    "id": "kXeBy8zkr-EX"
   },
   "source": [
    "* Calculator_2 Class로 부터 <font color = 'red'>상속된</font> subtraction( ) Method"
   ]
  },
  {
   "cell_type": "code",
   "execution_count": 25,
   "metadata": {
    "colab": {
     "base_uri": "https://localhost:8080/"
    },
    "executionInfo": {
     "elapsed": 51,
     "status": "ok",
     "timestamp": 1663286611128,
     "user": {
      "displayName": "이정구",
      "userId": "17400242557229223804"
     },
     "user_tz": -540
    },
    "id": "zYTxISzPHk6Y",
    "outputId": "cf24c8e9-313d-4a6f-c6d6-31d82d67739d"
   },
   "outputs": [
    {
     "data": {
      "text/plain": [
       "6"
      ]
     },
     "execution_count": 25,
     "metadata": {},
     "output_type": "execute_result"
    }
   ],
   "source": [
    "com_1.subtraction()"
   ]
  },
  {
   "cell_type": "markdown",
   "metadata": {
    "id": "WAyiBoSAsIac"
   },
   "source": [
    "* myComputer Class에 <font color = 'blue'>선언된</font> multiplication( ) Method"
   ]
  },
  {
   "cell_type": "code",
   "execution_count": 26,
   "metadata": {
    "colab": {
     "base_uri": "https://localhost:8080/"
    },
    "executionInfo": {
     "elapsed": 48,
     "status": "ok",
     "timestamp": 1663286611128,
     "user": {
      "displayName": "이정구",
      "userId": "17400242557229223804"
     },
     "user_tz": -540
    },
    "id": "Ch2IFve6Iieg",
    "outputId": "ec0325bf-f994-49e6-8a69-732e252b15e5"
   },
   "outputs": [
    {
     "data": {
      "text/plain": [
       "16"
      ]
     },
     "execution_count": 26,
     "metadata": {},
     "output_type": "execute_result"
    }
   ],
   "source": [
    "com_1.multiplication()"
   ]
  },
  {
   "cell_type": "markdown",
   "metadata": {
    "id": "kg5SC2cHywrm"
   },
   "source": [
    "* myComputer Class에 <font color = 'blue'>선언된</font> division( ) Method"
   ]
  },
  {
   "cell_type": "code",
   "execution_count": 27,
   "metadata": {
    "colab": {
     "base_uri": "https://localhost:8080/"
    },
    "executionInfo": {
     "elapsed": 43,
     "status": "ok",
     "timestamp": 1663286611128,
     "user": {
      "displayName": "이정구",
      "userId": "17400242557229223804"
     },
     "user_tz": -540
    },
    "id": "B54vmUA8wQlV",
    "outputId": "8f5328e8-e863-419a-a202-1fbd9ce27f9a"
   },
   "outputs": [
    {
     "data": {
      "text/plain": [
       "4.0"
      ]
     },
     "execution_count": 27,
     "metadata": {},
     "output_type": "execute_result"
    }
   ],
   "source": [
    "com_1.division()"
   ]
  },
  {
   "cell_type": "markdown",
   "metadata": {
    "id": "Xvx9sa2vy20R"
   },
   "source": [
    "* Calculator Class로 부터 <font color = 'red'>상속된</font> inputData( ) Method"
   ]
  },
  {
   "cell_type": "code",
   "execution_count": 28,
   "metadata": {
    "id": "d-70frcFwoML"
   },
   "outputs": [],
   "source": [
    "com_1.inputData(9, 3)"
   ]
  },
  {
   "cell_type": "code",
   "execution_count": 29,
   "metadata": {
    "colab": {
     "base_uri": "https://localhost:8080/"
    },
    "executionInfo": {
     "elapsed": 41,
     "status": "ok",
     "timestamp": 1663286611129,
     "user": {
      "displayName": "이정구",
      "userId": "17400242557229223804"
     },
     "user_tz": -540
    },
    "id": "3UTEfqAh3otR",
    "outputId": "1dd11dae-fb7e-437a-9755-3b25eac8e57b"
   },
   "outputs": [
    {
     "data": {
      "text/plain": [
       "12"
      ]
     },
     "execution_count": 29,
     "metadata": {},
     "output_type": "execute_result"
    }
   ],
   "source": [
    "com_1.addtion()"
   ]
  },
  {
   "cell_type": "markdown",
   "metadata": {
    "id": "WzjMj98gj--2"
   },
   "source": [
    "# V. Package\n",
    "\n",
    "* 관련된 모듈을 <font color = 'blue'>디렉토리 구조</font>를 사용하여 <font color = 'red'>계층적</font>으로 관리\n",
    " - Package_Name<font color = 'red'>.</font>Module_name<font color = 'red'>.</font>Function_Name( )\n",
    " - \\_\\_init\\_\\_.py 파일을 사용하여 해당 디렉토리가 Package에 사용됨을 알려줌\n",
    "* import 또는 from ~ import 구문으로 호출하여 사용"
   ]
  },
  {
   "cell_type": "markdown",
   "metadata": {
    "id": "EH3XpblGHUTn"
   },
   "source": [
    "> ## 1) 사용자 패키지 만들기"
   ]
  },
  {
   "cell_type": "markdown",
   "metadata": {
    "id": "yTi9A8Y4MhTi"
   },
   "source": [
    "* Colab에 '<font color = 'blue'>myPackage</font>' 디렉토리 생성\n",
    "* 'myPackage' 디렉토리 내에 <font color = 'blue'>\\_\\_init\\_\\_.py</font> 생성\n",
    "* \\_\\_init\\_\\_.py에 version=1.0 작성 후 UTF-8 Encoding으로 저장\n",
    "* <font color = 'blue'>myLibrary.py</font> 파일(Module) 생성(UTF-8 Encoding)\n",
    "* myLibrary.py 내에 다양한 Fuction 및 Class 정의\n",
    "* myLibrary.py 파일을 'myPackage' 디렉토리로 이동"
   ]
  },
  {
   "cell_type": "markdown",
   "metadata": {
    "id": "L0VSiU--kqm4"
   },
   "source": [
    "> ## 2) 사용자 패키지 with import"
   ]
  },
  {
   "cell_type": "markdown",
   "metadata": {
    "id": "3szSMPZflCLx"
   },
   "source": [
    "* 사용구문: <font color = 'blue'>import</font> Package_Name<font color = 'red'>.</font>Module_Name"
   ]
  },
  {
   "cell_type": "code",
   "execution_count": 30,
   "metadata": {
    "id": "B8xsBB0TKPU0"
   },
   "outputs": [],
   "source": [
    "import myPackage.myLibrary "
   ]
  },
  {
   "cell_type": "markdown",
   "metadata": {
    "id": "chhSqBYYmg55"
   },
   "source": [
    "* 사용구문: Package_Name<font color = 'red'>.</font>Module_Name<font color = 'red'>.</font>Function_Name"
   ]
  },
  {
   "cell_type": "code",
   "execution_count": 42,
   "metadata": {
    "colab": {
     "base_uri": "https://localhost:8080/"
    },
    "executionInfo": {
     "elapsed": 38,
     "status": "ok",
     "timestamp": 1663286611129,
     "user": {
      "displayName": "이정구",
      "userId": "17400242557229223804"
     },
     "user_tz": -540
    },
    "id": "pvvclFfnKcDT",
    "outputId": "ee74375b-c96c-4723-bc0d-c9dffb2249a5"
   },
   "outputs": [
    {
     "name": "stdout",
     "output_type": "stream",
     "text": [
      "Hello Package\n"
     ]
    }
   ],
   "source": [
    "myPackage.myLibrary.hi()"
   ]
  },
  {
   "cell_type": "markdown",
   "metadata": {
    "id": "Dewlj7D6S4ba"
   },
   "source": [
    "* 사용구문: Object_Name = Package_Name<font color = 'red'>.</font>Module_Name<font color = 'red'>.</font>Class_Name()"
   ]
  },
  {
   "cell_type": "code",
   "execution_count": 47,
   "metadata": {
    "id": "K5khZ3OpKv07"
   },
   "outputs": [],
   "source": [
    "ins_1 = myPackage.myLibrary.myClass()"
   ]
  },
  {
   "cell_type": "code",
   "execution_count": 48,
   "metadata": {
    "colab": {
     "base_uri": "https://localhost:8080/"
    },
    "executionInfo": {
     "elapsed": 36,
     "status": "ok",
     "timestamp": 1663286611130,
     "user": {
      "displayName": "이정구",
      "userId": "17400242557229223804"
     },
     "user_tz": -540
    },
    "id": "GaIm1haLOa6Q",
    "outputId": "9747e728-4329-4a75-d4a9-b4b544ec4dc2"
   },
   "outputs": [
    {
     "name": "stdout",
     "output_type": "stream",
     "text": [
      "메모리에 인스턴스가 5, 9 값과 함께 생성되었습니다.\n"
     ]
    }
   ],
   "source": [
    "com_2 = myPackage.myLibrary.myComputer(5, 9)"
   ]
  },
  {
   "cell_type": "markdown",
   "metadata": {
    "id": "e6dckpNcTUOX"
   },
   "source": [
    "* 사용구문: Object_Name<font color = 'red'>.</font>Method_Name( )"
   ]
  },
  {
   "cell_type": "code",
   "execution_count": 49,
   "metadata": {
    "colab": {
     "base_uri": "https://localhost:8080/"
    },
    "executionInfo": {
     "elapsed": 32,
     "status": "ok",
     "timestamp": 1663286611131,
     "user": {
      "displayName": "이정구",
      "userId": "17400242557229223804"
     },
     "user_tz": -540
    },
    "id": "QLkeKutzN7Jr",
    "outputId": "539123f3-53ee-4478-98d9-f4fbd65222a7"
   },
   "outputs": [
    {
     "name": "stdout",
     "output_type": "stream",
     "text": [
      "Hello Class\n"
     ]
    }
   ],
   "source": [
    "ins_1.func_1()"
   ]
  },
  {
   "cell_type": "code",
   "execution_count": 50,
   "metadata": {
    "colab": {
     "base_uri": "https://localhost:8080/"
    },
    "executionInfo": {
     "elapsed": 29,
     "status": "ok",
     "timestamp": 1663286611131,
     "user": {
      "displayName": "이정구",
      "userId": "17400242557229223804"
     },
     "user_tz": -540
    },
    "id": "KNVy-guPOpMr",
    "outputId": "f97dd693-1078-4235-c07c-6ea5405ff5cb"
   },
   "outputs": [
    {
     "data": {
      "text/plain": [
       "45"
      ]
     },
     "execution_count": 50,
     "metadata": {},
     "output_type": "execute_result"
    }
   ],
   "source": [
    "com_2.multiplication()"
   ]
  },
  {
   "cell_type": "markdown",
   "metadata": {
    "id": "Mbn3kfqzX5ef"
   },
   "source": [
    "> ## 3) 사용자 패키지 with Alias import"
   ]
  },
  {
   "cell_type": "markdown",
   "metadata": {
    "id": "Vq-6-osOSUg7"
   },
   "source": [
    "* 사용구문: <font color = 'blue'>import</font> Package_Name<font color = 'red'>.</font>Module_Name <font color = 'blue'>as</font> Alias"
   ]
  },
  {
   "cell_type": "code",
   "execution_count": 52,
   "metadata": {
    "id": "VMLhmt-8R5PM"
   },
   "outputs": [],
   "source": [
    "import myPackage.myLibrary as mp"
   ]
  },
  {
   "cell_type": "markdown",
   "metadata": {
    "id": "freaVjwrlpr6"
   },
   "source": [
    "* 사용구문 : <font color = 'blue'>Alias</font><font color = 'red'>.</font>Function_Name( )"
   ]
  },
  {
   "cell_type": "code",
   "execution_count": 53,
   "metadata": {
    "colab": {
     "base_uri": "https://localhost:8080/"
    },
    "executionInfo": {
     "elapsed": 26,
     "status": "ok",
     "timestamp": 1663286611132,
     "user": {
      "displayName": "이정구",
      "userId": "17400242557229223804"
     },
     "user_tz": -540
    },
    "id": "wC8ns5WHR6nq",
    "outputId": "10c6cb63-502b-49ec-d709-9d4c8616d006"
   },
   "outputs": [
    {
     "name": "stdout",
     "output_type": "stream",
     "text": [
      "Hello Package\n"
     ]
    }
   ],
   "source": [
    "mp.hi()"
   ]
  },
  {
   "cell_type": "markdown",
   "metadata": {
    "id": "IA_kQvA2VOuM"
   },
   "source": [
    "* 사용구문: Object_Name = <font color = 'blue'>Alias</font><font color = 'red'>.</font>Class_Name()"
   ]
  },
  {
   "cell_type": "code",
   "execution_count": 54,
   "metadata": {
    "id": "eX-wfCvTU4da"
   },
   "outputs": [],
   "source": [
    "ins_2 = mp.myClass()"
   ]
  },
  {
   "cell_type": "markdown",
   "metadata": {
    "id": "lQfuzmTTVfgq"
   },
   "source": [
    "* 사용구문: Object_Name<font color = 'red'>.</font>Method_Name( )"
   ]
  },
  {
   "cell_type": "code",
   "execution_count": 55,
   "metadata": {
    "colab": {
     "base_uri": "https://localhost:8080/"
    },
    "executionInfo": {
     "elapsed": 23,
     "status": "ok",
     "timestamp": 1663286611132,
     "user": {
      "displayName": "이정구",
      "userId": "17400242557229223804"
     },
     "user_tz": -540
    },
    "id": "sQhZkjA4U_zd",
    "outputId": "49860f8d-e63c-42fd-ce22-2bf650631e57"
   },
   "outputs": [
    {
     "name": "stdout",
     "output_type": "stream",
     "text": [
      "Hello Class\n"
     ]
    }
   ],
   "source": [
    "ins_2.func_1()"
   ]
  },
  {
   "cell_type": "markdown",
   "metadata": {
    "id": "4Y4xuITukzMI"
   },
   "source": [
    "> ## 4) 사용자 패키지 with from ~ import"
   ]
  },
  {
   "cell_type": "markdown",
   "metadata": {
    "id": "kdr_XUXgmyc9"
   },
   "source": [
    "* 사용구문: <font color = 'blue'>from</font> Package_Name<font color = 'red'>.</font>Module_Name <font color = 'blue'>import</font> Function_Name"
   ]
  },
  {
   "cell_type": "code",
   "execution_count": 56,
   "metadata": {
    "id": "YHg_S147Lqdr"
   },
   "outputs": [],
   "source": [
    "from myPackage.myLibrary import hi "
   ]
  },
  {
   "cell_type": "markdown",
   "metadata": {
    "id": "nwyIA2OanAm9"
   },
   "source": [
    "* 사용구문: Function_Name( )"
   ]
  },
  {
   "cell_type": "code",
   "execution_count": 57,
   "metadata": {
    "colab": {
     "base_uri": "https://localhost:8080/"
    },
    "executionInfo": {
     "elapsed": 21,
     "status": "ok",
     "timestamp": 1663286611133,
     "user": {
      "displayName": "이정구",
      "userId": "17400242557229223804"
     },
     "user_tz": -540
    },
    "id": "nz4RkwQCL-g8",
    "outputId": "53de160e-d11e-4370-c959-19d8accc52d8"
   },
   "outputs": [
    {
     "name": "stdout",
     "output_type": "stream",
     "text": [
      "Hello Package\n"
     ]
    }
   ],
   "source": [
    "hi()"
   ]
  },
  {
   "cell_type": "markdown",
   "metadata": {
    "id": "anD8my27P02G"
   },
   "source": [
    "* 사용구문: <font color = 'blue'>from</font> Package_Name<font color = 'red'>.</font>Module_Name <font color = 'blue'>import</font> Class_Name"
   ]
  },
  {
   "cell_type": "code",
   "execution_count": 58,
   "metadata": {
    "id": "ocW5Yra1O9bW"
   },
   "outputs": [],
   "source": [
    "from myPackage.myLibrary import myComputer "
   ]
  },
  {
   "cell_type": "markdown",
   "metadata": {
    "id": "LBLzHq4sP7hn"
   },
   "source": [
    "* 사용구문: Class_Name( )"
   ]
  },
  {
   "cell_type": "code",
   "execution_count": 59,
   "metadata": {
    "colab": {
     "base_uri": "https://localhost:8080/"
    },
    "executionInfo": {
     "elapsed": 19,
     "status": "ok",
     "timestamp": 1663286611134,
     "user": {
      "displayName": "이정구",
      "userId": "17400242557229223804"
     },
     "user_tz": -540
    },
    "id": "E0nLZ8d8PDrq",
    "outputId": "b376ce07-91f6-4344-c97c-78fe6e607cd9"
   },
   "outputs": [
    {
     "name": "stdout",
     "output_type": "stream",
     "text": [
      "메모리에 인스턴스가 3, 6 값과 함께 생성되었습니다.\n"
     ]
    }
   ],
   "source": [
    "com_3 = myComputer(3, 6)"
   ]
  },
  {
   "cell_type": "code",
   "execution_count": 60,
   "metadata": {
    "colab": {
     "base_uri": "https://localhost:8080/"
    },
    "executionInfo": {
     "elapsed": 17,
     "status": "ok",
     "timestamp": 1663286611134,
     "user": {
      "displayName": "이정구",
      "userId": "17400242557229223804"
     },
     "user_tz": -540
    },
    "id": "y4uj7dsUPJyc",
    "outputId": "9ddf0cdc-d158-4df4-d30a-e81f46295d64"
   },
   "outputs": [
    {
     "data": {
      "text/plain": [
       "9"
      ]
     },
     "execution_count": 60,
     "metadata": {},
     "output_type": "execute_result"
    }
   ],
   "source": [
    "com_3.addtion()"
   ]
  },
  {
   "cell_type": "markdown",
   "metadata": {
    "id": "TajcTsFSO1WC"
   },
   "source": [
    "# \n",
    "# \n",
    "# \n",
    "# The End\n",
    "# \n",
    "# \n",
    "# "
   ]
  }
 ],
 "metadata": {
  "colab": {
   "collapsed_sections": [],
   "provenance": []
  },
  "kernelspec": {
   "display_name": "Python 3 (ipykernel)",
   "language": "python",
   "name": "python3"
  },
  "language_info": {
   "codemirror_mode": {
    "name": "ipython",
    "version": 3
   },
   "file_extension": ".py",
   "mimetype": "text/x-python",
   "name": "python",
   "nbconvert_exporter": "python",
   "pygments_lexer": "ipython3",
   "version": "3.10.8"
  },
  "toc": {
   "base_numbering": 1,
   "nav_menu": {},
   "number_sections": true,
   "sideBar": true,
   "skip_h1_title": false,
   "title_cell": "Table of Contents",
   "title_sidebar": "Contents",
   "toc_cell": false,
   "toc_position": {},
   "toc_section_display": true,
   "toc_window_display": false
  }
 },
 "nbformat": 4,
 "nbformat_minor": 1
}
