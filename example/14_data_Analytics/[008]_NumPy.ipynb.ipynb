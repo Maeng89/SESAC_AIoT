{
 "cells": [
  {
   "cell_type": "markdown",
   "metadata": {
    "id": "aeWLax5_Rr8S"
   },
   "source": [
    "# NumPy(Numerical Python)\n",
    "\n",
    "* 수학 및 과학적 연산을 쉽고 빠르게 지원\n",
    "* 다차원 <font color = 'blue'>행렬</font>(Array/Matrix)을 효과적으로 처리\n",
    "* 일반적으로 <font color = 'red'>같은 데이터 타입 값</font>으로 구성\n",
    "* https://numpy.org"
   ]
  },
  {
   "cell_type": "code",
   "execution_count": 8,
   "metadata": {
    "id": "RbPgODpVzdHI"
   },
   "outputs": [],
   "source": [
    "import warnings\n",
    "warnings.filterwarnings('ignore')"
   ]
  },
  {
   "cell_type": "markdown",
   "metadata": {
    "id": "z1aUpoPri_N7"
   },
   "source": [
    "# I. NumPy Package import ~ as"
   ]
  },
  {
   "cell_type": "code",
   "execution_count": 9,
   "metadata": {
    "id": "NDRXkFkXR3Dm"
   },
   "outputs": [],
   "source": [
    "import numpy as np "
   ]
  },
  {
   "cell_type": "markdown",
   "metadata": {
    "id": "oN6xdqV0a6fX"
   },
   "source": [
    "* Version Check"
   ]
  },
  {
   "cell_type": "code",
   "execution_count": 10,
   "metadata": {
    "colab": {
     "base_uri": "https://localhost:8080/",
     "height": 35
    },
    "executionInfo": {
     "elapsed": 86,
     "status": "ok",
     "timestamp": 1664175530511,
     "user": {
      "displayName": "이정구",
      "userId": "17400242557229223804"
     },
     "user_tz": -540
    },
    "id": "8UfFpxhJX9d1",
    "outputId": "f721719e-803b-4cdb-b1ee-ba312ccf01b2"
   },
   "outputs": [
    {
     "data": {
      "text/plain": [
       "'1.23.5'"
      ]
     },
     "execution_count": 10,
     "metadata": {},
     "output_type": "execute_result"
    }
   ],
   "source": [
    "np.__version__"
   ]
  },
  {
   "cell_type": "markdown",
   "metadata": {
    "id": "EctznY6mTLqO"
   },
   "source": [
    "# II. Array 생성\n",
    "\n",
    "* Python <font color = 'blue'>List 구조</font>를 사용"
   ]
  },
  {
   "cell_type": "markdown",
   "metadata": {
    "id": "aYKP2-iqaeLt"
   },
   "source": [
    ">## 1) Scalar - 0D Array - Rank0 Tensor\n",
    "> 방향성 없이 양만 존재"
   ]
  },
  {
   "cell_type": "code",
   "execution_count": 11,
   "metadata": {
    "id": "lWuGV8W0UBk3"
   },
   "outputs": [],
   "source": [
    "# interger to array casing\n",
    "a0 = np.array(9)"
   ]
  },
  {
   "cell_type": "code",
   "execution_count": 12,
   "metadata": {
    "colab": {
     "base_uri": "https://localhost:8080/"
    },
    "executionInfo": {
     "elapsed": 87,
     "status": "ok",
     "timestamp": 1664175530513,
     "user": {
      "displayName": "이정구",
      "userId": "17400242557229223804"
     },
     "user_tz": -540
    },
    "id": "a5h3YNhE-kpS",
    "outputId": "2b5f81ce-abcf-4455-fe50-9364ead3b13c"
   },
   "outputs": [
    {
     "name": "stdout",
     "output_type": "stream",
     "text": [
      "9 <class 'numpy.ndarray'>\n"
     ]
    }
   ],
   "source": [
    "print(a0, type(a0))"
   ]
  },
  {
   "cell_type": "markdown",
   "metadata": {
    "id": "1ppJk47HUPax"
   },
   "source": [
    ">## 2) Vector - 1D Array - Rank1 Tensor"
   ]
  },
  {
   "cell_type": "code",
   "execution_count": 13,
   "metadata": {
    "id": "Fgdh070xUcLq"
   },
   "outputs": [],
   "source": [
    "a1 = np.array([1, 3, 5, 7, 9])"
   ]
  },
  {
   "cell_type": "code",
   "execution_count": 14,
   "metadata": {
    "colab": {
     "base_uri": "https://localhost:8080/"
    },
    "executionInfo": {
     "elapsed": 83,
     "status": "ok",
     "timestamp": 1664175530514,
     "user": {
      "displayName": "이정구",
      "userId": "17400242557229223804"
     },
     "user_tz": -540
    },
    "id": "nkdv5v7Lhp4w",
    "outputId": "6f5c4813-1b46-484d-eac0-0b580b3e24d8"
   },
   "outputs": [
    {
     "name": "stdout",
     "output_type": "stream",
     "text": [
      "[1 3 5 7 9]\n"
     ]
    }
   ],
   "source": [
    "print(a1)"
   ]
  },
  {
   "cell_type": "code",
   "execution_count": 15,
   "metadata": {
    "colab": {
     "base_uri": "https://localhost:8080/"
    },
    "executionInfo": {
     "elapsed": 79,
     "status": "ok",
     "timestamp": 1664175530514,
     "user": {
      "displayName": "이정구",
      "userId": "17400242557229223804"
     },
     "user_tz": -540
    },
    "id": "_n04gihUajEp",
    "outputId": "2d961e20-73e9-4a69-febd-2612d90bc477"
   },
   "outputs": [
    {
     "data": {
      "text/plain": [
       "5"
      ]
     },
     "execution_count": 15,
     "metadata": {},
     "output_type": "execute_result"
    }
   ],
   "source": [
    "a1[2]"
   ]
  },
  {
   "cell_type": "code",
   "execution_count": 16,
   "metadata": {
    "colab": {
     "base_uri": "https://localhost:8080/"
    },
    "executionInfo": {
     "elapsed": 75,
     "status": "ok",
     "timestamp": 1664175530515,
     "user": {
      "displayName": "이정구",
      "userId": "17400242557229223804"
     },
     "user_tz": -540
    },
    "id": "6ZjetBi9amMd",
    "outputId": "48c313ae-8057-463d-8ae0-a44536f2f92b"
   },
   "outputs": [
    {
     "data": {
      "text/plain": [
       "array([3, 5])"
      ]
     },
     "execution_count": 16,
     "metadata": {},
     "output_type": "execute_result"
    }
   ],
   "source": [
    "a1[1:3]"
   ]
  },
  {
   "cell_type": "markdown",
   "metadata": {
    "id": "Dlvo0qH_Uw-n"
   },
   "source": [
    ">## 3) Matrix - 2D Array - Rank2 Tensor"
   ]
  },
  {
   "cell_type": "code",
   "execution_count": 17,
   "metadata": {
    "id": "2wvfUabnUwIJ"
   },
   "outputs": [],
   "source": [
    "a2 = np.array([[1, 2, 3],\n",
    "               [4, 5, 6],\n",
    "               [7, 8, 9]])"
   ]
  },
  {
   "cell_type": "code",
   "execution_count": 18,
   "metadata": {
    "colab": {
     "base_uri": "https://localhost:8080/"
    },
    "executionInfo": {
     "elapsed": 73,
     "status": "ok",
     "timestamp": 1664175530517,
     "user": {
      "displayName": "이정구",
      "userId": "17400242557229223804"
     },
     "user_tz": -540
    },
    "id": "UaxZnudx-rid",
    "outputId": "fcf7fdb3-dcd1-4b08-b954-4611af1dc07d"
   },
   "outputs": [
    {
     "name": "stdout",
     "output_type": "stream",
     "text": [
      "[[1 2 3]\n",
      " [4 5 6]\n",
      " [7 8 9]]\n"
     ]
    }
   ],
   "source": [
    "print(a2)"
   ]
  },
  {
   "cell_type": "markdown",
   "metadata": {
    "id": "sM4p2mo0cf1w"
   },
   "source": [
    "* a2[행]"
   ]
  },
  {
   "cell_type": "code",
   "execution_count": 19,
   "metadata": {
    "colab": {
     "base_uri": "https://localhost:8080/"
    },
    "executionInfo": {
     "elapsed": 71,
     "status": "ok",
     "timestamp": 1664175530518,
     "user": {
      "displayName": "이정구",
      "userId": "17400242557229223804"
     },
     "user_tz": -540
    },
    "id": "wWEJY5rZasoR",
    "outputId": "6fe334a4-3cdf-4368-af87-5fee4b9c7ff9"
   },
   "outputs": [
    {
     "data": {
      "text/plain": [
       "array([4, 5, 6])"
      ]
     },
     "execution_count": 19,
     "metadata": {},
     "output_type": "execute_result"
    }
   ],
   "source": [
    "a2[1]"
   ]
  },
  {
   "cell_type": "markdown",
   "metadata": {
    "id": "jmHAIeYQcjCn"
   },
   "source": [
    "* a2[행, 열]"
   ]
  },
  {
   "cell_type": "code",
   "execution_count": 20,
   "metadata": {
    "colab": {
     "base_uri": "https://localhost:8080/"
    },
    "executionInfo": {
     "elapsed": 68,
     "status": "ok",
     "timestamp": 1664175530518,
     "user": {
      "displayName": "이정구",
      "userId": "17400242557229223804"
     },
     "user_tz": -540
    },
    "id": "6P1w7T8tauUI",
    "outputId": "71ab4033-4d8c-4070-89fd-70e9395d2cc5"
   },
   "outputs": [
    {
     "data": {
      "text/plain": [
       "5"
      ]
     },
     "execution_count": 20,
     "metadata": {},
     "output_type": "execute_result"
    }
   ],
   "source": [
    "a2[1, 1]"
   ]
  },
  {
   "cell_type": "markdown",
   "metadata": {
    "id": "EHH3aptjcmwk"
   },
   "source": [
    "* a2[<font color = 'blue'>행</font>, 열]"
   ]
  },
  {
   "cell_type": "code",
   "execution_count": 21,
   "metadata": {
    "colab": {
     "base_uri": "https://localhost:8080/"
    },
    "executionInfo": {
     "elapsed": 66,
     "status": "ok",
     "timestamp": 1664175530519,
     "user": {
      "displayName": "이정구",
      "userId": "17400242557229223804"
     },
     "user_tz": -540
    },
    "id": "b23hRAF7a-sZ",
    "outputId": "eb56d957-c1d5-4c54-9a35-96cc43b6f4bb"
   },
   "outputs": [
    {
     "data": {
      "text/plain": [
       "array([2, 5, 8])"
      ]
     },
     "execution_count": 21,
     "metadata": {},
     "output_type": "execute_result"
    }
   ],
   "source": [
    "a2[:, 1]"
   ]
  },
  {
   "cell_type": "markdown",
   "metadata": {
    "id": "yxyoorBzVKBO"
   },
   "source": [
    ">## 4) Array - 3D Array - Rank3 Tensor"
   ]
  },
  {
   "cell_type": "code",
   "execution_count": 22,
   "metadata": {
    "id": "zxg8vaSzVQjN"
   },
   "outputs": [],
   "source": [
    "a3 = np.array([[[1, 2],\n",
    "                [3, 4]],\n",
    "               [[5, 6],\n",
    "                [7, 8]],\n",
    "               [[9, 10],\n",
    "                [11, 12]]])"
   ]
  },
  {
   "cell_type": "code",
   "execution_count": 23,
   "metadata": {
    "colab": {
     "base_uri": "https://localhost:8080/"
    },
    "executionInfo": {
     "elapsed": 63,
     "status": "ok",
     "timestamp": 1664175530520,
     "user": {
      "displayName": "이정구",
      "userId": "17400242557229223804"
     },
     "user_tz": -540
    },
    "id": "a1oeHPuS-xdY",
    "outputId": "7442e3a4-45bb-4724-df1e-ee4845fc43b0"
   },
   "outputs": [
    {
     "name": "stdout",
     "output_type": "stream",
     "text": [
      "[[[ 1  2]\n",
      "  [ 3  4]]\n",
      "\n",
      " [[ 5  6]\n",
      "  [ 7  8]]\n",
      "\n",
      " [[ 9 10]\n",
      "  [11 12]]]\n"
     ]
    }
   ],
   "source": [
    "print(a3)"
   ]
  },
  {
   "cell_type": "markdown",
   "metadata": {
    "id": "I9bGp1zUb1Sd"
   },
   "source": [
    "* a3[축]"
   ]
  },
  {
   "cell_type": "code",
   "execution_count": 25,
   "metadata": {
    "colab": {
     "base_uri": "https://localhost:8080/"
    },
    "executionInfo": {
     "elapsed": 61,
     "status": "ok",
     "timestamp": 1664175530521,
     "user": {
      "displayName": "이정구",
      "userId": "17400242557229223804"
     },
     "user_tz": -540
    },
    "id": "OBW536UKbKcq",
    "outputId": "23c9a979-5459-477a-e1d0-3b9e6008da75"
   },
   "outputs": [
    {
     "data": {
      "text/plain": [
       "array([[5, 6],\n",
       "       [7, 8]])"
      ]
     },
     "execution_count": 25,
     "metadata": {},
     "output_type": "execute_result"
    }
   ],
   "source": [
    "a3[1]"
   ]
  },
  {
   "cell_type": "markdown",
   "metadata": {
    "id": "ES3mx6L3cG0e"
   },
   "source": [
    "* a3[축, 행]"
   ]
  },
  {
   "cell_type": "code",
   "execution_count": 28,
   "metadata": {
    "colab": {
     "base_uri": "https://localhost:8080/"
    },
    "executionInfo": {
     "elapsed": 58,
     "status": "ok",
     "timestamp": 1664175530521,
     "user": {
      "displayName": "이정구",
      "userId": "17400242557229223804"
     },
     "user_tz": -540
    },
    "id": "lFZz5LFfbNW-",
    "outputId": "2c00a8ca-c13d-4e6a-f798-dcb399b0edf2"
   },
   "outputs": [
    {
     "data": {
      "text/plain": [
       "array([7, 8])"
      ]
     },
     "execution_count": 28,
     "metadata": {},
     "output_type": "execute_result"
    }
   ],
   "source": [
    "a3[1, 1]"
   ]
  },
  {
   "cell_type": "markdown",
   "metadata": {
    "id": "9La5-8iLcPIu"
   },
   "source": [
    "* a3[축, 행, 열]"
   ]
  },
  {
   "cell_type": "code",
   "execution_count": 29,
   "metadata": {
    "colab": {
     "base_uri": "https://localhost:8080/"
    },
    "executionInfo": {
     "elapsed": 56,
     "status": "ok",
     "timestamp": 1664175530522,
     "user": {
      "displayName": "이정구",
      "userId": "17400242557229223804"
     },
     "user_tz": -540
    },
    "id": "_vZRr_iHbQo8",
    "outputId": "e98f285d-5912-43ad-aab2-9f94bb2d2924"
   },
   "outputs": [
    {
     "data": {
      "text/plain": [
       "8"
      ]
     },
     "execution_count": 29,
     "metadata": {},
     "output_type": "execute_result"
    }
   ],
   "source": [
    "a3[1, 1, 1]"
   ]
  },
  {
   "cell_type": "markdown",
   "metadata": {
    "id": "RNtmqIO5cSvO"
   },
   "source": [
    "* a3[<font color = 'blue'>축</font>, 행, 열]"
   ]
  },
  {
   "cell_type": "code",
   "execution_count": 30,
   "metadata": {
    "colab": {
     "base_uri": "https://localhost:8080/"
    },
    "executionInfo": {
     "elapsed": 52,
     "status": "ok",
     "timestamp": 1664175530523,
     "user": {
      "displayName": "이정구",
      "userId": "17400242557229223804"
     },
     "user_tz": -540
    },
    "id": "eQPTyC1AbV47",
    "outputId": "bd91216c-eab6-4d7c-dcb8-a56e3556cda2"
   },
   "outputs": [
    {
     "data": {
      "text/plain": [
       "array([1, 5, 9])"
      ]
     },
     "execution_count": 30,
     "metadata": {},
     "output_type": "execute_result"
    }
   ],
   "source": [
    "a3[:, 0, 0]"
   ]
  },
  {
   "cell_type": "markdown",
   "metadata": {
    "id": "mqIbI-EAcTTt"
   },
   "source": [
    "* a3[<font color = 'blue'>축</font>, <font color = 'blue'>행</font>, 열]"
   ]
  },
  {
   "cell_type": "code",
   "execution_count": 31,
   "metadata": {
    "colab": {
     "base_uri": "https://localhost:8080/"
    },
    "executionInfo": {
     "elapsed": 49,
     "status": "ok",
     "timestamp": 1664175530524,
     "user": {
      "displayName": "이정구",
      "userId": "17400242557229223804"
     },
     "user_tz": -540
    },
    "id": "gNbHHHVIbgkY",
    "outputId": "3c236929-41bb-4f4c-f68c-b0b0908e65b4"
   },
   "outputs": [
    {
     "data": {
      "text/plain": [
       "array([[ 1,  3],\n",
       "       [ 5,  7],\n",
       "       [ 9, 11]])"
      ]
     },
     "execution_count": 31,
     "metadata": {},
     "output_type": "execute_result"
    }
   ],
   "source": [
    "a3[:, :, 0]"
   ]
  },
  {
   "cell_type": "markdown",
   "metadata": {
    "id": "aBwa0fe1WHT7"
   },
   "source": [
    "# III. AR.shape and AR.reshape( )"
   ]
  },
  {
   "cell_type": "code",
   "execution_count": 32,
   "metadata": {
    "id": "hLN37azvWVsx"
   },
   "outputs": [],
   "source": [
    "AR = np.array([1, 2, 3, 4, 5, 6, 7, 8, 9, 10, 11, 12])"
   ]
  },
  {
   "cell_type": "code",
   "execution_count": 33,
   "metadata": {
    "colab": {
     "base_uri": "https://localhost:8080/"
    },
    "executionInfo": {
     "elapsed": 46,
     "status": "ok",
     "timestamp": 1664175530525,
     "user": {
      "displayName": "이정구",
      "userId": "17400242557229223804"
     },
     "user_tz": -540
    },
    "id": "ch_3im3D_PZV",
    "outputId": "cb272304-f427-48af-85d0-a34a835d7e02"
   },
   "outputs": [
    {
     "name": "stdout",
     "output_type": "stream",
     "text": [
      "[ 1  2  3  4  5  6  7  8  9 10 11 12]\n"
     ]
    }
   ],
   "source": [
    "print(AR)"
   ]
  },
  {
   "cell_type": "markdown",
   "metadata": {
    "id": "j8qamVclW2FR"
   },
   "source": [
    ">## 1) .shape"
   ]
  },
  {
   "cell_type": "markdown",
   "metadata": {
    "id": "kZdECdOeQgaD"
   },
   "source": [
    "* 행렬 크기"
   ]
  },
  {
   "cell_type": "code",
   "execution_count": 37,
   "metadata": {
    "colab": {
     "base_uri": "https://localhost:8080/"
    },
    "executionInfo": {
     "elapsed": 44,
     "status": "ok",
     "timestamp": 1664175530526,
     "user": {
      "displayName": "이정구",
      "userId": "17400242557229223804"
     },
     "user_tz": -540
    },
    "id": "k9i2rOYHW4Od",
    "outputId": "c871ee08-4bd4-4f8a-e301-b787b9c041fc"
   },
   "outputs": [
    {
     "data": {
      "text/plain": [
       "((12,), (3, 2, 2))"
      ]
     },
     "execution_count": 37,
     "metadata": {},
     "output_type": "execute_result"
    }
   ],
   "source": [
    "AR.shape , a3.shape"
   ]
  },
  {
   "cell_type": "markdown",
   "metadata": {
    "id": "Wm5nVhGyQXsp"
   },
   "source": [
    "* 행렬 차원"
   ]
  },
  {
   "cell_type": "code",
   "execution_count": 41,
   "metadata": {
    "colab": {
     "base_uri": "https://localhost:8080/"
    },
    "executionInfo": {
     "elapsed": 42,
     "status": "ok",
     "timestamp": 1664175530527,
     "user": {
      "displayName": "이정구",
      "userId": "17400242557229223804"
     },
     "user_tz": -540
    },
    "id": "vXteemsCNsIM",
    "outputId": "9623eaef-74c8-49d4-9d17-28277caf4cd8"
   },
   "outputs": [
    {
     "data": {
      "text/plain": [
       "(1, <function ndarray.reshape>)"
      ]
     },
     "execution_count": 41,
     "metadata": {},
     "output_type": "execute_result"
    }
   ],
   "source": [
    "AR.ndim, a3.reshape"
   ]
  },
  {
   "cell_type": "markdown",
   "metadata": {
    "id": "GMIk6lsMQQqx"
   },
   "source": [
    "* 행렬 원소 개수"
   ]
  },
  {
   "cell_type": "code",
   "execution_count": 39,
   "metadata": {
    "colab": {
     "base_uri": "https://localhost:8080/"
    },
    "executionInfo": {
     "elapsed": 40,
     "status": "ok",
     "timestamp": 1664175530528,
     "user": {
      "displayName": "이정구",
      "userId": "17400242557229223804"
     },
     "user_tz": -540
    },
    "id": "gxqoah7RN9Nm",
    "outputId": "8d1ea825-7b56-422c-9bcd-45ead7423019"
   },
   "outputs": [
    {
     "data": {
      "text/plain": [
       "(12, 12)"
      ]
     },
     "execution_count": 39,
     "metadata": {},
     "output_type": "execute_result"
    }
   ],
   "source": [
    "AR.size, a3.size"
   ]
  },
  {
   "cell_type": "markdown",
   "metadata": {
    "id": "yQJvcmj0XFXG"
   },
   "source": [
    ">## 2) .reshape(3, 4)"
   ]
  },
  {
   "cell_type": "markdown",
   "metadata": {
    "id": "MZTfx3p0bRB3"
   },
   "source": [
    "* <font color = 'blue'>.reshape(</font>행, 열<font color = 'blue'>)</font>"
   ]
  },
  {
   "cell_type": "code",
   "execution_count": 42,
   "metadata": {
    "id": "tjwUAvG8XJo2"
   },
   "outputs": [],
   "source": [
    "AR2 = AR.reshape(3, 4)"
   ]
  },
  {
   "cell_type": "code",
   "execution_count": 43,
   "metadata": {
    "colab": {
     "base_uri": "https://localhost:8080/"
    },
    "executionInfo": {
     "elapsed": 762,
     "status": "ok",
     "timestamp": 1664175531254,
     "user": {
      "displayName": "이정구",
      "userId": "17400242557229223804"
     },
     "user_tz": -540
    },
    "id": "gVHNh32k_UcU",
    "outputId": "d1f03c4e-d7e5-4f04-9451-963cb3dd558a"
   },
   "outputs": [
    {
     "name": "stdout",
     "output_type": "stream",
     "text": [
      "[[ 1  2  3  4]\n",
      " [ 5  6  7  8]\n",
      " [ 9 10 11 12]]\n"
     ]
    }
   ],
   "source": [
    "print(AR2)"
   ]
  },
  {
   "cell_type": "markdown",
   "metadata": {
    "id": "g_IX7Nr3Qx-h"
   },
   "source": [
    "* 행렬 크기"
   ]
  },
  {
   "cell_type": "code",
   "execution_count": 44,
   "metadata": {
    "colab": {
     "base_uri": "https://localhost:8080/"
    },
    "executionInfo": {
     "elapsed": 170,
     "status": "ok",
     "timestamp": 1664175531255,
     "user": {
      "displayName": "이정구",
      "userId": "17400242557229223804"
     },
     "user_tz": -540
    },
    "id": "vpaIvPS1XPFB",
    "outputId": "32962f71-122e-4807-9eaf-3abfa4ea86fd"
   },
   "outputs": [
    {
     "data": {
      "text/plain": [
       "(3, 4)"
      ]
     },
     "execution_count": 44,
     "metadata": {},
     "output_type": "execute_result"
    }
   ],
   "source": [
    "AR2.shape "
   ]
  },
  {
   "cell_type": "markdown",
   "metadata": {
    "id": "pz3_dX6bQ51g"
   },
   "source": [
    "* 행렬 차원"
   ]
  },
  {
   "cell_type": "code",
   "execution_count": 45,
   "metadata": {
    "colab": {
     "base_uri": "https://localhost:8080/"
    },
    "executionInfo": {
     "elapsed": 170,
     "status": "ok",
     "timestamp": 1664175531256,
     "user": {
      "displayName": "이정구",
      "userId": "17400242557229223804"
     },
     "user_tz": -540
    },
    "id": "vfRcqhIyNw5F",
    "outputId": "aaca6fe8-c1d0-4b91-829d-be9b27fc7628"
   },
   "outputs": [
    {
     "data": {
      "text/plain": [
       "2"
      ]
     },
     "execution_count": 45,
     "metadata": {},
     "output_type": "execute_result"
    }
   ],
   "source": [
    "AR2.ndim"
   ]
  },
  {
   "cell_type": "markdown",
   "metadata": {
    "id": "1YbJwSl3Q2LA"
   },
   "source": [
    "* 행렬 원소 개수"
   ]
  },
  {
   "cell_type": "code",
   "execution_count": 46,
   "metadata": {
    "colab": {
     "base_uri": "https://localhost:8080/"
    },
    "executionInfo": {
     "elapsed": 165,
     "status": "ok",
     "timestamp": 1664175531256,
     "user": {
      "displayName": "이정구",
      "userId": "17400242557229223804"
     },
     "user_tz": -540
    },
    "id": "Y9bduJmNOC7e",
    "outputId": "2454565d-6d02-4ced-8107-ba9a6dd2c1e9"
   },
   "outputs": [
    {
     "data": {
      "text/plain": [
       "12"
      ]
     },
     "execution_count": 46,
     "metadata": {},
     "output_type": "execute_result"
    }
   ],
   "source": [
    "AR2.size"
   ]
  },
  {
   "cell_type": "markdown",
   "metadata": {
    "id": "d3_V9A2qXn8U"
   },
   "source": [
    ">## 3) .reshape(3, 2, 2)"
   ]
  },
  {
   "cell_type": "markdown",
   "metadata": {
    "id": "XUG2a-dRbVHH"
   },
   "source": [
    "* .reshape(<font color = 'red'>축</font>, 행, 열)"
   ]
  },
  {
   "cell_type": "code",
   "execution_count": 47,
   "metadata": {
    "id": "sXqMuXmGXvY7"
   },
   "outputs": [],
   "source": [
    "AR3 = AR.reshape(3, 2, 2)"
   ]
  },
  {
   "cell_type": "code",
   "execution_count": 48,
   "metadata": {
    "colab": {
     "base_uri": "https://localhost:8080/"
    },
    "executionInfo": {
     "elapsed": 161,
     "status": "ok",
     "timestamp": 1664175531257,
     "user": {
      "displayName": "이정구",
      "userId": "17400242557229223804"
     },
     "user_tz": -540
    },
    "id": "8afQ0z3M_bOc",
    "outputId": "64340c2b-d786-4ae5-ae0d-9d3e48e0fae5"
   },
   "outputs": [
    {
     "name": "stdout",
     "output_type": "stream",
     "text": [
      "[[[ 1  2]\n",
      "  [ 3  4]]\n",
      "\n",
      " [[ 5  6]\n",
      "  [ 7  8]]\n",
      "\n",
      " [[ 9 10]\n",
      "  [11 12]]]\n"
     ]
    }
   ],
   "source": [
    "print(AR3)"
   ]
  },
  {
   "cell_type": "markdown",
   "metadata": {
    "id": "wPDxl2UnQzJB"
   },
   "source": [
    "* 행렬의 크기"
   ]
  },
  {
   "cell_type": "code",
   "execution_count": 49,
   "metadata": {
    "colab": {
     "base_uri": "https://localhost:8080/"
    },
    "executionInfo": {
     "elapsed": 158,
     "status": "ok",
     "timestamp": 1664175531258,
     "user": {
      "displayName": "이정구",
      "userId": "17400242557229223804"
     },
     "user_tz": -540
    },
    "id": "uwz_imIUX6H8",
    "outputId": "b717e937-8853-4b8c-e93a-ce138f32bb8e"
   },
   "outputs": [
    {
     "data": {
      "text/plain": [
       "(3, 2, 2)"
      ]
     },
     "execution_count": 49,
     "metadata": {},
     "output_type": "execute_result"
    }
   ],
   "source": [
    "AR3.shape"
   ]
  },
  {
   "cell_type": "markdown",
   "metadata": {
    "id": "6yY_jA8cQ69Y"
   },
   "source": [
    "* 행렬의 차원"
   ]
  },
  {
   "cell_type": "code",
   "execution_count": 50,
   "metadata": {
    "colab": {
     "base_uri": "https://localhost:8080/"
    },
    "executionInfo": {
     "elapsed": 156,
     "status": "ok",
     "timestamp": 1664175531259,
     "user": {
      "displayName": "이정구",
      "userId": "17400242557229223804"
     },
     "user_tz": -540
    },
    "id": "fRwUaH6INzfN",
    "outputId": "35666f8c-b78b-4561-bc45-ada67c1a0f98"
   },
   "outputs": [
    {
     "data": {
      "text/plain": [
       "3"
      ]
     },
     "execution_count": 50,
     "metadata": {},
     "output_type": "execute_result"
    }
   ],
   "source": [
    "AR3.ndim"
   ]
  },
  {
   "cell_type": "markdown",
   "metadata": {
    "id": "tkwVtccWQ3dg"
   },
   "source": [
    "* 행렬의 원소 개수"
   ]
  },
  {
   "cell_type": "code",
   "execution_count": 51,
   "metadata": {
    "colab": {
     "base_uri": "https://localhost:8080/"
    },
    "executionInfo": {
     "elapsed": 153,
     "status": "ok",
     "timestamp": 1664175531259,
     "user": {
      "displayName": "이정구",
      "userId": "17400242557229223804"
     },
     "user_tz": -540
    },
    "id": "hp6xCLLdOFEN",
    "outputId": "b6f11f55-ed3e-412d-8506-4c7a54f84bef"
   },
   "outputs": [
    {
     "data": {
      "text/plain": [
       "12"
      ]
     },
     "execution_count": 51,
     "metadata": {},
     "output_type": "execute_result"
    }
   ],
   "source": [
    "AR3.size"
   ]
  },
  {
   "cell_type": "markdown",
   "metadata": {
    "id": "Mbsh701LMZJX"
   },
   "source": [
    ">## 4) .reshape(<font color = 'red'>-1</font>, 1)"
   ]
  },
  {
   "cell_type": "markdown",
   "metadata": {
    "id": "hmAtvP-LbZig"
   },
   "source": [
    "* .reshape(<font color = 'red'>12</font>, 1)"
   ]
  },
  {
   "cell_type": "code",
   "execution_count": 52,
   "metadata": {
    "colab": {
     "base_uri": "https://localhost:8080/"
    },
    "executionInfo": {
     "elapsed": 150,
     "status": "ok",
     "timestamp": 1664175531259,
     "user": {
      "displayName": "이정구",
      "userId": "17400242557229223804"
     },
     "user_tz": -540
    },
    "id": "0bd6exn_MiND",
    "outputId": "e19542d7-e12f-43b8-ce20-1c35f54c7d3e"
   },
   "outputs": [
    {
     "data": {
      "text/plain": [
       "array([[ 1],\n",
       "       [ 2],\n",
       "       [ 3],\n",
       "       [ 4],\n",
       "       [ 5],\n",
       "       [ 6],\n",
       "       [ 7],\n",
       "       [ 8],\n",
       "       [ 9],\n",
       "       [10],\n",
       "       [11],\n",
       "       [12]])"
      ]
     },
     "execution_count": 52,
     "metadata": {},
     "output_type": "execute_result"
    }
   ],
   "source": [
    "AR.reshape(-1, 1)"
   ]
  },
  {
   "cell_type": "markdown",
   "metadata": {
    "id": "em59RqA7M8BV"
   },
   "source": [
    "   * .reshape(1, <font color = 'blue'>12</font>)"
   ]
  },
  {
   "cell_type": "code",
   "execution_count": 54,
   "metadata": {
    "colab": {
     "base_uri": "https://localhost:8080/"
    },
    "executionInfo": {
     "elapsed": 147,
     "status": "ok",
     "timestamp": 1664175531260,
     "user": {
      "displayName": "이정구",
      "userId": "17400242557229223804"
     },
     "user_tz": -540
    },
    "id": "eV52BYlrMzH-",
    "outputId": "b4353ab6-1091-401b-f5aa-1bd0f4777bbc"
   },
   "outputs": [
    {
     "data": {
      "text/plain": [
       "array([[ 1,  2,  3,  4,  5,  6,  7,  8,  9, 10, 11, 12]])"
      ]
     },
     "execution_count": 54,
     "metadata": {},
     "output_type": "execute_result"
    }
   ],
   "source": [
    "AR2.reshape(1, -1)"
   ]
  },
  {
   "cell_type": "code",
   "execution_count": 55,
   "metadata": {
    "colab": {
     "base_uri": "https://localhost:8080/"
    },
    "executionInfo": {
     "elapsed": 144,
     "status": "ok",
     "timestamp": 1664175531260,
     "user": {
      "displayName": "이정구",
      "userId": "17400242557229223804"
     },
     "user_tz": -540
    },
    "id": "dMyWrSaJOjCO",
    "outputId": "a1968525-68b2-4f7c-e879-77744da89e69"
   },
   "outputs": [
    {
     "data": {
      "text/plain": [
       "array([ 1,  2,  3,  4,  5,  6,  7,  8,  9, 10, 11, 12])"
      ]
     },
     "execution_count": 55,
     "metadata": {},
     "output_type": "execute_result"
    }
   ],
   "source": [
    "AR2.reshape(12)"
   ]
  },
  {
   "cell_type": "code",
   "execution_count": 56,
   "metadata": {
    "colab": {
     "base_uri": "https://localhost:8080/"
    },
    "executionInfo": {
     "elapsed": 141,
     "status": "ok",
     "timestamp": 1664175531260,
     "user": {
      "displayName": "이정구",
      "userId": "17400242557229223804"
     },
     "user_tz": -540
    },
    "id": "EXmGaK4JO4lb",
    "outputId": "060d1f24-43b7-4ff1-e32a-33226e01d5d4"
   },
   "outputs": [
    {
     "data": {
      "text/plain": [
       "array([ 1,  2,  3,  4,  5,  6,  7,  8,  9, 10, 11, 12])"
      ]
     },
     "execution_count": 56,
     "metadata": {},
     "output_type": "execute_result"
    }
   ],
   "source": [
    "AR3.reshape(-1)"
   ]
  },
  {
   "cell_type": "markdown",
   "metadata": {
    "id": "Xaa0g2Lnc_ON"
   },
   "source": [
    "* <font color = 'blue'>.flatten( )"
   ]
  },
  {
   "cell_type": "code",
   "execution_count": null,
   "metadata": {
    "colab": {
     "base_uri": "https://localhost:8080/"
    },
    "executionInfo": {
     "elapsed": 137,
     "status": "ok",
     "timestamp": 1664175531261,
     "user": {
      "displayName": "이정구",
      "userId": "17400242557229223804"
     },
     "user_tz": -540
    },
    "id": "zVVQd1lNNOi2",
    "outputId": "f866b481-9f26-4e6f-8dac-e4245b419e11"
   },
   "outputs": [
    {
     "data": {
      "text/plain": [
       "array([ 1,  2,  3,  4,  5,  6,  7,  8,  9, 10, 11, 12])"
      ]
     },
     "execution_count": 146,
     "metadata": {},
     "output_type": "execute_result"
    }
   ],
   "source": [
    "AR3.flatten()"
   ]
  },
  {
   "cell_type": "markdown",
   "metadata": {
    "id": "7MAjjkOAYaOw"
   },
   "source": [
    "# IV. 범위 지정(arange) 함수"
   ]
  },
  {
   "cell_type": "markdown",
   "metadata": {
    "id": "XEN-HWZzaoLl"
   },
   "source": [
    ">## 1) 연속된 10개 값 생성"
   ]
  },
  {
   "cell_type": "code",
   "execution_count": 57,
   "metadata": {
    "colab": {
     "base_uri": "https://localhost:8080/"
    },
    "executionInfo": {
     "elapsed": 132,
     "status": "ok",
     "timestamp": 1664175531261,
     "user": {
      "displayName": "이정구",
      "userId": "17400242557229223804"
     },
     "user_tz": -540
    },
    "id": "lbircouOYvk0",
    "outputId": "04e3ac2f-dce9-4948-c158-8c6fd461079d"
   },
   "outputs": [
    {
     "data": {
      "text/plain": [
       "array([0, 1, 2, 3, 4, 5, 6, 7, 8, 9])"
      ]
     },
     "execution_count": 57,
     "metadata": {},
     "output_type": "execute_result"
    }
   ],
   "source": [
    "np.arange(10)"
   ]
  },
  {
   "cell_type": "markdown",
   "metadata": {
    "id": "8Np9o5cpZX77"
   },
   "source": [
    ">## 2) 1부터 9까지 <font color = 'blue'>1간격</font>으로 생성"
   ]
  },
  {
   "cell_type": "code",
   "execution_count": 58,
   "metadata": {
    "colab": {
     "base_uri": "https://localhost:8080/"
    },
    "executionInfo": {
     "elapsed": 128,
     "status": "ok",
     "timestamp": 1664175531261,
     "user": {
      "displayName": "이정구",
      "userId": "17400242557229223804"
     },
     "user_tz": -540
    },
    "id": "xdMSR66MY2E1",
    "outputId": "457b66fc-b445-47a6-bf33-50094bb86c87"
   },
   "outputs": [
    {
     "data": {
      "text/plain": [
       "array([1, 2, 3, 4, 5, 6, 7, 8, 9])"
      ]
     },
     "execution_count": 58,
     "metadata": {},
     "output_type": "execute_result"
    }
   ],
   "source": [
    "np.arange(1, 10)"
   ]
  },
  {
   "cell_type": "markdown",
   "metadata": {
    "id": "C3hurG8CZhej"
   },
   "source": [
    ">## 3) 1부터 9까지 <font color = 'red'>2간격</font>으로 생성"
   ]
  },
  {
   "cell_type": "code",
   "execution_count": 59,
   "metadata": {
    "colab": {
     "base_uri": "https://localhost:8080/"
    },
    "executionInfo": {
     "elapsed": 126,
     "status": "ok",
     "timestamp": 1664175531262,
     "user": {
      "displayName": "이정구",
      "userId": "17400242557229223804"
     },
     "user_tz": -540
    },
    "id": "gClyEjCYY59D",
    "outputId": "b04d82ca-1886-410c-f519-53cac49e6062"
   },
   "outputs": [
    {
     "data": {
      "text/plain": [
       "array([1, 3, 5, 7, 9])"
      ]
     },
     "execution_count": 59,
     "metadata": {},
     "output_type": "execute_result"
    }
   ],
   "source": [
    "np.arange(1, 10, 2)"
   ]
  },
  {
   "cell_type": "markdown",
   "metadata": {
    "id": "mm3-rulyZnx5"
   },
   "source": [
    ">## 4) Array 생성 후 <font color = 'blue'>.reshape( )</font> 적용"
   ]
  },
  {
   "cell_type": "code",
   "execution_count": 60,
   "metadata": {
    "colab": {
     "base_uri": "https://localhost:8080/"
    },
    "executionInfo": {
     "elapsed": 121,
     "status": "ok",
     "timestamp": 1664175531262,
     "user": {
      "displayName": "이정구",
      "userId": "17400242557229223804"
     },
     "user_tz": -540
    },
    "id": "kUgr36ozZAua",
    "outputId": "2cb6f3b4-5c0f-4ee2-d329-31a15980bbda"
   },
   "outputs": [
    {
     "data": {
      "text/plain": [
       "array([[1, 2, 3],\n",
       "       [4, 5, 6],\n",
       "       [7, 8, 9]])"
      ]
     },
     "execution_count": 60,
     "metadata": {},
     "output_type": "execute_result"
    }
   ],
   "source": [
    "np.arange(1, 10).reshape(3, 3)"
   ]
  },
  {
   "cell_type": "markdown",
   "metadata": {
    "id": "bDTpu-qSZySq"
   },
   "source": [
    "# V. 특별한 형태의 Array 생성"
   ]
  },
  {
   "cell_type": "markdown",
   "metadata": {
    "id": "mgVNMeaDaveb"
   },
   "source": [
    ">## 1) 0과 1로만 구성된 Array"
   ]
  },
  {
   "cell_type": "markdown",
   "metadata": {
    "id": "EIy_XWcHboEg"
   },
   "source": [
    "* <font color = 'blue'>0으로만 구성"
   ]
  },
  {
   "cell_type": "code",
   "execution_count": 61,
   "metadata": {
    "colab": {
     "base_uri": "https://localhost:8080/"
    },
    "executionInfo": {
     "elapsed": 119,
     "status": "ok",
     "timestamp": 1664175531263,
     "user": {
      "displayName": "이정구",
      "userId": "17400242557229223804"
     },
     "user_tz": -540
    },
    "id": "sK154nKcZ1_P",
    "outputId": "311a879f-529b-47a6-bfb8-786850495b48"
   },
   "outputs": [
    {
     "data": {
      "text/plain": [
       "array([0., 0., 0., 0., 0., 0., 0., 0., 0.])"
      ]
     },
     "execution_count": 61,
     "metadata": {},
     "output_type": "execute_result"
    }
   ],
   "source": [
    "np.zeros(9)"
   ]
  },
  {
   "cell_type": "code",
   "execution_count": 62,
   "metadata": {
    "colab": {
     "base_uri": "https://localhost:8080/"
    },
    "executionInfo": {
     "elapsed": 115,
     "status": "ok",
     "timestamp": 1664175531263,
     "user": {
      "displayName": "이정구",
      "userId": "17400242557229223804"
     },
     "user_tz": -540
    },
    "id": "7HBW2ttiaCf5",
    "outputId": "61d6ebc7-ca6a-49fe-8eca-692675ba78f2"
   },
   "outputs": [
    {
     "data": {
      "text/plain": [
       "array([[0., 0., 0., 0.],\n",
       "       [0., 0., 0., 0.],\n",
       "       [0., 0., 0., 0.]])"
      ]
     },
     "execution_count": 62,
     "metadata": {},
     "output_type": "execute_result"
    }
   ],
   "source": [
    "np.zeros([3, 4])"
   ]
  },
  {
   "cell_type": "code",
   "execution_count": 63,
   "metadata": {},
   "outputs": [
    {
     "data": {
      "text/plain": [
       "array([[9., 9., 9., 9.],\n",
       "       [9., 9., 9., 9.],\n",
       "       [9., 9., 9., 9.]])"
      ]
     },
     "execution_count": 63,
     "metadata": {},
     "output_type": "execute_result"
    }
   ],
   "source": [
    "np.zeros([3, 4]) + 9"
   ]
  },
  {
   "cell_type": "markdown",
   "metadata": {
    "id": "L5Kaz0hBdeLO"
   },
   "source": [
    "* <font color = 'blue'>1로만 구성"
   ]
  },
  {
   "cell_type": "code",
   "execution_count": 64,
   "metadata": {
    "colab": {
     "base_uri": "https://localhost:8080/"
    },
    "executionInfo": {
     "elapsed": 113,
     "status": "ok",
     "timestamp": 1664175531264,
     "user": {
      "displayName": "이정구",
      "userId": "17400242557229223804"
     },
     "user_tz": -540
    },
    "id": "A4Jn9Ge9Z-DD",
    "outputId": "f4996b38-2b72-467d-f14f-5a96aca538e1"
   },
   "outputs": [
    {
     "data": {
      "text/plain": [
       "array([1., 1., 1., 1., 1., 1., 1., 1., 1.])"
      ]
     },
     "execution_count": 64,
     "metadata": {},
     "output_type": "execute_result"
    }
   ],
   "source": [
    "np.ones(9)"
   ]
  },
  {
   "cell_type": "code",
   "execution_count": 65,
   "metadata": {
    "colab": {
     "base_uri": "https://localhost:8080/"
    },
    "executionInfo": {
     "elapsed": 110,
     "status": "ok",
     "timestamp": 1664175531264,
     "user": {
      "displayName": "이정구",
      "userId": "17400242557229223804"
     },
     "user_tz": -540
    },
    "id": "f_voXRJMaP2f",
    "outputId": "ef1f0ae8-bc68-4eb8-d143-9ba12a25553e"
   },
   "outputs": [
    {
     "data": {
      "text/plain": [
       "array([[1., 1., 1.],\n",
       "       [1., 1., 1.],\n",
       "       [1., 1., 1.],\n",
       "       [1., 1., 1.]])"
      ]
     },
     "execution_count": 65,
     "metadata": {},
     "output_type": "execute_result"
    }
   ],
   "source": [
    "np.ones([4, 3])"
   ]
  },
  {
   "cell_type": "markdown",
   "metadata": {
    "id": "_A-bP5p5Rf4o"
   },
   "source": [
    "* 산술연산을 적용하여 <font color = 'blue'>'9'로만 구성</font>된 행렬 생성"
   ]
  },
  {
   "cell_type": "code",
   "execution_count": 66,
   "metadata": {
    "colab": {
     "base_uri": "https://localhost:8080/"
    },
    "executionInfo": {
     "elapsed": 105,
     "status": "ok",
     "timestamp": 1664175531264,
     "user": {
      "displayName": "이정구",
      "userId": "17400242557229223804"
     },
     "user_tz": -540
    },
    "id": "V-r61DDBRPpu",
    "outputId": "2b65d8e1-9995-4907-81d8-27398ddb8936"
   },
   "outputs": [
    {
     "data": {
      "text/plain": [
       "array([[9., 9., 9., 9.],\n",
       "       [9., 9., 9., 9.],\n",
       "       [9., 9., 9., 9.]])"
      ]
     },
     "execution_count": 66,
     "metadata": {},
     "output_type": "execute_result"
    }
   ],
   "source": [
    "np.zeros([3, 4]) + 9"
   ]
  },
  {
   "cell_type": "markdown",
   "metadata": {
    "id": "yD3SGRyPWEn_"
   },
   "source": [
    ">## 2) 3 x 3 <font color = 'red'>단위행렬"
   ]
  },
  {
   "cell_type": "code",
   "execution_count": 67,
   "metadata": {
    "colab": {
     "base_uri": "https://localhost:8080/"
    },
    "executionInfo": {
     "elapsed": 102,
     "status": "ok",
     "timestamp": 1664175531265,
     "user": {
      "displayName": "이정구",
      "userId": "17400242557229223804"
     },
     "user_tz": -540
    },
    "id": "z7IpTCAMaSv6",
    "outputId": "32584631-87c8-43da-96b4-fe1ccea8d2d4"
   },
   "outputs": [
    {
     "data": {
      "text/plain": [
       "array([[1., 0., 0.],\n",
       "       [0., 1., 0.],\n",
       "       [0., 0., 1.]])"
      ]
     },
     "execution_count": 67,
     "metadata": {},
     "output_type": "execute_result"
    }
   ],
   "source": [
    "np.eye(3)"
   ]
  },
  {
   "cell_type": "markdown",
   "metadata": {
    "id": "Ihe33HrnWIj1"
   },
   "source": [
    ">## 3) 난수 Array 생성"
   ]
  },
  {
   "cell_type": "markdown",
   "metadata": {
    "id": "pcw-QCZcSKL4"
   },
   "source": [
    "* <font color = 'blue'>실수</font> 난수 생성\n",
    " - (축, 행, 열)"
   ]
  },
  {
   "cell_type": "code",
   "execution_count": 69,
   "metadata": {
    "colab": {
     "base_uri": "https://localhost:8080/"
    },
    "executionInfo": {
     "elapsed": 98,
     "status": "ok",
     "timestamp": 1664175531265,
     "user": {
      "displayName": "이정구",
      "userId": "17400242557229223804"
     },
     "user_tz": -540
    },
    "id": "fy6LFlwuaYUy",
    "outputId": "27b8b0fd-0d4c-400d-f9c7-66388e96e9ab"
   },
   "outputs": [
    {
     "data": {
      "text/plain": [
       "array([[[0.32122129, 0.7989216 ],\n",
       "        [0.60015844, 0.84771823]],\n",
       "\n",
       "       [[0.0845911 , 0.96093831],\n",
       "        [0.47522374, 0.14259901]],\n",
       "\n",
       "       [[0.02731709, 0.19692261],\n",
       "        [0.44043054, 0.60780881]]])"
      ]
     },
     "execution_count": 69,
     "metadata": {},
     "output_type": "execute_result"
    }
   ],
   "source": [
    "np.random.rand(3, 2, 2)"
   ]
  },
  {
   "cell_type": "markdown",
   "metadata": {
    "id": "FF3EIu-DSdhj"
   },
   "source": [
    "* 주어진 <font color = 'blue'>정수</font> 범위에서 난수 생성\n",
    " - 1 ~ 44 사이\n",
    " - 복원 추출\n",
    " - (행, 열)"
   ]
  },
  {
   "cell_type": "code",
   "execution_count": 70,
   "metadata": {
    "colab": {
     "base_uri": "https://localhost:8080/"
    },
    "executionInfo": {
     "elapsed": 95,
     "status": "ok",
     "timestamp": 1664175531265,
     "user": {
      "displayName": "이정구",
      "userId": "17400242557229223804"
     },
     "user_tz": -540
    },
    "id": "0_i1mneiaylt",
    "outputId": "dbf6c6cf-2e6d-4bca-8bf5-6ff59f139868"
   },
   "outputs": [
    {
     "data": {
      "text/plain": [
       "array([[33, 18, 42,  2, 38,  1],\n",
       "       [32, 23, 38, 42, 32, 10],\n",
       "       [38, 31, 14, 41, 28,  7],\n",
       "       [11, 42,  4, 15, 33, 21],\n",
       "       [17, 26, 11,  7, 34, 38]])"
      ]
     },
     "execution_count": 70,
     "metadata": {},
     "output_type": "execute_result"
    }
   ],
   "source": [
    "np.random.randint(1, 45, size = (5, 6))"
   ]
  },
  {
   "cell_type": "markdown",
   "metadata": {
    "id": "vgJRkAeFS3-W"
   },
   "source": [
    "* np.random.<font color = 'red'>seed( )</font>\n",
    " - 의사난수(Pseudo(가짜) Random Number) 생성 초기값 지정\n",
    " - <font color = 'red'>항상 같은 난수 생성</font>\n",
    " - 비복원 추출"
   ]
  },
  {
   "cell_type": "code",
   "execution_count": 72,
   "metadata": {},
   "outputs": [
    {
     "data": {
      "text/plain": [
       "array([[16, 14, 38, 27, 42, 13],\n",
       "       [ 7,  4, 39, 20, 15, 40],\n",
       "       [28, 45, 17,  9, 19,  8],\n",
       "       [10, 30, 22, 36, 44, 21],\n",
       "       [29, 25,  3,  1,  6, 34]])"
      ]
     },
     "execution_count": 72,
     "metadata": {},
     "output_type": "execute_result"
    }
   ],
   "source": [
    "# np.random.seed(2045)\n",
    "np.random.choice(np.arange(1, 46), size = (5 ,6), replace = False) # replace false 비복원추출"
   ]
  },
  {
   "cell_type": "markdown",
   "metadata": {
    "id": "nDVfvFRVVxWm"
   },
   "source": [
    "* <font color = 'blue'>shuffle( )</font>\n",
    " - 원소 섞기"
   ]
  },
  {
   "cell_type": "code",
   "execution_count": 73,
   "metadata": {
    "colab": {
     "base_uri": "https://localhost:8080/"
    },
    "executionInfo": {
     "elapsed": 90,
     "status": "ok",
     "timestamp": 1664175531266,
     "user": {
      "displayName": "이정구",
      "userId": "17400242557229223804"
     },
     "user_tz": -540
    },
    "id": "GgUHCJRCV0kp",
    "outputId": "96473498-fc27-4d07-f615-d9e2656bf894"
   },
   "outputs": [
    {
     "data": {
      "text/plain": [
       "array([1, 2, 3, 4, 5, 6, 7, 8, 9])"
      ]
     },
     "execution_count": 73,
     "metadata": {},
     "output_type": "execute_result"
    }
   ],
   "source": [
    "TA = np.arange(1, 10)\n",
    "\n",
    "TA"
   ]
  },
  {
   "cell_type": "code",
   "execution_count": 74,
   "metadata": {
    "colab": {
     "base_uri": "https://localhost:8080/"
    },
    "executionInfo": {
     "elapsed": 87,
     "status": "ok",
     "timestamp": 1664175531267,
     "user": {
      "displayName": "이정구",
      "userId": "17400242557229223804"
     },
     "user_tz": -540
    },
    "id": "G0iZkyCqWHfG",
    "outputId": "a701fff6-9baa-4dd0-fad1-8149689177c1"
   },
   "outputs": [
    {
     "data": {
      "text/plain": [
       "array([9, 3, 6, 5, 1, 2, 8, 7, 4])"
      ]
     },
     "execution_count": 74,
     "metadata": {},
     "output_type": "execute_result"
    }
   ],
   "source": [
    "np.random.shuffle(TA)\n",
    "\n",
    "TA"
   ]
  },
  {
   "cell_type": "markdown",
   "metadata": {
    "id": "S4Ki-xAQbEbb"
   },
   "source": [
    "# VI. Array 연산"
   ]
  },
  {
   "cell_type": "code",
   "execution_count": 77,
   "metadata": {},
   "outputs": [],
   "source": [
    "l1 = [85, 93, 75, 97, 69]\n",
    "\n",
    "l2 = [91, 90, 85, 97, 89]"
   ]
  },
  {
   "cell_type": "code",
   "execution_count": 78,
   "metadata": {},
   "outputs": [
    {
     "data": {
      "text/plain": [
       "[85, 93, 75, 97, 69, 91, 90, 85, 97, 89]"
      ]
     },
     "execution_count": 78,
     "metadata": {},
     "output_type": "execute_result"
    }
   ],
   "source": [
    "# 연산이 아닌 concat이 되버림\n",
    "l1+l2"
   ]
  },
  {
   "cell_type": "code",
   "execution_count": 79,
   "metadata": {
    "id": "wwf-VGJPbHSc"
   },
   "outputs": [],
   "source": [
    "A1 = np.array([85, 93, 75, 97, 69])\n",
    "\n",
    "A2 = np.array([91, 90, 85, 97, 89])\n",
    "\n",
    "A3 = np.array([[85, 93, 75],\n",
    "               [90, 84, 97],\n",
    "               [99, 91, 80]])"
   ]
  },
  {
   "cell_type": "markdown",
   "metadata": {
    "id": "yIDM1AbYXIig"
   },
   "source": [
    ">## 1) 기본 연산"
   ]
  },
  {
   "cell_type": "markdown",
   "metadata": {
    "id": "u3d_lYqLb1th"
   },
   "source": [
    "* 각각의 <font color = 'blue'>행과 열의 값을 매칭</font>하여 연산 수행\n",
    "* 벡터화 연산(vectorized operation)"
   ]
  },
  {
   "cell_type": "code",
   "execution_count": 80,
   "metadata": {
    "colab": {
     "base_uri": "https://localhost:8080/"
    },
    "executionInfo": {
     "elapsed": 84,
     "status": "ok",
     "timestamp": 1664175531268,
     "user": {
      "displayName": "이정구",
      "userId": "17400242557229223804"
     },
     "user_tz": -540
    },
    "id": "96u17uYkWjzj",
    "outputId": "c5979066-6634-4734-8c8f-e8eae1972729"
   },
   "outputs": [
    {
     "data": {
      "text/plain": [
       "array([176, 183, 160, 194, 158])"
      ]
     },
     "execution_count": 80,
     "metadata": {},
     "output_type": "execute_result"
    }
   ],
   "source": [
    "A1 + A2"
   ]
  },
  {
   "cell_type": "code",
   "execution_count": 81,
   "metadata": {
    "colab": {
     "base_uri": "https://localhost:8080/"
    },
    "executionInfo": {
     "elapsed": 82,
     "status": "ok",
     "timestamp": 1664175531269,
     "user": {
      "displayName": "이정구",
      "userId": "17400242557229223804"
     },
     "user_tz": -540
    },
    "id": "Dbx1aOi7Wlky",
    "outputId": "b84e09c2-7722-4444-e1ac-00e30738fff7"
   },
   "outputs": [
    {
     "data": {
      "text/plain": [
       "array([ 6, -3, 10,  0, 20])"
      ]
     },
     "execution_count": 81,
     "metadata": {},
     "output_type": "execute_result"
    }
   ],
   "source": [
    "A2 - A1"
   ]
  },
  {
   "cell_type": "code",
   "execution_count": 82,
   "metadata": {
    "colab": {
     "base_uri": "https://localhost:8080/"
    },
    "executionInfo": {
     "elapsed": 79,
     "status": "ok",
     "timestamp": 1664175531270,
     "user": {
      "displayName": "이정구",
      "userId": "17400242557229223804"
     },
     "user_tz": -540
    },
    "id": "HNeV943oWyX6",
    "outputId": "c2858107-f891-4196-da78-79e4780166ee"
   },
   "outputs": [
    {
     "data": {
      "text/plain": [
       "array([7735, 8370, 6375, 9409, 6141])"
      ]
     },
     "execution_count": 82,
     "metadata": {},
     "output_type": "execute_result"
    }
   ],
   "source": [
    "A1 * A2"
   ]
  },
  {
   "cell_type": "code",
   "execution_count": 83,
   "metadata": {
    "colab": {
     "base_uri": "https://localhost:8080/"
    },
    "executionInfo": {
     "elapsed": 77,
     "status": "ok",
     "timestamp": 1664175531271,
     "user": {
      "displayName": "이정구",
      "userId": "17400242557229223804"
     },
     "user_tz": -540
    },
    "id": "KwOTcVarW3Gq",
    "outputId": "b413024c-1dd5-4b6f-e6fc-6c458aa3afba"
   },
   "outputs": [
    {
     "data": {
      "text/plain": [
       "array([1.07058824, 0.96774194, 1.13333333, 1.        , 1.28985507])"
      ]
     },
     "execution_count": 83,
     "metadata": {},
     "output_type": "execute_result"
    }
   ],
   "source": [
    "A2 / A1"
   ]
  },
  {
   "cell_type": "code",
   "execution_count": 84,
   "metadata": {
    "colab": {
     "base_uri": "https://localhost:8080/"
    },
    "executionInfo": {
     "elapsed": 75,
     "status": "ok",
     "timestamp": 1664175531272,
     "user": {
      "displayName": "이정구",
      "userId": "17400242557229223804"
     },
     "user_tz": -540
    },
    "id": "QvJot7ggW5rU",
    "outputId": "2328ae11-f5f3-4d95-f89b-2d258a4fd835"
   },
   "outputs": [
    {
     "data": {
      "text/plain": [
       "array([255, 279, 225, 291, 207])"
      ]
     },
     "execution_count": 84,
     "metadata": {},
     "output_type": "execute_result"
    }
   ],
   "source": [
    "A1 * 3"
   ]
  },
  {
   "cell_type": "code",
   "execution_count": 85,
   "metadata": {
    "colab": {
     "base_uri": "https://localhost:8080/"
    },
    "executionInfo": {
     "elapsed": 73,
     "status": "ok",
     "timestamp": 1664175531273,
     "user": {
      "displayName": "이정구",
      "userId": "17400242557229223804"
     },
     "user_tz": -540
    },
    "id": "IO1r_JtKXBHr",
    "outputId": "28043147-a53c-4d40-825d-efbb437a5b87"
   },
   "outputs": [
    {
     "data": {
      "text/plain": [
       "array([7225, 8649, 5625, 9409, 4761])"
      ]
     },
     "execution_count": 85,
     "metadata": {},
     "output_type": "execute_result"
    }
   ],
   "source": [
    "A1 ** 2"
   ]
  },
  {
   "cell_type": "markdown",
   "metadata": {
    "id": "-D-0UmDQXLA2"
   },
   "source": [
    ">## 2) 통계량 연산"
   ]
  },
  {
   "cell_type": "markdown",
   "metadata": {
    "id": "j-i9LMtRYEX6"
   },
   "source": [
    "* 총합"
   ]
  },
  {
   "cell_type": "code",
   "execution_count": 86,
   "metadata": {
    "colab": {
     "base_uri": "https://localhost:8080/"
    },
    "executionInfo": {
     "elapsed": 70,
     "status": "ok",
     "timestamp": 1664175531274,
     "user": {
      "displayName": "이정구",
      "userId": "17400242557229223804"
     },
     "user_tz": -540
    },
    "id": "Mk33GtPtXNN9",
    "outputId": "00076784-7992-41cc-a79c-0c021754db42"
   },
   "outputs": [
    {
     "data": {
      "text/plain": [
       "419"
      ]
     },
     "execution_count": 86,
     "metadata": {},
     "output_type": "execute_result"
    }
   ],
   "source": [
    "A1.sum()"
   ]
  },
  {
   "cell_type": "markdown",
   "metadata": {
    "id": "a5IXBbRRYGPb"
   },
   "source": [
    "* 평균"
   ]
  },
  {
   "cell_type": "code",
   "execution_count": 87,
   "metadata": {
    "colab": {
     "base_uri": "https://localhost:8080/"
    },
    "executionInfo": {
     "elapsed": 65,
     "status": "ok",
     "timestamp": 1664175531274,
     "user": {
      "displayName": "이정구",
      "userId": "17400242557229223804"
     },
     "user_tz": -540
    },
    "id": "nRpS9P1BXTbj",
    "outputId": "398cd84f-a956-4da8-a8d5-b6eb9f08cd04"
   },
   "outputs": [
    {
     "data": {
      "text/plain": [
       "90.4"
      ]
     },
     "execution_count": 87,
     "metadata": {},
     "output_type": "execute_result"
    }
   ],
   "source": [
    "A2.mean()"
   ]
  },
  {
   "cell_type": "markdown",
   "metadata": {
    "id": "0FNtcsPyYKOO"
   },
   "source": [
    "* 분산\n",
    " - 'ddof = 0'\n",
    " - degree of freedom, 자유도"
   ]
  },
  {
   "cell_type": "code",
   "execution_count": 88,
   "metadata": {
    "colab": {
     "base_uri": "https://localhost:8080/"
    },
    "executionInfo": {
     "elapsed": 62,
     "status": "ok",
     "timestamp": 1664175531275,
     "user": {
      "displayName": "이정구",
      "userId": "17400242557229223804"
     },
     "user_tz": -540
    },
    "id": "ybbHiiR3XYgD",
    "outputId": "48aa701b-d526-4a7e-929f-2ce95f9a7b97"
   },
   "outputs": [
    {
     "data": {
      "text/plain": [
       "15.040000000000001"
      ]
     },
     "execution_count": 88,
     "metadata": {},
     "output_type": "execute_result"
    }
   ],
   "source": [
    "A2.var()"
   ]
  },
  {
   "cell_type": "markdown",
   "metadata": {
    "id": "UiYDDlwHYLp8"
   },
   "source": [
    "* 표준 편차\n",
    " - 'ddof = 0'"
   ]
  },
  {
   "cell_type": "code",
   "execution_count": 89,
   "metadata": {
    "colab": {
     "base_uri": "https://localhost:8080/"
    },
    "executionInfo": {
     "elapsed": 58,
     "status": "ok",
     "timestamp": 1664175531275,
     "user": {
      "displayName": "이정구",
      "userId": "17400242557229223804"
     },
     "user_tz": -540
    },
    "id": "OKlFT7AZXifE",
    "outputId": "0e01f15e-7542-493f-e071-cb436abe605f"
   },
   "outputs": [
    {
     "data": {
      "text/plain": [
       "3.8781438859330635"
      ]
     },
     "execution_count": 89,
     "metadata": {},
     "output_type": "execute_result"
    }
   ],
   "source": [
    "A2.std()"
   ]
  },
  {
   "cell_type": "markdown",
   "metadata": {
    "id": "jT95SeNPYORJ"
   },
   "source": [
    "* 최소값"
   ]
  },
  {
   "cell_type": "code",
   "execution_count": 93,
   "metadata": {},
   "outputs": [
    {
     "data": {
      "text/plain": [
       "array([91, 90, 85, 97, 89])"
      ]
     },
     "execution_count": 93,
     "metadata": {},
     "output_type": "execute_result"
    }
   ],
   "source": [
    "A2"
   ]
  },
  {
   "cell_type": "code",
   "execution_count": 90,
   "metadata": {
    "colab": {
     "base_uri": "https://localhost:8080/"
    },
    "executionInfo": {
     "elapsed": 56,
     "status": "ok",
     "timestamp": 1664175531276,
     "user": {
      "displayName": "이정구",
      "userId": "17400242557229223804"
     },
     "user_tz": -540
    },
    "id": "PfZHoN-SXkQN",
    "outputId": "72e52656-7701-42af-b7e2-fbe690da9395"
   },
   "outputs": [
    {
     "data": {
      "text/plain": [
       "85"
      ]
     },
     "execution_count": 90,
     "metadata": {},
     "output_type": "execute_result"
    }
   ],
   "source": [
    "A2.min()"
   ]
  },
  {
   "cell_type": "markdown",
   "metadata": {
    "id": "Ki6y4fAkgtUV"
   },
   "source": [
    "> * A3 전체 최소값\n",
    "\n",
    "  "
   ]
  },
  {
   "cell_type": "code",
   "execution_count": 94,
   "metadata": {},
   "outputs": [
    {
     "data": {
      "text/plain": [
       "array([[85, 93, 75],\n",
       "       [90, 84, 97],\n",
       "       [99, 91, 80]])"
      ]
     },
     "execution_count": 94,
     "metadata": {},
     "output_type": "execute_result"
    }
   ],
   "source": [
    "A3"
   ]
  },
  {
   "cell_type": "code",
   "execution_count": 91,
   "metadata": {
    "colab": {
     "base_uri": "https://localhost:8080/"
    },
    "executionInfo": {
     "elapsed": 52,
     "status": "ok",
     "timestamp": 1664175531276,
     "user": {
      "displayName": "이정구",
      "userId": "17400242557229223804"
     },
     "user_tz": -540
    },
    "id": "uDhLKnfpga4K",
    "outputId": "2b35f50f-e1e6-495f-8b7c-81af74458ad6",
    "scrolled": true
   },
   "outputs": [
    {
     "data": {
      "text/plain": [
       "75"
      ]
     },
     "execution_count": 91,
     "metadata": {},
     "output_type": "execute_result"
    }
   ],
   "source": [
    "A3.min()"
   ]
  },
  {
   "cell_type": "markdown",
   "metadata": {
    "id": "EETcl3z-g_nP"
   },
   "source": [
    "> * A3 각 열의 최소값(행의 방향)"
   ]
  },
  {
   "cell_type": "code",
   "execution_count": 95,
   "metadata": {
    "colab": {
     "base_uri": "https://localhost:8080/"
    },
    "executionInfo": {
     "elapsed": 49,
     "status": "ok",
     "timestamp": 1664175531276,
     "user": {
      "displayName": "이정구",
      "userId": "17400242557229223804"
     },
     "user_tz": -540
    },
    "id": "NSZOIWyCggWj",
    "outputId": "79729b43-445f-49c1-9a05-f71d2681f0b2"
   },
   "outputs": [
    {
     "data": {
      "text/plain": [
       "array([85, 84, 75])"
      ]
     },
     "execution_count": 95,
     "metadata": {},
     "output_type": "execute_result"
    }
   ],
   "source": [
    "A3.min(axis = 0)"
   ]
  },
  {
   "cell_type": "markdown",
   "metadata": {
    "id": "kchNuaU2hJkY"
   },
   "source": [
    "> * A3 각 행의 최소값(열의 방향)"
   ]
  },
  {
   "cell_type": "code",
   "execution_count": 96,
   "metadata": {
    "colab": {
     "base_uri": "https://localhost:8080/"
    },
    "executionInfo": {
     "elapsed": 46,
     "status": "ok",
     "timestamp": 1664175531276,
     "user": {
      "displayName": "이정구",
      "userId": "17400242557229223804"
     },
     "user_tz": -540
    },
    "id": "L2IwxSktgmdT",
    "outputId": "1f307e29-ab43-464b-bb96-0102cb885254"
   },
   "outputs": [
    {
     "data": {
      "text/plain": [
       "array([75, 84, 80])"
      ]
     },
     "execution_count": 96,
     "metadata": {},
     "output_type": "execute_result"
    }
   ],
   "source": [
    "A3.min(axis = 1)"
   ]
  },
  {
   "cell_type": "code",
   "execution_count": 98,
   "metadata": {
    "colab": {
     "base_uri": "https://localhost:8080/"
    },
    "executionInfo": {
     "elapsed": 43,
     "status": "ok",
     "timestamp": 1664175531277,
     "user": {
      "displayName": "이정구",
      "userId": "17400242557229223804"
     },
     "user_tz": -540
    },
    "id": "PiK-ujB0h-D5",
    "outputId": "1664cca3-c354-46bf-f549-a9783a4aa5ec"
   },
   "outputs": [
    {
     "data": {
      "text/plain": [
       "array([[75],\n",
       "       [84],\n",
       "       [80]])"
      ]
     },
     "execution_count": 98,
     "metadata": {},
     "output_type": "execute_result"
    }
   ],
   "source": [
    "A3.min(axis = 1, keepdims = True)"
   ]
  },
  {
   "cell_type": "markdown",
   "metadata": {
    "id": "lpl4z0Z-YP5a"
   },
   "source": [
    "* 최대값"
   ]
  },
  {
   "cell_type": "code",
   "execution_count": 99,
   "metadata": {
    "colab": {
     "base_uri": "https://localhost:8080/"
    },
    "executionInfo": {
     "elapsed": 600,
     "status": "ok",
     "timestamp": 1664175531843,
     "user": {
      "displayName": "이정구",
      "userId": "17400242557229223804"
     },
     "user_tz": -540
    },
    "id": "piuzDdTKXp01",
    "outputId": "ee3ec68f-9b15-4cf8-fdab-213ae31a3164"
   },
   "outputs": [
    {
     "data": {
      "text/plain": [
       "97"
      ]
     },
     "execution_count": 99,
     "metadata": {},
     "output_type": "execute_result"
    }
   ],
   "source": [
    "A2.max()"
   ]
  },
  {
   "cell_type": "markdown",
   "metadata": {
    "id": "l30JY6o2hkyq"
   },
   "source": [
    "> * A3 전체 최대값"
   ]
  },
  {
   "cell_type": "code",
   "execution_count": 100,
   "metadata": {
    "colab": {
     "base_uri": "https://localhost:8080/"
    },
    "executionInfo": {
     "elapsed": 195,
     "status": "ok",
     "timestamp": 1664175531844,
     "user": {
      "displayName": "이정구",
      "userId": "17400242557229223804"
     },
     "user_tz": -540
    },
    "id": "zd9ktJMEhPSG",
    "outputId": "d974ed62-d335-405a-b08d-074bf3cd6f05"
   },
   "outputs": [
    {
     "data": {
      "text/plain": [
       "99"
      ]
     },
     "execution_count": 100,
     "metadata": {},
     "output_type": "execute_result"
    }
   ],
   "source": [
    "A3.max()"
   ]
  },
  {
   "cell_type": "markdown",
   "metadata": {
    "id": "1doYVyV5hh87"
   },
   "source": [
    "> * A3 각 열의 최대값"
   ]
  },
  {
   "cell_type": "code",
   "execution_count": null,
   "metadata": {
    "colab": {
     "base_uri": "https://localhost:8080/"
    },
    "executionInfo": {
     "elapsed": 189,
     "status": "ok",
     "timestamp": 1664175531844,
     "user": {
      "displayName": "이정구",
      "userId": "17400242557229223804"
     },
     "user_tz": -540
    },
    "id": "-6ly3LUxhS17",
    "outputId": "83c9f749-218f-4c6d-9171-2d7b7c5eb4b5"
   },
   "outputs": [
    {
     "data": {
      "text/plain": [
       "array([99, 93, 97])"
      ]
     },
     "execution_count": 180,
     "metadata": {},
     "output_type": "execute_result"
    }
   ],
   "source": [
    "A3.max(axis = 0)"
   ]
  },
  {
   "cell_type": "markdown",
   "metadata": {
    "id": "FkaBe8VHhep_"
   },
   "source": [
    "> * A3 각 행의 최대값"
   ]
  },
  {
   "cell_type": "code",
   "execution_count": 101,
   "metadata": {
    "colab": {
     "base_uri": "https://localhost:8080/"
    },
    "executionInfo": {
     "elapsed": 185,
     "status": "ok",
     "timestamp": 1664175531845,
     "user": {
      "displayName": "이정구",
      "userId": "17400242557229223804"
     },
     "user_tz": -540
    },
    "id": "WO82u4aJhVJT",
    "outputId": "5813c24e-b588-4ac6-fe9e-d7372ad0d82a"
   },
   "outputs": [
    {
     "data": {
      "text/plain": [
       "array([93, 97, 99])"
      ]
     },
     "execution_count": 101,
     "metadata": {},
     "output_type": "execute_result"
    }
   ],
   "source": [
    "A3.max(axis = 1)"
   ]
  },
  {
   "cell_type": "code",
   "execution_count": 102,
   "metadata": {
    "colab": {
     "base_uri": "https://localhost:8080/"
    },
    "executionInfo": {
     "elapsed": 164,
     "status": "ok",
     "timestamp": 1664175531846,
     "user": {
      "displayName": "이정구",
      "userId": "17400242557229223804"
     },
     "user_tz": -540
    },
    "id": "1nhaq8fvh0Yo",
    "outputId": "baf8c401-3f3a-4236-faa8-691956157e17"
   },
   "outputs": [
    {
     "data": {
      "text/plain": [
       "array([[93],\n",
       "       [97],\n",
       "       [99]])"
      ]
     },
     "execution_count": 102,
     "metadata": {},
     "output_type": "execute_result"
    }
   ],
   "source": [
    "A3.max(axis = 1, keepdims = True)"
   ]
  },
  {
   "cell_type": "markdown",
   "metadata": {
    "id": "cj4t_-NvYRvC"
   },
   "source": [
    "* 누적(Cumulative)합"
   ]
  },
  {
   "cell_type": "code",
   "execution_count": 103,
   "metadata": {},
   "outputs": [
    {
     "data": {
      "text/plain": [
       "array([85, 93, 75, 97, 69])"
      ]
     },
     "execution_count": 103,
     "metadata": {},
     "output_type": "execute_result"
    }
   ],
   "source": [
    "A1"
   ]
  },
  {
   "cell_type": "code",
   "execution_count": 104,
   "metadata": {
    "colab": {
     "base_uri": "https://localhost:8080/"
    },
    "executionInfo": {
     "elapsed": 156,
     "status": "ok",
     "timestamp": 1664175531846,
     "user": {
      "displayName": "이정구",
      "userId": "17400242557229223804"
     },
     "user_tz": -540
    },
    "id": "N5tVfvSjXrQk",
    "outputId": "3999ba26-2a62-4ffa-9186-2d271023b19b"
   },
   "outputs": [
    {
     "data": {
      "text/plain": [
       "array([ 85, 178, 253, 350, 419])"
      ]
     },
     "execution_count": 104,
     "metadata": {},
     "output_type": "execute_result"
    }
   ],
   "source": [
    "A1.cumsum()"
   ]
  },
  {
   "cell_type": "markdown",
   "metadata": {
    "id": "OA_d8XRnYTZq"
   },
   "source": [
    "* 누적(Cumulative)곱"
   ]
  },
  {
   "cell_type": "code",
   "execution_count": 105,
   "metadata": {
    "colab": {
     "base_uri": "https://localhost:8080/"
    },
    "executionInfo": {
     "elapsed": 146,
     "status": "ok",
     "timestamp": 1664175531847,
     "user": {
      "displayName": "이정구",
      "userId": "17400242557229223804"
     },
     "user_tz": -540
    },
    "id": "TgZlTRpUX5b9",
    "outputId": "3b367b4d-aacd-45d9-e1f3-ef0db8494351"
   },
   "outputs": [
    {
     "data": {
      "text/plain": [
       "array([        85,       7905,     592875,   57508875, -326854921])"
      ]
     },
     "execution_count": 105,
     "metadata": {},
     "output_type": "execute_result"
    }
   ],
   "source": [
    "A1.cumprod()"
   ]
  },
  {
   "cell_type": "markdown",
   "metadata": {
    "id": "P07CISGXYw1F"
   },
   "source": [
    "# VII. Matrix 연산"
   ]
  },
  {
   "cell_type": "markdown",
   "metadata": {
    "id": "Rt-X0kMDa3xR"
   },
   "source": [
    "* M1, M2 지정"
   ]
  },
  {
   "cell_type": "code",
   "execution_count": 106,
   "metadata": {
    "id": "UVe7tbOkY81i"
   },
   "outputs": [],
   "source": [
    "M1 = np.array([2, 4, 6, 8]).reshape(2, 2)"
   ]
  },
  {
   "cell_type": "code",
   "execution_count": 107,
   "metadata": {
    "colab": {
     "base_uri": "https://localhost:8080/"
    },
    "executionInfo": {
     "elapsed": 139,
     "status": "ok",
     "timestamp": 1664175531848,
     "user": {
      "displayName": "이정구",
      "userId": "17400242557229223804"
     },
     "user_tz": -540
    },
    "id": "iV1vk-hE_hzj",
    "outputId": "3330a79d-7793-4da9-e594-74a5f6903ea9"
   },
   "outputs": [
    {
     "name": "stdout",
     "output_type": "stream",
     "text": [
      "[[2 4]\n",
      " [6 8]]\n"
     ]
    }
   ],
   "source": [
    "print(M1)"
   ]
  },
  {
   "cell_type": "code",
   "execution_count": 108,
   "metadata": {
    "id": "Ez5xBTCMZYwI"
   },
   "outputs": [],
   "source": [
    "M2 = np.array([3, 5, 7, 9]).reshape(2, 2)"
   ]
  },
  {
   "cell_type": "code",
   "execution_count": 109,
   "metadata": {
    "colab": {
     "base_uri": "https://localhost:8080/"
    },
    "executionInfo": {
     "elapsed": 136,
     "status": "ok",
     "timestamp": 1664175531851,
     "user": {
      "displayName": "이정구",
      "userId": "17400242557229223804"
     },
     "user_tz": -540
    },
    "id": "7cY2b2BK_j00",
    "outputId": "9cf69984-b2c0-4a34-aa55-95ba8dda4ddb"
   },
   "outputs": [
    {
     "name": "stdout",
     "output_type": "stream",
     "text": [
      "[[3 5]\n",
      " [7 9]]\n"
     ]
    }
   ],
   "source": [
    "print(M2)"
   ]
  },
  {
   "cell_type": "markdown",
   "metadata": {
    "id": "0DFkLsbzaJPF"
   },
   "source": [
    ">## 1) Matrix 곱"
   ]
  },
  {
   "cell_type": "markdown",
   "metadata": {
    "id": "eKpdL7sna6tM"
   },
   "source": [
    "* M1 @ M2"
   ]
  },
  {
   "cell_type": "code",
   "execution_count": null,
   "metadata": {
    "colab": {
     "base_uri": "https://localhost:8080/"
    },
    "executionInfo": {
     "elapsed": 121,
     "status": "ok",
     "timestamp": 1664175531852,
     "user": {
      "displayName": "이정구",
      "userId": "17400242557229223804"
     },
     "user_tz": -540
    },
    "id": "fmKuFxNxZkbZ",
    "outputId": "6b2ca1a3-2309-4cc8-9bdb-1508f186b8c9"
   },
   "outputs": [
    {
     "data": {
      "text/plain": [
       "array([[ 34,  46],\n",
       "       [ 74, 102]])"
      ]
     },
     "execution_count": 189,
     "metadata": {},
     "output_type": "execute_result"
    }
   ],
   "source": [
    "M1.dot(M2)"
   ]
  },
  {
   "cell_type": "markdown",
   "metadata": {
    "id": "KPSkshEYac-l"
   },
   "source": [
    "* M2 @ M1"
   ]
  },
  {
   "cell_type": "code",
   "execution_count": 110,
   "metadata": {
    "colab": {
     "base_uri": "https://localhost:8080/"
    },
    "executionInfo": {
     "elapsed": 99,
     "status": "ok",
     "timestamp": 1664175531852,
     "user": {
      "displayName": "이정구",
      "userId": "17400242557229223804"
     },
     "user_tz": -540
    },
    "id": "_ANbRCSiZotw",
    "outputId": "9f20898f-f748-45b8-de1a-3176c50246b8"
   },
   "outputs": [
    {
     "data": {
      "text/plain": [
       "array([[ 36,  52],\n",
       "       [ 68, 100]])"
      ]
     },
     "execution_count": 110,
     "metadata": {},
     "output_type": "execute_result"
    }
   ],
   "source": [
    "np.dot(M2, M1)"
   ]
  },
  {
   "cell_type": "markdown",
   "metadata": {
    "id": "ZHSK287Eag55"
   },
   "source": [
    "* Warning : M1 * M2 \n",
    "* vertorizing operation"
   ]
  },
  {
   "cell_type": "code",
   "execution_count": 111,
   "metadata": {
    "colab": {
     "base_uri": "https://localhost:8080/"
    },
    "executionInfo": {
     "elapsed": 90,
     "status": "ok",
     "timestamp": 1664175531853,
     "user": {
      "displayName": "이정구",
      "userId": "17400242557229223804"
     },
     "user_tz": -540
    },
    "id": "pXXRoyb9Zt6J",
    "outputId": "4dd5b47c-5ef1-4f28-c4d0-a16fc18f1261"
   },
   "outputs": [
    {
     "data": {
      "text/plain": [
       "array([[ 6, 20],\n",
       "       [42, 72]])"
      ]
     },
     "execution_count": 111,
     "metadata": {},
     "output_type": "execute_result"
    }
   ],
   "source": [
    "M1 * M2"
   ]
  },
  {
   "cell_type": "code",
   "execution_count": null,
   "metadata": {
    "colab": {
     "base_uri": "https://localhost:8080/"
    },
    "executionInfo": {
     "elapsed": 83,
     "status": "ok",
     "timestamp": 1664175531854,
     "user": {
      "displayName": "이정구",
      "userId": "17400242557229223804"
     },
     "user_tz": -540
    },
    "id": "JTGfHqea6d4m",
    "outputId": "8e6e1434-e11a-4d60-a37e-f15ab9a9a814"
   },
   "outputs": [
    {
     "data": {
      "text/plain": [
       "array([[ 6, 20],\n",
       "       [42, 72]])"
      ]
     },
     "execution_count": 192,
     "metadata": {},
     "output_type": "execute_result"
    }
   ],
   "source": [
    "M2 * M1"
   ]
  },
  {
   "cell_type": "markdown",
   "metadata": {
    "id": "V45_NZfEalpb"
   },
   "source": [
    ">## 2) 전치 행렬"
   ]
  },
  {
   "cell_type": "markdown",
   "metadata": {
    "id": "odFWPnp7a0oo"
   },
   "source": [
    "* M1의 전치 행렬"
   ]
  },
  {
   "cell_type": "code",
   "execution_count": 114,
   "metadata": {},
   "outputs": [
    {
     "data": {
      "text/plain": [
       "array([[2, 4],\n",
       "       [6, 8]])"
      ]
     },
     "execution_count": 114,
     "metadata": {},
     "output_type": "execute_result"
    }
   ],
   "source": [
    "M1"
   ]
  },
  {
   "cell_type": "code",
   "execution_count": 112,
   "metadata": {
    "colab": {
     "base_uri": "https://localhost:8080/"
    },
    "executionInfo": {
     "elapsed": 54,
     "status": "ok",
     "timestamp": 1664175531854,
     "user": {
      "displayName": "이정구",
      "userId": "17400242557229223804"
     },
     "user_tz": -540
    },
    "id": "Cv2RbHx8ZvJQ",
    "outputId": "4b7ddb2e-ec99-410e-defc-04a68d172766"
   },
   "outputs": [
    {
     "data": {
      "text/plain": [
       "array([[2, 6],\n",
       "       [4, 8]])"
      ]
     },
     "execution_count": 112,
     "metadata": {},
     "output_type": "execute_result"
    }
   ],
   "source": [
    "np.transpose(M1)"
   ]
  },
  {
   "cell_type": "markdown",
   "metadata": {
    "id": "-3O0H7Z_a1-J"
   },
   "source": [
    "* M2의 전치 행렬"
   ]
  },
  {
   "cell_type": "code",
   "execution_count": 115,
   "metadata": {
    "colab": {
     "base_uri": "https://localhost:8080/"
    },
    "executionInfo": {
     "elapsed": 38,
     "status": "ok",
     "timestamp": 1664175531856,
     "user": {
      "displayName": "이정구",
      "userId": "17400242557229223804"
     },
     "user_tz": -540
    },
    "id": "k9K1fNcPZ6C5",
    "outputId": "c85ef386-3bee-47de-be2d-758e439bca43"
   },
   "outputs": [
    {
     "data": {
      "text/plain": [
       "array([[3, 7],\n",
       "       [5, 9]])"
      ]
     },
     "execution_count": 115,
     "metadata": {},
     "output_type": "execute_result"
    }
   ],
   "source": [
    "M2.transpose()"
   ]
  },
  {
   "cell_type": "code",
   "execution_count": 116,
   "metadata": {
    "colab": {
     "base_uri": "https://localhost:8080/"
    },
    "executionInfo": {
     "elapsed": 34,
     "status": "ok",
     "timestamp": 1664175531856,
     "user": {
      "displayName": "이정구",
      "userId": "17400242557229223804"
     },
     "user_tz": -540
    },
    "id": "p0J2K213e924",
    "outputId": "7bab0561-eee0-4421-cd30-bc7cbe28c63d"
   },
   "outputs": [
    {
     "data": {
      "text/plain": [
       "array([[3, 7],\n",
       "       [5, 9]])"
      ]
     },
     "execution_count": 116,
     "metadata": {},
     "output_type": "execute_result"
    }
   ],
   "source": [
    "M2.T"
   ]
  },
  {
   "cell_type": "markdown",
   "metadata": {
    "id": "7o9Fe-9XmOxH"
   },
   "source": [
    "# \n",
    "# \n",
    "# \n",
    "# The End\n",
    "# \n",
    "# \n",
    "# "
   ]
  }
 ],
 "metadata": {
  "colab": {
   "collapsed_sections": [],
   "provenance": []
  },
  "kernelspec": {
   "display_name": "Python 3 (ipykernel)",
   "language": "python",
   "name": "python3"
  },
  "language_info": {
   "codemirror_mode": {
    "name": "ipython",
    "version": 3
   },
   "file_extension": ".py",
   "mimetype": "text/x-python",
   "name": "python",
   "nbconvert_exporter": "python",
   "pygments_lexer": "ipython3",
   "version": "3.10.8"
  },
  "toc": {
   "base_numbering": 1,
   "nav_menu": {},
   "number_sections": true,
   "sideBar": true,
   "skip_h1_title": false,
   "title_cell": "Table of Contents",
   "title_sidebar": "Contents",
   "toc_cell": false,
   "toc_position": {},
   "toc_section_display": true,
   "toc_window_display": false
  }
 },
 "nbformat": 4,
 "nbformat_minor": 1
}
