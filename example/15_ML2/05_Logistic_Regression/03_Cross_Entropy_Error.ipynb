{
 "cells": [
  {
   "cell_type": "markdown",
   "metadata": {
    "id": "Ml-hcS25cMbV"
   },
   "source": [
    "# Cross Entropy Error"
   ]
  },
  {
   "cell_type": "code",
   "execution_count": 1,
   "metadata": {
    "executionInfo": {
     "elapsed": 18,
     "status": "ok",
     "timestamp": 1663914416961,
     "user": {
      "displayName": "이정구",
      "userId": "17400242557229223804"
     },
     "user_tz": -540
    },
    "id": "RbPgODpVzdHI"
   },
   "outputs": [],
   "source": [
    "import warnings\n",
    "warnings.filterwarnings('ignore')"
   ]
  },
  {
   "cell_type": "markdown",
   "metadata": {
    "id": "y2-pGrtIfsoz"
   },
   "source": [
    "# I. Cross Entropy"
   ]
  },
  {
   "cell_type": "markdown",
   "metadata": {
    "id": "brALaBNIleeU"
   },
   "source": [
    "* 서로 다른 사건의 확률을 곱하여 Entropy를 계산\n",
    " * y : 실제값, y_hat : 예측값(can be incorrect)\n",
    "* y를 Cross-Entropy의 가중치로 적용\n",
    " * Binary Cross-Entropy Error = –y * log(y_hat) – (1 - y) * log(1 - y_hat)\n",
    " * Categorical Cross-Entropy Error = –y * log(y_hat)"
   ]
  },
  {
   "cell_type": "markdown",
   "metadata": {
    "id": "k-lsI64rRxAT"
   },
   "source": [
    "> ## 1) y = 1 vs. y_hat = 1"
   ]
  },
  {
   "cell_type": "code",
   "execution_count": 2,
   "metadata": {
    "colab": {
     "base_uri": "https://localhost:8080/"
    },
    "executionInfo": {
     "elapsed": 15,
     "status": "ok",
     "timestamp": 1663914416961,
     "user": {
      "displayName": "이정구",
      "userId": "17400242557229223804"
     },
     "user_tz": -540
    },
    "id": "UNodswhTRjo1",
    "outputId": "d0de8938-5f66-4fa0-9aca-9a255f431e96"
   },
   "outputs": [
    {
     "data": {
      "text/plain": [
       "-0.0"
      ]
     },
     "execution_count": 2,
     "metadata": {},
     "output_type": "execute_result"
    }
   ],
   "source": [
    "import numpy as np\n",
    "\n",
    "y = 1\n",
    "y_hat = 1\n",
    "\n",
    "-y * np.log(y_hat)"
   ]
  },
  {
   "cell_type": "markdown",
   "metadata": {
    "id": "8aoKSQbCS__y"
   },
   "source": [
    "> ## 2) y = 1 vs. y_hat = 0.0001"
   ]
  },
  {
   "cell_type": "code",
   "execution_count": 3,
   "metadata": {
    "colab": {
     "base_uri": "https://localhost:8080/"
    },
    "executionInfo": {
     "elapsed": 12,
     "status": "ok",
     "timestamp": 1663914416962,
     "user": {
      "displayName": "이정구",
      "userId": "17400242557229223804"
     },
     "user_tz": -540
    },
    "id": "Kh6zMOtoTE7q",
    "outputId": "ea09aee1-2421-42ef-de6c-99d51fca2f0e"
   },
   "outputs": [
    {
     "data": {
      "text/plain": [
       "9.210340371976182"
      ]
     },
     "execution_count": 3,
     "metadata": {},
     "output_type": "execute_result"
    }
   ],
   "source": [
    "y = 1\n",
    "y_hat = 0.0001\n",
    "\n",
    "-y * np.log(y_hat)"
   ]
  },
  {
   "cell_type": "markdown",
   "metadata": {
    "id": "YklxCOKOTQDb"
   },
   "source": [
    "> ## 3) y = 0 vs. y_hat = 0"
   ]
  },
  {
   "cell_type": "code",
   "execution_count": 3,
   "metadata": {
    "colab": {
     "base_uri": "https://localhost:8080/"
    },
    "executionInfo": {
     "elapsed": 10,
     "status": "ok",
     "timestamp": 1663914416962,
     "user": {
      "displayName": "이정구",
      "userId": "17400242557229223804"
     },
     "user_tz": -540
    },
    "id": "eJrE5u9GRsnB",
    "outputId": "fd8b4e15-82da-43b7-d377-a1f7b457574a"
   },
   "outputs": [
    {
     "data": {
      "text/plain": [
       "-0.0"
      ]
     },
     "execution_count": 3,
     "metadata": {},
     "output_type": "execute_result"
    }
   ],
   "source": [
    "y = 0\n",
    "y_hat = 0\n",
    "\n",
    "-(1 - y) * np.log(1 - y_hat)"
   ]
  },
  {
   "cell_type": "markdown",
   "metadata": {
    "id": "CShAr2sbTmNL"
   },
   "source": [
    "> ## 4) y = 0 vs. y_hat = 0.9999"
   ]
  },
  {
   "cell_type": "code",
   "execution_count": 4,
   "metadata": {
    "colab": {
     "base_uri": "https://localhost:8080/"
    },
    "executionInfo": {
     "elapsed": 35,
     "status": "ok",
     "timestamp": 1663914417487,
     "user": {
      "displayName": "이정구",
      "userId": "17400242557229223804"
     },
     "user_tz": -540
    },
    "id": "AmvhJQ_UT4wn",
    "outputId": "e6d2e734-c8db-4703-a089-9f05d78f55c3"
   },
   "outputs": [
    {
     "data": {
      "text/plain": [
       "9.210340371976294"
      ]
     },
     "execution_count": 4,
     "metadata": {},
     "output_type": "execute_result"
    }
   ],
   "source": [
    "y = 0\n",
    "y_hat = 0.9999\n",
    "\n",
    "-(1 - y) * np.log(1 - y_hat)"
   ]
  },
  {
   "cell_type": "markdown",
   "metadata": {
    "id": "wK4Nklzzh_Ed"
   },
   "source": [
    "# II. Information Theory\n"
   ]
  },
  {
   "cell_type": "markdown",
   "metadata": {
    "id": "IsbYWb1Wi76X"
   },
   "source": [
    "> ## 1) 발생 확률이 서로 다른 사건 A, B, C - Information Gain\n",
    "\n",
    "* Information Gain(정보 이득량)\n",
    " * 자주 발생하지 않는 사건은 자주 발생하는 사건보다 전달하는 정보량이 많음\n",
    " * Information Gain(정보 이득량)은 정보의 희귀성(발생가능성)에 반비례\n",
    " * I(x) = –log(P(x))"
   ]
  },
  {
   "cell_type": "code",
   "execution_count": 6,
   "metadata": {
    "colab": {
     "base_uri": "https://localhost:8080/"
    },
    "executionInfo": {
     "elapsed": 31,
     "status": "ok",
     "timestamp": 1663914417489,
     "user": {
      "displayName": "이정구",
      "userId": "17400242557229223804"
     },
     "user_tz": -540
    },
    "id": "8z4-oHswij-g",
    "outputId": "69caedde-4c0f-4874-b925-1065588d659c"
   },
   "outputs": [
    {
     "name": "stdout",
     "output_type": "stream",
     "text": [
      "0.105 0.693 2.303\n"
     ]
    }
   ],
   "source": [
    "# 각 사건이 발생할 확률\n",
    "A = 0.9\n",
    "B = 0.5\n",
    "C = 0.1\n",
    "# 가장 발생할 확률이 낮은 C가 정보량이 가장 높음\n",
    "print('%.3f' % -np.log(A), '%.3f' % -np.log(B), '%.3f' % -np.log(C))"
   ]
  },
  {
   "cell_type": "markdown",
   "metadata": {
    "id": "yU-3uPyljKQE"
   },
   "source": [
    "> ## 2) AlphaGo와 Apes의 바둑대결 승리 확률 - Degree of Surprise\n",
    "\n",
    "* Degree of Surprise(놀람의 정도)\n",
    " * 예상하기 어려운 정보에 더 높은 가치를 매기는 것"
   ]
  },
  {
   "cell_type": "code",
   "execution_count": 7,
   "metadata": {
    "colab": {
     "base_uri": "https://localhost:8080/"
    },
    "executionInfo": {
     "elapsed": 27,
     "status": "ok",
     "timestamp": 1663914417490,
     "user": {
      "displayName": "이정구",
      "userId": "17400242557229223804"
     },
     "user_tz": -540
    },
    "id": "mBuEPrRDinix",
    "outputId": "707cce4c-b7be-412a-d7b1-71b3e91d1f2a"
   },
   "outputs": [
    {
     "name": "stdout",
     "output_type": "stream",
     "text": [
      "0.001 6.908\n"
     ]
    }
   ],
   "source": [
    "Alphago = 0.999\n",
    "Apes = 0.001\n",
    "# 알파고가 이겼을 때 놀람의 정도보다, 침팬지가 이겼을 때 놀람의 정도가 더 크다.\n",
    "print('%.3f' % -np.log(Alphago), '%.3f' % -np.log(Apes))"
   ]
  },
  {
   "cell_type": "markdown",
   "metadata": {
    "id": "CgCnma7QjtpS"
   },
   "source": [
    "# III. Entropy"
   ]
  },
  {
   "cell_type": "markdown",
   "metadata": {
    "id": "AmYGzfJKkOJL"
   },
   "source": [
    "* 불확실성의 정도\n",
    " * Entropy = E(–log(P(x)))\n",
    "* 확률변수의 평균 정보량(기댓값)\n",
    " * –sum(p(x) * log(p(x)))\n",
    "* 불확실성(Entropy)이 낮으면 분류정확도가 높아짐"
   ]
  },
  {
   "cell_type": "markdown",
   "metadata": {
    "id": "IzSPawrcknfX"
   },
   "source": [
    "> ## 1) 승률이 비슷한 두팀의 Entropy"
   ]
  },
  {
   "cell_type": "code",
   "execution_count": 5,
   "metadata": {
    "colab": {
     "base_uri": "https://localhost:8080/"
    },
    "executionInfo": {
     "elapsed": 23,
     "status": "ok",
     "timestamp": 1663914417491,
     "user": {
      "displayName": "이정구",
      "userId": "17400242557229223804"
     },
     "user_tz": -540
    },
    "id": "ZerL7OdPk0Zk",
    "outputId": "829d4b87-81ec-4b7d-c108-6db5ad682b3d"
   },
   "outputs": [
    {
     "data": {
      "text/plain": [
       "0.6931471805599453"
      ]
     },
     "execution_count": 5,
     "metadata": {},
     "output_type": "execute_result"
    }
   ],
   "source": [
    "P1 = 0.5\n",
    "P2 = 0.5\n",
    "\n",
    "-P1 * np.log(P1) - P2 * np.log(P2)"
   ]
  },
  {
   "cell_type": "markdown",
   "metadata": {
    "id": "woYt_azSkuHK"
   },
   "source": [
    "> ## 2) 승률 차이가 큰 두팀의 Entropy"
   ]
  },
  {
   "cell_type": "code",
   "execution_count": 6,
   "metadata": {
    "colab": {
     "base_uri": "https://localhost:8080/"
    },
    "executionInfo": {
     "elapsed": 19,
     "status": "ok",
     "timestamp": 1663914417493,
     "user": {
      "displayName": "이정구",
      "userId": "17400242557229223804"
     },
     "user_tz": -540
    },
    "id": "QWulX2IEk_18",
    "outputId": "b2a44f48-a5bc-497e-b32e-a0e0dbf455d1"
   },
   "outputs": [
    {
     "data": {
      "text/plain": [
       "0.007907255112232087"
      ]
     },
     "execution_count": 6,
     "metadata": {},
     "output_type": "execute_result"
    }
   ],
   "source": [
    "P1 = 0.999\n",
    "P2 = 0.001\n",
    "\n",
    "-P1 * np.log(P1) - P2 * np.log(P2)"
   ]
  },
  {
   "cell_type": "markdown",
   "metadata": {
    "id": "u4EBM5Pt3R7N"
   },
   "source": [
    "# \n",
    "# \n",
    "# \n",
    "# The End\n",
    "# \n",
    "# \n",
    "# "
   ]
  }
 ],
 "metadata": {
  "colab": {
   "collapsed_sections": [],
   "provenance": []
  },
  "kernelspec": {
   "display_name": "Python 3 (ipykernel)",
   "language": "python",
   "name": "python3"
  },
  "language_info": {
   "codemirror_mode": {
    "name": "ipython",
    "version": 3
   },
   "file_extension": ".py",
   "mimetype": "text/x-python",
   "name": "python",
   "nbconvert_exporter": "python",
   "pygments_lexer": "ipython3",
   "version": "3.10.8"
  },
  "toc": {
   "base_numbering": 1,
   "nav_menu": {},
   "number_sections": true,
   "sideBar": true,
   "skip_h1_title": false,
   "title_cell": "Table of Contents",
   "title_sidebar": "Contents",
   "toc_cell": false,
   "toc_position": {},
   "toc_section_display": true,
   "toc_window_display": false
  }
 },
 "nbformat": 4,
 "nbformat_minor": 1
}
