{
 "cells": [
  {
   "cell_type": "code",
   "execution_count": 1,
   "id": "5cd1ed95",
   "metadata": {},
   "outputs": [],
   "source": [
    "from database import init_db, db_session\n",
    "from bankmodel import Customer\n",
    "from sqlalchemy import select\n",
    "\n",
    "\n",
    "init_db()"
   ]
  },
  {
   "cell_type": "code",
   "execution_count": 2,
   "id": "1e65bc9e",
   "metadata": {},
   "outputs": [
    {
     "data": {
      "text/plain": [
       "[<1c, 원칠4, 2, 500, silver>,\n",
       " <2c, 이서혁, 1, 2000, gold>,\n",
       " <3c, aiot, 3, 50000, vip>,\n",
       " <4c, 새싹, 4, 200000, vvip>]"
      ]
     },
     "execution_count": 2,
     "metadata": {},
     "output_type": "execute_result"
    }
   ],
   "source": [
    "# ORM객체 쿼리\n",
    "customers = Customer.query.all()\n",
    "customers"
   ]
  },
  {
   "cell_type": "code",
   "execution_count": 5,
   "id": "1d644de0",
   "metadata": {},
   "outputs": [
    {
     "data": {
      "text/plain": [
       "<1c, 최원칠, 2, 500, silver>"
      ]
     },
     "execution_count": 5,
     "metadata": {},
     "output_type": "execute_result"
    }
   ],
   "source": [
    "c = db_session.get(Customer, '1c')\n",
    "c"
   ]
  },
  {
   "cell_type": "code",
   "execution_count": 6,
   "id": "6b90be91",
   "metadata": {},
   "outputs": [
    {
     "data": {
      "text/plain": [
       "<1c, 최원칠, 2, 500, silver>"
      ]
     },
     "execution_count": 6,
     "metadata": {},
     "output_type": "execute_result"
    }
   ],
   "source": [
    "Customer.query.filter(Customer.c_id =='1c')[0]"
   ]
  },
  {
   "cell_type": "code",
   "execution_count": 7,
   "id": "9d7e98a6",
   "metadata": {},
   "outputs": [
    {
     "name": "stdout",
     "output_type": "stream",
     "text": [
      "<1c, 최원칠, 2, 500, silver>\n",
      "<2c, 이서혁, 1, 2000, gold>\n",
      "<3c, aiot, 3, 50000, vip>\n",
      "<4c, 새싹, 4, 200000, vvip>\n"
     ]
    }
   ],
   "source": [
    "# db_session.execute()로 SQL쿼리 가능\n",
    "# 튜플로 가져오므로 스칼라() 처리 필요\n",
    "q = db_session.execute(select(Customer)).scalars()\n",
    "for c in q:\n",
    "    print(c)"
   ]
  },
  {
   "cell_type": "code",
   "execution_count": 9,
   "id": "81626f02",
   "metadata": {},
   "outputs": [
    {
     "name": "stdout",
     "output_type": "stream",
     "text": [
      "<2c, 이서혁, 1, 2000, gold>\n",
      "<1c, 최원칠, 2, 500, silver>\n",
      "<3c, aiot, 3, 50000, vip>\n",
      "<4c, 새싹, 4, 200000, vvip>\n"
     ]
    }
   ],
   "source": [
    "# 등급 순차정렬인데, 문자열 기준으로 정렬 된듯\n",
    "q = db_session.execute(select(Customer).order_by(Customer.rat)).scalars()\n",
    "for c in q:\n",
    "    print(c)"
   ]
  },
  {
   "cell_type": "code",
   "execution_count": 10,
   "id": "dba43e41",
   "metadata": {},
   "outputs": [
    {
     "name": "stdout",
     "output_type": "stream",
     "text": [
      "<3c, aiot, 3, 50000, vip>\n"
     ]
    }
   ],
   "source": [
    "q = db_session.execute(select(Customer).where(Customer.name =='aiot')).scalars()\n",
    "for c in q:\n",
    "    print(c)"
   ]
  },
  {
   "cell_type": "code",
   "execution_count": 12,
   "id": "1fdbeadf",
   "metadata": {},
   "outputs": [
    {
     "data": {
      "text/plain": [
       "[<1c, 원칠3, 2, 500, silver>,\n",
       " <2c, 이서혁, 1, 2000, gold>,\n",
       " <3c, aiot, 3, 50000, vip>,\n",
       " <4c, 새싹, 4, 200000, vvip>]"
      ]
     },
     "execution_count": 12,
     "metadata": {},
     "output_type": "execute_result"
    }
   ],
   "source": [
    "# 데이터 수정\n",
    "customers[0].name = '원칠3'\n",
    "db_session.commit() # 커밋 필수\n",
    "customers = Customer.query.all()\n",
    "customers"
   ]
  },
  {
   "cell_type": "code",
   "execution_count": 13,
   "id": "d0e5e55b",
   "metadata": {},
   "outputs": [
    {
     "data": {
      "text/plain": [
       "[<1c, 원칠4, 2, 500, silver>,\n",
       " <2c, 이서혁, 1, 2000, gold>,\n",
       " <3c, aiot, 3, 50000, vip>,\n",
       " <4c, 새싹, 4, 200000, vvip>]"
      ]
     },
     "execution_count": 13,
     "metadata": {},
     "output_type": "execute_result"
    }
   ],
   "source": [
    "customers[0].name = '원칠4' # 객체에 직접 입력시 add 생략\n",
    "customers[0].verified = True\n",
    "db_session.commit()\n",
    "customers = Customer.query.all()\n",
    "customers"
   ]
  },
  {
   "cell_type": "code",
   "execution_count": 10,
   "id": "7dfbb783",
   "metadata": {},
   "outputs": [
    {
     "name": "stderr",
     "output_type": "stream",
     "text": [
      "C:\\Users\\SBAUser\\AppData\\Local\\Temp\\ipykernel_12392\\890457631.py:3: SAWarning: New instance <Customer at 0x2ac6cf54220> with identity key (<class 'bankmodel.Customer'>, ('12c',), None) conflicts with persistent instance <Customer at 0x2ac6cf55540>\n",
      "  db_session.commit()\n",
      "C:\\Users\\SBAUser\\AppData\\Local\\Temp\\ipykernel_12392\\890457631.py:3: SAWarning: Identity map already had an identity for (<class 'bankmodel.Customer'>, ('12c',), None), replacing it with newly flushed object.   Are there load operations occurring inside of an event handler within the flush?\n",
      "  db_session.commit()\n"
     ]
    },
    {
     "data": {
      "text/plain": [
       "[<1c, 원칠4, 2, 500, silver>,\n",
       " <2c, 이서혁, 1, 2000, gold>,\n",
       " <3c, aiot, 3, 50000, vip>,\n",
       " <4c, 새싹, 4, 200000, vvip>,\n",
       " <12c, 데이터베스, 0, 0, normal>]"
      ]
     },
     "execution_count": 10,
     "metadata": {},
     "output_type": "execute_result"
    }
   ],
   "source": [
    "\n",
    "c = Customer(c_id = '12c', name = '데이터베스')\n",
    "db_session.add(c) \n",
    "db_session.commit()\n",
    "customers = Customer.query.all()\n",
    "customers"
   ]
  },
  {
   "cell_type": "code",
   "execution_count": 14,
   "id": "113b300d",
   "metadata": {},
   "outputs": [
    {
     "data": {
      "text/plain": [
       "[<11a, 100, 1c>,\n",
       " <12a, 400, 1c>,\n",
       " <21a, 2000, 2c>,\n",
       " <31a, 10000, 3c>,\n",
       " <32a, 20000, 3c>,\n",
       " <33a, 20000, 3c>,\n",
       " <41a, 100000, 4c>,\n",
       " <42a, 50000, 4c>,\n",
       " <43a, 20000, 4c>,\n",
       " <44a, 30000, 4c>]"
      ]
     },
     "execution_count": 14,
     "metadata": {},
     "output_type": "execute_result"
    }
   ],
   "source": [
    "from bankmodel import Accounts\n",
    "# accounts 테이블의 모든 계좌를 쿼리후 출력\n",
    "accounts = Accounts.query.all()\n",
    "accounts"
   ]
  },
  {
   "cell_type": "code",
   "execution_count": 15,
   "id": "bd4a51b0",
   "metadata": {},
   "outputs": [
    {
     "data": {
      "text/plain": [
       "<11a, 100, 1c>"
      ]
     },
     "execution_count": 15,
     "metadata": {},
     "output_type": "execute_result"
    }
   ],
   "source": [
    "# get함수를 활용해 a_id가 11a 인 계좌 출력\n",
    "a = db_session.get(Accounts, '11a')\n",
    "a"
   ]
  },
  {
   "cell_type": "code",
   "execution_count": 16,
   "id": "27c1de00",
   "metadata": {},
   "outputs": [
    {
     "data": {
      "text/plain": [
       "[<31a, 10000, 3c>, <32a, 20000, 3c>, <33a, 20000, 3c>]"
      ]
     },
     "execution_count": 16,
     "metadata": {},
     "output_type": "execute_result"
    }
   ],
   "source": [
    "# 쿼리 filter 함수를 활용해 c_id가 3c인 계좌 출력\n",
    "Accounts.query.filter(Accounts.c_id =='3c').all()"
   ]
  },
  {
   "cell_type": "code",
   "execution_count": 17,
   "id": "f79c91dd",
   "metadata": {},
   "outputs": [
    {
     "data": {
      "text/plain": [
       "[<11a, 100, 1c>,\n",
       " <12a, 400, 1c>,\n",
       " <21a, 2000, 2c>,\n",
       " <31a, 10000, 3c>,\n",
       " <32a, 20000, 3c>,\n",
       " <33a, 20000, 3c>,\n",
       " <41a, 100000, 4c>,\n",
       " <42a, 50000, 4c>,\n",
       " <43a, 20000, 4c>,\n",
       " <44a, 30000, 4c>,\n",
       " <45a, 0, 4c>]"
      ]
     },
     "execution_count": 17,
     "metadata": {},
     "output_type": "execute_result"
    }
   ],
   "source": [
    "# a_id가 45a이고 c_id가 4c인 계좌 생성후 DB에 추가\n",
    "# a_id = '45a'\n",
    "# if db_session.get(Accounts, a_id) is None:\n",
    "a = Accounts(a_id = '45a', c_id = '4c')\n",
    "db_session.add(a)\n",
    "db_session.commit()\n",
    "accounts = Accounts.query.all()\n",
    "accounts"
   ]
  },
  {
   "cell_type": "code",
   "execution_count": 20,
   "id": "665ec016",
   "metadata": {},
   "outputs": [
    {
     "data": {
      "text/plain": [
       "[<11a, 100, 1c>,\n",
       " <12a, 400, 1c>,\n",
       " <21a, 4000, 2c>,\n",
       " <31a, 10000, 3c>,\n",
       " <32a, 20000, 3c>,\n",
       " <33a, 20000, 3c>,\n",
       " <41a, 100000, 4c>,\n",
       " <42a, 50000, 4c>,\n",
       " <43a, 20000, 4c>,\n",
       " <44a, 30000, 4c>,\n",
       " <45a, 0, 4c>]"
      ]
     },
     "execution_count": 20,
     "metadata": {},
     "output_type": "execute_result"
    }
   ],
   "source": [
    "# a_id가 21a인 계좌를 가져온후 금액을 4000으로 바꾸고 DB업데이트\n",
    "# a = Accounts.query.filter(Accounts.a_id =='21a')[0]\n",
    "a = db_session.get(Accounts, '21a')\n",
    "a.amount = 4000\n",
    "a.verified = True\n",
    "db_session.commit()\n",
    "accounts = Accounts.query.all()\n",
    "accounts"
   ]
  }
 ],
 "metadata": {
  "kernelspec": {
   "display_name": "Python 3 (ipykernel)",
   "language": "python",
   "name": "python3"
  },
  "language_info": {
   "codemirror_mode": {
    "name": "ipython",
    "version": 3
   },
   "file_extension": ".py",
   "mimetype": "text/x-python",
   "name": "python",
   "nbconvert_exporter": "python",
   "pygments_lexer": "ipython3",
   "version": "3.10.8"
  },
  "toc": {
   "base_numbering": 1,
   "nav_menu": {},
   "number_sections": true,
   "sideBar": true,
   "skip_h1_title": false,
   "title_cell": "Table of Contents",
   "title_sidebar": "Contents",
   "toc_cell": false,
   "toc_position": {},
   "toc_section_display": true,
   "toc_window_display": false
  }
 },
 "nbformat": 4,
 "nbformat_minor": 5
}
