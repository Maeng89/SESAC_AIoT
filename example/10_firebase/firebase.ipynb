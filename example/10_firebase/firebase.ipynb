{
 "cells": [
  {
   "cell_type": "code",
   "execution_count": 8,
   "id": "65aecbab",
   "metadata": {},
   "outputs": [],
   "source": [
    "from IPython.display import display, JSON\n",
    "#display(result)"
   ]
  },
  {
   "cell_type": "code",
   "execution_count": 20,
   "id": "bed2b060",
   "metadata": {
    "collapsed": true
   },
   "outputs": [
    {
     "ename": "ValueError",
     "evalue": "The default Firebase app already exists. This means you called initialize_app() more than once without providing an app name as the second argument. In most cases you only need to call initialize_app() once. But if you do want to initialize multiple apps, pass a second argument to initialize_app() to give each app a unique name.",
     "output_type": "error",
     "traceback": [
      "\u001b[1;31m---------------------------------------------------------------------------\u001b[0m",
      "\u001b[1;31mValueError\u001b[0m                                Traceback (most recent call last)",
      "Cell \u001b[1;32mIn [20], line 8\u001b[0m\n\u001b[0;32m      5\u001b[0m \u001b[38;5;66;03m# Use a service account.\u001b[39;00m\n\u001b[0;32m      6\u001b[0m cred \u001b[38;5;241m=\u001b[39m credentials\u001b[38;5;241m.\u001b[39mCertificate(\u001b[38;5;124m'\u001b[39m\u001b[38;5;124m./nugunaaiot-maeng-1004a11a5af7.json\u001b[39m\u001b[38;5;124m'\u001b[39m)\n\u001b[1;32m----> 8\u001b[0m app \u001b[38;5;241m=\u001b[39m \u001b[43mfirebase_admin\u001b[49m\u001b[38;5;241;43m.\u001b[39;49m\u001b[43minitialize_app\u001b[49m\u001b[43m(\u001b[49m\u001b[43mcred\u001b[49m\u001b[43m)\u001b[49m\n\u001b[0;32m     10\u001b[0m db \u001b[38;5;241m=\u001b[39m firestore\u001b[38;5;241m.\u001b[39mclient()\n",
      "File \u001b[1;32m~\\AppData\\Local\\Programs\\Python\\Python310\\lib\\site-packages\\firebase_admin\\__init__.py:71\u001b[0m, in \u001b[0;36minitialize_app\u001b[1;34m(credential, options, name)\u001b[0m\n\u001b[0;32m     68\u001b[0m         \u001b[38;5;28;01mreturn\u001b[39;00m app\n\u001b[0;32m     70\u001b[0m \u001b[38;5;28;01mif\u001b[39;00m name \u001b[38;5;241m==\u001b[39m _DEFAULT_APP_NAME:\n\u001b[1;32m---> 71\u001b[0m     \u001b[38;5;28;01mraise\u001b[39;00m \u001b[38;5;167;01mValueError\u001b[39;00m((\n\u001b[0;32m     72\u001b[0m         \u001b[38;5;124m'\u001b[39m\u001b[38;5;124mThe default Firebase app already exists. This means you called \u001b[39m\u001b[38;5;124m'\u001b[39m\n\u001b[0;32m     73\u001b[0m         \u001b[38;5;124m'\u001b[39m\u001b[38;5;124minitialize_app() more than once without providing an app name as \u001b[39m\u001b[38;5;124m'\u001b[39m\n\u001b[0;32m     74\u001b[0m         \u001b[38;5;124m'\u001b[39m\u001b[38;5;124mthe second argument. In most cases you only need to call \u001b[39m\u001b[38;5;124m'\u001b[39m\n\u001b[0;32m     75\u001b[0m         \u001b[38;5;124m'\u001b[39m\u001b[38;5;124minitialize_app() once. But if you do want to initialize multiple \u001b[39m\u001b[38;5;124m'\u001b[39m\n\u001b[0;32m     76\u001b[0m         \u001b[38;5;124m'\u001b[39m\u001b[38;5;124mapps, pass a second argument to initialize_app() to give each app \u001b[39m\u001b[38;5;124m'\u001b[39m\n\u001b[0;32m     77\u001b[0m         \u001b[38;5;124m'\u001b[39m\u001b[38;5;124ma unique name.\u001b[39m\u001b[38;5;124m'\u001b[39m))\n\u001b[0;32m     79\u001b[0m \u001b[38;5;28;01mraise\u001b[39;00m \u001b[38;5;167;01mValueError\u001b[39;00m((\n\u001b[0;32m     80\u001b[0m     \u001b[38;5;124m'\u001b[39m\u001b[38;5;124mFirebase app named \u001b[39m\u001b[38;5;124m\"\u001b[39m\u001b[38;5;132;01m{0}\u001b[39;00m\u001b[38;5;124m\"\u001b[39m\u001b[38;5;124m already exists. This means you called \u001b[39m\u001b[38;5;124m'\u001b[39m\n\u001b[0;32m     81\u001b[0m     \u001b[38;5;124m'\u001b[39m\u001b[38;5;124minitialize_app() more than once with the same app name as the \u001b[39m\u001b[38;5;124m'\u001b[39m\n\u001b[0;32m     82\u001b[0m     \u001b[38;5;124m'\u001b[39m\u001b[38;5;124msecond argument. Make sure you provide a unique name every time \u001b[39m\u001b[38;5;124m'\u001b[39m\n\u001b[0;32m     83\u001b[0m     \u001b[38;5;124m'\u001b[39m\u001b[38;5;124myou call initialize_app().\u001b[39m\u001b[38;5;124m'\u001b[39m)\u001b[38;5;241m.\u001b[39mformat(name))\n",
      "\u001b[1;31mValueError\u001b[0m: The default Firebase app already exists. This means you called initialize_app() more than once without providing an app name as the second argument. In most cases you only need to call initialize_app() once. But if you do want to initialize multiple apps, pass a second argument to initialize_app() to give each app a unique name."
     ]
    }
   ],
   "source": [
    "import firebase_admin\n",
    "from firebase_admin import credentials\n",
    "from firebase_admin import firestore\n",
    "\n",
    "# Use a service account.\n",
    "cred = credentials.Certificate('./nugunaaiot-maeng-1004a11a5af7.json')\n",
    "\n",
    "app = firebase_admin.initialize_app(cred)\n",
    "\n",
    "db = firestore.client()\n"
   ]
  },
  {
   "cell_type": "code",
   "execution_count": 21,
   "id": "0a018209",
   "metadata": {},
   "outputs": [
    {
     "data": {
      "text/plain": [
       "update_time {\n",
       "  seconds: 1670658351\n",
       "  nanos: 785326000\n",
       "}"
      ]
     },
     "execution_count": 21,
     "metadata": {},
     "output_type": "execute_result"
    }
   ],
   "source": [
    "# 데이터 추가\n",
    "# 데이터 스냅샷(가져오기) get, 참조는  ref\n",
    "doc_ref = db.collection('customer').document('c1')\n",
    "doc_ref.set({\n",
    "    'c_id': 'c1',\n",
    "    'name': '최원칠',\n",
    "    'total_amount':500,\n",
    "    'rat': 'silver'\n",
    "})\n"
   ]
  },
  {
   "cell_type": "code",
   "execution_count": 22,
   "id": "caff81b9",
   "metadata": {},
   "outputs": [
    {
     "name": "stdout",
     "output_type": "stream",
     "text": [
      "<google.cloud.firestore_v1.base_document.DocumentSnapshot object at 0x000001AD184DBB50>\n"
     ]
    }
   ],
   "source": [
    "# 데이터 id로 읽기\n",
    "doc_ref = db.collection('customer').document('c1')\n",
    "\n",
    "doc = doc_ref.get()\n",
    "\n",
    "print(doc)"
   ]
  },
  {
   "cell_type": "code",
   "execution_count": 23,
   "id": "6a4f3996",
   "metadata": {},
   "outputs": [
    {
     "name": "stdout",
     "output_type": "stream",
     "text": [
      "Document data: {'c_id': 'c1', 'rat': 'silver', 'total_amount': 500, 'name': '최원칠'}\n"
     ]
    }
   ],
   "source": [
    "if doc.exists:\n",
    "    print(f'Document data: {doc.to_dict()}')\n",
    "else:\n",
    "    print(u'No such document!')"
   ]
  },
  {
   "cell_type": "code",
   "execution_count": 24,
   "id": "be93c931",
   "metadata": {},
   "outputs": [
    {
     "name": "stdout",
     "output_type": "stream",
     "text": [
      "<generator object Query.stream at 0x000001AD18A45690>\n"
     ]
    }
   ],
   "source": [
    "# 데이터 전체 읽기\n",
    "users_ref = db.collection('customer')\n",
    "docs = users_ref.stream()\n",
    "\n",
    "print(docs)"
   ]
  },
  {
   "cell_type": "code",
   "execution_count": 25,
   "id": "a23a8bff",
   "metadata": {},
   "outputs": [
    {
     "name": "stdout",
     "output_type": "stream",
     "text": [
      "1c => {'name': 'hera'}\n",
      "c1 => {'c_id': 'c1', 'rat': 'silver', 'total_amount': 500, 'name': '최원칠'}\n"
     ]
    }
   ],
   "source": [
    "for doc in docs:\n",
    "    print(f'{doc.id} => {doc.to_dict()}')"
   ]
  },
  {
   "cell_type": "code",
   "execution_count": 26,
   "id": "51a93b62",
   "metadata": {
    "scrolled": true
   },
   "outputs": [
    {
     "name": "stdout",
     "output_type": "stream",
     "text": [
      "c1 => {'c_id': 'c1', 'rat': 'silver', 'total_amount': 500, 'name': '최원칠'}\n"
     ]
    }
   ],
   "source": [
    "# 데이터 쿼리\n",
    "cities_ref = db.collection('customer')\n",
    "q = cities_ref.where('total_amount', '<=', 1000).stream() # 동일 컬럼에서만 중복 쿼리 가능\n",
    "for doc in q:\n",
    "    print(f'{doc.id} => {doc.to_dict()}')"
   ]
  },
  {
   "cell_type": "code",
   "execution_count": 27,
   "id": "eea623ac",
   "metadata": {},
   "outputs": [
    {
     "name": "stdout",
     "output_type": "stream",
     "text": [
      "Document data: {'name': '최원칠', 'c_id': 'c1', 'rat': 'silver', 'total_amount': 500, 'account_num': 1, 'accounts': {'11a': {'c_id': 'c1', 'amount': 100, 'a_id': '11a'}}}\n"
     ]
    }
   ],
   "source": [
    "# 데이터 업데이트\n",
    "doc_ref = db.collection('customer').document('c1')\n",
    "\n",
    "doc_ref.update({'account_num': 1,\n",
    "                'accounts':{'11a':{'a_id':'11a', 'c_id':'c1', 'amount':100}}\n",
    "               })\n",
    "\n",
    "doc_ref = db.collection('customer').document('c1')\n",
    "\n",
    "doc = doc_ref.get()\n",
    "if doc.exists:\n",
    "    print(f'Document data: {doc.to_dict()}')\n",
    "else:\n",
    "    print(u'No such document!')\n"
   ]
  },
  {
   "cell_type": "code",
   "execution_count": 28,
   "id": "be6b74cd",
   "metadata": {},
   "outputs": [
    {
     "name": "stdout",
     "output_type": "stream",
     "text": [
      "Document data: {'accounts': {'11a': {'c_id': 'c1', 'amount': 100, 'a_id': '11a'}, '12a': {'c_id': 'c1', 'amount': 400, 'a_id': '12a'}}, 'account_num': 2, 'c_id': 'c1', 'edit_time': DatetimeWithNanoseconds(2022, 12, 10, 7, 47, 47, 272000, tzinfo=datetime.timezone.utc), 'rat': 'silver', 'total_amount': 900, 'name': '최원칠'}\n"
     ]
    }
   ],
   "source": [
    "# 데이터 업데이트\n",
    "doc_ref = db.collection('customer').document('c1')\n",
    "\n",
    "# 특수 필드 사용\n",
    "# 특정 맵의 필드를 추가하기위해 < 맵.필드 : 값 > 사용\n",
    "doc_ref.update({'account_num': firestore.Increment(1),# +=\n",
    "                'total_amount' : firestore.Increment(400),\n",
    "                'edit_time': firestore.SERVER_TIMESTAMP, # 숨겨진 칼럼으로 fb기능을 사용가능\n",
    "                'accounts.12a':{'a_id':'12a', 'c_id':'c1', 'amount':400} # 콜렉션.필드id 를 키값으로 사용가능\n",
    "               })\n",
    "\n",
    "doc_ref = db.collection('customer').document('c1')\n",
    "\n",
    "doc = doc_ref.get()\n",
    "if doc.exists:\n",
    "    print(f'Document data: {doc.to_dict()}')\n",
    "else:\n",
    "    print(u'No such document!')"
   ]
  },
  {
   "cell_type": "code",
   "execution_count": 11,
   "id": "b3fe8b33",
   "metadata": {},
   "outputs": [],
   "source": [
    "# py파일 또는 ipynb 파일 새로 생성하여 진행\n",
    "# 파이어스토어 db 인스턴스 생성\n",
    "# bank4.json 파일내의 데이터를 파이어스토어 customer 컬렉션에 고객 아이디를 아이디로 가지는 문서들로 추가\n",
    "# {아이디: 5c, 이름: 본인이름, 계좌개수:0, 총금액:0, 등급:normal, 계좌:비어있는 딕셔너리} 고객 customer 컬렉션에 추가\n",
    "# 5c 고객에 임의의 계좌 추가 (고객의 계좌, 총금액, 계좌개수, 등급, 수정시간 업데이트되어야함)\n",
    "# 계좌개수, 총금액은 firestore.Increment() 사용\n",
    "\n",
    "import json\n",
    "\n",
    "with open('bank4.json','r') as f:\n",
    "    data = json.load(f)\n"
   ]
  },
  {
   "cell_type": "code",
   "execution_count": 12,
   "id": "5ce07168",
   "metadata": {},
   "outputs": [
    {
     "data": {
      "text/plain": [
       "{'1c': {'c_id': '1c',\n",
       "  'name': '최원칠',\n",
       "  'account_num': 2,\n",
       "  'total_amount': 500,\n",
       "  'rat': 'silver',\n",
       "  'account': {'11a': {'a_id': '11a',\n",
       "    'password': '11p',\n",
       "    'c_id': '1c',\n",
       "    'amount': 100},\n",
       "   '12a': {'a_id': '12a', 'password': '12p', 'c_id': '1c', 'amount': 400}}},\n",
       " '2c': {'c_id': '2c',\n",
       "  'name': '이서혁',\n",
       "  'account_num': 1,\n",
       "  'total_amount': 2000,\n",
       "  'rat': 'gold',\n",
       "  'account': {'21a': {'a_id': '21a',\n",
       "    'password': '21p',\n",
       "    'c_id': '2c',\n",
       "    'amount': 2000}}},\n",
       " '3c': {'c_id': '3c',\n",
       "  'name': 'aiot',\n",
       "  'account_num': 3,\n",
       "  'total_amount': 50000,\n",
       "  'rat': 'vip',\n",
       "  'account': {'31a': {'a_id': '31a',\n",
       "    'password': '31p',\n",
       "    'c_id': '3c',\n",
       "    'amount': 10000},\n",
       "   '32a': {'a_id': '32a', 'password': '32p', 'c_id': '3c', 'amount': 20000},\n",
       "   '33a': {'a_id': '33a', 'password': '33p', 'c_id': '3c', 'amount': 20000}}},\n",
       " '4c': {'c_id': '4c',\n",
       "  'name': '새싹',\n",
       "  'account_num': 4,\n",
       "  'total_amount': 200000,\n",
       "  'rat': 'vvip',\n",
       "  'account': {'41a': {'a_id': '41a',\n",
       "    'password': '41p',\n",
       "    'c_id': '4c',\n",
       "    'amount': 100000},\n",
       "   '42a': {'a_id': '42a', 'password': '42p', 'c_id': '4c', 'amount': 50000},\n",
       "   '43a': {'a_id': '43a', 'password': '43p', 'c_id': '4c', 'amount': 20000},\n",
       "   '44a': {'a_id': '44a', 'password': '44p', 'c_id': '4c', 'amount': 30000}}}}"
      ]
     },
     "metadata": {},
     "output_type": "display_data"
    }
   ],
   "source": [
    "display(data)"
   ]
  },
  {
   "cell_type": "code",
   "execution_count": 19,
   "id": "ae6d1242",
   "metadata": {},
   "outputs": [
    {
     "data": {
      "text/plain": [
       "1500"
      ]
     },
     "execution_count": 19,
     "metadata": {},
     "output_type": "execute_result"
    }
   ],
   "source": [
    "# 트랜젝션\n",
    "\n",
    "transaction = db.transaction()\n",
    "doc_ref = db.collection('customer').document('c1')\n",
    "\n",
    "@firestore.transactional\n",
    "def update_in_transaction(transaction, doc_ref):\n",
    "    snapshot = doc_ref.get(transaction=transaction)\n",
    "    total_amount = snapshot.get('total_amount')\n",
    "    ntotal_amount = total_amount + 1000\n",
    "    \n",
    "    transaction.update(doc_ref, {\n",
    "            'total_amount': ntotal_amount\n",
    "        })\n",
    "    \n",
    "    return ntotal_amount\n",
    "\n",
    "result = update_in_transaction(transaction, doc_ref)\n",
    "result"
   ]
  },
  {
   "cell_type": "code",
   "execution_count": null,
   "id": "bd7cb006",
   "metadata": {},
   "outputs": [],
   "source": []
  }
 ],
 "metadata": {
  "kernelspec": {
   "display_name": "Python 3 (ipykernel)",
   "language": "python",
   "name": "python3"
  },
  "language_info": {
   "codemirror_mode": {
    "name": "ipython",
    "version": 3
   },
   "file_extension": ".py",
   "mimetype": "text/x-python",
   "name": "python",
   "nbconvert_exporter": "python",
   "pygments_lexer": "ipython3",
   "version": "3.10.8"
  },
  "toc": {
   "base_numbering": 1,
   "nav_menu": {},
   "number_sections": true,
   "sideBar": true,
   "skip_h1_title": false,
   "title_cell": "Table of Contents",
   "title_sidebar": "Contents",
   "toc_cell": false,
   "toc_position": {},
   "toc_section_display": true,
   "toc_window_display": false
  }
 },
 "nbformat": 4,
 "nbformat_minor": 5
}
