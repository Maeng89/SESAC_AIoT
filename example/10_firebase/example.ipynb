{
 "cells": [
  {
   "cell_type": "code",
   "execution_count": 1,
   "id": "1cf163ed",
   "metadata": {},
   "outputs": [],
   "source": [
    "# py파일 또는 ipynb 파일 새로 생성하여 진행\n",
    "import json\n",
    "\n",
    "with open('bank4.json','r') as f:\n",
    "    data = json.load(f)"
   ]
  },
  {
   "cell_type": "code",
   "execution_count": 2,
   "id": "5fff8ec2",
   "metadata": {},
   "outputs": [
    {
     "data": {
      "text/plain": [
       "{'1c': {'c_id': '1c',\n",
       "  'name': '최원칠',\n",
       "  'account_num': 2,\n",
       "  'total_amount': 500,\n",
       "  'rat': 'silver',\n",
       "  'account': {'11a': {'a_id': '11a',\n",
       "    'password': '11p',\n",
       "    'c_id': '1c',\n",
       "    'amount': 100},\n",
       "   '12a': {'a_id': '12a', 'password': '12p', 'c_id': '1c', 'amount': 400}}},\n",
       " '2c': {'c_id': '2c',\n",
       "  'name': '이서혁',\n",
       "  'account_num': 1,\n",
       "  'total_amount': 2000,\n",
       "  'rat': 'gold',\n",
       "  'account': {'21a': {'a_id': '21a',\n",
       "    'password': '21p',\n",
       "    'c_id': '2c',\n",
       "    'amount': 2000}}},\n",
       " '3c': {'c_id': '3c',\n",
       "  'name': 'aiot',\n",
       "  'account_num': 3,\n",
       "  'total_amount': 50000,\n",
       "  'rat': 'vip',\n",
       "  'account': {'31a': {'a_id': '31a',\n",
       "    'password': '31p',\n",
       "    'c_id': '3c',\n",
       "    'amount': 10000},\n",
       "   '32a': {'a_id': '32a', 'password': '32p', 'c_id': '3c', 'amount': 20000},\n",
       "   '33a': {'a_id': '33a', 'password': '33p', 'c_id': '3c', 'amount': 20000}}},\n",
       " '4c': {'c_id': '4c',\n",
       "  'name': '새싹',\n",
       "  'account_num': 4,\n",
       "  'total_amount': 200000,\n",
       "  'rat': 'vvip',\n",
       "  'account': {'41a': {'a_id': '41a',\n",
       "    'password': '41p',\n",
       "    'c_id': '4c',\n",
       "    'amount': 100000},\n",
       "   '42a': {'a_id': '42a', 'password': '42p', 'c_id': '4c', 'amount': 50000},\n",
       "   '43a': {'a_id': '43a', 'password': '43p', 'c_id': '4c', 'amount': 20000},\n",
       "   '44a': {'a_id': '44a', 'password': '44p', 'c_id': '4c', 'amount': 30000}}}}"
      ]
     },
     "metadata": {},
     "output_type": "display_data"
    }
   ],
   "source": [
    "from IPython.display import display, JSON\n",
    "display(data)"
   ]
  },
  {
   "cell_type": "code",
   "execution_count": 3,
   "id": "057f9ff6",
   "metadata": {},
   "outputs": [],
   "source": [
    "# 파이어스토어 db 인스턴스 생성\n",
    "import firebase_admin\n",
    "from firebase_admin import credentials\n",
    "from firebase_admin import firestore\n",
    "\n",
    "# Use a service account.\n",
    "cred = credentials.Certificate('./nugunaaiot-maeng-1004a11a5af7.json')\n",
    "\n",
    "app = firebase_admin.initialize_app(cred)\n",
    "\n",
    "db = firestore.client()"
   ]
  },
  {
   "cell_type": "code",
   "execution_count": 5,
   "id": "02fff585",
   "metadata": {},
   "outputs": [
    {
     "data": {
      "text/plain": [
       "{'name': '최원칠',\n",
       " 'account_num': 2,\n",
       " 'c_id': 'c1',\n",
       " 'edit_time': DatetimeWithNanoseconds(2022, 12, 10, 7, 47, 47, 272000, tzinfo=datetime.timezone.utc),\n",
       " 'rat': 'silver',\n",
       " 'total_amount': 900,\n",
       " 'accounts': {'11a': {'c_id': 'c1', 'amount': 100, 'a_id': '11a'},\n",
       "  '12a': {'c_id': 'c1', 'amount': 400, 'a_id': '12a'}}}"
      ]
     },
     "metadata": {},
     "output_type": "display_data"
    },
    {
     "name": "stdout",
     "output_type": "stream",
     "text": [
      "Document data: None\n"
     ]
    }
   ],
   "source": [
    "doc_ref = db.collection('customer').document('c1')\n",
    "\n",
    "doc = doc_ref.get()\n",
    "\n",
    "if doc.exists:\n",
    "    print(f'Document data: {display(doc.to_dict())}')\n",
    "else:\n",
    "    print(u'No such document!')"
   ]
  },
  {
   "cell_type": "code",
   "execution_count": 6,
   "id": "90fc0882",
   "metadata": {},
   "outputs": [
    {
     "name": "stdout",
     "output_type": "stream",
     "text": [
      "<generator object Query.stream at 0x000002337DE95F50>\n"
     ]
    }
   ],
   "source": [
    "# bank4.json 파일내의 데이터를 파이어스토어 customer 컬렉션에 고객 아이디를 아이디로 가지는 문서들로 추가\n",
    "users_ref = db.collection('customer')\n",
    "docs = users_ref.stream()\n",
    "\n",
    "print(docs)"
   ]
  },
  {
   "cell_type": "code",
   "execution_count": 15,
   "id": "4f9fbb4c",
   "metadata": {},
   "outputs": [],
   "source": [
    "for key in data.keys():\n",
    "    doc_ref = db.collection('customer').document(key)\n",
    "    doc_ref.set(data[key])"
   ]
  },
  {
   "cell_type": "code",
   "execution_count": 16,
   "id": "e3cb70f4",
   "metadata": {},
   "outputs": [
    {
     "name": "stdout",
     "output_type": "stream",
     "text": [
      "1c => {'account': {'11a': {'password': '11p', 'c_id': '1c', 'amount': 100, 'a_id': '11a'}, '12a': {'password': '12p', 'c_id': '1c', 'amount': 400, 'a_id': '12a'}}, 'c_id': '1c', 'rat': 'silver', 'total_amount': 500, 'account_num': 2, 'name': '최원칠'}\n",
      "2c => {'account': {'21a': {'password': '21p', 'c_id': '2c', 'amount': 2000, 'a_id': '21a'}}, 'account_num': 1, 'rat': 'gold', 'total_amount': 2000, 'c_id': '2c', 'name': '이서혁'}\n",
      "3c => {'account': {'31a': {'password': '31p', 'c_id': '3c', 'amount': 10000, 'a_id': '31a'}, '32a': {'password': '32p', 'c_id': '3c', 'amount': 20000, 'a_id': '32a'}, '33a': {'password': '33p', 'c_id': '3c', 'amount': 20000, 'a_id': '33a'}}, 'account_num': 3, 'rat': 'vip', 'total_amount': 50000, 'c_id': '3c', 'name': 'aiot'}\n",
      "4c => {'account': {'44a': {'password': '44p', 'c_id': '4c', 'amount': 30000, 'a_id': '44a'}, '41a': {'password': '41p', 'c_id': '4c', 'amount': 100000, 'a_id': '41a'}, '42a': {'password': '42p', 'c_id': '4c', 'amount': 50000, 'a_id': '42a'}, '43a': {'password': '43p', 'c_id': '4c', 'amount': 20000, 'a_id': '43a'}}, 'account_num': 4, 'rat': 'vvip', 'total_amount': 200000, 'c_id': '4c', 'name': '새싹'}\n",
      "c1 => {'accounts': {'11a': {'c_id': 'c1', 'amount': 100, 'a_id': '11a'}, '12a': {'c_id': 'c1', 'amount': 400, 'a_id': '12a'}}, 'c_id': 'c1', 'account_num': 2, 'edit_time': DatetimeWithNanoseconds(2022, 12, 10, 7, 47, 47, 272000, tzinfo=datetime.timezone.utc), 'rat': 'silver', 'total_amount': 900, 'name': '최원칠'}\n"
     ]
    }
   ],
   "source": [
    "# 데이터 잘 들어갔는지 체크 전체 읽기\n",
    "users_ref = db.collection('customer')\n",
    "docs = users_ref.stream()\n",
    "\n",
    "for doc in docs:\n",
    "    print(f'{doc.id} => {doc.to_dict()}')"
   ]
  },
  {
   "cell_type": "code",
   "execution_count": 17,
   "id": "682d32d9",
   "metadata": {},
   "outputs": [
    {
     "data": {
      "text/plain": [
       "update_time {\n",
       "  seconds: 1670659955\n",
       "  nanos: 629041000\n",
       "}"
      ]
     },
     "execution_count": 17,
     "metadata": {},
     "output_type": "execute_result"
    }
   ],
   "source": [
    "# {아이디: 5c, 이름: 본인이름, 계좌개수:0, 총금액:0, 등급:normal, 계좌:비어있는 딕셔너리} 고객 customer 컬렉션에 추가\n",
    "doc_ref = db.collection('customer').document('5c')\n",
    "doc_ref.set({\n",
    "    'c_id': '5c',\n",
    "    'name': '맹광국',\n",
    "    'account_num': 0,\n",
    "    'total_amount': 0,\n",
    "    'rat': 'silver',\n",
    "    'account': {}\n",
    "})"
   ]
  },
  {
   "cell_type": "code",
   "execution_count": 22,
   "id": "3c3328dd",
   "metadata": {},
   "outputs": [
    {
     "data": {
      "text/plain": [
       "{'edit_time': DatetimeWithNanoseconds(2022, 12, 10, 8, 20, 8, 233000, tzinfo=datetime.timezone.utc),\n",
       " 'account_num': 2,\n",
       " 'total_amount': 1000,\n",
       " 'accounts.1a': {'c_id': 'c1', 'amount': 500, 'a_id': '1a'},\n",
       " 'accounts': {'1a': {'c_id': 'c1', 'amount': 500, 'a_id': '1a'}}}"
      ]
     },
     "metadata": {},
     "output_type": "display_data"
    },
    {
     "name": "stdout",
     "output_type": "stream",
     "text": [
      "Document data: None\n"
     ]
    }
   ],
   "source": [
    "# 5c 고객에 임의의 계좌 추가 (고객의 계좌, 총금액, 계좌개수, 등급, 수정시간 업데이트되어야함)\n",
    "# 계좌개수, 총금액은 firestore.Increment() 사용\n",
    "doc_ref = db.collection('customer').document('5c')\n",
    "doc_ref.update({'account_num': firestore.Increment(1),# +=\n",
    "            'total_amount' : firestore.Increment(500),\n",
    "            'edit_time': firestore.SERVER_TIMESTAMP, # 숨겨진 칼럼으로 fb기능을 사용가능\n",
    "            'accounts.1a':{'a_id':'1a', 'c_id':'c1', 'amount':500} # 콜렉션.필드id 를 키값으로 사용가능\n",
    "               })\n",
    "\n",
    "doc_ref = db.collection('customer').document('5c')\n",
    "\n",
    "doc = doc_ref.get()\n",
    "if doc.exists:\n",
    "    print(f'Document data: {display(doc.to_dict())}')\n",
    "else:\n",
    "    print(u'No such document!')"
   ]
  },
  {
   "cell_type": "code",
   "execution_count": null,
   "id": "9c3c4c38",
   "metadata": {},
   "outputs": [],
   "source": []
  }
 ],
 "metadata": {
  "kernelspec": {
   "display_name": "Python 3 (ipykernel)",
   "language": "python",
   "name": "python3"
  },
  "language_info": {
   "codemirror_mode": {
    "name": "ipython",
    "version": 3
   },
   "file_extension": ".py",
   "mimetype": "text/x-python",
   "name": "python",
   "nbconvert_exporter": "python",
   "pygments_lexer": "ipython3",
   "version": "3.10.8"
  },
  "toc": {
   "base_numbering": 1,
   "nav_menu": {},
   "number_sections": true,
   "sideBar": true,
   "skip_h1_title": false,
   "title_cell": "Table of Contents",
   "title_sidebar": "Contents",
   "toc_cell": false,
   "toc_position": {},
   "toc_section_display": true,
   "toc_window_display": false
  }
 },
 "nbformat": 4,
 "nbformat_minor": 5
}
