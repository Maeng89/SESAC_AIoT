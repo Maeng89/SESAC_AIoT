{
 "cells": [
  {
   "cell_type": "code",
   "execution_count": 1,
   "id": "830cbb94",
   "metadata": {},
   "outputs": [
    {
     "name": "stderr",
     "output_type": "stream",
     "text": [
      "C:\\Users\\SBAUser\\AppData\\Local\\Temp\\ipykernel_8544\\3406710055.py:16: DeprecationWarning: executable_path has been deprecated, please pass in a Service object\n",
      "  driver = webdriver.Chrome('./chromedriver.exe', options = options)\n"
     ]
    }
   ],
   "source": [
    "from selenium import webdriver\n",
    "from selenium.webdriver.common.by import By\n",
    "from time import sleep\n",
    "import random\n",
    "import pandas as pd\n",
    "\n",
    "options = webdriver.ChromeOptions()\n",
    "\n",
    "user_agent = \"Mozilla/5.0 (Windows NT 10.0; Win64; x64) AppleWebKit/537.36 (KHTML, like Gecko) Chrome102.0.5005.115 Safari/537.36\"\n",
    "options.add_argument('user-agent=' + user_agent)\n",
    "options.add_argument(\"window-size=1200,800\")\n",
    "\n",
    "# 웹드라이버 로드\n",
    "driver = webdriver.Chrome('./chromedriver.exe', options = options)\n"
   ]
  },
  {
   "cell_type": "code",
   "execution_count": 4,
   "id": "07d6e0bb",
   "metadata": {},
   "outputs": [],
   "source": [
    "# 웹사이트 접속\n",
    "where = 'blog'\n",
    "query = '인공지능'\n",
    "dateform = '20221001to20221101'\n",
    "\n",
    "fname = '{}_{}_{}'.format(where, query, dateform)\n",
    "\n",
    "\n",
    "url = 'https://search.naver.com/search.naver?query={}&nso=so%3Ar%2Cp%3Afrom{}%2Ca%3Aall&where={}&sm=tab_opt'\\\n",
    "    .format(query, dateform, where)\n",
    "\n",
    "#url 접속\n",
    "driver.get(url)\n",
    "sleep(random.randint(2,3))"
   ]
  },
  {
   "cell_type": "code",
   "execution_count": 11,
   "id": "433a1a5f",
   "metadata": {},
   "outputs": [],
   "source": [
    "# 스크롤 10번\n",
    "for i in range(10):\n",
    "    # 전체 영역이 스크롤 포함되어있으므로 콘텐츠 박스를 찾지않아도 됨\n",
    "    #     post_box = driver.find_element(By.CSS_SELECTOR, 'div.wrap') \n",
    "    #     driver.execute_script( 'window.scrollTo(0, document.body.scrollHeight);', post_box ) \n",
    "    driver.execute_script('window.scrollTo(0, document.body.scrollHeight);')\n",
    "\n",
    "    sleep(random.randint(2, 3))"
   ]
  },
  {
   "cell_type": "code",
   "execution_count": 13,
   "id": "dcec4a8f",
   "metadata": {},
   "outputs": [],
   "source": [
    "def get_content(view):\n",
    "    con_dict = {}\n",
    "    con_dict['title'] = view.find_element(By.CSS_SELECTOR, 'a.api_txt_lines.total_tit').get_attribute('innerText').strip()\n",
    "    con_dict['text'] = view.find_element(By.CSS_SELECTOR, 'div.api_txt_lines.dsc_txt').get_attribute('innerText').strip()\n",
    "    con_dict['date'] = view.find_element(By.CSS_SELECTOR, 'span.sub_time.sub_txt').get_attribute('innerText').strip()\n",
    "    return con_dict"
   ]
  },
  {
   "cell_type": "code",
   "execution_count": null,
   "id": "853fcac5",
   "metadata": {},
   "outputs": [],
   "source": [
    "lt = driver.find_element(By.CSS_SELECTOR, ul.lst_total)\n",
    "views = lt.find_elements(By.XPATH, 'child::li')"
   ]
  },
  {
   "cell_type": "code",
   "execution_count": 26,
   "id": "77bc9c81",
   "metadata": {},
   "outputs": [
    {
     "name": "stdout",
     "output_type": "stream",
     "text": [
      "424\n"
     ]
    },
    {
     "ename": "AttributeError",
     "evalue": "'list' object has no attribute 'find_element'",
     "output_type": "error",
     "traceback": [
      "\u001b[1;31m---------------------------------------------------------------------------\u001b[0m",
      "\u001b[1;31mAttributeError\u001b[0m                            Traceback (most recent call last)",
      "Cell \u001b[1;32mIn [26], line 15\u001b[0m\n\u001b[0;32m     13\u001b[0m \u001b[38;5;66;03m#     views = driver.find_elements(By.CSS_SELECTOR, 'div.total_area')\u001b[39;00m\n\u001b[0;32m     14\u001b[0m     views \u001b[38;5;241m=\u001b[39m driver\u001b[38;5;241m.\u001b[39mfind_elements(By\u001b[38;5;241m.\u001b[39mXPATH, xpath)\n\u001b[1;32m---> 15\u001b[0m     result\u001b[38;5;241m.\u001b[39mappend(\u001b[43mget_content\u001b[49m\u001b[43m(\u001b[49m\u001b[43mviews\u001b[49m\u001b[43m)\u001b[49m)\n",
      "Cell \u001b[1;32mIn [13], line 3\u001b[0m, in \u001b[0;36mget_content\u001b[1;34m(view)\u001b[0m\n\u001b[0;32m      1\u001b[0m \u001b[38;5;28;01mdef\u001b[39;00m \u001b[38;5;21mget_content\u001b[39m(view):\n\u001b[0;32m      2\u001b[0m     con_dict \u001b[38;5;241m=\u001b[39m {}\n\u001b[1;32m----> 3\u001b[0m     con_dict[\u001b[38;5;124m'\u001b[39m\u001b[38;5;124mtitle\u001b[39m\u001b[38;5;124m'\u001b[39m] \u001b[38;5;241m=\u001b[39m \u001b[43mview\u001b[49m\u001b[38;5;241;43m.\u001b[39;49m\u001b[43mfind_element\u001b[49m(By\u001b[38;5;241m.\u001b[39mCSS_SELECTOR, \u001b[38;5;124m'\u001b[39m\u001b[38;5;124ma.api_txt_lines total_tit\u001b[39m\u001b[38;5;124m'\u001b[39m)\u001b[38;5;241m.\u001b[39mget_attribute(\u001b[38;5;124m'\u001b[39m\u001b[38;5;124minnerText\u001b[39m\u001b[38;5;124m'\u001b[39m)\u001b[38;5;241m.\u001b[39mstrip()\n\u001b[0;32m      4\u001b[0m     con_dict[\u001b[38;5;124m'\u001b[39m\u001b[38;5;124mtext\u001b[39m\u001b[38;5;124m'\u001b[39m] \u001b[38;5;241m=\u001b[39m view\u001b[38;5;241m.\u001b[39mfind_element(By\u001b[38;5;241m.\u001b[39mCSS_SELECTOR, \u001b[38;5;124m'\u001b[39m\u001b[38;5;124mdiv.api_txt_lines dsc_txt\u001b[39m\u001b[38;5;124m'\u001b[39m)\u001b[38;5;241m.\u001b[39mget_attribute(\u001b[38;5;124m'\u001b[39m\u001b[38;5;124minnerText\u001b[39m\u001b[38;5;124m'\u001b[39m)\u001b[38;5;241m.\u001b[39mstrip()\n\u001b[0;32m      5\u001b[0m     con_dict[\u001b[38;5;124m'\u001b[39m\u001b[38;5;124mdate\u001b[39m\u001b[38;5;124m'\u001b[39m] \u001b[38;5;241m=\u001b[39m view\u001b[38;5;241m.\u001b[39mfind_element(By\u001b[38;5;241m.\u001b[39mCSS_SELECTOR, \u001b[38;5;124m'\u001b[39m\u001b[38;5;124mspan.sub_time sub_txt\u001b[39m\u001b[38;5;124m'\u001b[39m)\u001b[38;5;241m.\u001b[39mget_attribute(\u001b[38;5;124m'\u001b[39m\u001b[38;5;124minnerText\u001b[39m\u001b[38;5;124m'\u001b[39m)\u001b[38;5;241m.\u001b[39mstrip()\n",
      "\u001b[1;31mAttributeError\u001b[0m: 'list' object has no attribute 'find_element'"
     ]
    }
   ],
   "source": [
    "# 게시물이 담긴 리스트 태그를 요소로 찾아옴\n",
    "\n",
    "\n",
    "# 페이지의 모든 게시물의 제목, 요약내용, 날짜를 다음과 같은 리스트로 저장\n",
    "#[{'title', 'text', 'date'},...]\n",
    "\n",
    "result = []\n",
    "num = len(driver.find_elements(By.CSS_SELECTOR, 'li.bx'))\n",
    "\n",
    "print(num)\n",
    "for n in range(1, num):\n",
    "    xpath = '/html/body/div[3]/div[2]/div/div[1]/section/html-persist/div/more-contents/div/ul/li[1]'.format(n)\n",
    "#     views = driver.find_elements(By.CSS_SELECTOR, 'div.total_area')\n",
    "    views = driver.find_elements(By.XPATH, xpath)\n",
    "    result.append(get_content(views))\n"
   ]
  },
  {
   "cell_type": "code",
   "execution_count": null,
   "id": "ef52eaf7",
   "metadata": {},
   "outputs": [],
   "source": [
    "#저장된 게시물 리스트를 데이터프레임으로 변환후 csv로 저장\n",
    "df = pd.DataFrame(result)\n",
    "df.to_csv('naver_ai_crawling.csv')"
   ]
  },
  {
   "cell_type": "code",
   "execution_count": null,
   "id": "5114d2af",
   "metadata": {},
   "outputs": [],
   "source": [
    "#데이터 프레임 출력\n",
    "df"
   ]
  }
 ],
 "metadata": {
  "kernelspec": {
   "display_name": "Python 3 (ipykernel)",
   "language": "python",
   "name": "python3"
  },
  "language_info": {
   "codemirror_mode": {
    "name": "ipython",
    "version": 3
   },
   "file_extension": ".py",
   "mimetype": "text/x-python",
   "name": "python",
   "nbconvert_exporter": "python",
   "pygments_lexer": "ipython3",
   "version": "3.10.8"
  }
 },
 "nbformat": 4,
 "nbformat_minor": 5
}
