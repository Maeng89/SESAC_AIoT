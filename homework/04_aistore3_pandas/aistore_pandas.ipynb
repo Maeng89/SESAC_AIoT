{
 "cells": [
  {
   "cell_type": "code",
   "execution_count": 1,
   "id": "315cb1e8",
   "metadata": {
    "scrolled": true
   },
   "outputs": [],
   "source": [
    "# 주피터 노트북 익스텐션 설정\n",
    "# ! jupyter contrib nbextension install --user"
   ]
  },
  {
   "cell_type": "code",
   "execution_count": 2,
   "id": "de1a1be3",
   "metadata": {},
   "outputs": [],
   "source": [
    "import pandas as pd"
   ]
  },
  {
   "cell_type": "markdown",
   "id": "3abba2ad",
   "metadata": {},
   "source": [
    "# 실행 프로세스"
   ]
  },
  {
   "cell_type": "code",
   "execution_count": 23,
   "id": "2f00faa4",
   "metadata": {},
   "outputs": [
    {
     "data": {
      "text/html": [
       "<div>\n",
       "<style scoped>\n",
       "    .dataframe tbody tr th:only-of-type {\n",
       "        vertical-align: middle;\n",
       "    }\n",
       "\n",
       "    .dataframe tbody tr th {\n",
       "        vertical-align: top;\n",
       "    }\n",
       "\n",
       "    .dataframe thead th {\n",
       "        text-align: right;\n",
       "    }\n",
       "</style>\n",
       "<table border=\"1\" class=\"dataframe\">\n",
       "  <thead>\n",
       "    <tr style=\"text-align: right;\">\n",
       "      <th></th>\n",
       "      <th>p_id</th>\n",
       "      <th>count</th>\n",
       "      <th>price</th>\n",
       "      <th>s_id</th>\n",
       "    </tr>\n",
       "  </thead>\n",
       "  <tbody>\n",
       "    <tr>\n",
       "      <th>0</th>\n",
       "      <td>p1</td>\n",
       "      <td>50</td>\n",
       "      <td>2000</td>\n",
       "      <td>s1</td>\n",
       "    </tr>\n",
       "    <tr>\n",
       "      <th>1</th>\n",
       "      <td>p2</td>\n",
       "      <td>30</td>\n",
       "      <td>1000</td>\n",
       "      <td>s1</td>\n",
       "    </tr>\n",
       "    <tr>\n",
       "      <th>2</th>\n",
       "      <td>p3</td>\n",
       "      <td>30</td>\n",
       "      <td>1500</td>\n",
       "      <td>s1</td>\n",
       "    </tr>\n",
       "    <tr>\n",
       "      <th>3</th>\n",
       "      <td>p4</td>\n",
       "      <td>20</td>\n",
       "      <td>3000</td>\n",
       "      <td>s1</td>\n",
       "    </tr>\n",
       "    <tr>\n",
       "      <th>4</th>\n",
       "      <td>p5</td>\n",
       "      <td>10</td>\n",
       "      <td>4000</td>\n",
       "      <td>s1</td>\n",
       "    </tr>\n",
       "    <tr>\n",
       "      <th>5</th>\n",
       "      <td>p6</td>\n",
       "      <td>10</td>\n",
       "      <td>3000</td>\n",
       "      <td>s1</td>\n",
       "    </tr>\n",
       "    <tr>\n",
       "      <th>6</th>\n",
       "      <td>p1</td>\n",
       "      <td>20</td>\n",
       "      <td>2000</td>\n",
       "      <td>s2</td>\n",
       "    </tr>\n",
       "    <tr>\n",
       "      <th>7</th>\n",
       "      <td>p3</td>\n",
       "      <td>60</td>\n",
       "      <td>1500</td>\n",
       "      <td>s2</td>\n",
       "    </tr>\n",
       "    <tr>\n",
       "      <th>8</th>\n",
       "      <td>p4</td>\n",
       "      <td>20</td>\n",
       "      <td>3000</td>\n",
       "      <td>s2</td>\n",
       "    </tr>\n",
       "    <tr>\n",
       "      <th>9</th>\n",
       "      <td>p3</td>\n",
       "      <td>30</td>\n",
       "      <td>1500</td>\n",
       "      <td>s3</td>\n",
       "    </tr>\n",
       "    <tr>\n",
       "      <th>10</th>\n",
       "      <td>p4</td>\n",
       "      <td>10</td>\n",
       "      <td>3000</td>\n",
       "      <td>s3</td>\n",
       "    </tr>\n",
       "    <tr>\n",
       "      <th>11</th>\n",
       "      <td>p5</td>\n",
       "      <td>20</td>\n",
       "      <td>4000</td>\n",
       "      <td>s3</td>\n",
       "    </tr>\n",
       "    <tr>\n",
       "      <th>12</th>\n",
       "      <td>p7</td>\n",
       "      <td>30</td>\n",
       "      <td>1000</td>\n",
       "      <td>s3</td>\n",
       "    </tr>\n",
       "  </tbody>\n",
       "</table>\n",
       "</div>"
      ],
      "text/plain": [
       "   p_id  count  price s_id\n",
       "0    p1     50   2000   s1\n",
       "1    p2     30   1000   s1\n",
       "2    p3     30   1500   s1\n",
       "3    p4     20   3000   s1\n",
       "4    p5     10   4000   s1\n",
       "5    p6     10   3000   s1\n",
       "6    p1     20   2000   s2\n",
       "7    p3     60   1500   s2\n",
       "8    p4     20   3000   s2\n",
       "9    p3     30   1500   s3\n",
       "10   p4     10   3000   s3\n",
       "11   p5     20   4000   s3\n",
       "12   p7     30   1000   s3"
      ]
     },
     "execution_count": 23,
     "metadata": {},
     "output_type": "execute_result"
    }
   ],
   "source": [
    "iv_df"
   ]
  },
  {
   "cell_type": "code",
   "execution_count": 24,
   "id": "7dd99ba0",
   "metadata": {},
   "outputs": [
    {
     "name": "stdout",
     "output_type": "stream",
     "text": [
      "<class 'pandas.core.frame.DataFrame'>\n",
      "RangeIndex: 13 entries, 0 to 12\n",
      "Data columns (total 4 columns):\n",
      " #   Column  Non-Null Count  Dtype \n",
      "---  ------  --------------  ----- \n",
      " 0   p_id    13 non-null     object\n",
      " 1   count   13 non-null     int64 \n",
      " 2   price   13 non-null     int64 \n",
      " 3   s_id    13 non-null     object\n",
      "dtypes: int64(2), object(2)\n",
      "memory usage: 544.0+ bytes\n"
     ]
    }
   ],
   "source": [
    "iv_df.info()"
   ]
  },
  {
   "cell_type": "code",
   "execution_count": 25,
   "id": "1a9235b2",
   "metadata": {},
   "outputs": [
    {
     "data": {
      "text/plain": [
       "0     p1\n",
       "1     p2\n",
       "2     p3\n",
       "3     p4\n",
       "4     p5\n",
       "5     p6\n",
       "6     p1\n",
       "7     p3\n",
       "8     p4\n",
       "9     p3\n",
       "10    p4\n",
       "11    p5\n",
       "12    p7\n",
       "Name: p_id, dtype: object"
      ]
     },
     "execution_count": 25,
     "metadata": {},
     "output_type": "execute_result"
    }
   ],
   "source": [
    "iv_df['p_id']"
   ]
  },
  {
   "cell_type": "code",
   "execution_count": 26,
   "id": "1317bd24",
   "metadata": {},
   "outputs": [
    {
     "name": "stdout",
     "output_type": "stream",
     "text": [
      "<class 'pandas.core.series.Series'>\n",
      "RangeIndex: 13 entries, 0 to 12\n",
      "Series name: p_id\n",
      "Non-Null Count  Dtype \n",
      "--------------  ----- \n",
      "13 non-null     object\n",
      "dtypes: object(1)\n",
      "memory usage: 232.0+ bytes\n"
     ]
    }
   ],
   "source": [
    "iv_df['p_id'].info()"
   ]
  },
  {
   "cell_type": "code",
   "execution_count": 30,
   "id": "4aa43550",
   "metadata": {},
   "outputs": [
    {
     "name": "stdout",
     "output_type": "stream",
     "text": [
      "<class 'pandas.core.series.Series'>\n",
      "RangeIndex: 13 entries, 0 to 12\n",
      "Series name: p_id\n",
      "Non-Null Count  Dtype\n",
      "--------------  -----\n",
      "13 non-null     bool \n",
      "dtypes: bool(1)\n",
      "memory usage: 141.0 bytes\n"
     ]
    }
   ],
   "source": [
    "p_id = 'p1'\n",
    "(iv_df['p_id']==p_id).info()"
   ]
  },
  {
   "cell_type": "code",
   "execution_count": 37,
   "id": "5662da80",
   "metadata": {},
   "outputs": [
    {
     "ename": "NameError",
     "evalue": "name 'self' is not defined",
     "output_type": "error",
     "traceback": [
      "\u001b[1;31m---------------------------------------------------------------------------\u001b[0m",
      "\u001b[1;31mNameError\u001b[0m                                 Traceback (most recent call last)",
      "Cell \u001b[1;32mIn [37], line 1\u001b[0m\n\u001b[1;32m----> 1\u001b[0m \u001b[38;5;28;43mself\u001b[39;49m\u001b[38;5;241m.\u001b[39minventory[iv_pids \u001b[38;5;241m==\u001b[39m p_id]\n",
      "\u001b[1;31mNameError\u001b[0m: name 'self' is not defined"
     ]
    }
   ],
   "source": [
    "self.inventory[iv_pids == p_id]"
   ]
  },
  {
   "cell_type": "code",
   "execution_count": 39,
   "id": "89727b56",
   "metadata": {},
   "outputs": [
    {
     "data": {
      "text/html": [
       "<div>\n",
       "<style scoped>\n",
       "    .dataframe tbody tr th:only-of-type {\n",
       "        vertical-align: middle;\n",
       "    }\n",
       "\n",
       "    .dataframe tbody tr th {\n",
       "        vertical-align: top;\n",
       "    }\n",
       "\n",
       "    .dataframe thead th {\n",
       "        text-align: right;\n",
       "    }\n",
       "</style>\n",
       "<table border=\"1\" class=\"dataframe\">\n",
       "  <thead>\n",
       "    <tr style=\"text-align: right;\">\n",
       "      <th></th>\n",
       "      <th>p_id</th>\n",
       "      <th>count</th>\n",
       "      <th>price</th>\n",
       "      <th>s_id</th>\n",
       "    </tr>\n",
       "  </thead>\n",
       "  <tbody>\n",
       "    <tr>\n",
       "      <th>0</th>\n",
       "      <td>p1</td>\n",
       "      <td>50</td>\n",
       "      <td>2000</td>\n",
       "      <td>s1</td>\n",
       "    </tr>\n",
       "  </tbody>\n",
       "</table>\n",
       "</div>"
      ],
      "text/plain": [
       "  p_id  count  price s_id\n",
       "0   p1     50   2000   s1"
      ]
     },
     "execution_count": 39,
     "metadata": {},
     "output_type": "execute_result"
    }
   ],
   "source": [
    "count = 30\n",
    "product = iv_df[iv_df['p_id']==p_id]\n",
    "product = product[product['count'] > count]\n",
    "product"
   ]
  },
  {
   "cell_type": "code",
   "execution_count": 40,
   "id": "08c60f87",
   "metadata": {},
   "outputs": [
    {
     "data": {
      "text/plain": [
       "1"
      ]
     },
     "execution_count": 40,
     "metadata": {},
     "output_type": "execute_result"
    }
   ],
   "source": [
    "len(product)"
   ]
  },
  {
   "cell_type": "code",
   "execution_count": null,
   "id": "553c6f42",
   "metadata": {},
   "outputs": [],
   "source": []
  },
  {
   "cell_type": "code",
   "execution_count": 3,
   "id": "1194fb72",
   "metadata": {},
   "outputs": [
    {
     "name": "stdout",
     "output_type": "stream",
     "text": [
      "s_id            object\n",
      "name            object\n",
      "locate          object\n",
      "products_num     int64\n",
      "dtype: object 상점 데이터 불러오기 성공\n"
     ]
    },
    {
     "data": {
      "text/html": [
       "<div>\n",
       "<style scoped>\n",
       "    .dataframe tbody tr th:only-of-type {\n",
       "        vertical-align: middle;\n",
       "    }\n",
       "\n",
       "    .dataframe tbody tr th {\n",
       "        vertical-align: top;\n",
       "    }\n",
       "\n",
       "    .dataframe thead th {\n",
       "        text-align: right;\n",
       "    }\n",
       "</style>\n",
       "<table border=\"1\" class=\"dataframe\">\n",
       "  <thead>\n",
       "    <tr style=\"text-align: right;\">\n",
       "      <th></th>\n",
       "      <th>s_id</th>\n",
       "      <th>name</th>\n",
       "      <th>locate</th>\n",
       "      <th>products_num</th>\n",
       "    </tr>\n",
       "    <tr>\n",
       "      <th>s_id</th>\n",
       "      <th></th>\n",
       "      <th></th>\n",
       "      <th></th>\n",
       "      <th></th>\n",
       "    </tr>\n",
       "  </thead>\n",
       "  <tbody>\n",
       "    <tr>\n",
       "      <th>s1</th>\n",
       "      <td>s1</td>\n",
       "      <td>용산점</td>\n",
       "      <td>용산</td>\n",
       "      <td>6</td>\n",
       "    </tr>\n",
       "    <tr>\n",
       "      <th>s2</th>\n",
       "      <td>s2</td>\n",
       "      <td>강남점</td>\n",
       "      <td>강남</td>\n",
       "      <td>3</td>\n",
       "    </tr>\n",
       "    <tr>\n",
       "      <th>s3</th>\n",
       "      <td>s3</td>\n",
       "      <td>강북점</td>\n",
       "      <td>강북</td>\n",
       "      <td>4</td>\n",
       "    </tr>\n",
       "  </tbody>\n",
       "</table>\n",
       "</div>"
      ],
      "text/plain": [
       "     s_id name locate  products_num\n",
       "s_id                               \n",
       "s1     s1  용산점     용산             6\n",
       "s2     s2  강남점     강남             3\n",
       "s3     s3  강북점     강북             4"
      ]
     },
     "execution_count": 3,
     "metadata": {},
     "output_type": "execute_result"
    }
   ],
   "source": [
    "# 'stores.csv’ 를 불러와서 s_df에 데이터프레임으로 할당\n",
    "# set_index 함수를 활용해 ‘s_id’ 컬럼을 인덱스로(’s_id’ 컬럼유지)\n",
    "s_df = pd.read_csv('stores.csv')\n",
    "s_df.set_index('s_id', drop = False, inplace=True) # drop=false는 인덱스로 활용된 칼럼 유지\n",
    "print(s_df.dtypes,'상점 데이터 불러오기 성공')\n",
    "s_df"
   ]
  },
  {
   "cell_type": "code",
   "execution_count": 4,
   "id": "a45c533a",
   "metadata": {
    "scrolled": true
   },
   "outputs": [
    {
     "name": "stdout",
     "output_type": "stream",
     "text": [
      "product    object\n",
      "dtype: object 상품 데이터 불러오기 성공\n"
     ]
    },
    {
     "data": {
      "text/html": [
       "<div>\n",
       "<style scoped>\n",
       "    .dataframe tbody tr th:only-of-type {\n",
       "        vertical-align: middle;\n",
       "    }\n",
       "\n",
       "    .dataframe tbody tr th {\n",
       "        vertical-align: top;\n",
       "    }\n",
       "\n",
       "    .dataframe thead th {\n",
       "        text-align: right;\n",
       "    }\n",
       "</style>\n",
       "<table border=\"1\" class=\"dataframe\">\n",
       "  <thead>\n",
       "    <tr style=\"text-align: right;\">\n",
       "      <th></th>\n",
       "      <th>product</th>\n",
       "    </tr>\n",
       "    <tr>\n",
       "      <th>p_id</th>\n",
       "      <th></th>\n",
       "    </tr>\n",
       "  </thead>\n",
       "  <tbody>\n",
       "    <tr>\n",
       "      <th>p1</th>\n",
       "      <td>커피</td>\n",
       "    </tr>\n",
       "    <tr>\n",
       "      <th>p2</th>\n",
       "      <td>쿠키</td>\n",
       "    </tr>\n",
       "    <tr>\n",
       "      <th>p3</th>\n",
       "      <td>아이스크림</td>\n",
       "    </tr>\n",
       "    <tr>\n",
       "      <th>p4</th>\n",
       "      <td>에이드</td>\n",
       "    </tr>\n",
       "    <tr>\n",
       "      <th>p5</th>\n",
       "      <td>와플</td>\n",
       "    </tr>\n",
       "    <tr>\n",
       "      <th>p6</th>\n",
       "      <td>과일주스</td>\n",
       "    </tr>\n",
       "    <tr>\n",
       "      <th>p7</th>\n",
       "      <td>초콜릿</td>\n",
       "    </tr>\n",
       "  </tbody>\n",
       "</table>\n",
       "</div>"
      ],
      "text/plain": [
       "     product\n",
       "p_id        \n",
       "p1        커피\n",
       "p2        쿠키\n",
       "p3     아이스크림\n",
       "p4       에이드\n",
       "p5        와플\n",
       "p6      과일주스\n",
       "p7       초콜릿"
      ]
     },
     "execution_count": 4,
     "metadata": {},
     "output_type": "execute_result"
    }
   ],
   "source": [
    "#‘products.csv’ 를 불러와서 p_df에 데이터프레임으로 할당\n",
    "# set_index 함수를 활용해 ‘p_id’ 컬럼을 인덱스로(’p_id’ 컬럼삭제)\n",
    "p_df = pd.read_csv('products.csv')\n",
    "p_df.set_index('p_id', inplace=True)\n",
    "print(p_df.dtypes,'상품 데이터 불러오기 성공')\n",
    "p_df"
   ]
  },
  {
   "cell_type": "code",
   "execution_count": 5,
   "id": "ecd7f7ad",
   "metadata": {
    "scrolled": false
   },
   "outputs": [
    {
     "name": "stdout",
     "output_type": "stream",
     "text": [
      "p_id     object\n",
      "count     int64\n",
      "price     int64\n",
      "s_id     object\n",
      "dtype: object 재고 데이터 불러오기 성공\n"
     ]
    },
    {
     "data": {
      "text/html": [
       "<div>\n",
       "<style scoped>\n",
       "    .dataframe tbody tr th:only-of-type {\n",
       "        vertical-align: middle;\n",
       "    }\n",
       "\n",
       "    .dataframe tbody tr th {\n",
       "        vertical-align: top;\n",
       "    }\n",
       "\n",
       "    .dataframe thead th {\n",
       "        text-align: right;\n",
       "    }\n",
       "</style>\n",
       "<table border=\"1\" class=\"dataframe\">\n",
       "  <thead>\n",
       "    <tr style=\"text-align: right;\">\n",
       "      <th></th>\n",
       "      <th>p_id</th>\n",
       "      <th>count</th>\n",
       "      <th>price</th>\n",
       "      <th>s_id</th>\n",
       "    </tr>\n",
       "  </thead>\n",
       "  <tbody>\n",
       "    <tr>\n",
       "      <th>0</th>\n",
       "      <td>p1</td>\n",
       "      <td>50</td>\n",
       "      <td>2000</td>\n",
       "      <td>s1</td>\n",
       "    </tr>\n",
       "    <tr>\n",
       "      <th>1</th>\n",
       "      <td>p2</td>\n",
       "      <td>30</td>\n",
       "      <td>1000</td>\n",
       "      <td>s1</td>\n",
       "    </tr>\n",
       "    <tr>\n",
       "      <th>2</th>\n",
       "      <td>p3</td>\n",
       "      <td>30</td>\n",
       "      <td>1500</td>\n",
       "      <td>s1</td>\n",
       "    </tr>\n",
       "    <tr>\n",
       "      <th>3</th>\n",
       "      <td>p4</td>\n",
       "      <td>20</td>\n",
       "      <td>3000</td>\n",
       "      <td>s1</td>\n",
       "    </tr>\n",
       "    <tr>\n",
       "      <th>4</th>\n",
       "      <td>p5</td>\n",
       "      <td>10</td>\n",
       "      <td>4000</td>\n",
       "      <td>s1</td>\n",
       "    </tr>\n",
       "    <tr>\n",
       "      <th>5</th>\n",
       "      <td>p6</td>\n",
       "      <td>10</td>\n",
       "      <td>3000</td>\n",
       "      <td>s1</td>\n",
       "    </tr>\n",
       "    <tr>\n",
       "      <th>6</th>\n",
       "      <td>p1</td>\n",
       "      <td>20</td>\n",
       "      <td>2000</td>\n",
       "      <td>s2</td>\n",
       "    </tr>\n",
       "    <tr>\n",
       "      <th>7</th>\n",
       "      <td>p3</td>\n",
       "      <td>60</td>\n",
       "      <td>1500</td>\n",
       "      <td>s2</td>\n",
       "    </tr>\n",
       "    <tr>\n",
       "      <th>8</th>\n",
       "      <td>p4</td>\n",
       "      <td>20</td>\n",
       "      <td>3000</td>\n",
       "      <td>s2</td>\n",
       "    </tr>\n",
       "    <tr>\n",
       "      <th>9</th>\n",
       "      <td>p3</td>\n",
       "      <td>30</td>\n",
       "      <td>1500</td>\n",
       "      <td>s3</td>\n",
       "    </tr>\n",
       "    <tr>\n",
       "      <th>10</th>\n",
       "      <td>p4</td>\n",
       "      <td>10</td>\n",
       "      <td>3000</td>\n",
       "      <td>s3</td>\n",
       "    </tr>\n",
       "    <tr>\n",
       "      <th>11</th>\n",
       "      <td>p5</td>\n",
       "      <td>20</td>\n",
       "      <td>4000</td>\n",
       "      <td>s3</td>\n",
       "    </tr>\n",
       "    <tr>\n",
       "      <th>12</th>\n",
       "      <td>p7</td>\n",
       "      <td>30</td>\n",
       "      <td>1000</td>\n",
       "      <td>s3</td>\n",
       "    </tr>\n",
       "  </tbody>\n",
       "</table>\n",
       "</div>"
      ],
      "text/plain": [
       "   p_id  count  price s_id\n",
       "0    p1     50   2000   s1\n",
       "1    p2     30   1000   s1\n",
       "2    p3     30   1500   s1\n",
       "3    p4     20   3000   s1\n",
       "4    p5     10   4000   s1\n",
       "5    p6     10   3000   s1\n",
       "6    p1     20   2000   s2\n",
       "7    p3     60   1500   s2\n",
       "8    p4     20   3000   s2\n",
       "9    p3     30   1500   s3\n",
       "10   p4     10   3000   s3\n",
       "11   p5     20   4000   s3\n",
       "12   p7     30   1000   s3"
      ]
     },
     "execution_count": 5,
     "metadata": {},
     "output_type": "execute_result"
    }
   ],
   "source": [
    "#‘inventory.csv’ 를 불러와서 iv_df에 데이터프레임으로 할당\n",
    "# 순서 인덱스 유지\n",
    "iv_df = pd.read_csv('inventory.csv')\n",
    "print(iv_df.dtypes,'재고 데이터 불러오기 성공')\n",
    "iv_df"
   ]
  },
  {
   "cell_type": "code",
   "execution_count": 6,
   "id": "275d99ab",
   "metadata": {},
   "outputs": [
    {
     "name": "stdout",
     "output_type": "stream",
     "text": [
      "store_output.csv 스토어 데이터 저장 완료\n",
      "inventory_output.csv 재고현황 데이터 저장 완료\n"
     ]
    }
   ],
   "source": [
    "# 6번 옵션 실행시 스토어데이터프레임 및 재고데이터프레임 csv 파일로 각각 저장\n",
    "# 저장시 인덱스는 빼고 저장\n",
    "s_df.to_csv('store_output.csv', index=False)\n",
    "print('store_output.csv 스토어 데이터 저장 완료')\n",
    "iv_df.to_csv('inventory_output.csv', index=False)\n",
    "print('inventory_output.csv 재고현황 데이터 저장 완료')"
   ]
  },
  {
   "cell_type": "markdown",
   "id": "027d2137",
   "metadata": {},
   "source": [
    "# 클래스 프로세스"
   ]
  },
  {
   "cell_type": "markdown",
   "id": "82b74d02",
   "metadata": {},
   "source": [
    "## set_product 함수 수정"
   ]
  },
  {
   "cell_type": "code",
   "execution_count": 7,
   "id": "3e2c93e2",
   "metadata": {},
   "outputs": [
    {
     "name": "stdout",
     "output_type": "stream",
     "text": [
      "s_id             s1\n",
      "name            용산점\n",
      "locate           용산\n",
      "products_num      6\n",
      "Name: s1, dtype: object\n",
      "  p_id  count  price s_id\n",
      "0   p1     50   2000   s1\n",
      "1   p2     30   1000   s1\n",
      "2   p3     30   1500   s1\n",
      "3   p4     20   3000   s1\n",
      "4   p5     10   4000   s1\n",
      "5   p6     10   3000   s1\n"
     ]
    }
   ],
   "source": [
    "# 더미 파라미터: 상품아이디, 추가재고개수, 설정가격\n",
    "s_id = 's1'\n",
    "p_id = 'p9'\n",
    "count = 9\n",
    "price = 999\n",
    "s_dummy = s_df.loc[s_id]\n",
    "print(s_dummy)\n",
    "iv_dummy = iv_df[iv_df['s_id']==s_id]\n",
    "print(iv_dummy) "
   ]
  },
  {
   "cell_type": "code",
   "execution_count": 8,
   "id": "82122436",
   "metadata": {},
   "outputs": [
    {
     "data": {
      "text/html": [
       "<div>\n",
       "<style scoped>\n",
       "    .dataframe tbody tr th:only-of-type {\n",
       "        vertical-align: middle;\n",
       "    }\n",
       "\n",
       "    .dataframe tbody tr th {\n",
       "        vertical-align: top;\n",
       "    }\n",
       "\n",
       "    .dataframe thead th {\n",
       "        text-align: right;\n",
       "    }\n",
       "</style>\n",
       "<table border=\"1\" class=\"dataframe\">\n",
       "  <thead>\n",
       "    <tr style=\"text-align: right;\">\n",
       "      <th></th>\n",
       "      <th>p_id</th>\n",
       "      <th>count</th>\n",
       "      <th>price</th>\n",
       "      <th>s_id</th>\n",
       "    </tr>\n",
       "  </thead>\n",
       "  <tbody>\n",
       "    <tr>\n",
       "      <th>0</th>\n",
       "      <td>p1</td>\n",
       "      <td>50</td>\n",
       "      <td>2000</td>\n",
       "      <td>s1</td>\n",
       "    </tr>\n",
       "    <tr>\n",
       "      <th>1</th>\n",
       "      <td>p2</td>\n",
       "      <td>30</td>\n",
       "      <td>1000</td>\n",
       "      <td>s1</td>\n",
       "    </tr>\n",
       "    <tr>\n",
       "      <th>2</th>\n",
       "      <td>p3</td>\n",
       "      <td>30</td>\n",
       "      <td>1500</td>\n",
       "      <td>s1</td>\n",
       "    </tr>\n",
       "    <tr>\n",
       "      <th>3</th>\n",
       "      <td>p4</td>\n",
       "      <td>20</td>\n",
       "      <td>3000</td>\n",
       "      <td>s1</td>\n",
       "    </tr>\n",
       "    <tr>\n",
       "      <th>4</th>\n",
       "      <td>p5</td>\n",
       "      <td>10</td>\n",
       "      <td>4000</td>\n",
       "      <td>s1</td>\n",
       "    </tr>\n",
       "    <tr>\n",
       "      <th>5</th>\n",
       "      <td>p6</td>\n",
       "      <td>10</td>\n",
       "      <td>3000</td>\n",
       "      <td>s1</td>\n",
       "    </tr>\n",
       "    <tr>\n",
       "      <th>0</th>\n",
       "      <td>p9</td>\n",
       "      <td>9</td>\n",
       "      <td>999</td>\n",
       "      <td>s1</td>\n",
       "    </tr>\n",
       "  </tbody>\n",
       "</table>\n",
       "</div>"
      ],
      "text/plain": [
       "  p_id  count  price s_id\n",
       "0   p1     50   2000   s1\n",
       "1   p2     30   1000   s1\n",
       "2   p3     30   1500   s1\n",
       "3   p4     20   3000   s1\n",
       "4   p5     10   4000   s1\n",
       "5   p6     10   3000   s1\n",
       "0   p9      9    999   s1"
      ]
     },
     "execution_count": 8,
     "metadata": {},
     "output_type": "execute_result"
    }
   ],
   "source": [
    "# 상품아이디에 해당하는 재고데이터프레임에 재고 추가및 가격 재등록\n",
    "# 상품아이디가 없다면 재고 및 가격 입력하여 재고데이터프레임에 추가(append 또는 concat 함수사용)\n",
    "# if in 을 사용하기위해선 시리즈를 배열로 바꿔야할것 문서 참고\n",
    "# try 문사용 가능, 쿼리후 개수로 파악 가능\n",
    "add_df = pd.DataFrame([{'p_id': p_id, 'count': count, 'price': price, 's_id': s_id}])\n",
    "iv_dummy = pd.concat([iv_dummy, add_df])\n",
    "iv_dummy"
   ]
  },
  {
   "cell_type": "markdown",
   "id": "251c86bb",
   "metadata": {},
   "source": [
    "## buy_product 함수 수정"
   ]
  },
  {
   "cell_type": "code",
   "execution_count": 9,
   "id": "2fb1799f",
   "metadata": {},
   "outputs": [],
   "source": [
    "# 재고데이터프레임의 해당 상품의 개수를 차감\n",
    "# 해당 물품의 가격과 개수로 전체 지불 해야할 금액 산출\n",
    "# 입력금액 에서 지불해야할 금액 차이로 ‘잔돈은 {금액차} 입니다’ 출력\n",
    "# 해당 상품이 없을시: ‘상품이 존재하지 않습니다’ 출\n",
    "# 해당 물품의 재고가 부족할시: ‘재고가 부족합니다’ 출력\n",
    "# 입력금액이 지불해야 할 금액보다 작을시: '금액이 부족합니다.' 출력"
   ]
  },
  {
   "cell_type": "markdown",
   "id": "f90818a9",
   "metadata": {},
   "source": [
    "## show_products 함수 생성"
   ]
  },
  {
   "cell_type": "code",
   "execution_count": 10,
   "id": "159f157e",
   "metadata": {
    "scrolled": true
   },
   "outputs": [
    {
     "name": "stdout",
     "output_type": "stream",
     "text": [
      "s_id             s1\n",
      "name            용산점\n",
      "locate           용산\n",
      "products_num      6\n",
      "Name: s1, dtype: object\n",
      "  p_id  count  price s_id\n",
      "0   p1     50   2000   s1\n",
      "1   p2     30   1000   s1\n",
      "2   p3     30   1500   s1\n",
      "3   p4     20   3000   s1\n",
      "4   p5     10   4000   s1\n",
      "5   p6     10   3000   s1\n",
      "0   p9      9    999   s1\n",
      "상품명:커피 - 가격:2000 (재고50) id:s1\n",
      "상품명:쿠키 - 가격:1000 (재고30) id:s1\n",
      "상품명:아이스크림 - 가격:1500 (재고30) id:s1\n",
      "상품명:에이드 - 가격:3000 (재고20) id:s1\n",
      "상품명:와플 - 가격:4000 (재고10) id:s1\n",
      "상품명:과일주스 - 가격:3000 (재고10) id:s1\n"
     ]
    },
    {
     "ename": "KeyError",
     "evalue": "'p9'",
     "output_type": "error",
     "traceback": [
      "\u001b[1;31m---------------------------------------------------------------------------\u001b[0m",
      "\u001b[1;31mKeyError\u001b[0m                                  Traceback (most recent call last)",
      "File \u001b[1;32m~\\AppData\\Local\\Programs\\Python\\Python310\\lib\\site-packages\\pandas\\core\\indexes\\base.py:3803\u001b[0m, in \u001b[0;36mIndex.get_loc\u001b[1;34m(self, key, method, tolerance)\u001b[0m\n\u001b[0;32m   3802\u001b[0m \u001b[38;5;28;01mtry\u001b[39;00m:\n\u001b[1;32m-> 3803\u001b[0m     \u001b[38;5;28;01mreturn\u001b[39;00m \u001b[38;5;28;43mself\u001b[39;49m\u001b[38;5;241;43m.\u001b[39;49m\u001b[43m_engine\u001b[49m\u001b[38;5;241;43m.\u001b[39;49m\u001b[43mget_loc\u001b[49m\u001b[43m(\u001b[49m\u001b[43mcasted_key\u001b[49m\u001b[43m)\u001b[49m\n\u001b[0;32m   3804\u001b[0m \u001b[38;5;28;01mexcept\u001b[39;00m \u001b[38;5;167;01mKeyError\u001b[39;00m \u001b[38;5;28;01mas\u001b[39;00m err:\n",
      "File \u001b[1;32m~\\AppData\\Local\\Programs\\Python\\Python310\\lib\\site-packages\\pandas\\_libs\\index.pyx:138\u001b[0m, in \u001b[0;36mpandas._libs.index.IndexEngine.get_loc\u001b[1;34m()\u001b[0m\n",
      "File \u001b[1;32m~\\AppData\\Local\\Programs\\Python\\Python310\\lib\\site-packages\\pandas\\_libs\\index.pyx:165\u001b[0m, in \u001b[0;36mpandas._libs.index.IndexEngine.get_loc\u001b[1;34m()\u001b[0m\n",
      "File \u001b[1;32mpandas\\_libs\\hashtable_class_helper.pxi:5745\u001b[0m, in \u001b[0;36mpandas._libs.hashtable.PyObjectHashTable.get_item\u001b[1;34m()\u001b[0m\n",
      "File \u001b[1;32mpandas\\_libs\\hashtable_class_helper.pxi:5753\u001b[0m, in \u001b[0;36mpandas._libs.hashtable.PyObjectHashTable.get_item\u001b[1;34m()\u001b[0m\n",
      "\u001b[1;31mKeyError\u001b[0m: 'p9'",
      "\nThe above exception was the direct cause of the following exception:\n",
      "\u001b[1;31mKeyError\u001b[0m                                  Traceback (most recent call last)",
      "Cell \u001b[1;32mIn [10], line 8\u001b[0m\n\u001b[0;32m      6\u001b[0m     \u001b[38;5;28;01mfor\u001b[39;00m p \u001b[38;5;129;01min\u001b[39;00m iv_dummy\u001b[38;5;241m.\u001b[39miloc:\n\u001b[0;32m      7\u001b[0m         \u001b[38;5;28mprint\u001b[39m(\u001b[38;5;124mf\u001b[39m\u001b[38;5;124m'\u001b[39m\u001b[38;5;124m상품명:\u001b[39m\u001b[38;5;132;01m{\u001b[39;00mp_df\u001b[38;5;241m.\u001b[39mloc[p[\u001b[38;5;124m\"\u001b[39m\u001b[38;5;124mp_id\u001b[39m\u001b[38;5;124m\"\u001b[39m], \u001b[38;5;124m\"\u001b[39m\u001b[38;5;124mproduct\u001b[39m\u001b[38;5;124m\"\u001b[39m]\u001b[38;5;132;01m}\u001b[39;00m\u001b[38;5;124m - 가격:\u001b[39m\u001b[38;5;132;01m{\u001b[39;00mp[\u001b[38;5;124m\"\u001b[39m\u001b[38;5;124mprice\u001b[39m\u001b[38;5;124m\"\u001b[39m]\u001b[38;5;132;01m}\u001b[39;00m\u001b[38;5;124m (재고\u001b[39m\u001b[38;5;132;01m{\u001b[39;00mp[\u001b[38;5;124m\"\u001b[39m\u001b[38;5;124mcount\u001b[39m\u001b[38;5;124m\"\u001b[39m]\u001b[38;5;132;01m}\u001b[39;00m\u001b[38;5;124m) id:\u001b[39m\u001b[38;5;132;01m{\u001b[39;00mp[\u001b[38;5;124m\"\u001b[39m\u001b[38;5;124ms_id\u001b[39m\u001b[38;5;124m\"\u001b[39m]\u001b[38;5;132;01m}\u001b[39;00m\u001b[38;5;124m'\u001b[39m)\n\u001b[1;32m----> 8\u001b[0m \u001b[43mshow_products\u001b[49m\u001b[43m(\u001b[49m\u001b[43mp_df\u001b[49m\u001b[43m)\u001b[49m\n",
      "Cell \u001b[1;32mIn [10], line 7\u001b[0m, in \u001b[0;36mshow_products\u001b[1;34m(p_df)\u001b[0m\n\u001b[0;32m      5\u001b[0m \u001b[38;5;28;01mdef\u001b[39;00m \u001b[38;5;21mshow_products\u001b[39m(p_df):\n\u001b[0;32m      6\u001b[0m     \u001b[38;5;28;01mfor\u001b[39;00m p \u001b[38;5;129;01min\u001b[39;00m iv_dummy\u001b[38;5;241m.\u001b[39miloc:\n\u001b[1;32m----> 7\u001b[0m         \u001b[38;5;28mprint\u001b[39m(\u001b[38;5;124mf\u001b[39m\u001b[38;5;124m'\u001b[39m\u001b[38;5;124m상품명:\u001b[39m\u001b[38;5;132;01m{\u001b[39;00m\u001b[43mp_df\u001b[49m\u001b[38;5;241;43m.\u001b[39;49m\u001b[43mloc\u001b[49m\u001b[43m[\u001b[49m\u001b[43mp\u001b[49m\u001b[43m[\u001b[49m\u001b[38;5;124;43m\"\u001b[39;49m\u001b[38;5;124;43mp_id\u001b[39;49m\u001b[38;5;124;43m\"\u001b[39;49m\u001b[43m]\u001b[49m\u001b[43m,\u001b[49m\u001b[43m \u001b[49m\u001b[38;5;124;43m\"\u001b[39;49m\u001b[38;5;124;43mproduct\u001b[39;49m\u001b[38;5;124;43m\"\u001b[39;49m\u001b[43m]\u001b[49m\u001b[38;5;132;01m}\u001b[39;00m\u001b[38;5;124m - 가격:\u001b[39m\u001b[38;5;132;01m{\u001b[39;00mp[\u001b[38;5;124m\"\u001b[39m\u001b[38;5;124mprice\u001b[39m\u001b[38;5;124m\"\u001b[39m]\u001b[38;5;132;01m}\u001b[39;00m\u001b[38;5;124m (재고\u001b[39m\u001b[38;5;132;01m{\u001b[39;00mp[\u001b[38;5;124m\"\u001b[39m\u001b[38;5;124mcount\u001b[39m\u001b[38;5;124m\"\u001b[39m]\u001b[38;5;132;01m}\u001b[39;00m\u001b[38;5;124m) id:\u001b[39m\u001b[38;5;132;01m{\u001b[39;00mp[\u001b[38;5;124m\"\u001b[39m\u001b[38;5;124ms_id\u001b[39m\u001b[38;5;124m\"\u001b[39m]\u001b[38;5;132;01m}\u001b[39;00m\u001b[38;5;124m'\u001b[39m)\n",
      "File \u001b[1;32m~\\AppData\\Local\\Programs\\Python\\Python310\\lib\\site-packages\\pandas\\core\\indexing.py:1066\u001b[0m, in \u001b[0;36m_LocationIndexer.__getitem__\u001b[1;34m(self, key)\u001b[0m\n\u001b[0;32m   1064\u001b[0m     key \u001b[38;5;241m=\u001b[39m \u001b[38;5;28mtuple\u001b[39m(com\u001b[38;5;241m.\u001b[39mapply_if_callable(x, \u001b[38;5;28mself\u001b[39m\u001b[38;5;241m.\u001b[39mobj) \u001b[38;5;28;01mfor\u001b[39;00m x \u001b[38;5;129;01min\u001b[39;00m key)\n\u001b[0;32m   1065\u001b[0m     \u001b[38;5;28;01mif\u001b[39;00m \u001b[38;5;28mself\u001b[39m\u001b[38;5;241m.\u001b[39m_is_scalar_access(key):\n\u001b[1;32m-> 1066\u001b[0m         \u001b[38;5;28;01mreturn\u001b[39;00m \u001b[38;5;28;43mself\u001b[39;49m\u001b[38;5;241;43m.\u001b[39;49m\u001b[43mobj\u001b[49m\u001b[38;5;241;43m.\u001b[39;49m\u001b[43m_get_value\u001b[49m\u001b[43m(\u001b[49m\u001b[38;5;241;43m*\u001b[39;49m\u001b[43mkey\u001b[49m\u001b[43m,\u001b[49m\u001b[43m \u001b[49m\u001b[43mtakeable\u001b[49m\u001b[38;5;241;43m=\u001b[39;49m\u001b[38;5;28;43mself\u001b[39;49m\u001b[38;5;241;43m.\u001b[39;49m\u001b[43m_takeable\u001b[49m\u001b[43m)\u001b[49m\n\u001b[0;32m   1067\u001b[0m     \u001b[38;5;28;01mreturn\u001b[39;00m \u001b[38;5;28mself\u001b[39m\u001b[38;5;241m.\u001b[39m_getitem_tuple(key)\n\u001b[0;32m   1068\u001b[0m \u001b[38;5;28;01melse\u001b[39;00m:\n\u001b[0;32m   1069\u001b[0m     \u001b[38;5;66;03m# we by definition only have the 0th axis\u001b[39;00m\n",
      "File \u001b[1;32m~\\AppData\\Local\\Programs\\Python\\Python310\\lib\\site-packages\\pandas\\core\\frame.py:3921\u001b[0m, in \u001b[0;36mDataFrame._get_value\u001b[1;34m(self, index, col, takeable)\u001b[0m\n\u001b[0;32m   3915\u001b[0m engine \u001b[38;5;241m=\u001b[39m \u001b[38;5;28mself\u001b[39m\u001b[38;5;241m.\u001b[39mindex\u001b[38;5;241m.\u001b[39m_engine\n\u001b[0;32m   3917\u001b[0m \u001b[38;5;28;01mif\u001b[39;00m \u001b[38;5;129;01mnot\u001b[39;00m \u001b[38;5;28misinstance\u001b[39m(\u001b[38;5;28mself\u001b[39m\u001b[38;5;241m.\u001b[39mindex, MultiIndex):\n\u001b[0;32m   3918\u001b[0m     \u001b[38;5;66;03m# CategoricalIndex: Trying to use the engine fastpath may give incorrect\u001b[39;00m\n\u001b[0;32m   3919\u001b[0m     \u001b[38;5;66;03m#  results if our categories are integers that dont match our codes\u001b[39;00m\n\u001b[0;32m   3920\u001b[0m     \u001b[38;5;66;03m# IntervalIndex: IntervalTree has no get_loc\u001b[39;00m\n\u001b[1;32m-> 3921\u001b[0m     row \u001b[38;5;241m=\u001b[39m \u001b[38;5;28;43mself\u001b[39;49m\u001b[38;5;241;43m.\u001b[39;49m\u001b[43mindex\u001b[49m\u001b[38;5;241;43m.\u001b[39;49m\u001b[43mget_loc\u001b[49m\u001b[43m(\u001b[49m\u001b[43mindex\u001b[49m\u001b[43m)\u001b[49m\n\u001b[0;32m   3922\u001b[0m     \u001b[38;5;28;01mreturn\u001b[39;00m series\u001b[38;5;241m.\u001b[39m_values[row]\n\u001b[0;32m   3924\u001b[0m \u001b[38;5;66;03m# For MultiIndex going through engine effectively restricts us to\u001b[39;00m\n\u001b[0;32m   3925\u001b[0m \u001b[38;5;66;03m#  same-length tuples; see test_get_set_value_no_partial_indexing\u001b[39;00m\n",
      "File \u001b[1;32m~\\AppData\\Local\\Programs\\Python\\Python310\\lib\\site-packages\\pandas\\core\\indexes\\base.py:3805\u001b[0m, in \u001b[0;36mIndex.get_loc\u001b[1;34m(self, key, method, tolerance)\u001b[0m\n\u001b[0;32m   3803\u001b[0m     \u001b[38;5;28;01mreturn\u001b[39;00m \u001b[38;5;28mself\u001b[39m\u001b[38;5;241m.\u001b[39m_engine\u001b[38;5;241m.\u001b[39mget_loc(casted_key)\n\u001b[0;32m   3804\u001b[0m \u001b[38;5;28;01mexcept\u001b[39;00m \u001b[38;5;167;01mKeyError\u001b[39;00m \u001b[38;5;28;01mas\u001b[39;00m err:\n\u001b[1;32m-> 3805\u001b[0m     \u001b[38;5;28;01mraise\u001b[39;00m \u001b[38;5;167;01mKeyError\u001b[39;00m(key) \u001b[38;5;28;01mfrom\u001b[39;00m \u001b[38;5;21;01merr\u001b[39;00m\n\u001b[0;32m   3806\u001b[0m \u001b[38;5;28;01mexcept\u001b[39;00m \u001b[38;5;167;01mTypeError\u001b[39;00m:\n\u001b[0;32m   3807\u001b[0m     \u001b[38;5;66;03m# If we have a listlike key, _check_indexing_error will raise\u001b[39;00m\n\u001b[0;32m   3808\u001b[0m     \u001b[38;5;66;03m#  InvalidIndexError. Otherwise we fall through and re-raise\u001b[39;00m\n\u001b[0;32m   3809\u001b[0m     \u001b[38;5;66;03m#  the TypeError.\u001b[39;00m\n\u001b[0;32m   3810\u001b[0m     \u001b[38;5;28mself\u001b[39m\u001b[38;5;241m.\u001b[39m_check_indexing_error(key)\n",
      "\u001b[1;31mKeyError\u001b[0m: 'p9'"
     ]
    }
   ],
   "source": [
    "# 가지고 있는 재고데이터프레임의 모든 물품 정보를 출력(상품명 포함되어야함)\n",
    "# '상품명:{} - 가격:{} (재고{}) id:{}’ 문자열이 등록상품 개수만큼 나와야함\n",
    "print(s_dummy)\n",
    "print(iv_dummy)\n",
    "def show_products(p_df):\n",
    "    for p in iv_dummy.iloc:\n",
    "        print(f'상품명:{p_df.loc[p[\"p_id\"], \"product\"]} - 가격:{p[\"price\"]} (재고{p[\"count\"]}) id:{p[\"s_id\"]}')\n",
    "show_products(p_df)"
   ]
  },
  {
   "cell_type": "markdown",
   "id": "0f497077",
   "metadata": {},
   "source": [
    "## update_data 함수 생성"
   ]
  },
  {
   "cell_type": "code",
   "execution_count": null,
   "id": "198f1fd8",
   "metadata": {},
   "outputs": [],
   "source": [
    "# 클래스내부에 변경된 데이터들을 각각 데이터프레임에 업데이트"
   ]
  },
  {
   "cell_type": "markdown",
   "id": "7db87a3b",
   "metadata": {},
   "source": [
    "# 스토어 모듈 프로세스"
   ]
  },
  {
   "cell_type": "markdown",
   "id": "bd87510c",
   "metadata": {},
   "source": [
    "## create_store함수 수정"
   ]
  },
  {
   "cell_type": "code",
   "execution_count": 11,
   "id": "ceee00fd",
   "metadata": {},
   "outputs": [
    {
     "name": "stdout",
     "output_type": "stream",
     "text": [
      "스토어 이름 입력: \n",
      "스토어 번호 입력: \n",
      "스토어 위치 입력: \n",
      "==================================================\n",
      "{s_name} 스토어가 생성 되었습니다.\n"
     ]
    }
   ],
   "source": [
    "# 스토어 데이터프레임에 입력받은 스토어아이디를 인덱스로 스토어데이터 추가\n",
    "# 스토어데이터는 스토어데이터프레임의 컬럼에 맞게 구성(딕셔너리추천)\n",
    "s_name = input('스토어 이름 입력: ')\n",
    "s_id = input('스토어 번호 입력: ')\n",
    "locate = input('스토어 위치 입력: ')\n",
    "s_df.loc[s_id] = {'s_id': s_id, 'name': s_name, 'locate': locate}\n",
    "print('='*50)\n",
    "print('{s_name} 스토어가 생성 되었습니다.')"
   ]
  },
  {
   "cell_type": "markdown",
   "id": "19176ca3",
   "metadata": {},
   "source": [
    "# show_list 함수 수정"
   ]
  },
  {
   "cell_type": "code",
   "execution_count": 12,
   "id": "049ebfb0",
   "metadata": {},
   "outputs": [
    {
     "name": "stdout",
     "output_type": "stream",
     "text": [
      "스토어 이름:용산점, 스토어 아이디:s1, 스토어 위치:용산,\n",
      "등록상품:['커피', '쿠키', '아이스크림', '에이드', '와플', '과일주스']\n",
      "==================================================\n",
      "스토어 이름:강남점, 스토어 아이디:s2, 스토어 위치:강남,\n",
      "등록상품:['커피', '아이스크림', '에이드']\n",
      "==================================================\n",
      "스토어 이름:강북점, 스토어 아이디:s3, 스토어 위치:강북,\n",
      "등록상품:['아이스크림', '에이드', '와플', '초콜릿']\n",
      "==================================================\n",
      "스토어 이름:, 스토어 아이디:, 스토어 위치:,\n",
      "등록상품:[]\n",
      "==================================================\n"
     ]
    }
   ],
   "source": [
    "# - 모든 스토어의 정보를 다음과 같이 출력\n",
    "# - ‘스토어이름:{} 스토어 아이디:{} 스토어 위치:{} 등록상품:{}’\n",
    "# 한줄씩 출력해야하니 반복문으로 꺼내야하고, 스토어별 상품종류가 복수이므로 반복문을 한번 더 써야함\n",
    "\n",
    "for store in s_df.iloc:\n",
    "    store_pid = iv_df.loc[iv_df['s_id']== store['s_id'], 'p_id'] # 스토어별 등록상품 아이디\n",
    "    sp_name = []\n",
    "    for pid in store_pid :\n",
    "        sp_name.append(p_df.loc[pid, 'product'])\n",
    "    print(f'스토어 이름:{ store[\"name\"] }, 스토어 아이디:{ store[\"s_id\"] }, 스토어 위치:{ store[\"locate\"] },\\n등록상품:{ sp_name }')\n",
    "    print('='*50)\n"
   ]
  },
  {
   "cell_type": "code",
   "execution_count": 13,
   "id": "7f59edf4",
   "metadata": {},
   "outputs": [
    {
     "name": "stdout",
     "output_type": "stream",
     "text": [
      "스토어 이름:용산점, 스토어 아이디:s1, 스토어 위치:용산,\n",
      "등록상품:['커피', '쿠키', '아이스크림', '에이드', '와플', '과일주스']\n",
      "==================================================\n",
      "스토어 이름:강남점, 스토어 아이디:s2, 스토어 위치:강남,\n",
      "등록상품:['커피', '아이스크림', '에이드']\n",
      "==================================================\n",
      "스토어 이름:강북점, 스토어 아이디:s3, 스토어 위치:강북,\n",
      "등록상품:['아이스크림', '에이드', '와플', '초콜릿']\n",
      "==================================================\n",
      "스토어 이름:, 스토어 아이디:, 스토어 위치:,\n",
      "등록상품:[]\n",
      "==================================================\n"
     ]
    }
   ],
   "source": [
    "# 상품명 반복문 생략\n",
    "for store in s_df.iloc:\n",
    "    store_pid = iv_df.loc[iv_df['s_id']== store['s_id'], 'p_id'] # 스토어별 등록상품 아이디\n",
    "    print(f'스토어 이름:{ store[\"name\"] }, 스토어 아이디:{ store[\"s_id\"] }, 스토어 위치:{ store[\"locate\"] },\\n등록상품:{ list(p_df.loc[store_pid, \"product\"]) }')\n",
    "    print('='*50)"
   ]
  },
  {
   "cell_type": "markdown",
   "id": "9b0e9d1b",
   "metadata": {},
   "source": [
    "# search_store 함수 수정"
   ]
  },
  {
   "cell_type": "code",
   "execution_count": 14,
   "id": "4d658a4c",
   "metadata": {},
   "outputs": [
    {
     "data": {
      "text/html": [
       "<div>\n",
       "<style scoped>\n",
       "    .dataframe tbody tr th:only-of-type {\n",
       "        vertical-align: middle;\n",
       "    }\n",
       "\n",
       "    .dataframe tbody tr th {\n",
       "        vertical-align: top;\n",
       "    }\n",
       "\n",
       "    .dataframe thead th {\n",
       "        text-align: right;\n",
       "    }\n",
       "</style>\n",
       "<table border=\"1\" class=\"dataframe\">\n",
       "  <thead>\n",
       "    <tr style=\"text-align: right;\">\n",
       "      <th></th>\n",
       "      <th>p_id</th>\n",
       "      <th>count</th>\n",
       "      <th>price</th>\n",
       "      <th>s_id</th>\n",
       "    </tr>\n",
       "  </thead>\n",
       "  <tbody>\n",
       "    <tr>\n",
       "      <th>0</th>\n",
       "      <td>p1</td>\n",
       "      <td>50</td>\n",
       "      <td>2000</td>\n",
       "      <td>s1</td>\n",
       "    </tr>\n",
       "    <tr>\n",
       "      <th>1</th>\n",
       "      <td>p2</td>\n",
       "      <td>30</td>\n",
       "      <td>1000</td>\n",
       "      <td>s1</td>\n",
       "    </tr>\n",
       "    <tr>\n",
       "      <th>2</th>\n",
       "      <td>p3</td>\n",
       "      <td>30</td>\n",
       "      <td>1500</td>\n",
       "      <td>s1</td>\n",
       "    </tr>\n",
       "    <tr>\n",
       "      <th>3</th>\n",
       "      <td>p4</td>\n",
       "      <td>20</td>\n",
       "      <td>3000</td>\n",
       "      <td>s1</td>\n",
       "    </tr>\n",
       "    <tr>\n",
       "      <th>4</th>\n",
       "      <td>p5</td>\n",
       "      <td>10</td>\n",
       "      <td>4000</td>\n",
       "      <td>s1</td>\n",
       "    </tr>\n",
       "    <tr>\n",
       "      <th>5</th>\n",
       "      <td>p6</td>\n",
       "      <td>10</td>\n",
       "      <td>3000</td>\n",
       "      <td>s1</td>\n",
       "    </tr>\n",
       "    <tr>\n",
       "      <th>6</th>\n",
       "      <td>p1</td>\n",
       "      <td>20</td>\n",
       "      <td>2000</td>\n",
       "      <td>s2</td>\n",
       "    </tr>\n",
       "    <tr>\n",
       "      <th>7</th>\n",
       "      <td>p3</td>\n",
       "      <td>60</td>\n",
       "      <td>1500</td>\n",
       "      <td>s2</td>\n",
       "    </tr>\n",
       "    <tr>\n",
       "      <th>8</th>\n",
       "      <td>p4</td>\n",
       "      <td>20</td>\n",
       "      <td>3000</td>\n",
       "      <td>s2</td>\n",
       "    </tr>\n",
       "    <tr>\n",
       "      <th>9</th>\n",
       "      <td>p3</td>\n",
       "      <td>30</td>\n",
       "      <td>1500</td>\n",
       "      <td>s3</td>\n",
       "    </tr>\n",
       "    <tr>\n",
       "      <th>10</th>\n",
       "      <td>p4</td>\n",
       "      <td>10</td>\n",
       "      <td>3000</td>\n",
       "      <td>s3</td>\n",
       "    </tr>\n",
       "    <tr>\n",
       "      <th>11</th>\n",
       "      <td>p5</td>\n",
       "      <td>20</td>\n",
       "      <td>4000</td>\n",
       "      <td>s3</td>\n",
       "    </tr>\n",
       "    <tr>\n",
       "      <th>12</th>\n",
       "      <td>p7</td>\n",
       "      <td>30</td>\n",
       "      <td>1000</td>\n",
       "      <td>s3</td>\n",
       "    </tr>\n",
       "  </tbody>\n",
       "</table>\n",
       "</div>"
      ],
      "text/plain": [
       "   p_id  count  price s_id\n",
       "0    p1     50   2000   s1\n",
       "1    p2     30   1000   s1\n",
       "2    p3     30   1500   s1\n",
       "3    p4     20   3000   s1\n",
       "4    p5     10   4000   s1\n",
       "5    p6     10   3000   s1\n",
       "6    p1     20   2000   s2\n",
       "7    p3     60   1500   s2\n",
       "8    p4     20   3000   s2\n",
       "9    p3     30   1500   s3\n",
       "10   p4     10   3000   s3\n",
       "11   p5     20   4000   s3\n",
       "12   p7     30   1000   s3"
      ]
     },
     "execution_count": 14,
     "metadata": {},
     "output_type": "execute_result"
    }
   ],
   "source": [
    "iv_df"
   ]
  },
  {
   "cell_type": "code",
   "execution_count": 15,
   "id": "6e19a2c6",
   "metadata": {},
   "outputs": [],
   "source": [
    "# 스토어가 있다면 스토어 데이터프레임 에서 해당 스토어아이디에 해당하는 데이터 추출\n",
    "# 스토어가 있다면 재고 데이터프레임 에서 해당 스토어아이디에 해당하는 재고데이터프레임 추출\n",
    "# 추출한 데이터로부터 AiStore인스턴스 생성후 반환(리턴)\n",
    "# 고객이 없다면 None 반환   \n",
    "def search_store(s_id):\n",
    "    if s_id in s_df['s_id']:\n",
    "        name = s_df.loc[s_id, 'name']\n",
    "        locate = s_df.loc[s_id, 'locate']\n",
    "        products_num = s_df.loc[s_id, 'products_num']\n",
    "        inventory = iv_df[iv_df['s_id'] == s_id]\n",
    "        print(name, s_id, locate, products_num)\n",
    "        print(inventory)\n",
    "#             store_instance = AiStore(name, s_id, locate, products_num, inventory)\n",
    "#             return store_instance\n",
    "    else : \n",
    "        return None"
   ]
  },
  {
   "cell_type": "code",
   "execution_count": 16,
   "id": "bbfef78e",
   "metadata": {},
   "outputs": [
    {
     "name": "stdout",
     "output_type": "stream",
     "text": [
      "용산점 s1 용산 6.0\n",
      "  p_id  count  price s_id\n",
      "0   p1     50   2000   s1\n",
      "1   p2     30   1000   s1\n",
      "2   p3     30   1500   s1\n",
      "3   p4     20   3000   s1\n",
      "4   p5     10   4000   s1\n",
      "5   p6     10   3000   s1\n"
     ]
    }
   ],
   "source": [
    "search_store('s1')"
   ]
  },
  {
   "cell_type": "markdown",
   "id": "e07bc10b",
   "metadata": {},
   "source": [
    "# show_store 함수 수정"
   ]
  },
  {
   "cell_type": "code",
   "execution_count": 17,
   "id": "4fdd2f2a",
   "metadata": {},
   "outputs": [
    {
     "name": "stdout",
     "output_type": "stream",
     "text": [
      "스토어 번호 입력: \n",
      "s_id               \n",
      "name               \n",
      "locate             \n",
      "products_num    NaN\n",
      "Name: , dtype: object\n",
      "Empty DataFrame\n",
      "Columns: [p_id, count, price, s_id]\n",
      "Index: []\n",
      "스토어이름: 스토어 아이디: 스토어 위치:      \n",
      "등록상품:[]\n"
     ]
    }
   ],
   "source": [
    "# 입력받은 스토어 아이디로 search_store 를 통해 스토어 인스턴스를 받음\n",
    "# 스토어이름:{} 스토어 아이디:{} 스토어 위치:{} 등록상품:{}’ 출력\n",
    "# 스토어의 show_products 함수 실행\n",
    "\n",
    "s_id = input('스토어 번호 입력: ')\n",
    "#store_instance = search_store(s_id)\n",
    "s_dummy = s_df.loc[s_id]\n",
    "print(s_dummy)\n",
    "iv_dummy = iv_df[iv_df['s_id']==s_id]\n",
    "print(iv_dummy)\n",
    "\n",
    "print( f'스토어이름:{s_dummy[\"name\"]} 스토어 아이디:{s_dummy[\"s_id\"]} 스토어 위치:{s_dummy[\"locate\"]}\\\n",
    "      \\n등록상품:{list(p_df.loc[iv_dummy[\"p_id\"], \"product\"])}' )\n",
    "#store_instance.show_products()"
   ]
  },
  {
   "cell_type": "markdown",
   "id": "eedc0cda",
   "metadata": {},
   "source": [
    "# buy 함수 수정"
   ]
  },
  {
   "cell_type": "code",
   "execution_count": 18,
   "id": "dada31a7",
   "metadata": {},
   "outputs": [
    {
     "name": "stdout",
     "output_type": "stream",
     "text": [
      "스토어 번호 입력: \n"
     ]
    },
    {
     "ename": "NameError",
     "evalue": "name 'search' is not defined",
     "output_type": "error",
     "traceback": [
      "\u001b[1;31m---------------------------------------------------------------------------\u001b[0m",
      "\u001b[1;31mNameError\u001b[0m                                 Traceback (most recent call last)",
      "Cell \u001b[1;32mIn [18], line 8\u001b[0m\n\u001b[0;32m      1\u001b[0m \u001b[38;5;66;03m# 입력받은 스토어 아이디로 search_store 를 통해 스토어 인스턴스를 받음\u001b[39;00m\n\u001b[0;32m      2\u001b[0m \u001b[38;5;66;03m# 스토어의 show_products 함수 실행\u001b[39;00m\n\u001b[0;32m      3\u001b[0m \u001b[38;5;66;03m# 스토어가 있으면 상품아이디, 개수, 지불금액 입력받음 (옵션으로 필요 지불금액 출력)\u001b[39;00m\n\u001b[0;32m      4\u001b[0m \u001b[38;5;66;03m# get_price 함수로 필요가격 출력\u001b[39;00m\n\u001b[0;32m      5\u001b[0m \u001b[38;5;66;03m# buy_product 함수로 물품 구매 진행\u001b[39;00m\n\u001b[0;32m      7\u001b[0m s_id \u001b[38;5;241m=\u001b[39m \u001b[38;5;28minput\u001b[39m(\u001b[38;5;124m'\u001b[39m\u001b[38;5;124m스토어 번호 입력: \u001b[39m\u001b[38;5;124m'\u001b[39m)\n\u001b[1;32m----> 8\u001b[0m store_instance \u001b[38;5;241m=\u001b[39m \u001b[43msearch\u001b[49m\n\u001b[0;32m      9\u001b[0m p_id \u001b[38;5;241m=\u001b[39m \u001b[38;5;28minput\u001b[39m(\u001b[38;5;124m'\u001b[39m\u001b[38;5;124m상품 아이디 입력:\u001b[39m\u001b[38;5;124m'\u001b[39m)\n\u001b[0;32m     10\u001b[0m count \u001b[38;5;241m=\u001b[39m \u001b[38;5;28minput\u001b[39m(\u001b[38;5;124m'\u001b[39m\u001b[38;5;124m구매 개수 입력: \u001b[39m\u001b[38;5;124m'\u001b[39m)\n",
      "\u001b[1;31mNameError\u001b[0m: name 'search' is not defined"
     ]
    }
   ],
   "source": [
    "s_id = input('스토어 번호 입력: ')\n",
    "# 입력받은 스토어 아이디로 search_store 를 통해 스토어 인스턴스를 받음\n",
    "store_instance = search_store(s_id)\n",
    "# 스토어의 show_products 함수 실행\n",
    "show_products(p_df)\n",
    "\n",
    "if store_instance is None:\n",
    "    return print(f'{s_id} 스토어 아이디가 유효하지 않습니다..')\n",
    "# 스토어가 있으면 상품아이디, 개수, 지불금액 입력받음 (옵션으로 필요 지불금액 출력)\n",
    "# get_price 함수로 필요가격 출력\n",
    "p_id = input('상품 아이디 입력:')\n",
    "count = int(input('구매 개수 입력: '))\n",
    "print(f'필요한 지불 금액은 {store_instance.get_price() * count}입니다.')\n",
    "\n",
    "# buy_product 함수로 물품 구매 진행\n",
    "amount = int(input('가격 입력: '))\n",
    "buy_product(p_id, count, amount)"
   ]
  },
  {
   "cell_type": "markdown",
   "id": "9489889f",
   "metadata": {},
   "source": [
    "# manager_product 함수 생성"
   ]
  },
  {
   "cell_type": "code",
   "execution_count": 19,
   "id": "188f63a0",
   "metadata": {},
   "outputs": [],
   "source": [
    "def manager_product():\n",
    "    s_id = input('스토어 번호 입력: ')\n",
    "    # 입력받은 스토어 아이디로 search_store 를 통해 스토어 인스턴스를 받음\n",
    "    store_instance = search_store(s_id)\n",
    "    # '등록 가능 상품 {상품데이터프레임}' 을 출력(print)\n",
    "    print(f'등록 가능 상품 {p_df}')\n",
    "    # 상품아이디, 개수, 가격 입력받음\n",
    "    p_id = input('상품 아이디 입력: ')\n",
    "    count = int(input('재고 개수 입력: '))\n",
    "    price = int(input('상품 가격 입력: '))\n",
    "    # set_product 함수 이용하여 해당 스토어 재고 및 가격 수정\n",
    "    store_instance.set_product(p_id, count, price)"
   ]
  },
  {
   "cell_type": "markdown",
   "id": "4eedc2c3",
   "metadata": {},
   "source": [
    "# products_counts함수 생성"
   ]
  },
  {
   "cell_type": "code",
   "execution_count": 20,
   "id": "86f4bf45",
   "metadata": {},
   "outputs": [
    {
     "data": {
      "text/html": [
       "<div>\n",
       "<style scoped>\n",
       "    .dataframe tbody tr th:only-of-type {\n",
       "        vertical-align: middle;\n",
       "    }\n",
       "\n",
       "    .dataframe tbody tr th {\n",
       "        vertical-align: top;\n",
       "    }\n",
       "\n",
       "    .dataframe thead th {\n",
       "        text-align: right;\n",
       "    }\n",
       "</style>\n",
       "<table border=\"1\" class=\"dataframe\">\n",
       "  <thead>\n",
       "    <tr style=\"text-align: right;\">\n",
       "      <th></th>\n",
       "      <th>product</th>\n",
       "    </tr>\n",
       "    <tr>\n",
       "      <th>p_id</th>\n",
       "      <th></th>\n",
       "    </tr>\n",
       "  </thead>\n",
       "  <tbody>\n",
       "    <tr>\n",
       "      <th>p1</th>\n",
       "      <td>커피</td>\n",
       "    </tr>\n",
       "    <tr>\n",
       "      <th>p2</th>\n",
       "      <td>쿠키</td>\n",
       "    </tr>\n",
       "    <tr>\n",
       "      <th>p3</th>\n",
       "      <td>아이스크림</td>\n",
       "    </tr>\n",
       "    <tr>\n",
       "      <th>p4</th>\n",
       "      <td>에이드</td>\n",
       "    </tr>\n",
       "    <tr>\n",
       "      <th>p5</th>\n",
       "      <td>와플</td>\n",
       "    </tr>\n",
       "    <tr>\n",
       "      <th>p6</th>\n",
       "      <td>과일주스</td>\n",
       "    </tr>\n",
       "    <tr>\n",
       "      <th>p7</th>\n",
       "      <td>초콜릿</td>\n",
       "    </tr>\n",
       "  </tbody>\n",
       "</table>\n",
       "</div>"
      ],
      "text/plain": [
       "     product\n",
       "p_id        \n",
       "p1        커피\n",
       "p2        쿠키\n",
       "p3     아이스크림\n",
       "p4       에이드\n",
       "p5        와플\n",
       "p6      과일주스\n",
       "p7       초콜릿"
      ]
     },
     "execution_count": 20,
     "metadata": {},
     "output_type": "execute_result"
    }
   ],
   "source": [
    "p_df"
   ]
  },
  {
   "cell_type": "code",
   "execution_count": 21,
   "id": "b9b56ac0",
   "metadata": {},
   "outputs": [
    {
     "data": {
      "text/html": [
       "<div>\n",
       "<style scoped>\n",
       "    .dataframe tbody tr th:only-of-type {\n",
       "        vertical-align: middle;\n",
       "    }\n",
       "\n",
       "    .dataframe tbody tr th {\n",
       "        vertical-align: top;\n",
       "    }\n",
       "\n",
       "    .dataframe thead th {\n",
       "        text-align: right;\n",
       "    }\n",
       "</style>\n",
       "<table border=\"1\" class=\"dataframe\">\n",
       "  <thead>\n",
       "    <tr style=\"text-align: right;\">\n",
       "      <th></th>\n",
       "      <th>p_id</th>\n",
       "      <th>count</th>\n",
       "      <th>price</th>\n",
       "      <th>s_id</th>\n",
       "    </tr>\n",
       "  </thead>\n",
       "  <tbody>\n",
       "    <tr>\n",
       "      <th>0</th>\n",
       "      <td>p1</td>\n",
       "      <td>50</td>\n",
       "      <td>2000</td>\n",
       "      <td>s1</td>\n",
       "    </tr>\n",
       "    <tr>\n",
       "      <th>1</th>\n",
       "      <td>p2</td>\n",
       "      <td>30</td>\n",
       "      <td>1000</td>\n",
       "      <td>s1</td>\n",
       "    </tr>\n",
       "    <tr>\n",
       "      <th>2</th>\n",
       "      <td>p3</td>\n",
       "      <td>30</td>\n",
       "      <td>1500</td>\n",
       "      <td>s1</td>\n",
       "    </tr>\n",
       "    <tr>\n",
       "      <th>3</th>\n",
       "      <td>p4</td>\n",
       "      <td>20</td>\n",
       "      <td>3000</td>\n",
       "      <td>s1</td>\n",
       "    </tr>\n",
       "    <tr>\n",
       "      <th>4</th>\n",
       "      <td>p5</td>\n",
       "      <td>10</td>\n",
       "      <td>4000</td>\n",
       "      <td>s1</td>\n",
       "    </tr>\n",
       "    <tr>\n",
       "      <th>5</th>\n",
       "      <td>p6</td>\n",
       "      <td>10</td>\n",
       "      <td>3000</td>\n",
       "      <td>s1</td>\n",
       "    </tr>\n",
       "    <tr>\n",
       "      <th>6</th>\n",
       "      <td>p1</td>\n",
       "      <td>20</td>\n",
       "      <td>2000</td>\n",
       "      <td>s2</td>\n",
       "    </tr>\n",
       "    <tr>\n",
       "      <th>7</th>\n",
       "      <td>p3</td>\n",
       "      <td>60</td>\n",
       "      <td>1500</td>\n",
       "      <td>s2</td>\n",
       "    </tr>\n",
       "    <tr>\n",
       "      <th>8</th>\n",
       "      <td>p4</td>\n",
       "      <td>20</td>\n",
       "      <td>3000</td>\n",
       "      <td>s2</td>\n",
       "    </tr>\n",
       "    <tr>\n",
       "      <th>9</th>\n",
       "      <td>p3</td>\n",
       "      <td>30</td>\n",
       "      <td>1500</td>\n",
       "      <td>s3</td>\n",
       "    </tr>\n",
       "    <tr>\n",
       "      <th>10</th>\n",
       "      <td>p4</td>\n",
       "      <td>10</td>\n",
       "      <td>3000</td>\n",
       "      <td>s3</td>\n",
       "    </tr>\n",
       "    <tr>\n",
       "      <th>11</th>\n",
       "      <td>p5</td>\n",
       "      <td>20</td>\n",
       "      <td>4000</td>\n",
       "      <td>s3</td>\n",
       "    </tr>\n",
       "    <tr>\n",
       "      <th>12</th>\n",
       "      <td>p7</td>\n",
       "      <td>30</td>\n",
       "      <td>1000</td>\n",
       "      <td>s3</td>\n",
       "    </tr>\n",
       "  </tbody>\n",
       "</table>\n",
       "</div>"
      ],
      "text/plain": [
       "   p_id  count  price s_id\n",
       "0    p1     50   2000   s1\n",
       "1    p2     30   1000   s1\n",
       "2    p3     30   1500   s1\n",
       "3    p4     20   3000   s1\n",
       "4    p5     10   4000   s1\n",
       "5    p6     10   3000   s1\n",
       "6    p1     20   2000   s2\n",
       "7    p3     60   1500   s2\n",
       "8    p4     20   3000   s2\n",
       "9    p3     30   1500   s3\n",
       "10   p4     10   3000   s3\n",
       "11   p5     20   4000   s3\n",
       "12   p7     30   1000   s3"
      ]
     },
     "execution_count": 21,
     "metadata": {},
     "output_type": "execute_result"
    }
   ],
   "source": [
    "iv_df"
   ]
  },
  {
   "cell_type": "code",
   "execution_count": 22,
   "id": "69c4da71",
   "metadata": {},
   "outputs": [
    {
     "data": {
      "text/html": [
       "<div>\n",
       "<style scoped>\n",
       "    .dataframe tbody tr th:only-of-type {\n",
       "        vertical-align: middle;\n",
       "    }\n",
       "\n",
       "    .dataframe tbody tr th {\n",
       "        vertical-align: top;\n",
       "    }\n",
       "\n",
       "    .dataframe thead th {\n",
       "        text-align: right;\n",
       "    }\n",
       "</style>\n",
       "<table border=\"1\" class=\"dataframe\">\n",
       "  <thead>\n",
       "    <tr style=\"text-align: right;\">\n",
       "      <th></th>\n",
       "      <th>count</th>\n",
       "    </tr>\n",
       "    <tr>\n",
       "      <th>product</th>\n",
       "      <th></th>\n",
       "    </tr>\n",
       "  </thead>\n",
       "  <tbody>\n",
       "    <tr>\n",
       "      <th>과일주스</th>\n",
       "      <td>10</td>\n",
       "    </tr>\n",
       "    <tr>\n",
       "      <th>아이스크림</th>\n",
       "      <td>120</td>\n",
       "    </tr>\n",
       "    <tr>\n",
       "      <th>에이드</th>\n",
       "      <td>50</td>\n",
       "    </tr>\n",
       "    <tr>\n",
       "      <th>와플</th>\n",
       "      <td>30</td>\n",
       "    </tr>\n",
       "    <tr>\n",
       "      <th>초콜릿</th>\n",
       "      <td>30</td>\n",
       "    </tr>\n",
       "    <tr>\n",
       "      <th>커피</th>\n",
       "      <td>70</td>\n",
       "    </tr>\n",
       "    <tr>\n",
       "      <th>쿠키</th>\n",
       "      <td>30</td>\n",
       "    </tr>\n",
       "  </tbody>\n",
       "</table>\n",
       "</div>"
      ],
      "text/plain": [
       "         count\n",
       "product       \n",
       "과일주스        10\n",
       "아이스크림      120\n",
       "에이드         50\n",
       "와플          30\n",
       "초콜릿         30\n",
       "커피          70\n",
       "쿠키          30"
      ]
     },
     "execution_count": 22,
     "metadata": {},
     "output_type": "execute_result"
    }
   ],
   "source": [
    "# 재고데이터프레임에 상품데이터프레임을 상품아이디(’p_id’) 기준으로 결합(merge 또는 join)\n",
    "# 결합된 데이터프레임에서 상품이름과 상품개수만을 부분 데이터프레임으로 추출\n",
    "# 추출한 부분데이터 프레임에서 상품이름을 그룹화하여 상품이름별 총 재고개수를 데이터프레임으로 출력\n",
    "piv_df = p_df.join(iv_df.set_index('p_id'))\n",
    "p_group_df = piv_df[['product', 'count']].groupby('product').sum('count')\n",
    "p_group_df\n",
    "# merge_df.to_csv('ca_merge.csv', index=False)"
   ]
  },
  {
   "cell_type": "code",
   "execution_count": null,
   "id": "9e5081c2",
   "metadata": {},
   "outputs": [],
   "source": []
  },
  {
   "cell_type": "code",
   "execution_count": null,
   "id": "9ee365b2",
   "metadata": {},
   "outputs": [],
   "source": []
  },
  {
   "cell_type": "code",
   "execution_count": null,
   "id": "8f6594ff",
   "metadata": {},
   "outputs": [],
   "source": []
  },
  {
   "cell_type": "code",
   "execution_count": null,
   "id": "298fabd2",
   "metadata": {},
   "outputs": [],
   "source": []
  },
  {
   "cell_type": "code",
   "execution_count": null,
   "id": "7b366d51",
   "metadata": {},
   "outputs": [],
   "source": []
  },
  {
   "cell_type": "code",
   "execution_count": null,
   "id": "077a990d",
   "metadata": {},
   "outputs": [],
   "source": []
  }
 ],
 "metadata": {
  "kernelspec": {
   "display_name": "Python 3 (ipykernel)",
   "language": "python",
   "name": "python3"
  },
  "language_info": {
   "codemirror_mode": {
    "name": "ipython",
    "version": 3
   },
   "file_extension": ".py",
   "mimetype": "text/x-python",
   "name": "python",
   "nbconvert_exporter": "python",
   "pygments_lexer": "ipython3",
   "version": "3.10.8"
  },
  "toc": {
   "base_numbering": 1,
   "nav_menu": {},
   "number_sections": true,
   "sideBar": true,
   "skip_h1_title": false,
   "title_cell": "Table of Contents",
   "title_sidebar": "Contents",
   "toc_cell": false,
   "toc_position": {},
   "toc_section_display": true,
   "toc_window_display": false
  }
 },
 "nbformat": 4,
 "nbformat_minor": 5
}
